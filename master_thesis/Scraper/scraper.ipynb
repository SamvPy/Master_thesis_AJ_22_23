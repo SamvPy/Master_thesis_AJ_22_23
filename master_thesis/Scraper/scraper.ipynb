{
 "cells": [
  {
   "attachments": {},
   "cell_type": "markdown",
   "metadata": {},
   "source": [
    "# Webscraper <br>\n",
    "Retrieves all linked PXD-entries of a certain cell line in Cellosaurus"
   ]
  },
  {
   "cell_type": "code",
   "execution_count": 2,
   "metadata": {},
   "outputs": [],
   "source": [
    "#python webscrawler for Cellosaurus\n",
    "import os, re\n",
    "import pandas as pd\n",
    "from bs4 import BeautifulSoup\n",
    "import requests\n",
    "\n",
    "base_url = 'https://web.expasy.org/cgi-bin/cellosaurus/search?input='"
   ]
  },
  {
   "cell_type": "code",
   "execution_count": 3,
   "metadata": {},
   "outputs": [
    {
     "data": {
      "text/plain": [
       "['MDA-MB-231', 'cerebral', 'BeWo', 'N2a', 'iPSC']"
      ]
     },
     "execution_count": 3,
     "metadata": {},
     "output_type": "execute_result"
    }
   ],
   "source": [
    "os.chdir(r\"C:/Users/samva/Master_thesis_folder/Misidentified cell lines\")\n",
    "df = pd.read_csv(\"annotation_excel_use2.csv\", sep = \";\")\n",
    "df.dropna()\n",
    "cell_lines = list(df.loc[df.valid == \"yes\"].cell_line.unique())\n",
    "cell_lines = [x.split(\"/\")[0].split()[0] for x in cell_lines]\n",
    "cell_lines = list(set(cell_lines))\n",
    "cell_lines[0:5]"
   ]
  },
  {
   "cell_type": "code",
   "execution_count": 4,
   "metadata": {},
   "outputs": [],
   "source": [
    "#returns list of links of the query\n",
    "def get_links(base, cell_line):\n",
    "    url = base_url + f\"%22{cell_line}%22\"\n",
    "    page = requests.get(url)\n",
    "    bs = BeautifulSoup(page.text, \"html.parser\")\n",
    "    links = bs.find_all(\"a\", href = re.compile(\"^(/cellosaurus/)\"))\n",
    "    return [x[\"href\"] for x in links]"
   ]
  },
  {
   "cell_type": "code",
   "execution_count": 19,
   "metadata": {},
   "outputs": [],
   "source": [
    "#Extracts all info needed from CVCL-page and returns as [cell_name, PXD_list, parent_link]\n",
    "def get_info(base, cvcl_link):\n",
    "    PXD_list, parent = False, False\n",
    "    \n",
    "    url = \"https://web.expasy.org\" + cvcl_link\n",
    "    page = requests.get(url)\n",
    "    bs = BeautifulSoup(page.text, \"html.parser\")\n",
    "    \n",
    "    if bs.table == None:\n",
    "        return False\n",
    "        \n",
    "    for i in bs.table.find_all(\"tr\"):\n",
    "        if i.th != None:\n",
    "            if i.th.text == \"Cell line name\":\n",
    "                cell_name = i.td.text\n",
    "            \n",
    "            if i.th.text == \"Species of origin\":\n",
    "                if \"Homo sapiens\" not in i.td.text:\n",
    "                    print(\"Not human\")\n",
    "                    return False\n",
    "                    \n",
    "            if i.th.text == \"Hierarchy\":\n",
    "                if i.td.text.startswith(\"Parent:\"):\n",
    "                    parent = i.td\n",
    "\n",
    "            if i.th.text == \"Proteomic databases\":\n",
    "                PXD_list = [x.text for x in i.find_all(\"a\")]\n",
    "\n",
    "    print(\"Name:\", cell_name)     \n",
    "    if PXD_list:\n",
    "        print(f\"\\t{len(PXD_list)} PXD entries for {cell_name}\")\n",
    "    if parent:\n",
    "        p_text, p_link = parent.text, parent.a['href']\n",
    "        print(f\"\\tWARNING: {p_text}\\n\\tlink: {p_link}\")\n",
    "        parent = p_link\n",
    "        \n",
    "    return [cell_name, PXD_list, parent]"
   ]
  },
  {
   "cell_type": "code",
   "execution_count": 6,
   "metadata": {},
   "outputs": [],
   "source": [
    "def dataframe_converter(list_of_lists):\n",
    "    cell_names, PXD_list, parent = [x[0] for x in list_of_lists], [x[1] for x in list_of_lists], [x[2] for x in list_of_lists]\n",
    "    return pd.DataFrame({\"Cell_name\": cell_names, \"PXD_list\": PXD_list, \"parent\": parent})"
   ]
  },
  {
   "cell_type": "code",
   "execution_count": 7,
   "metadata": {},
   "outputs": [
    {
     "name": "stdout",
     "output_type": "stream",
     "text": [
      "MDA-MB-231: 70\n",
      "cerebral: 158\n",
      "BeWo: 6\n",
      "N2a: 9\n",
      "iPSC: 3622\n",
      "SKBR3: 15\n",
      "HDF: 19\n",
      "JURKAT: 118\n",
      "KBM7: 2\n",
      "A2780: 45\n",
      "HT29: 43\n",
      "THP1: 54\n",
      "HTR8: 2\n",
      "SH-SY5Y: 27\n",
      "HL60: 26\n",
      "CAF: 9\n",
      "HepG2: 67\n",
      "ZR751: 1\n",
      "HEK293: 750\n",
      "hNPC: 1\n",
      "TCam-2: 4\n",
      "HuH7: 18\n",
      "HeLa: 1779\n",
      "HEK293F: 6\n",
      "SK-N-BE2: 1\n",
      "MCF7: 86\n",
      "neuron: 1171\n",
      "MDA-MB-231-CSC: 1\n",
      "LN308: 1\n",
      "KO52: 1\n",
      "Done.\n",
      "363 omitted.\n",
      "7749 extracted.\n"
     ]
    }
   ],
   "source": [
    "list_of_links = []\n",
    "for i in cell_lines:\n",
    "    links_of_query = get_links(base_url, i)\n",
    "    list_of_links.append(links_of_query)\n",
    "    print(f\"{i}: {len(links_of_query)}\")\n",
    "print(\"Done.\")\n",
    "\n",
    "unique_links = []\n",
    "reduced = 0\n",
    "for i in list_of_links:\n",
    "    for x in i:\n",
    "        if x not in unique_links:\n",
    "            unique_links.append(x)\n",
    "        else:\n",
    "            reduced += 1\n",
    "print(f\"{reduced} omitted.\\n{len(unique_links)} extracted.\")"
   ]
  },
  {
   "cell_type": "code",
   "execution_count": 8,
   "metadata": {},
   "outputs": [
    {
     "data": {
      "text/plain": [
       "['/cellosaurus/CVCL_EQ20',\n",
       " '/cellosaurus/CVCL_5T77',\n",
       " '/cellosaurus/CVCL_A9BP',\n",
       " '/cellosaurus/CVCL_A9BQ',\n",
       " '/cellosaurus/CVCL_YJ86',\n",
       " '/cellosaurus/CVCL_0031',\n",
       " '/cellosaurus/CVCL_DP48',\n",
       " '/cellosaurus/CVCL_0062',\n",
       " '/cellosaurus/CVCL_4Y38',\n",
       " '/cellosaurus/CVCL_4Y39']"
      ]
     },
     "execution_count": 8,
     "metadata": {},
     "output_type": "execute_result"
    }
   ],
   "source": [
    "unique_links[0:10]"
   ]
  },
  {
   "cell_type": "code",
   "execution_count": null,
   "metadata": {},
   "outputs": [],
   "source": [
    "info_part1 = []\n",
    "for count, cvcl in enumerate(unique_links[:5024]):\n",
    "    print(f\"link: {count}\")\n",
    "    info_element = get_info(base_url, cvcl)\n",
    "    if info_element:\n",
    "        info_part1.append(info_element)\n",
    "\n",
    "info_part2 = []\n",
    "for count, cvcl in enumerate(unique_links[5024:]):\n",
    "    print(f\"link: {count}\")\n",
    "    info_element = get_info(base_url, cvcl)\n",
    "    if info_element:\n",
    "        info_part2.append(info_element)"
   ]
  },
  {
   "cell_type": "code",
   "execution_count": 41,
   "metadata": {},
   "outputs": [
    {
     "data": {
      "text/html": [
       "<div>\n",
       "<style scoped>\n",
       "    .dataframe tbody tr th:only-of-type {\n",
       "        vertical-align: middle;\n",
       "    }\n",
       "\n",
       "    .dataframe tbody tr th {\n",
       "        vertical-align: top;\n",
       "    }\n",
       "\n",
       "    .dataframe thead th {\n",
       "        text-align: right;\n",
       "    }\n",
       "</style>\n",
       "<table border=\"1\" class=\"dataframe\">\n",
       "  <thead>\n",
       "    <tr style=\"text-align: right;\">\n",
       "      <th></th>\n",
       "      <th>Cell_name</th>\n",
       "      <th>PXD_list</th>\n",
       "      <th>parent</th>\n",
       "    </tr>\n",
       "  </thead>\n",
       "  <tbody>\n",
       "    <tr>\n",
       "      <th>0</th>\n",
       "      <td>2LMP</td>\n",
       "      <td>False</td>\n",
       "      <td>/cellosaurus/CVCL_0062</td>\n",
       "    </tr>\n",
       "    <tr>\n",
       "      <th>1</th>\n",
       "      <td>B02/GFP.2</td>\n",
       "      <td>False</td>\n",
       "      <td>/cellosaurus/CVCL_5T76</td>\n",
       "    </tr>\n",
       "    <tr>\n",
       "      <th>2</th>\n",
       "      <td>Ecad-231-7</td>\n",
       "      <td>False</td>\n",
       "      <td>/cellosaurus/CVCL_0062</td>\n",
       "    </tr>\n",
       "    <tr>\n",
       "      <th>3</th>\n",
       "      <td>Ecad-231-9</td>\n",
       "      <td>False</td>\n",
       "      <td>/cellosaurus/CVCL_0062</td>\n",
       "    </tr>\n",
       "    <tr>\n",
       "      <th>4</th>\n",
       "      <td>LINTERNA MDA-MB-231</td>\n",
       "      <td>False</td>\n",
       "      <td>/cellosaurus/CVCL_0062</td>\n",
       "    </tr>\n",
       "  </tbody>\n",
       "</table>\n",
       "</div>"
      ],
      "text/plain": [
       "             Cell_name PXD_list                  parent\n",
       "0                 2LMP    False  /cellosaurus/CVCL_0062\n",
       "1            B02/GFP.2    False  /cellosaurus/CVCL_5T76\n",
       "2           Ecad-231-7    False  /cellosaurus/CVCL_0062\n",
       "3           Ecad-231-9    False  /cellosaurus/CVCL_0062\n",
       "4  LINTERNA MDA-MB-231    False  /cellosaurus/CVCL_0062"
      ]
     },
     "execution_count": 41,
     "metadata": {},
     "output_type": "execute_result"
    }
   ],
   "source": [
    "info = info_part1 + info_part2\n",
    "df = dataframe_converter(info)\n",
    "df.to_csv(\"cellosaurus_webscraping.csv\", sep = \";\",index = False)\n",
    "df.head()"
   ]
  },
  {
   "cell_type": "code",
   "execution_count": 40,
   "metadata": {},
   "outputs": [
    {
     "data": {
      "text/plain": [
       "407"
      ]
     },
     "execution_count": 40,
     "metadata": {},
     "output_type": "execute_result"
    }
   ],
   "source": [
    "projects = []\n",
    "PXDs = list(df.loc[df.PXD_list != False].PXD_list)\n",
    "for i in PXDs:\n",
    "    for x in i:\n",
    "        projects.append(x)\n",
    "len(projects)"
   ]
  },
  {
   "cell_type": "code",
   "execution_count": 47,
   "metadata": {},
   "outputs": [
    {
     "data": {
      "text/plain": [
       "541"
      ]
     },
     "execution_count": 47,
     "metadata": {},
     "output_type": "execute_result"
    }
   ],
   "source": [
    "len(df.parent.unique())"
   ]
  },
  {
   "attachments": {},
   "cell_type": "markdown",
   "metadata": {},
   "source": [
    "The resulting PXD-projects were manually checked for eligibility for this project. <br>\n",
    "Criteria include: (i) LFQ, (ii) no enrichment procedure, (iii) HCD-fragentation.\n",
    "\n",
    "The resulting file is located in the *Metadata* folder and is titled *cellosaurus_webscraping_filtered_update.csv*"
   ]
  }
 ],
 "metadata": {
  "interpreter": {
   "hash": "a5e58a6bc4a62829db288e1b1b646de12f7971c566421e3554fcf0c2c9937eb2"
  },
  "kernelspec": {
   "display_name": "Python 3.9.6 64-bit ('.mlenv': venv)",
   "language": "python",
   "name": "python3"
  },
  "language_info": {
   "codemirror_mode": {
    "name": "ipython",
    "version": 3
   },
   "file_extension": ".py",
   "mimetype": "text/x-python",
   "name": "python",
   "nbconvert_exporter": "python",
   "pygments_lexer": "ipython3",
   "version": "3.9.6"
  },
  "orig_nbformat": 4
 },
 "nbformat": 4,
 "nbformat_minor": 2
}
