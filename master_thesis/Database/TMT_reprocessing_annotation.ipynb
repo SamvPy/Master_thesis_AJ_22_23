{
 "cells": [
  {
   "cell_type": "markdown",
   "metadata": {},
   "source": [
    "# TMT annotation"
   ]
  },
  {
   "cell_type": "markdown",
   "metadata": {},
   "source": [
    "Here, files for TMT annotation will be created"
   ]
  },
  {
   "cell_type": "code",
   "execution_count": 6,
   "metadata": {},
   "outputs": [
    {
     "name": "stdout",
     "output_type": "stream",
     "text": [
      "connection succesfull\n"
     ]
    }
   ],
   "source": [
    "import master_functions as mf\n",
    "import glob\n",
    "\n",
    "db_functions = mf.dbf()"
   ]
  },
  {
   "cell_type": "code",
   "execution_count": 4,
   "metadata": {},
   "outputs": [],
   "source": [
    "tmt_projects_ionbot = {\n",
    "    \"PXD020585\": \"TMT6\",\n",
    "    \"PXD034022\": \"TMT16\",\n",
    "    \"PXD015074\": \"TMT10\",\n",
    "    \"PXD018440\": \"TMT6\",\n",
    "    \"PXD022027\": \"TMT16\",\n",
    "    \"PXD030395\": \"TMT16\",\n",
    "    \"PXD033148\": \"TMT6\",\n",
    "    \"PXD014746\": \"TMT10\",\n",
    "    \"PXD028400\": \"TMT10\",\n",
    "    \"PXD030342\": \"TMT11\",\n",
    "    \"PXD019076\": \"TMT11\",\n",
    "    \"PXD017872\": \"TMT6\",\n",
    "    \"PXD031510\": \"TMT16\",\n",
    "    \"PXD017508\": \"TMT2\",\n",
    "}"
   ]
  },
  {
   "cell_type": "code",
   "execution_count": 5,
   "metadata": {},
   "outputs": [
    {
     "name": "stdout",
     "output_type": "stream",
     "text": [
      "Found 14 out of 14.\n"
     ]
    },
    {
     "data": {
      "text/plain": [
       "{'/home/compomics/mounts/conode54/pride/PRIDE_DATA/PXD020585': 3,\n",
       " '/home/compomics/mounts/conode54/pride/PRIDE_DATA/PXD034022': 12,\n",
       " '/home/compomics/mounts/conode54/pride/PRIDE_DATA/PXD015074': 8,\n",
       " '/home/compomics/mounts/conode54/pride/PRIDE_DATA/PXD018440': 15,\n",
       " '/home/compomics/mounts/conode54/pride/PRIDE_DATA/PXD022027': 61,\n",
       " '/home/compomics/mounts/conode54/pride/PRIDE_DATA/PXD030395': 32,\n",
       " '/home/compomics/mounts/conode54/pride/PRIDE_DATA/PXD033148': 12,\n",
       " '/home/compomics/mounts/conode55/pride/PRIDE_DATA/PXD014746': 22,\n",
       " '/home/compomics/mounts/conode54/pride/PRIDE_DATA/PXD028400': 15,\n",
       " '/home/compomics/mounts/conode54/pride/PRIDE_DATA/PXD030342': 68,\n",
       " '/home/compomics/mounts/conode54/pride/PRIDE_DATA/PXD019076': 37,\n",
       " '/home/compomics/mounts/conode54/pride/PRIDE_DATA/PXD017872': 53,\n",
       " '/home/compomics/mounts/conode54/pride/PRIDE_DATA/PXD031510': 73,\n",
       " '/home/compomics/mounts/conode54/pride/PRIDE_DATA/PXD017508': 2}"
      ]
     },
     "execution_count": 5,
     "metadata": {},
     "output_type": "execute_result"
    }
   ],
   "source": [
    "found_pxd, paths, versions = db_functions.find_pxd_path(list(tmt_projects_ionbot.keys()), return_path = True) \n",
    "paths"
   ]
  },
  {
   "cell_type": "code",
   "execution_count": 13,
   "metadata": {},
   "outputs": [
    {
     "name": "stdout",
     "output_type": "stream",
     "text": [
      "/home/compomics/mounts/conode54/pride/PRIDE_DATA/PXD020585/IONBOT_v0.7.0/20181112_JSA_231_1X.mgf.gzip/20181112_JSA_231_1X.mgf.gzip.ionbot.csv\n",
      "/home/compomics/mounts/conode54/pride/PRIDE_DATA/PXD020585/IONBOT_v0.7.0/20181112_JSA_231_Bx.mgf.gzip/20181112_JSA_231_Bx.mgf.gzip.ionbot.csv\n",
      "/home/compomics/mounts/conode54/pride/PRIDE_DATA/PXD020585/IONBOT_v0.7.0/20181112_JSA_231_2X.mgf.gzip/20181112_JSA_231_2X.mgf.gzip.ionbot.csv\n"
     ]
    }
   ],
   "source": [
    "for file in glob.glob('/home/compomics/mounts/conode54/pride/PRIDE_DATA/PXD020585/IONBOT_v*/*/*'):\n",
    "    print(file)"
   ]
  },
  {
   "cell_type": "code",
   "execution_count": 29,
   "metadata": {},
   "outputs": [],
   "source": [
    "all_files = {pxd: [] for pxd in tmt_projects_ionbot.keys()}\n",
    "\n",
    "for pxd in tmt_projects_ionbot.keys():\n",
    "\n",
    "    files = all_files[pxd]\n",
    "    for file in glob.glob(f'/home/compomics/mounts/conode*/pride/PRIDE_DATA/{pxd}'+ '/IONBOT_v*/*/*.mgf.gzip.ionbot.csv'):\n",
    "        files.append(file)\n",
    "            \n",
    "    if files == []:\n",
    "        for file in glob.glob('/home/compomics/mounts/conode*/pride/PRIDE_DATA/PXD020585' + '/IONBOT_v*/*/*.mgf.ionbot.csv'):\n",
    "            files.append(file)\n",
    "    all_files[pxd] = files"
   ]
  },
  {
   "cell_type": "code",
   "execution_count": 30,
   "metadata": {},
   "outputs": [
    {
     "name": "stdout",
     "output_type": "stream",
     "text": [
      "3\n",
      "12\n",
      "8\n",
      "15\n",
      "60\n",
      "32\n",
      "12\n",
      "22\n",
      "15\n",
      "68\n",
      "37\n",
      "53\n",
      "73\n",
      "2\n"
     ]
    }
   ],
   "source": [
    "for x in all_files.values():\n",
    "    print(len(x))"
   ]
  },
  {
   "cell_type": "code",
   "execution_count": 34,
   "metadata": {},
   "outputs": [],
   "source": [
    "import pandas as pd"
   ]
  },
  {
   "cell_type": "code",
   "execution_count": 42,
   "metadata": {},
   "outputs": [],
   "source": [
    "example_ionbot_file = pd.read_csv(all_files[\"PXD020585\"][0])"
   ]
  },
  {
   "cell_type": "code",
   "execution_count": 44,
   "metadata": {},
   "outputs": [
    {
     "data": {
      "text/plain": [
       "Index(['title', 'scan_id', 'psm_id', 'scan_psm_id', 'matched_peptide',\n",
       "       'modifications', 'DB', 'best_psm', 'charge', 'numpeaks',\n",
       "       'num_candidates', 'num_top_ranked', 'precursor_mass', 'peptide_mass',\n",
       "       'prec_error', 'rt', 'rt_A', 'rt_predicted', 'rt_diff_A',\n",
       "       'best_tag_rank', 'corr', 'unexpected_modification', 'proteins',\n",
       "       'percolator_psm_score', 'q_value', 'PEP', 'percolator_psm_score_best',\n",
       "       'q_value_best', 'PEP_best', 'count_a', 'count_b_h2o', 'count_b_nh3',\n",
       "       'count_b', 'count_c', 'count_y_h2o', 'count_z', 'count_y', 'count_x',\n",
       "       'count_a2', 'count_b2_h2o', 'count_b2_nh3', 'count_b2', 'count_c2',\n",
       "       'count_y2_h2o', 'count_z2', 'count_y2', 'count_x2', 'explained_a',\n",
       "       'explained_b_h2o', 'explained_b_nh3', 'explained_b', 'explained_c',\n",
       "       'explained_y_h2o', 'explained_z', 'explained_y', 'explained_x',\n",
       "       'explained_a2', 'explained_b2_h2o', 'explained_b2_nh3', 'explained_b2',\n",
       "       'explained_c2', 'explained_y2_h2o', 'explained_z2', 'explained_y2',\n",
       "       'explained_x2', 'ri_126.1277', 'ri_127.1311', 'ri_128.1344',\n",
       "       'ri_129.1378', 'ri_130.1411', 'ri_131.1382'],\n",
       "      dtype='object')"
      ]
     },
     "execution_count": 44,
     "metadata": {},
     "output_type": "execute_result"
    }
   ],
   "source": [
    "example_ionbot_file.columns"
   ]
  },
  {
   "cell_type": "code",
   "execution_count": 63,
   "metadata": {},
   "outputs": [
    {
     "data": {
      "text/html": [
       "<div>\n",
       "<style scoped>\n",
       "    .dataframe tbody tr th:only-of-type {\n",
       "        vertical-align: middle;\n",
       "    }\n",
       "\n",
       "    .dataframe tbody tr th {\n",
       "        vertical-align: top;\n",
       "    }\n",
       "\n",
       "    .dataframe thead th {\n",
       "        text-align: right;\n",
       "    }\n",
       "</style>\n",
       "<table border=\"1\" class=\"dataframe\">\n",
       "  <thead>\n",
       "    <tr style=\"text-align: right;\">\n",
       "      <th></th>\n",
       "      <th>modifications</th>\n",
       "      <th>PEP</th>\n",
       "      <th>ri_126.1277</th>\n",
       "      <th>ri_127.1311</th>\n",
       "      <th>ri_128.1344</th>\n",
       "      <th>ri_129.1378</th>\n",
       "      <th>ri_130.1411</th>\n",
       "      <th>ri_131.1382</th>\n",
       "    </tr>\n",
       "  </thead>\n",
       "  <tbody>\n",
       "    <tr>\n",
       "      <th>0</th>\n",
       "      <td>0|[737]TMT6plex[N-TERM]</td>\n",
       "      <td>0.000</td>\n",
       "      <td>24629.410</td>\n",
       "      <td>38307.824</td>\n",
       "      <td>35179.602</td>\n",
       "      <td>32170.572</td>\n",
       "      <td>25335.090</td>\n",
       "      <td>33122.426</td>\n",
       "    </tr>\n",
       "    <tr>\n",
       "      <th>2</th>\n",
       "      <td>0|[737]TMT6plex[N-TERM]|7|[4]carbamidomethyl[C...</td>\n",
       "      <td>0.000</td>\n",
       "      <td>16047.086</td>\n",
       "      <td>17979.822</td>\n",
       "      <td>13405.665</td>\n",
       "      <td>21299.566</td>\n",
       "      <td>18170.254</td>\n",
       "      <td>19747.924</td>\n",
       "    </tr>\n",
       "    <tr>\n",
       "      <th>6</th>\n",
       "      <td>0|[737]TMT6plex[N-TERM]</td>\n",
       "      <td>0.003</td>\n",
       "      <td>47462.422</td>\n",
       "      <td>58167.652</td>\n",
       "      <td>49837.352</td>\n",
       "      <td>72704.773</td>\n",
       "      <td>77727.883</td>\n",
       "      <td>95425.195</td>\n",
       "    </tr>\n",
       "    <tr>\n",
       "      <th>12</th>\n",
       "      <td>0|[737]TMT6plex[N-TERM]</td>\n",
       "      <td>0.074</td>\n",
       "      <td>19880.438</td>\n",
       "      <td>24586.965</td>\n",
       "      <td>15516.478</td>\n",
       "      <td>18750.012</td>\n",
       "      <td>16781.572</td>\n",
       "      <td>21115.697</td>\n",
       "    </tr>\n",
       "    <tr>\n",
       "      <th>16</th>\n",
       "      <td>0|[737]TMT6plex[N-TERM]</td>\n",
       "      <td>0.118</td>\n",
       "      <td>19420.938</td>\n",
       "      <td>19503.549</td>\n",
       "      <td>23502.865</td>\n",
       "      <td>20201.475</td>\n",
       "      <td>26099.840</td>\n",
       "      <td>28596.580</td>\n",
       "    </tr>\n",
       "    <tr>\n",
       "      <th>...</th>\n",
       "      <td>...</td>\n",
       "      <td>...</td>\n",
       "      <td>...</td>\n",
       "      <td>...</td>\n",
       "      <td>...</td>\n",
       "      <td>...</td>\n",
       "      <td>...</td>\n",
       "      <td>...</td>\n",
       "    </tr>\n",
       "    <tr>\n",
       "      <th>88955</th>\n",
       "      <td>0|[737]TMT6plex[N-TERM]</td>\n",
       "      <td>0.053</td>\n",
       "      <td>2908.127</td>\n",
       "      <td>3906.112</td>\n",
       "      <td>2764.816</td>\n",
       "      <td>3647.636</td>\n",
       "      <td>3659.671</td>\n",
       "      <td>2922.708</td>\n",
       "    </tr>\n",
       "    <tr>\n",
       "      <th>88959</th>\n",
       "      <td>0|[737]TMT6plex[N-TERM]</td>\n",
       "      <td>0.022</td>\n",
       "      <td>2545.306</td>\n",
       "      <td>2547.002</td>\n",
       "      <td>3133.129</td>\n",
       "      <td>2707.472</td>\n",
       "      <td>2411.817</td>\n",
       "      <td>2452.388</td>\n",
       "    </tr>\n",
       "    <tr>\n",
       "      <th>88963</th>\n",
       "      <td>0|[737]TMT6plex[N-TERM]</td>\n",
       "      <td>0.041</td>\n",
       "      <td>3066.637</td>\n",
       "      <td>3583.203</td>\n",
       "      <td>3288.104</td>\n",
       "      <td>3512.166</td>\n",
       "      <td>3157.840</td>\n",
       "      <td>3288.591</td>\n",
       "    </tr>\n",
       "    <tr>\n",
       "      <th>88967</th>\n",
       "      <td>0|[737]TMT6plex[N-TERM]</td>\n",
       "      <td>0.292</td>\n",
       "      <td>2625.948</td>\n",
       "      <td>3308.266</td>\n",
       "      <td>3123.628</td>\n",
       "      <td>3150.579</td>\n",
       "      <td>2526.359</td>\n",
       "      <td>2682.947</td>\n",
       "    </tr>\n",
       "    <tr>\n",
       "      <th>88973</th>\n",
       "      <td>0|[737]TMT6plex[N-TERM]</td>\n",
       "      <td>0.041</td>\n",
       "      <td>2358.018</td>\n",
       "      <td>2400.498</td>\n",
       "      <td>2127.545</td>\n",
       "      <td>2837.789</td>\n",
       "      <td>1948.517</td>\n",
       "      <td>1679.810</td>\n",
       "    </tr>\n",
       "  </tbody>\n",
       "</table>\n",
       "<p>18433 rows × 8 columns</p>\n",
       "</div>"
      ],
      "text/plain": [
       "                                           modifications    PEP  ri_126.1277  \\\n",
       "0                                0|[737]TMT6plex[N-TERM]  0.000    24629.410   \n",
       "2      0|[737]TMT6plex[N-TERM]|7|[4]carbamidomethyl[C...  0.000    16047.086   \n",
       "6                                0|[737]TMT6plex[N-TERM]  0.003    47462.422   \n",
       "12                               0|[737]TMT6plex[N-TERM]  0.074    19880.438   \n",
       "16                               0|[737]TMT6plex[N-TERM]  0.118    19420.938   \n",
       "...                                                  ...    ...          ...   \n",
       "88955                            0|[737]TMT6plex[N-TERM]  0.053     2908.127   \n",
       "88959                            0|[737]TMT6plex[N-TERM]  0.022     2545.306   \n",
       "88963                            0|[737]TMT6plex[N-TERM]  0.041     3066.637   \n",
       "88967                            0|[737]TMT6plex[N-TERM]  0.292     2625.948   \n",
       "88973                            0|[737]TMT6plex[N-TERM]  0.041     2358.018   \n",
       "\n",
       "       ri_127.1311  ri_128.1344  ri_129.1378  ri_130.1411  ri_131.1382  \n",
       "0        38307.824    35179.602    32170.572    25335.090    33122.426  \n",
       "2        17979.822    13405.665    21299.566    18170.254    19747.924  \n",
       "6        58167.652    49837.352    72704.773    77727.883    95425.195  \n",
       "12       24586.965    15516.478    18750.012    16781.572    21115.697  \n",
       "16       19503.549    23502.865    20201.475    26099.840    28596.580  \n",
       "...            ...          ...          ...          ...          ...  \n",
       "88955     3906.112     2764.816     3647.636     3659.671     2922.708  \n",
       "88959     2547.002     3133.129     2707.472     2411.817     2452.388  \n",
       "88963     3583.203     3288.104     3512.166     3157.840     3288.591  \n",
       "88967     3308.266     3123.628     3150.579     2526.359     2682.947  \n",
       "88973     2400.498     2127.545     2837.789     1948.517     1679.810  \n",
       "\n",
       "[18433 rows x 8 columns]"
      ]
     },
     "execution_count": 63,
     "metadata": {},
     "output_type": "execute_result"
    }
   ],
   "source": [
    "example_ionbot_file.loc[example_ionbot_file.best_psm == 1, [\"modifications\",\"PEP\",'ri_126.1277', 'ri_127.1311', 'ri_128.1344',\n",
    "       'ri_129.1378', 'ri_130.1411', 'ri_131.1382']]"
   ]
  },
  {
   "cell_type": "code",
   "execution_count": 46,
   "metadata": {},
   "outputs": [
    {
     "name": "stdout",
     "output_type": "stream",
     "text": [
      "/home/compomics/mounts/conode55/pride/PRIDE_DATA/PXD018450/IONBOT_v0.7.0/46_2.mgf.gzip/46_2.mgf.gzip.ionbot.csv\n"
     ]
    }
   ],
   "source": [
    "for file in glob.glob('/home/compomics/mounts/conode55/pride/PRIDE_DATA/PXD018450/IONBOT_v0.7.0/46_2.mgf.gzip/*'):\n",
    "    print(file)"
   ]
  },
  {
   "cell_type": "code",
   "execution_count": 48,
   "metadata": {},
   "outputs": [],
   "source": [
    "example_lfq = pd.read_csv('/home/compomics/mounts/conode55/pride/PRIDE_DATA/PXD018450/IONBOT_v0.7.0/46_2.mgf.gzip/46_2.mgf.gzip.ionbot.csv')"
   ]
  },
  {
   "cell_type": "code",
   "execution_count": 59,
   "metadata": {},
   "outputs": [
    {
     "data": {
      "text/plain": [
       "Index(['title', 'scan_id', 'psm_id', 'scan_psm_id', 'matched_peptide',\n",
       "       'modifications', 'DB', 'best_psm', 'charge', 'numpeaks',\n",
       "       'num_candidates', 'num_top_ranked', 'precursor_mass', 'peptide_mass',\n",
       "       'prec_error', 'rt', 'rt_A', 'rt_predicted', 'rt_diff_A',\n",
       "       'best_tag_rank', 'corr', 'unexpected_modification', 'proteins',\n",
       "       'percolator_psm_score', 'q_value', 'PEP', 'percolator_psm_score_best',\n",
       "       'q_value_best', 'PEP_best', 'count_a', 'count_b_h2o', 'count_b_nh3',\n",
       "       'count_b', 'count_c', 'count_y_h2o', 'count_z', 'count_y', 'count_x',\n",
       "       'count_a2', 'count_b2_h2o', 'count_b2_nh3', 'count_b2', 'count_c2',\n",
       "       'count_y2_h2o', 'count_z2', 'count_y2', 'count_x2', 'explained_a',\n",
       "       'explained_b_h2o', 'explained_b_nh3', 'explained_b', 'explained_c',\n",
       "       'explained_y_h2o', 'explained_z', 'explained_y', 'explained_x',\n",
       "       'explained_a2', 'explained_b2_h2o', 'explained_b2_nh3', 'explained_b2',\n",
       "       'explained_c2', 'explained_y2_h2o', 'explained_z2', 'explained_y2',\n",
       "       'explained_x2'],\n",
       "      dtype='object')"
      ]
     },
     "execution_count": 59,
     "metadata": {},
     "output_type": "execute_result"
    }
   ],
   "source": [
    "example_lfq.columns"
   ]
  },
  {
   "cell_type": "code",
   "execution_count": 58,
   "metadata": {},
   "outputs": [
    {
     "data": {
      "text/plain": [
       "0          8|[4]carbamidomethyl[C]|11|[4]carbamidomethyl[C]\n",
       "1                                                       NaN\n",
       "2                                                       NaN\n",
       "3                                        x|[372]Arg->Orn[R]\n",
       "4                                x|[935]Atto495Maleimide[C]\n",
       "                                ...                        \n",
       "105878    14|[4]carbamidomethyl[C]|4|[943]DimethylamineG...\n",
       "105879    11|[4]carbamidomethyl[C]|x|[1290]Dicarbamidome...\n",
       "105880                                        x|[478]FTC[S]\n",
       "105881                                                  NaN\n",
       "105882                              5|[4]carbamidomethyl[C]\n",
       "Name: modifications, Length: 105883, dtype: object"
      ]
     },
     "execution_count": 58,
     "metadata": {},
     "output_type": "execute_result"
    }
   ],
   "source": [
    "example_lfq.loc[:, \"modifications\"]"
   ]
  }
 ],
 "metadata": {
  "kernelspec": {
   "display_name": "Python 3.6.9 64-bit",
   "language": "python",
   "name": "python3"
  },
  "language_info": {
   "codemirror_mode": {
    "name": "ipython",
    "version": 3
   },
   "file_extension": ".py",
   "mimetype": "text/x-python",
   "name": "python",
   "nbconvert_exporter": "python",
   "pygments_lexer": "ipython3",
   "version": "3.6.9"
  },
  "orig_nbformat": 4,
  "vscode": {
   "interpreter": {
    "hash": "31f2aee4e71d21fbe5cf8b01ff0e069b9275f58929596ceb00d14d90e3e16cd6"
   }
  }
 },
 "nbformat": 4,
 "nbformat_minor": 2
}
