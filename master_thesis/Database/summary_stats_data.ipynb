{
 "cells": [
  {
   "attachments": {},
   "cell_type": "markdown",
   "metadata": {},
   "source": [
    "# Overview of collected data"
   ]
  },
  {
   "attachments": {},
   "cell_type": "markdown",
   "metadata": {},
   "source": [
    "In this notebook, files will be generated that include information on how many PSMs (all and significant ones), peptides and proteins that are identified with ionbot <br>\n",
    "Also some new data is prepared to be included in the database with the database_parser.ipynb notebook\n",
    "\n",
    "\n",
    "Some notes on what the annotation files contain:\n",
    "- assays_not_found.csv: contains the assays that were not present on the compomics server at the time when ionbot results were put in the database\n",
    "- ionbot_assays.log: log file containing information on which assays proteins could be extracted and which ones were empty or no PSM reached larger confidence than 0.01 q-value\n",
    "- parser_failed_ae4.csv: related to ionbot_assays.log. Contains the filenames of the assays that could not be parsed with the ionbot_parser function\n",
    "- new_assay_file_paths.csv: the assays in assays_not_found.csv were on 13/02/2023 once again searched on the compomics server and the filepaths are added\n",
    "- parser_tested_new_files.csv: contains information on which files can be parsed with the ionbot_parser function. This will be overwritten later with information on PSM peptide and protein information\n",
    "- pooling.log: contains annotation on the fractions of the samples that were previously added to the mySQL database\n",
    "\n",
    "These files will need to be reformatted to enhance clarity"
   ]
  },
  {
   "cell_type": "code",
   "execution_count": 1,
   "metadata": {},
   "outputs": [],
   "source": [
    "import pandas as pd\n",
    "import mysql.connector\n",
    "import glob\n",
    "\n",
    "from ipywidgets import IntProgress\n",
    "from IPython.display import display"
   ]
  },
  {
   "cell_type": "code",
   "execution_count": 20,
   "metadata": {},
   "outputs": [],
   "source": [
    "# Check for which the ionbot parser fails\n",
    "\n",
    "# I need PSMs before and after filtering, identify tryptic peptides and protein amounts\n",
    "\n",
    "def ionbot_parse(file):\n",
    "    '''Returns [nPSMsBefore, nPSMsAfter ,nPeptides, nProteins] for the given file'''\n",
    "\n",
    "    nPSMsBefore = 0\n",
    "    nPSMsAfter = 0\n",
    "    nPeptides = 0\n",
    "    nProteins = 0\n",
    "    \n",
    "    version = file.split(\"/\")[8]\n",
    "\n",
    "    df = pd.read_csv(file, sep=',')\n",
    "        \n",
    "    if df.empty:\n",
    "        return [nPSMsBefore, nPSMsAfter ,nPeptides, nProteins]\n",
    "\n",
    "    nPSMsBefore = df.shape[0]\n",
    "    # best_psm is equal to 1\n",
    "    df = df.loc[df['best_psm'] == 1]\n",
    "    #  q-value-best <= 0.01\n",
    "    df = df.loc[df['q_value'] <= 0.01]\n",
    "    # DB column needs to contain 'T' (otherwise decoy hit) +  extra check: only retain swissprot entries (start with sp)\n",
    "    df = df.loc[df['DB'] == 'T']\n",
    "\n",
    "    nPSMsAfter = df.shape[0]\n",
    "\n",
    "    if df.empty:    \n",
    "        return [nPSMsBefore, nPSMsAfter, nPeptides, nProteins]\n",
    "\n",
    "    #Only supports versions \n",
    "    versions = \"IONBOT_v0.6.2 IONBOT_v0.6.3 IONBOT_v0.7.0 IONBOT_v0.8.0\".split()\n",
    "    if version not in versions:\n",
    "        print(version, \"not supported!\")\n",
    "        return False\n",
    "\n",
    "    if version in [\"IONBOT_v0.6.2\", \"IONBOT_v0.6.3\"]:\n",
    "\n",
    "        df_validated = df[df['proteins'].astype(str).str.startswith('sp')]\n",
    "        # remove peptides that are not uniquely identified and are linked to multiple proteins = containing || in proteins\n",
    "        x = '||'\n",
    "        # regex is False otherwise it also detects a single | which is in every protein present\n",
    "        df_validated = df_validated[~df_validated['proteins'].str.contains(x, regex=False)]\n",
    "        #Reformat proteins to uniprotID\n",
    "\n",
    "        if df_validated.empty:\n",
    "    \n",
    "            return [nPSMsBefore, nPSMsAfter ,nPeptides, nProteins]\n",
    "\n",
    "        df_validated[\"proteins\"] = df_validated.apply(lambda x: x[\"proteins\"].split('|')[1], axis = 1)\n",
    "        \n",
    "    elif version in [\"IONBOT_v0.7.0\", \"IONBOT_v0.8.0\"]:\n",
    "        x = \"||\"\n",
    "        df_validated = df[~df['proteins'].str.contains(x, regex = False)]\n",
    "\n",
    "        if df_validated.empty:\n",
    "            \n",
    "            return [nPSMsBefore, nPSMsAfter ,nPeptides, nProteins]\n",
    "\n",
    "        df_validated[\"proteins\"] = df_validated.apply(lambda x: dbf.id_regex(x[\"proteins\"]), axis = 1)\n",
    "        df_validated = df_validated[df_validated[\"proteins\"].notna()]\n",
    "\n",
    "    # check not all entries were removed\n",
    "    if df_validated.empty:\n",
    "        return [nPSMsBefore, nPSMsAfter ,nPeptides, nProteins]\n",
    "        \n",
    "    # modifications can be linked to unimod id: peptide_modifications: unimod ID vs peptide\n",
    "    # calculte the spectral counts from each peptide: dict: count\n",
    "    \n",
    "    peptides = df_validated['matched_peptide'].tolist()\n",
    "\n",
    "    nPeptides = len(peptides)\n",
    "    nProteins = len(df_validated.proteins.unique())\n",
    "\n",
    "    \n",
    "\n",
    "    return [nPSMsBefore, nPSMsAfter ,nPeptides, nProteins]"
   ]
  },
  {
   "cell_type": "code",
   "execution_count": 2,
   "metadata": {},
   "outputs": [
    {
     "name": "stdout",
     "output_type": "stream",
     "text": [
      "connection succesfull\n"
     ]
    }
   ],
   "source": [
    "import master_functions as mf\n",
    "dbf = mf.dbf()"
   ]
  },
  {
   "cell_type": "code",
   "execution_count": 3,
   "metadata": {},
   "outputs": [
    {
     "name": "stdout",
     "output_type": "stream",
     "text": [
      "connection succesfull\n"
     ]
    }
   ],
   "source": [
    "conn = mysql.connector.connect(user='root', password='password', host='127.0.0.1', port='3306',database='expression_atlas_cells')\n",
    "mycursor = conn.cursor(buffered = True)\n",
    "\n",
    "# check the connection\n",
    "if conn.is_connected():\n",
    "    print(\"connection succesfull\")\n",
    "else:\n",
    "    print(\"no connection\")"
   ]
  },
  {
   "cell_type": "code",
   "execution_count": 5,
   "metadata": {},
   "outputs": [],
   "source": [
    "assay_project_query = \"SELECT * FROM assay\"\n",
    "assay_project_data = pd.read_sql_query(assay_project_query, conn)\n",
    "\n",
    "project_query = \"SELECT project_id, PXD_accession FROM project\"\n",
    "project_data = pd.read_sql_query(project_query, conn)\n",
    "\n",
    "assay_cell_query = \"SELECT assay_id, cell_id FROM cell_to_assay\"\n",
    "assay_cell_data = pd.read_sql_query(assay_cell_query, conn)\n",
    "\n",
    "cell_query = \"SELECT * FROM cell\"\n",
    "cell_data = pd.read_sql_query(cell_query, conn)\n",
    "\n",
    "full_df = pd.merge(assay_project_data, assay_cell_data, on = \"assay_id\")\n",
    "full_df = pd.merge(full_df, cell_data, on = \"cell_id\")\n",
    "full_df = pd.merge(full_df, project_data, on = \"project_id\")"
   ]
  },
  {
   "cell_type": "code",
   "execution_count": 6,
   "metadata": {},
   "outputs": [
    {
     "name": "stdout",
     "output_type": "stream",
     "text": [
      "(3152, 11)\n"
     ]
    },
    {
     "data": {
      "text/html": [
       "<div>\n",
       "<style scoped>\n",
       "    .dataframe tbody tr th:only-of-type {\n",
       "        vertical-align: middle;\n",
       "    }\n",
       "\n",
       "    .dataframe tbody tr th {\n",
       "        vertical-align: top;\n",
       "    }\n",
       "\n",
       "    .dataframe thead th {\n",
       "        text-align: right;\n",
       "    }\n",
       "</style>\n",
       "<table border=\"1\" class=\"dataframe\">\n",
       "  <thead>\n",
       "    <tr style=\"text-align: right;\">\n",
       "      <th></th>\n",
       "      <th>assay_id</th>\n",
       "      <th>project_id</th>\n",
       "      <th>filename</th>\n",
       "      <th>cell_id</th>\n",
       "      <th>cell_line</th>\n",
       "      <th>disease</th>\n",
       "      <th>treatment</th>\n",
       "      <th>tissue_type</th>\n",
       "      <th>sub_cell</th>\n",
       "      <th>organ_id</th>\n",
       "      <th>PXD_accession</th>\n",
       "    </tr>\n",
       "  </thead>\n",
       "  <tbody>\n",
       "    <tr>\n",
       "      <th>0</th>\n",
       "      <td>30960</td>\n",
       "      <td>1815</td>\n",
       "      <td>3B10-1</td>\n",
       "      <td>545</td>\n",
       "      <td>Hep3B</td>\n",
       "      <td>hepatocellular carcinoma</td>\n",
       "      <td>/</td>\n",
       "      <td>liver</td>\n",
       "      <td>/</td>\n",
       "      <td>None</td>\n",
       "      <td>PXD000533</td>\n",
       "    </tr>\n",
       "    <tr>\n",
       "      <th>1</th>\n",
       "      <td>30961</td>\n",
       "      <td>1815</td>\n",
       "      <td>3B10-2</td>\n",
       "      <td>545</td>\n",
       "      <td>Hep3B</td>\n",
       "      <td>hepatocellular carcinoma</td>\n",
       "      <td>/</td>\n",
       "      <td>liver</td>\n",
       "      <td>/</td>\n",
       "      <td>None</td>\n",
       "      <td>PXD000533</td>\n",
       "    </tr>\n",
       "    <tr>\n",
       "      <th>2</th>\n",
       "      <td>30962</td>\n",
       "      <td>1815</td>\n",
       "      <td>3B1-1</td>\n",
       "      <td>545</td>\n",
       "      <td>Hep3B</td>\n",
       "      <td>hepatocellular carcinoma</td>\n",
       "      <td>/</td>\n",
       "      <td>liver</td>\n",
       "      <td>/</td>\n",
       "      <td>None</td>\n",
       "      <td>PXD000533</td>\n",
       "    </tr>\n",
       "    <tr>\n",
       "      <th>3</th>\n",
       "      <td>30963</td>\n",
       "      <td>1815</td>\n",
       "      <td>3B11-1</td>\n",
       "      <td>545</td>\n",
       "      <td>Hep3B</td>\n",
       "      <td>hepatocellular carcinoma</td>\n",
       "      <td>/</td>\n",
       "      <td>liver</td>\n",
       "      <td>/</td>\n",
       "      <td>None</td>\n",
       "      <td>PXD000533</td>\n",
       "    </tr>\n",
       "    <tr>\n",
       "      <th>4</th>\n",
       "      <td>30964</td>\n",
       "      <td>1815</td>\n",
       "      <td>3B11-2</td>\n",
       "      <td>545</td>\n",
       "      <td>Hep3B</td>\n",
       "      <td>hepatocellular carcinoma</td>\n",
       "      <td>/</td>\n",
       "      <td>liver</td>\n",
       "      <td>/</td>\n",
       "      <td>None</td>\n",
       "      <td>PXD000533</td>\n",
       "    </tr>\n",
       "  </tbody>\n",
       "</table>\n",
       "</div>"
      ],
      "text/plain": [
       "   assay_id  project_id filename  cell_id cell_line                   disease  \\\n",
       "0     30960        1815   3B10-1      545     Hep3B  hepatocellular carcinoma   \n",
       "1     30961        1815   3B10-2      545     Hep3B  hepatocellular carcinoma   \n",
       "2     30962        1815    3B1-1      545     Hep3B  hepatocellular carcinoma   \n",
       "3     30963        1815   3B11-1      545     Hep3B  hepatocellular carcinoma   \n",
       "4     30964        1815   3B11-2      545     Hep3B  hepatocellular carcinoma   \n",
       "\n",
       "  treatment tissue_type sub_cell organ_id PXD_accession  \n",
       "0         /       liver        /     None     PXD000533  \n",
       "1         /       liver        /     None     PXD000533  \n",
       "2         /       liver        /     None     PXD000533  \n",
       "3         /       liver        /     None     PXD000533  \n",
       "4         /       liver        /     None     PXD000533  "
      ]
     },
     "execution_count": 6,
     "metadata": {},
     "output_type": "execute_result"
    }
   ],
   "source": [
    "# The assays and linked metadata that are loaded in the sql database\n",
    "print(full_df.shape)\n",
    "full_df.head()"
   ]
  },
  {
   "attachments": {},
   "cell_type": "markdown",
   "metadata": {},
   "source": [
    "Date 13/02/2023. The dataset will be updated if new projects and files are reprocessed and available on the compomics server.\n",
    "\n",
    "Unreprocessed projects taken from 'database_parser.ipynb'. <br>\n",
    "The previously not found assays on the compomics drive are stored in a file called **assays_not_found.csv** <br>\n",
    "The samples with empty ionbot results file or no identifications with q-value < .05 are stored in **parser_failed_ae4.csv**"
   ]
  },
  {
   "attachments": {},
   "cell_type": "markdown",
   "metadata": {},
   "source": [
    "1. projects"
   ]
  },
  {
   "cell_type": "code",
   "execution_count": 16,
   "metadata": {},
   "outputs": [],
   "source": [
    "unprocessed_pxds = ['PXD001592', 'PXD010012', 'PXD010256', 'PXD011580', 'PXD000071', 'PXD018625', 'PXD001305', 'PXD014777', 'PXD002572', 'PXD018450']\n",
    "\n",
    "assays_not_found = pd.read_csv('assays_not_found.csv', sep = ',')\n",
    "\n",
    "empty_files = pd.read_csv('parser_failed_ae4.csv')"
   ]
  },
  {
   "cell_type": "code",
   "execution_count": 17,
   "metadata": {},
   "outputs": [
    {
     "name": "stdout",
     "output_type": "stream",
     "text": [
      "Projects checked.\n",
      "[] are already imported in the database.\n",
      "Found 10 out of 10.\n",
      "{'/home/compomics/mounts/conode53/pride2/PRIDE_DATA/PXD001592': 0, '/home/compomics/mounts/conode54/pride/PRIDE_DATA/PXD010012': 0, '/home/compomics/mounts/conode54/pride/PRIDE_DATA/PXD010256': 0, '/home/compomics/mounts/conode54/pride/PRIDE_DATA/PXD011580': 0, '/home/compomics/mounts/conode55/pride/PRIDE_DATA/PXD000071': 0, '/home/compomics/mounts/conode55/pride/PRIDE_DATA/PXD018625': 0, '/home/compomics/mounts/conode55/pride/PRIDE_DATA/PXD001305': 0, '/home/compomics/mounts/conode55/pride/PRIDE_DATA/PXD014777': 0, '/home/compomics/mounts/conode55/pride/PRIDE_DATA/PXD002572': 0, '/home/compomics/mounts/conode55/pride/PRIDE_DATA/PXD018450': 187}\n"
     ]
    }
   ],
   "source": [
    "# Checking if projects are already loaded in the database\n",
    "already_loaded_projects = dbf.check_new_project(['PXD001592', 'PXD010012', 'PXD010256', 'PXD011580', 'PXD000071', 'PXD018625', 'PXD001305', 'PXD014777', 'PXD002572', 'PXD018450'])\n",
    "print(already_loaded_projects, 'are already imported in the database.')\n",
    "\n",
    "# Checking if the projects are ofund on the compomics server and if so, how many assays are in that folder\n",
    "pxd_found, file_output, version_path = dbf.find_pxd_path(['PXD001592', 'PXD010012', 'PXD010256', 'PXD011580', 'PXD000071', 'PXD018625', 'PXD001305', 'PXD014777', 'PXD002572', 'PXD018450'], True)\n",
    "print(file_output)"
   ]
  },
  {
   "attachments": {},
   "cell_type": "markdown",
   "metadata": {},
   "source": [
    "Only PXD018450 is newly added. This is added through scripts written in ./Metadata/check_PXD_reprocessed.ipynb"
   ]
  },
  {
   "attachments": {},
   "cell_type": "markdown",
   "metadata": {},
   "source": [
    "2. assays"
   ]
  },
  {
   "attachments": {},
   "cell_type": "markdown",
   "metadata": {},
   "source": [
    "Part 1: Files not found in the compomics database"
   ]
  },
  {
   "cell_type": "code",
   "execution_count": 18,
   "metadata": {},
   "outputs": [],
   "source": [
    "assays_not_found\n",
    "assays_not_found[\"file_path\"] = assays_not_found.apply(lambda x: dbf.find_file_path(x[\"PXD\"], x[\"RAW\"]), axis = 1)"
   ]
  },
  {
   "cell_type": "code",
   "execution_count": 19,
   "metadata": {},
   "outputs": [
    {
     "data": {
      "text/html": [
       "<div>\n",
       "<style scoped>\n",
       "    .dataframe tbody tr th:only-of-type {\n",
       "        vertical-align: middle;\n",
       "    }\n",
       "\n",
       "    .dataframe tbody tr th {\n",
       "        vertical-align: top;\n",
       "    }\n",
       "\n",
       "    .dataframe thead th {\n",
       "        text-align: right;\n",
       "    }\n",
       "</style>\n",
       "<table border=\"1\" class=\"dataframe\">\n",
       "  <thead>\n",
       "    <tr style=\"text-align: right;\">\n",
       "      <th></th>\n",
       "      <th>PXD</th>\n",
       "      <th>RAW</th>\n",
       "      <th>Useable</th>\n",
       "      <th>cell_line</th>\n",
       "      <th>disease</th>\n",
       "      <th>tissue_type</th>\n",
       "      <th>treatment</th>\n",
       "      <th>sub_cell</th>\n",
       "      <th>pool_id</th>\n",
       "      <th>file_path</th>\n",
       "    </tr>\n",
       "  </thead>\n",
       "  <tbody>\n",
       "    <tr>\n",
       "      <th>0</th>\n",
       "      <td>PXD000612</td>\n",
       "      <td>20120203_EXQ5_KiSh_SA_LabelFree_HeLa_Proteome_...</td>\n",
       "      <td>yes</td>\n",
       "      <td>HeLa</td>\n",
       "      <td>adenocarcinoma</td>\n",
       "      <td>cervix</td>\n",
       "      <td>Nocodazole</td>\n",
       "      <td>HeLa S3</td>\n",
       "      <td>7</td>\n",
       "      <td>/home/compomics/mounts/conode53/pride/PRIDE_DA...</td>\n",
       "    </tr>\n",
       "    <tr>\n",
       "      <th>1</th>\n",
       "      <td>PXD000612</td>\n",
       "      <td>20120203_EXQ5_KiSh_SA_LabelFree_HeLa_Proteome_...</td>\n",
       "      <td>yes</td>\n",
       "      <td>HeLa</td>\n",
       "      <td>adenocarcinoma</td>\n",
       "      <td>cervix</td>\n",
       "      <td>Nocodazole</td>\n",
       "      <td>HeLa S3</td>\n",
       "      <td>7</td>\n",
       "      <td>/home/compomics/mounts/conode53/pride/PRIDE_DA...</td>\n",
       "    </tr>\n",
       "    <tr>\n",
       "      <th>2</th>\n",
       "      <td>PXD000612</td>\n",
       "      <td>20120203_EXQ5_KiSh_SA_LabelFree_HeLa_Proteome_...</td>\n",
       "      <td>yes</td>\n",
       "      <td>HeLa</td>\n",
       "      <td>adenocarcinoma</td>\n",
       "      <td>cervix</td>\n",
       "      <td>Nocodazole</td>\n",
       "      <td>HeLa S3</td>\n",
       "      <td>7</td>\n",
       "      <td>/home/compomics/mounts/conode53/pride/PRIDE_DA...</td>\n",
       "    </tr>\n",
       "    <tr>\n",
       "      <th>3</th>\n",
       "      <td>PXD000612</td>\n",
       "      <td>20120203_EXQ5_KiSh_SA_LabelFree_HeLa_Proteome_...</td>\n",
       "      <td>yes</td>\n",
       "      <td>HeLa</td>\n",
       "      <td>adenocarcinoma</td>\n",
       "      <td>cervix</td>\n",
       "      <td>Nocodazole</td>\n",
       "      <td>HeLa S3</td>\n",
       "      <td>7</td>\n",
       "      <td>/home/compomics/mounts/conode53/pride/PRIDE_DA...</td>\n",
       "    </tr>\n",
       "    <tr>\n",
       "      <th>4</th>\n",
       "      <td>PXD000612</td>\n",
       "      <td>20120203_EXQ5_KiSh_SA_LabelFree_HeLa_Proteome_...</td>\n",
       "      <td>yes</td>\n",
       "      <td>HeLa</td>\n",
       "      <td>adenocarcinoma</td>\n",
       "      <td>cervix</td>\n",
       "      <td>Nocodazole</td>\n",
       "      <td>HeLa S3</td>\n",
       "      <td>7</td>\n",
       "      <td>/home/compomics/mounts/conode53/pride/PRIDE_DA...</td>\n",
       "    </tr>\n",
       "    <tr>\n",
       "      <th>...</th>\n",
       "      <td>...</td>\n",
       "      <td>...</td>\n",
       "      <td>...</td>\n",
       "      <td>...</td>\n",
       "      <td>...</td>\n",
       "      <td>...</td>\n",
       "      <td>...</td>\n",
       "      <td>...</td>\n",
       "      <td>...</td>\n",
       "      <td>...</td>\n",
       "    </tr>\n",
       "    <tr>\n",
       "      <th>2522</th>\n",
       "      <td>PXD008222</td>\n",
       "      <td>q03305</td>\n",
       "      <td>yes</td>\n",
       "      <td>MCF7</td>\n",
       "      <td>adenocarcinoma</td>\n",
       "      <td>breast</td>\n",
       "      <td>/</td>\n",
       "      <td>/</td>\n",
       "      <td>88</td>\n",
       "      <td>/home/compomics/mounts/conode55/pride/PRIDE_DA...</td>\n",
       "    </tr>\n",
       "    <tr>\n",
       "      <th>2523</th>\n",
       "      <td>PXD008222</td>\n",
       "      <td>q03306</td>\n",
       "      <td>yes</td>\n",
       "      <td>MCF7</td>\n",
       "      <td>adenocarcinoma</td>\n",
       "      <td>breast</td>\n",
       "      <td>/</td>\n",
       "      <td>/</td>\n",
       "      <td>88</td>\n",
       "      <td>/home/compomics/mounts/conode55/pride/PRIDE_DA...</td>\n",
       "    </tr>\n",
       "    <tr>\n",
       "      <th>2524</th>\n",
       "      <td>PXD008222</td>\n",
       "      <td>q03307</td>\n",
       "      <td>yes</td>\n",
       "      <td>MCF7</td>\n",
       "      <td>adenocarcinoma</td>\n",
       "      <td>breast</td>\n",
       "      <td>/</td>\n",
       "      <td>/</td>\n",
       "      <td>88</td>\n",
       "      <td>/home/compomics/mounts/conode55/pride/PRIDE_DA...</td>\n",
       "    </tr>\n",
       "    <tr>\n",
       "      <th>2525</th>\n",
       "      <td>PXD008222</td>\n",
       "      <td>q03308</td>\n",
       "      <td>yes</td>\n",
       "      <td>MCF7</td>\n",
       "      <td>adenocarcinoma</td>\n",
       "      <td>breast</td>\n",
       "      <td>/</td>\n",
       "      <td>/</td>\n",
       "      <td>88</td>\n",
       "      <td>/home/compomics/mounts/conode55/pride/PRIDE_DA...</td>\n",
       "    </tr>\n",
       "    <tr>\n",
       "      <th>2526</th>\n",
       "      <td>PXD008222</td>\n",
       "      <td>q03309</td>\n",
       "      <td>yes</td>\n",
       "      <td>MCF7</td>\n",
       "      <td>adenocarcinoma</td>\n",
       "      <td>breast</td>\n",
       "      <td>/</td>\n",
       "      <td>/</td>\n",
       "      <td>88</td>\n",
       "      <td>/home/compomics/mounts/conode55/pride/PRIDE_DA...</td>\n",
       "    </tr>\n",
       "  </tbody>\n",
       "</table>\n",
       "<p>2521 rows × 10 columns</p>\n",
       "</div>"
      ],
      "text/plain": [
       "            PXD                                                RAW Useable  \\\n",
       "0     PXD000612  20120203_EXQ5_KiSh_SA_LabelFree_HeLa_Proteome_...     yes   \n",
       "1     PXD000612  20120203_EXQ5_KiSh_SA_LabelFree_HeLa_Proteome_...     yes   \n",
       "2     PXD000612  20120203_EXQ5_KiSh_SA_LabelFree_HeLa_Proteome_...     yes   \n",
       "3     PXD000612  20120203_EXQ5_KiSh_SA_LabelFree_HeLa_Proteome_...     yes   \n",
       "4     PXD000612  20120203_EXQ5_KiSh_SA_LabelFree_HeLa_Proteome_...     yes   \n",
       "...         ...                                                ...     ...   \n",
       "2522  PXD008222                                             q03305     yes   \n",
       "2523  PXD008222                                             q03306     yes   \n",
       "2524  PXD008222                                             q03307     yes   \n",
       "2525  PXD008222                                             q03308     yes   \n",
       "2526  PXD008222                                             q03309     yes   \n",
       "\n",
       "     cell_line         disease tissue_type   treatment sub_cell pool_id  \\\n",
       "0         HeLa  adenocarcinoma      cervix  Nocodazole  HeLa S3       7   \n",
       "1         HeLa  adenocarcinoma      cervix  Nocodazole  HeLa S3       7   \n",
       "2         HeLa  adenocarcinoma      cervix  Nocodazole  HeLa S3       7   \n",
       "3         HeLa  adenocarcinoma      cervix  Nocodazole  HeLa S3       7   \n",
       "4         HeLa  adenocarcinoma      cervix  Nocodazole  HeLa S3       7   \n",
       "...        ...             ...         ...         ...      ...     ...   \n",
       "2522      MCF7  adenocarcinoma      breast           /        /      88   \n",
       "2523      MCF7  adenocarcinoma      breast           /        /      88   \n",
       "2524      MCF7  adenocarcinoma      breast           /        /      88   \n",
       "2525      MCF7  adenocarcinoma      breast           /        /      88   \n",
       "2526      MCF7  adenocarcinoma      breast           /        /      88   \n",
       "\n",
       "                                              file_path  \n",
       "0     /home/compomics/mounts/conode53/pride/PRIDE_DA...  \n",
       "1     /home/compomics/mounts/conode53/pride/PRIDE_DA...  \n",
       "2     /home/compomics/mounts/conode53/pride/PRIDE_DA...  \n",
       "3     /home/compomics/mounts/conode53/pride/PRIDE_DA...  \n",
       "4     /home/compomics/mounts/conode53/pride/PRIDE_DA...  \n",
       "...                                                 ...  \n",
       "2522  /home/compomics/mounts/conode55/pride/PRIDE_DA...  \n",
       "2523  /home/compomics/mounts/conode55/pride/PRIDE_DA...  \n",
       "2524  /home/compomics/mounts/conode55/pride/PRIDE_DA...  \n",
       "2525  /home/compomics/mounts/conode55/pride/PRIDE_DA...  \n",
       "2526  /home/compomics/mounts/conode55/pride/PRIDE_DA...  \n",
       "\n",
       "[2521 rows x 10 columns]"
      ]
     },
     "execution_count": 19,
     "metadata": {},
     "output_type": "execute_result"
    }
   ],
   "source": [
    "assays_not_found[assays_not_found.file_path.notna()]"
   ]
  },
  {
   "cell_type": "code",
   "execution_count": 31,
   "metadata": {},
   "outputs": [],
   "source": [
    "assays_not_found.to_csv(\"new_assay_file_paths.csv\", )"
   ]
  },
  {
   "attachments": {},
   "cell_type": "markdown",
   "metadata": {},
   "source": [
    "Part 2: Files wherefor the ionbot results file parser failed"
   ]
  },
  {
   "cell_type": "code",
   "execution_count": 45,
   "metadata": {},
   "outputs": [],
   "source": [
    "failed_assays = pd.read_csv(\"./parser_failed_ae4.csv\", header=None)"
   ]
  },
  {
   "cell_type": "code",
   "execution_count": 46,
   "metadata": {},
   "outputs": [
    {
     "data": {
      "text/plain": [
       "(1046, 1)"
      ]
     },
     "execution_count": 46,
     "metadata": {},
     "output_type": "execute_result"
    }
   ],
   "source": [
    "failed_assays.shape"
   ]
  },
  {
   "attachments": {},
   "cell_type": "markdown",
   "metadata": {},
   "source": [
    "---"
   ]
  },
  {
   "cell_type": "code",
   "execution_count": 6,
   "metadata": {},
   "outputs": [
    {
     "name": "stdout",
     "output_type": "stream",
     "text": [
      "(2708, 10)\n"
     ]
    },
    {
     "name": "stderr",
     "output_type": "stream",
     "text": [
      "/home/compomics/miniconda3/envs/ionbot/lib/python3.7/site-packages/ipykernel_launcher.py:10: FutureWarning: Sorting because non-concatenation axis is not aligned. A future version\n",
      "of pandas will change to not sort by default.\n",
      "\n",
      "To accept the future behavior, pass 'sort=False'.\n",
      "\n",
      "To retain the current behavior and silence the warning, pass 'sort=True'.\n",
      "\n",
      "  # Remove the CWD from sys.path while we load stuff.\n"
     ]
    }
   ],
   "source": [
    "# Concatenate the files that were not found originally with the new PXD project files saved in annotation_PXD...)\n",
    "\n",
    "# Reformat some columns so they link up with other file\n",
    "newPXD = pd.read_excel(\"../Metadata/annotation_PXD018450.xlsx\", engine =\"openpyxl\")\n",
    "newPXD[\"treatment\"] = \"/\"\n",
    "newPXD.rename(columns={\"path\": \"file_path\"}, inplace = True)\n",
    "\n",
    "assays_not_found = pd.read_csv(\"new_assay_file_paths.csv\", index_col=\"Unnamed: 0\")\n",
    "\n",
    "newFiles = pd.concat([newPXD, assays_not_found])\n",
    "newFiles = newFiles[newFiles.file_path.notna()]\n",
    "print(newFiles.shape)"
   ]
  },
  {
   "cell_type": "code",
   "execution_count": 7,
   "metadata": {},
   "outputs": [
    {
     "data": {
      "text/html": [
       "<div>\n",
       "<style scoped>\n",
       "    .dataframe tbody tr th:only-of-type {\n",
       "        vertical-align: middle;\n",
       "    }\n",
       "\n",
       "    .dataframe tbody tr th {\n",
       "        vertical-align: top;\n",
       "    }\n",
       "\n",
       "    .dataframe thead th {\n",
       "        text-align: right;\n",
       "    }\n",
       "</style>\n",
       "<table border=\"1\" class=\"dataframe\">\n",
       "  <thead>\n",
       "    <tr style=\"text-align: right;\">\n",
       "      <th></th>\n",
       "      <th>assay_id</th>\n",
       "      <th>project_id</th>\n",
       "      <th>filename</th>\n",
       "      <th>cell_id</th>\n",
       "      <th>cell_line</th>\n",
       "      <th>disease</th>\n",
       "      <th>treatment</th>\n",
       "      <th>tissue_type</th>\n",
       "      <th>sub_cell</th>\n",
       "      <th>organ_id</th>\n",
       "      <th>PXD_accession</th>\n",
       "    </tr>\n",
       "  </thead>\n",
       "  <tbody>\n",
       "  </tbody>\n",
       "</table>\n",
       "</div>"
      ],
      "text/plain": [
       "Empty DataFrame\n",
       "Columns: [assay_id, project_id, filename, cell_id, cell_line, disease, treatment, tissue_type, sub_cell, organ_id, PXD_accession]\n",
       "Index: []"
      ]
     },
     "execution_count": 7,
     "metadata": {},
     "output_type": "execute_result"
    }
   ],
   "source": [
    "# Sanity check if some assays have been loaded already\n",
    "\n",
    "full_df[full_df.filename.isin(newFiles.RAW)]"
   ]
  },
  {
   "attachments": {},
   "cell_type": "markdown",
   "metadata": {},
   "source": [
    "Run ionbot parser for every file and store data on PSM peptide en protein amounts"
   ]
  },
  {
   "cell_type": "code",
   "execution_count": 8,
   "metadata": {},
   "outputs": [],
   "source": [
    "parsedNewFiles = newFiles.copy(deep = True)"
   ]
  },
  {
   "cell_type": "code",
   "execution_count": 9,
   "metadata": {},
   "outputs": [],
   "source": [
    "parsedNewFiles[\"all_PSM\"] = 0\n",
    "parsedNewFiles[\"sign_PSM\"] = 0\n",
    "parsedNewFiles[\"peptides\"] = 0\n",
    "parsedNewFiles[\"proteins\"] = 0\n",
    "parsedNewFiles.reset_index(drop = True, inplace = True)"
   ]
  },
  {
   "cell_type": "code",
   "execution_count": 36,
   "metadata": {},
   "outputs": [
    {
     "data": {
      "application/vnd.jupyter.widget-view+json": {
       "model_id": "0a81720fe8d4480bb07e5c82e9e142f2",
       "version_major": 2,
       "version_minor": 0
      },
      "text/plain": [
       "IntProgress(value=0, max=2708)"
      ]
     },
     "metadata": {},
     "output_type": "display_data"
    },
    {
     "name": "stderr",
     "output_type": "stream",
     "text": [
      "/home/compomics/miniconda3/envs/ionbot/lib/python3.7/site-packages/ipykernel_launcher.py:62: SettingWithCopyWarning: \n",
      "A value is trying to be set on a copy of a slice from a DataFrame.\n",
      "Try using .loc[row_indexer,col_indexer] = value instead\n",
      "\n",
      "See the caveats in the documentation: http://pandas.pydata.org/pandas-docs/stable/user_guide/indexing.html#returning-a-view-versus-a-copy\n"
     ]
    }
   ],
   "source": [
    "f = IntProgress(min=0, max = newFiles.shape[0])\n",
    "display(f)\n",
    "\n",
    "for i, row in newFiles.iterrows():\n",
    "\n",
    "    results = ionbot_parse(newFiles.file_path.iloc[i])\n",
    "    parsedNewFiles.loc[[i], 'all_PSM sign_PSM peptides proteins'.split()] = results\n",
    "    f.value += 1"
   ]
  },
  {
   "attachments": {},
   "cell_type": "markdown",
   "metadata": {},
   "source": [
    "Now rerun for the assays the parser previously failed"
   ]
  },
  {
   "cell_type": "code",
   "execution_count": 75,
   "metadata": {},
   "outputs": [],
   "source": [
    "parsedFailedFiles = failed_assays\n",
    "parsedFailedFiles[\"all_PSM\"] = 0\n",
    "parsedFailedFiles[\"sign_PSM\"] = 0\n",
    "parsedFailedFiles[\"peptides\"] = 0\n",
    "parsedFailedFiles[\"proteins\"] = 0\n",
    "parsedFailedFiles.rename({0:\"filename\"}, axis = 1, inplace = True)\n",
    "parsedFailedFiles.reset_index(drop = True, inplace = True)\n",
    "\n",
    "parsedFailedFiles = pd.merge(full_df, parsedFailedFiles, on = \"filename\")\n",
    "parsedFailedFiles.head()\n",
    "\n",
    "parsedFailedFilesIterator = parsedFailedFiles.copy(deep=True)\n",
    "parsedFailedFilesIterator[\"file_path\"] = parsedFailedFilesIterator.apply(lambda x: dbf.find_file_path(x[\"PXD_accession\"], x[\"filename\"]), axis = 1)"
   ]
  },
  {
   "cell_type": "code",
   "execution_count": 78,
   "metadata": {},
   "outputs": [
    {
     "data": {
      "application/vnd.jupyter.widget-view+json": {
       "model_id": "0d1cd8bfbb714bf1b8e0520a6a9c657e",
       "version_major": 2,
       "version_minor": 0
      },
      "text/plain": [
       "IntProgress(value=0, max=1046)"
      ]
     },
     "metadata": {},
     "output_type": "display_data"
    }
   ],
   "source": [
    "f = IntProgress(min=0, max = parsedFailedFiles.shape[0])\n",
    "display(f)\n",
    "\n",
    "for i, row in parsedFailedFilesIterator.iterrows():\n",
    "\n",
    "    results = ionbot_parse(parsedFailedFilesIterator.file_path.iloc[i])\n",
    "    parsedFailedFiles.loc[[i], 'all_PSM sign_PSM peptides proteins'.split()] = results\n",
    "    f.value += 1"
   ]
  },
  {
   "cell_type": "code",
   "execution_count": 101,
   "metadata": {},
   "outputs": [],
   "source": [
    "parsedFailedFiles.to_csv(\"parsedFailedFiles.csv\", index = False)\n",
    "parsedNewFiles.to_csv(\"parsedNewFiles.csv\", index = False)"
   ]
  },
  {
   "cell_type": "code",
   "execution_count": 4,
   "metadata": {},
   "outputs": [],
   "source": [
    "parsedFailedFiles = pd.read_csv(\"parsedFailedFiles.csv\")\n",
    "parsedNewFiles = pd.read_csv(\"parsedNewFiles.csv\")"
   ]
  },
  {
   "attachments": {},
   "cell_type": "markdown",
   "metadata": {},
   "source": [
    "Rerun all the other files that are already loaded in the sql database"
   ]
  },
  {
   "cell_type": "code",
   "execution_count": 13,
   "metadata": {},
   "outputs": [],
   "source": [
    "AvailableFiles = full_df[~full_df.filename.isin(parsedFailedFiles.filename)].copy(deep=True)\n",
    "AvailableFiles[\"all_PSM\"] = 0\n",
    "AvailableFiles[\"sign_PSM\"] = 0\n",
    "AvailableFiles[\"peptides\"] = 0\n",
    "AvailableFiles[\"proteins\"] = 0\n",
    "AvailableFiles.reset_index(drop = True, inplace = True)\n",
    "\n",
    "AvailableFiles.head()\n",
    "\n",
    "AvailableFilesIterator = AvailableFiles.copy(deep=True)\n",
    "AvailableFilesIterator[\"file_path\"] = AvailableFilesIterator.apply(lambda x: dbf.find_file_path(x[\"PXD_accession\"], x[\"filename\"]), axis = 1)"
   ]
  },
  {
   "cell_type": "code",
   "execution_count": 21,
   "metadata": {},
   "outputs": [
    {
     "data": {
      "application/vnd.jupyter.widget-view+json": {
       "model_id": "3f34f32b946e430b9704b85fa4b655ab",
       "version_major": 2,
       "version_minor": 0
      },
      "text/plain": [
       "IntProgress(value=0, max=2106)"
      ]
     },
     "metadata": {},
     "output_type": "display_data"
    },
    {
     "name": "stderr",
     "output_type": "stream",
     "text": [
      "/home/compomics/miniconda3/envs/ionbot/lib/python3.7/site-packages/ipykernel_launcher.py:62: SettingWithCopyWarning: \n",
      "A value is trying to be set on a copy of a slice from a DataFrame.\n",
      "Try using .loc[row_indexer,col_indexer] = value instead\n",
      "\n",
      "See the caveats in the documentation: http://pandas.pydata.org/pandas-docs/stable/user_guide/indexing.html#returning-a-view-versus-a-copy\n",
      "/home/compomics/miniconda3/envs/ionbot/lib/python3.7/site-packages/IPython/core/interactiveshell.py:3377: DtypeWarning: Columns (5) have mixed types. Specify dtype option on import or set low_memory=False.\n",
      "  if (await self.run_code(code, result,  async_=asy)):\n"
     ]
    }
   ],
   "source": [
    "f = IntProgress(min=0, max = AvailableFilesIterator.shape[0])\n",
    "display(f)\n",
    "\n",
    "for i, row in AvailableFilesIterator.iterrows():\n",
    "\n",
    "    results = ionbot_parse(AvailableFilesIterator.file_path.iloc[i])\n",
    "    AvailableFiles.loc[[i], 'all_PSM sign_PSM peptides proteins'.split()] = results\n",
    "    f.value += 1"
   ]
  },
  {
   "cell_type": "code",
   "execution_count": null,
   "metadata": {},
   "outputs": [],
   "source": [
    "AvailableFiles.to_csv(\"parsedAvailableFiles.csv\")"
   ]
  },
  {
   "attachments": {},
   "cell_type": "markdown",
   "metadata": {},
   "source": [
    "---"
   ]
  },
  {
   "attachments": {},
   "cell_type": "markdown",
   "metadata": {},
   "source": [
    "# Summary statistics of the collected data"
   ]
  },
  {
   "cell_type": "code",
   "execution_count": 31,
   "metadata": {},
   "outputs": [],
   "source": [
    "import seaborn as sns\n",
    "import matplotlib.pyplot as plt"
   ]
  },
  {
   "attachments": {},
   "cell_type": "markdown",
   "metadata": {},
   "source": [
    "These will include the following:\n",
    "- How many assays fail\n",
    "- What is relation of PSM to peptide/protein ids\n",
    "- How many PSMs for the assays\n",
    "- Are #PSMs more closely related to project"
   ]
  },
  {
   "cell_type": "code",
   "execution_count": 8,
   "metadata": {},
   "outputs": [],
   "source": [
    "failed_files = pd.read_csv('parsedFailedFiles.csv')\n",
    "available_files = pd.read_csv(\"parsedAvailableFiles.csv\", index_col=\"Unnamed: 0\")\n",
    "new_files =  pd.read_csv(\"parsedNewFiles.csv\")"
   ]
  },
  {
   "cell_type": "code",
   "execution_count": 11,
   "metadata": {},
   "outputs": [
    {
     "name": "stdout",
     "output_type": "stream",
     "text": [
      "Index(['assay_id', 'project_id', 'filename', 'cell_id', 'cell_line', 'disease',\n",
      "       'treatment', 'tissue_type', 'sub_cell', 'organ_id', 'PXD_accession',\n",
      "       'all_PSM', 'sign_PSM', 'peptides', 'proteins'],\n",
      "      dtype='object')\n",
      "Index(['assay_id', 'project_id', 'filename', 'cell_id', 'cell_line', 'disease',\n",
      "       'treatment', 'tissue_type', 'sub_cell', 'organ_id', 'PXD_accession',\n",
      "       'all_PSM', 'sign_PSM', 'peptides', 'proteins'],\n",
      "      dtype='object')\n",
      "Index(['PXD', 'RAW', 'Useable', 'cell_line', 'disease', 'file_path', 'pool_id',\n",
      "       'sub_cell', 'tissue_type', 'treatment', 'all_PSM', 'sign_PSM',\n",
      "       'peptides', 'proteins'],\n",
      "      dtype='object')\n"
     ]
    }
   ],
   "source": [
    "print(failed_files.columns)\n",
    "print(available_files.columns)\n",
    "print(new_files.columns)"
   ]
  },
  {
   "cell_type": "code",
   "execution_count": 19,
   "metadata": {},
   "outputs": [
    {
     "name": "stderr",
     "output_type": "stream",
     "text": [
      "/home/compomics/miniconda3/envs/ionbot/lib/python3.7/site-packages/ipykernel_launcher.py:1: FutureWarning: Sorting because non-concatenation axis is not aligned. A future version\n",
      "of pandas will change to not sort by default.\n",
      "\n",
      "To accept the future behavior, pass 'sort=False'.\n",
      "\n",
      "To retain the current behavior and silence the warning, pass 'sort=True'.\n",
      "\n",
      "  \"\"\"Entry point for launching an IPython kernel.\n"
     ]
    }
   ],
   "source": [
    "all_parsed = pd.concat([new_files.rename({\"PXD\": \"PXD_accession\", \"RAW\": \"filename\"}, axis=1), failed_files, available_files])[\"PXD_accession filename cell_line tissue_type sub_cell disease treatment all_PSM sign_PSM peptides proteins\".split()].reset_index(drop = True)"
   ]
  },
  {
   "cell_type": "code",
   "execution_count": 25,
   "metadata": {},
   "outputs": [],
   "source": [
    "subset_all_parsed = all_parsed[\"PXD_accession all_PSM sign_PSM peptides proteins\".split()]"
   ]
  },
  {
   "cell_type": "code",
   "execution_count": 26,
   "metadata": {},
   "outputs": [
    {
     "data": {
      "text/html": [
       "<div>\n",
       "<style scoped>\n",
       "    .dataframe tbody tr th:only-of-type {\n",
       "        vertical-align: middle;\n",
       "    }\n",
       "\n",
       "    .dataframe tbody tr th {\n",
       "        vertical-align: top;\n",
       "    }\n",
       "\n",
       "    .dataframe thead th {\n",
       "        text-align: right;\n",
       "    }\n",
       "</style>\n",
       "<table border=\"1\" class=\"dataframe\">\n",
       "  <thead>\n",
       "    <tr style=\"text-align: right;\">\n",
       "      <th></th>\n",
       "      <th>all_PSM</th>\n",
       "      <th>sign_PSM</th>\n",
       "      <th>peptides</th>\n",
       "      <th>proteins</th>\n",
       "    </tr>\n",
       "  </thead>\n",
       "  <tbody>\n",
       "    <tr>\n",
       "      <th>count</th>\n",
       "      <td>5860.000000</td>\n",
       "      <td>5860.000000</td>\n",
       "      <td>5860.000000</td>\n",
       "      <td>5860.000000</td>\n",
       "    </tr>\n",
       "    <tr>\n",
       "      <th>mean</th>\n",
       "      <td>63326.218430</td>\n",
       "      <td>11183.383276</td>\n",
       "      <td>4035.845734</td>\n",
       "      <td>991.300512</td>\n",
       "    </tr>\n",
       "    <tr>\n",
       "      <th>std</th>\n",
       "      <td>84461.058293</td>\n",
       "      <td>14785.970301</td>\n",
       "      <td>5636.969350</td>\n",
       "      <td>905.652620</td>\n",
       "    </tr>\n",
       "    <tr>\n",
       "      <th>min</th>\n",
       "      <td>0.000000</td>\n",
       "      <td>0.000000</td>\n",
       "      <td>0.000000</td>\n",
       "      <td>0.000000</td>\n",
       "    </tr>\n",
       "    <tr>\n",
       "      <th>25%</th>\n",
       "      <td>8314.250000</td>\n",
       "      <td>473.750000</td>\n",
       "      <td>168.000000</td>\n",
       "      <td>46.750000</td>\n",
       "    </tr>\n",
       "    <tr>\n",
       "      <th>50%</th>\n",
       "      <td>40952.500000</td>\n",
       "      <td>7383.500000</td>\n",
       "      <td>2416.500000</td>\n",
       "      <td>975.000000</td>\n",
       "    </tr>\n",
       "    <tr>\n",
       "      <th>75%</th>\n",
       "      <td>74372.500000</td>\n",
       "      <td>13161.250000</td>\n",
       "      <td>4978.250000</td>\n",
       "      <td>1495.000000</td>\n",
       "    </tr>\n",
       "    <tr>\n",
       "      <th>max</th>\n",
       "      <td>580693.000000</td>\n",
       "      <td>106017.000000</td>\n",
       "      <td>50271.000000</td>\n",
       "      <td>5669.000000</td>\n",
       "    </tr>\n",
       "  </tbody>\n",
       "</table>\n",
       "</div>"
      ],
      "text/plain": [
       "             all_PSM       sign_PSM      peptides     proteins\n",
       "count    5860.000000    5860.000000   5860.000000  5860.000000\n",
       "mean    63326.218430   11183.383276   4035.845734   991.300512\n",
       "std     84461.058293   14785.970301   5636.969350   905.652620\n",
       "min         0.000000       0.000000      0.000000     0.000000\n",
       "25%      8314.250000     473.750000    168.000000    46.750000\n",
       "50%     40952.500000    7383.500000   2416.500000   975.000000\n",
       "75%     74372.500000   13161.250000   4978.250000  1495.000000\n",
       "max    580693.000000  106017.000000  50271.000000  5669.000000"
      ]
     },
     "execution_count": 26,
     "metadata": {},
     "output_type": "execute_result"
    }
   ],
   "source": [
    "subset_all_parsed.describe()"
   ]
  },
  {
   "cell_type": "code",
   "execution_count": 68,
   "metadata": {},
   "outputs": [
    {
     "data": {
      "text/plain": [
       "all_PSM     371091640\n",
       "sign_PSM     65534626\n",
       "dtype: int64"
      ]
     },
     "execution_count": 68,
     "metadata": {},
     "output_type": "execute_result"
    }
   ],
   "source": [
    "subset_all_parsed[['all_PSM', 'sign_PSM']].sum(axis=0)"
   ]
  },
  {
   "attachments": {},
   "cell_type": "markdown",
   "metadata": {},
   "source": [
    "There are 371,091,640 spectra in all the files combined, whereof 65,534,626 are significant."
   ]
  },
  {
   "cell_type": "code",
   "execution_count": 50,
   "metadata": {},
   "outputs": [
    {
     "data": {
      "text/plain": [
       "<matplotlib.axes._subplots.AxesSubplot at 0x7f6603074090>"
      ]
     },
     "execution_count": 50,
     "metadata": {},
     "output_type": "execute_result"
    },
    {
     "data": {
      "image/png": "[encoded data removed]",
      "text/plain": [
       "<Figure size 2520x1440 with 4 Axes>"
      ]
     },
     "metadata": {
      "needs_background": "light"
     },
     "output_type": "display_data"
    }
   ],
   "source": [
    "fig, ax = plt.subplots(2,2, figsize = (35,20))\n",
    "\n",
    "for axi in ax.reshape(-1):\n",
    "    axi.set_xticklabels(axi.get_xticks(), rotation = 90)\n",
    "\n",
    "ax[0,0].set_title(\"#PSM\")\n",
    "ax[0,1].set_title(\"Unique peptides identified\")\n",
    "ax[1,0].set_title(\"significant PSMs\")\n",
    "ax[1,1].set_title(\"Unique protein identifications\")\n",
    "\n",
    "\n",
    "sns.barplot(x=subset_all_parsed.PXD_accession, y=subset_all_parsed[\"all_PSM\"].tolist(), ax=ax[0,0])\n",
    "sns.barplot(x=subset_all_parsed.PXD_accession , y=subset_all_parsed[\"peptides\"].tolist(), ax=ax[0,1])\n",
    "sns.barplot(x=subset_all_parsed.PXD_accession , y=subset_all_parsed[\"sign_PSM\"].tolist(), ax=ax[1,0])\n",
    "sns.barplot(x=subset_all_parsed.PXD_accession , y=subset_all_parsed[\"proteins\"].tolist(), ax=ax[1,1])"
   ]
  },
  {
   "cell_type": "code",
   "execution_count": 126,
   "metadata": {},
   "outputs": [
    {
     "name": "stdout",
     "output_type": "stream",
     "text": [
      "1446\n"
     ]
    },
    {
     "data": {
      "text/plain": [
       "PXD005946    732\n",
       "PXD008222    181\n",
       "PXD001668     96\n",
       "PXD004452     64\n",
       "PXD014381     63\n",
       "PXD004940     39\n",
       "PXD003594     32\n",
       "PXD001511     27\n",
       "PXD009185     27\n",
       "PXD009149     21\n",
       "PXD008381     21\n",
       "PXD005507     18\n",
       "PXD002117     18\n",
       "PXD009600     18\n",
       "PXD001974     16\n",
       "PXD004051     16\n",
       "PXD003790     12\n",
       "PXD003596     12\n",
       "PXD002613      8\n",
       "PXD001952      8\n",
       "PXD003587      6\n",
       "PXD006653      4\n",
       "PXD005354      3\n",
       "PXD008693      2\n",
       "PXD003896      1\n",
       "PXD003903      1\n",
       "Name: PXD_accession, dtype: int64"
      ]
     },
     "execution_count": 126,
     "metadata": {},
     "output_type": "execute_result"
    }
   ],
   "source": [
    "print(all_parsed[all_parsed.proteins == 0].shape[0])\n",
    "empty_file_count = all_parsed[all_parsed.proteins == 0][\"PXD_accession\"].value_counts()\n",
    "empty_file_count"
   ]
  },
  {
   "cell_type": "code",
   "execution_count": 127,
   "metadata": {},
   "outputs": [],
   "source": [
    "counting_files = pd.DataFrame(all_parsed.groupby([\"PXD_accession\"])[\"filename\"].count()).reset_index().rename({0: \"PXD_accession\", \"filename\": \"files\"}, axis = 1)\n",
    "counting_files[\"empty\"] = counting_files.PXD_accession.apply(lambda x: empty_file_count[x] if x in empty_file_count.index else 0)\n",
    "counting_files = counting_files.melt(id_vars = \"PXD_accession\", value_vars = [\"files\", \"empty\"], var_name=[\"counts\"])"
   ]
  },
  {
   "cell_type": "code",
   "execution_count": 128,
   "metadata": {},
   "outputs": [
    {
     "data": {
      "text/plain": [
       "<matplotlib.axes._subplots.AxesSubplot at 0x7f6601b0c610>"
      ]
     },
     "execution_count": 128,
     "metadata": {},
     "output_type": "execute_result"
    },
    {
     "data": {
      "image/png": "[encoded data removed]",
      "text/plain": [
       "<Figure size 2160x360 with 2 Axes>"
      ]
     },
     "metadata": {
      "needs_background": "light"
     },
     "output_type": "display_data"
    }
   ],
   "source": [
    "fig, ax = plt.subplots(1,2,figsize=(30,5))\n",
    "for axi in ax.reshape(-1):\n",
    "    axi.set_xticklabels(axi.get_xticks(), rotation = 90)\n",
    "\n",
    "ax[0].set_title(\"Large projects\")\n",
    "ax[1].set_title(\"Smaller projects\")\n",
    "\n",
    "sns.barplot(data = counting_files[counting_files.PXD_accession.isin([\"PXD004452\", \"PXD005354\", \"PXD005946\", \"PXD008222\", \"PXD003903\", \"PXD005940\", \"PXD018450\"])], x=\"PXD_accession\", y=\"value\", hue=\"counts\", ax = ax[0])\n",
    "sns.barplot(data = counting_files[~counting_files.PXD_accession.isin([\"PXD004452\", \"PXD005354\", \"PXD005946\", \"PXD008222\", \"PXD003903\", \"PXD005940\", \"PXD018450\"])], x=\"PXD_accession\", y=\"value\", hue=\"counts\", ax = ax[1])"
   ]
  },
  {
   "cell_type": "code",
   "execution_count": 129,
   "metadata": {},
   "outputs": [],
   "source": [
    "useable_files = all_parsed[ ~(all_parsed.proteins == 0)]"
   ]
  },
  {
   "cell_type": "code",
   "execution_count": 133,
   "metadata": {},
   "outputs": [
    {
     "name": "stdout",
     "output_type": "stream",
     "text": [
      "Total files: 5860\n",
      "Files that are useable: 4414\n",
      "Empty files: 1446\n"
     ]
    }
   ],
   "source": [
    "print(f\"Total files: {all_parsed.shape[0]}\")\n",
    "print(f\"Files that are useable: {useable_files.shape[0]}\")\n",
    "print(f\"Empty files: {all_parsed.shape[0]-useable_files.shape[0]}\")"
   ]
  },
  {
   "cell_type": "code",
   "execution_count": 148,
   "metadata": {},
   "outputs": [
    {
     "data": {
      "text/html": [
       "<div>\n",
       "<style scoped>\n",
       "    .dataframe tbody tr th:only-of-type {\n",
       "        vertical-align: middle;\n",
       "    }\n",
       "\n",
       "    .dataframe tbody tr th {\n",
       "        vertical-align: top;\n",
       "    }\n",
       "\n",
       "    .dataframe thead th {\n",
       "        text-align: right;\n",
       "    }\n",
       "</style>\n",
       "<table border=\"1\" class=\"dataframe\">\n",
       "  <thead>\n",
       "    <tr style=\"text-align: right;\">\n",
       "      <th></th>\n",
       "      <th>PXD_accession</th>\n",
       "      <th>filename</th>\n",
       "      <th>cell_line</th>\n",
       "      <th>tissue_type</th>\n",
       "      <th>sub_cell</th>\n",
       "      <th>disease</th>\n",
       "      <th>treatment</th>\n",
       "      <th>all_PSM</th>\n",
       "      <th>sign_PSM</th>\n",
       "      <th>peptides</th>\n",
       "      <th>proteins</th>\n",
       "    </tr>\n",
       "  </thead>\n",
       "  <tbody>\n",
       "    <tr>\n",
       "      <th>0</th>\n",
       "      <td>PXD018450</td>\n",
       "      <td>01_1</td>\n",
       "      <td>HepG2</td>\n",
       "      <td>liver</td>\n",
       "      <td>/</td>\n",
       "      <td>hepatoblastoma</td>\n",
       "      <td>/</td>\n",
       "      <td>16740</td>\n",
       "      <td>2115</td>\n",
       "      <td>476</td>\n",
       "      <td>55</td>\n",
       "    </tr>\n",
       "    <tr>\n",
       "      <th>1</th>\n",
       "      <td>PXD018450</td>\n",
       "      <td>01_2</td>\n",
       "      <td>HepG2</td>\n",
       "      <td>liver</td>\n",
       "      <td>/</td>\n",
       "      <td>hepatoblastoma</td>\n",
       "      <td>/</td>\n",
       "      <td>17249</td>\n",
       "      <td>2156</td>\n",
       "      <td>475</td>\n",
       "      <td>59</td>\n",
       "    </tr>\n",
       "    <tr>\n",
       "      <th>2</th>\n",
       "      <td>PXD018450</td>\n",
       "      <td>02_1</td>\n",
       "      <td>HepG2</td>\n",
       "      <td>liver</td>\n",
       "      <td>/</td>\n",
       "      <td>hepatoblastoma</td>\n",
       "      <td>/</td>\n",
       "      <td>13676</td>\n",
       "      <td>2026</td>\n",
       "      <td>477</td>\n",
       "      <td>63</td>\n",
       "    </tr>\n",
       "    <tr>\n",
       "      <th>3</th>\n",
       "      <td>PXD018450</td>\n",
       "      <td>02_2</td>\n",
       "      <td>HepG2</td>\n",
       "      <td>liver</td>\n",
       "      <td>/</td>\n",
       "      <td>hepatoblastoma</td>\n",
       "      <td>/</td>\n",
       "      <td>13336</td>\n",
       "      <td>1965</td>\n",
       "      <td>482</td>\n",
       "      <td>68</td>\n",
       "    </tr>\n",
       "    <tr>\n",
       "      <th>4</th>\n",
       "      <td>PXD018450</td>\n",
       "      <td>03_1</td>\n",
       "      <td>HepG2</td>\n",
       "      <td>liver</td>\n",
       "      <td>/</td>\n",
       "      <td>hepatoblastoma</td>\n",
       "      <td>/</td>\n",
       "      <td>25184</td>\n",
       "      <td>3373</td>\n",
       "      <td>956</td>\n",
       "      <td>125</td>\n",
       "    </tr>\n",
       "    <tr>\n",
       "      <th>...</th>\n",
       "      <td>...</td>\n",
       "      <td>...</td>\n",
       "      <td>...</td>\n",
       "      <td>...</td>\n",
       "      <td>...</td>\n",
       "      <td>...</td>\n",
       "      <td>...</td>\n",
       "      <td>...</td>\n",
       "      <td>...</td>\n",
       "      <td>...</td>\n",
       "      <td>...</td>\n",
       "    </tr>\n",
       "    <tr>\n",
       "      <th>5855</th>\n",
       "      <td>PXD005354</td>\n",
       "      <td>01251_F01_P013026_S00_N06_R1</td>\n",
       "      <td>CRC</td>\n",
       "      <td>colon</td>\n",
       "      <td>/</td>\n",
       "      <td>colorectal cancer</td>\n",
       "      <td>/</td>\n",
       "      <td>33933</td>\n",
       "      <td>6647</td>\n",
       "      <td>2151</td>\n",
       "      <td>1086</td>\n",
       "    </tr>\n",
       "    <tr>\n",
       "      <th>5856</th>\n",
       "      <td>PXD005354</td>\n",
       "      <td>01251_F02_P013026_S00_N14_R1</td>\n",
       "      <td>CRC</td>\n",
       "      <td>colon</td>\n",
       "      <td>/</td>\n",
       "      <td>colorectal cancer</td>\n",
       "      <td>/</td>\n",
       "      <td>35306</td>\n",
       "      <td>7113</td>\n",
       "      <td>2252</td>\n",
       "      <td>1042</td>\n",
       "    </tr>\n",
       "    <tr>\n",
       "      <th>5857</th>\n",
       "      <td>PXD005354</td>\n",
       "      <td>01251_F03_P013026_S00_N22_R1</td>\n",
       "      <td>CRC</td>\n",
       "      <td>colon</td>\n",
       "      <td>/</td>\n",
       "      <td>colorectal cancer</td>\n",
       "      <td>/</td>\n",
       "      <td>24763</td>\n",
       "      <td>5204</td>\n",
       "      <td>1629</td>\n",
       "      <td>759</td>\n",
       "    </tr>\n",
       "    <tr>\n",
       "      <th>5858</th>\n",
       "      <td>PXD005354</td>\n",
       "      <td>01251_F04_P013027_S00_N06_R2</td>\n",
       "      <td>CRC</td>\n",
       "      <td>colon</td>\n",
       "      <td>/</td>\n",
       "      <td>colorectal cancer</td>\n",
       "      <td>/</td>\n",
       "      <td>40653</td>\n",
       "      <td>7525</td>\n",
       "      <td>2383</td>\n",
       "      <td>1092</td>\n",
       "    </tr>\n",
       "    <tr>\n",
       "      <th>5859</th>\n",
       "      <td>PXD005354</td>\n",
       "      <td>01251_F05_P013027_S00_N14_R1</td>\n",
       "      <td>CRC</td>\n",
       "      <td>colon</td>\n",
       "      <td>/</td>\n",
       "      <td>colorectal cancer</td>\n",
       "      <td>/</td>\n",
       "      <td>49436</td>\n",
       "      <td>8975</td>\n",
       "      <td>2836</td>\n",
       "      <td>1113</td>\n",
       "    </tr>\n",
       "  </tbody>\n",
       "</table>\n",
       "<p>4414 rows × 11 columns</p>\n",
       "</div>"
      ],
      "text/plain": [
       "     PXD_accession                      filename cell_line tissue_type  \\\n",
       "0        PXD018450                          01_1     HepG2       liver   \n",
       "1        PXD018450                          01_2     HepG2       liver   \n",
       "2        PXD018450                          02_1     HepG2       liver   \n",
       "3        PXD018450                          02_2     HepG2       liver   \n",
       "4        PXD018450                          03_1     HepG2       liver   \n",
       "...            ...                           ...       ...         ...   \n",
       "5855     PXD005354  01251_F01_P013026_S00_N06_R1       CRC       colon   \n",
       "5856     PXD005354  01251_F02_P013026_S00_N14_R1       CRC       colon   \n",
       "5857     PXD005354  01251_F03_P013026_S00_N22_R1       CRC       colon   \n",
       "5858     PXD005354  01251_F04_P013027_S00_N06_R2       CRC       colon   \n",
       "5859     PXD005354  01251_F05_P013027_S00_N14_R1       CRC       colon   \n",
       "\n",
       "     sub_cell            disease treatment  all_PSM  sign_PSM  peptides  \\\n",
       "0           /     hepatoblastoma         /    16740      2115       476   \n",
       "1           /     hepatoblastoma         /    17249      2156       475   \n",
       "2           /     hepatoblastoma         /    13676      2026       477   \n",
       "3           /     hepatoblastoma         /    13336      1965       482   \n",
       "4           /     hepatoblastoma         /    25184      3373       956   \n",
       "...       ...                ...       ...      ...       ...       ...   \n",
       "5855        /  colorectal cancer         /    33933      6647      2151   \n",
       "5856        /  colorectal cancer         /    35306      7113      2252   \n",
       "5857        /  colorectal cancer         /    24763      5204      1629   \n",
       "5858        /  colorectal cancer         /    40653      7525      2383   \n",
       "5859        /  colorectal cancer         /    49436      8975      2836   \n",
       "\n",
       "      proteins  \n",
       "0           55  \n",
       "1           59  \n",
       "2           63  \n",
       "3           68  \n",
       "4          125  \n",
       "...        ...  \n",
       "5855      1086  \n",
       "5856      1042  \n",
       "5857       759  \n",
       "5858      1092  \n",
       "5859      1113  \n",
       "\n",
       "[4414 rows x 11 columns]"
      ]
     },
     "execution_count": 148,
     "metadata": {},
     "output_type": "execute_result"
    }
   ],
   "source": [
    "useable_files"
   ]
  },
  {
   "cell_type": "code",
   "execution_count": 154,
   "metadata": {},
   "outputs": [
    {
     "data": {
      "text/plain": [
       "<matplotlib.axes._subplots.AxesSubplot at 0x7f65ff898b90>"
      ]
     },
     "execution_count": 154,
     "metadata": {},
     "output_type": "execute_result"
    },
    {
     "data": {
      "image/png": "[encoded data removed]",
      "text/plain": [
       "<Figure size 1800x504 with 2 Axes>"
      ]
     },
     "metadata": {
      "needs_background": "light"
     },
     "output_type": "display_data"
    }
   ],
   "source": [
    "fig, ax = plt.subplots(1,2, figsize =(25,7))\n",
    "\n",
    "sns.scatterplot(x=useable_files.proteins, y=useable_files.sign_PSM, hue = useable_files.PXD_accession, legend = False, ax = ax[0])\n",
    "sns.scatterplot(x=useable_files.proteins, y=useable_files.peptides, hue = useable_files.PXD_accession, legend = False, ax = ax[1])"
   ]
  },
  {
   "cell_type": "code",
   "execution_count": 155,
   "metadata": {},
   "outputs": [
    {
     "data": {
      "text/plain": [
       "array(['PXD001352', 'PXD000661'], dtype=object)"
      ]
     },
     "execution_count": 155,
     "metadata": {},
     "output_type": "execute_result"
    }
   ],
   "source": [
    "# There seems to be 2 outlier projects. These identify many protiens with only a few PSMs. \n",
    "# This means a lot of of the spectra match a more diverse set of peptides which in turn indicate many more proteins compared to the other projects.\n",
    "# This could indicate that many of the protein identifications will be based on very few peptide identifications.\n",
    "\n",
    "useable_files[useable_files.proteins > 4500].PXD_accession.unique()"
   ]
  },
  {
   "attachments": {},
   "cell_type": "markdown",
   "metadata": {},
   "source": [
    "---\n",
    "---"
   ]
  },
  {
   "cell_type": "code",
   "execution_count": 3,
   "metadata": {},
   "outputs": [],
   "source": [
    "meta = pd.read_csv(\"../Metadata/unified_metadata.csv\", index_col=\"Unnamed: 0\")"
   ]
  },
  {
   "cell_type": "code",
   "execution_count": 9,
   "metadata": {},
   "outputs": [],
   "source": [
    "pooled_nsaf = pd.read_hdf(\"../Atlas_creation/proteome_nsaf_pooled_3.h5\")\n",
    "pooled_nsaf = pooled_nsaf.pivot(index=\"assay_id\", columns=\"uniprot_id\", values=\"NSAF\")"
   ]
  },
  {
   "cell_type": "code",
   "execution_count": 11,
   "metadata": {},
   "outputs": [
    {
     "data": {
      "text/plain": [
       "(621, 14507)"
      ]
     },
     "execution_count": 11,
     "metadata": {},
     "output_type": "execute_result"
    }
   ],
   "source": [
    "pooled_nsaf.shape"
   ]
  },
  {
   "cell_type": "code",
   "execution_count": 14,
   "metadata": {},
   "outputs": [
    {
     "data": {
      "text/html": [
       "<div>\n",
       "<style scoped>\n",
       "    .dataframe tbody tr th:only-of-type {\n",
       "        vertical-align: middle;\n",
       "    }\n",
       "\n",
       "    .dataframe tbody tr th {\n",
       "        vertical-align: top;\n",
       "    }\n",
       "\n",
       "    .dataframe thead th {\n",
       "        text-align: right;\n",
       "    }\n",
       "</style>\n",
       "<table border=\"1\" class=\"dataframe\">\n",
       "  <thead>\n",
       "    <tr style=\"text-align: right;\">\n",
       "      <th></th>\n",
       "      <th>assay_id</th>\n",
       "      <th>project_id</th>\n",
       "      <th>filename</th>\n",
       "      <th>cell_id</th>\n",
       "      <th>cell_line</th>\n",
       "      <th>disease</th>\n",
       "      <th>treatment</th>\n",
       "      <th>tissue_type</th>\n",
       "      <th>sub_cell</th>\n",
       "      <th>organ_id</th>\n",
       "      <th>PXD_accession</th>\n",
       "      <th>all_PSM</th>\n",
       "      <th>sign_PSM</th>\n",
       "      <th>peptides</th>\n",
       "      <th>proteins</th>\n",
       "      <th>experiment_type</th>\n",
       "      <th>instrument</th>\n",
       "      <th>pmid</th>\n",
       "      <th>pool_id</th>\n",
       "    </tr>\n",
       "  </thead>\n",
       "  <tbody>\n",
       "    <tr>\n",
       "      <th>0</th>\n",
       "      <td>30960</td>\n",
       "      <td>1815</td>\n",
       "      <td>3B10-1</td>\n",
       "      <td>545</td>\n",
       "      <td>Hep3B</td>\n",
       "      <td>hepatocellular carcinoma</td>\n",
       "      <td>/</td>\n",
       "      <td>liver</td>\n",
       "      <td>/</td>\n",
       "      <td>NaN</td>\n",
       "      <td>PXD000533</td>\n",
       "      <td>11014</td>\n",
       "      <td>10578</td>\n",
       "      <td>9705</td>\n",
       "      <td>2401</td>\n",
       "      <td>in-solution</td>\n",
       "      <td>Q-exactive</td>\n",
       "      <td>24328083</td>\n",
       "      <td>1</td>\n",
       "    </tr>\n",
       "    <tr>\n",
       "      <th>1</th>\n",
       "      <td>30961</td>\n",
       "      <td>1815</td>\n",
       "      <td>3B10-2</td>\n",
       "      <td>545</td>\n",
       "      <td>Hep3B</td>\n",
       "      <td>hepatocellular carcinoma</td>\n",
       "      <td>/</td>\n",
       "      <td>liver</td>\n",
       "      <td>/</td>\n",
       "      <td>NaN</td>\n",
       "      <td>PXD000533</td>\n",
       "      <td>11530</td>\n",
       "      <td>11036</td>\n",
       "      <td>10104</td>\n",
       "      <td>2449</td>\n",
       "      <td>in-solution</td>\n",
       "      <td>Q-exactive</td>\n",
       "      <td>24328083</td>\n",
       "      <td>2</td>\n",
       "    </tr>\n",
       "    <tr>\n",
       "      <th>2</th>\n",
       "      <td>30962</td>\n",
       "      <td>1815</td>\n",
       "      <td>3B1-1</td>\n",
       "      <td>545</td>\n",
       "      <td>Hep3B</td>\n",
       "      <td>hepatocellular carcinoma</td>\n",
       "      <td>/</td>\n",
       "      <td>liver</td>\n",
       "      <td>/</td>\n",
       "      <td>NaN</td>\n",
       "      <td>PXD000533</td>\n",
       "      <td>11558</td>\n",
       "      <td>10874</td>\n",
       "      <td>9947</td>\n",
       "      <td>2620</td>\n",
       "      <td>in-solution</td>\n",
       "      <td>Q-exactive</td>\n",
       "      <td>24328083</td>\n",
       "      <td>1</td>\n",
       "    </tr>\n",
       "    <tr>\n",
       "      <th>3</th>\n",
       "      <td>30963</td>\n",
       "      <td>1815</td>\n",
       "      <td>3B11-1</td>\n",
       "      <td>545</td>\n",
       "      <td>Hep3B</td>\n",
       "      <td>hepatocellular carcinoma</td>\n",
       "      <td>/</td>\n",
       "      <td>liver</td>\n",
       "      <td>/</td>\n",
       "      <td>NaN</td>\n",
       "      <td>PXD000533</td>\n",
       "      <td>11821</td>\n",
       "      <td>11205</td>\n",
       "      <td>9940</td>\n",
       "      <td>2542</td>\n",
       "      <td>in-solution</td>\n",
       "      <td>Q-exactive</td>\n",
       "      <td>24328083</td>\n",
       "      <td>1</td>\n",
       "    </tr>\n",
       "    <tr>\n",
       "      <th>4</th>\n",
       "      <td>30964</td>\n",
       "      <td>1815</td>\n",
       "      <td>3B11-2</td>\n",
       "      <td>545</td>\n",
       "      <td>Hep3B</td>\n",
       "      <td>hepatocellular carcinoma</td>\n",
       "      <td>/</td>\n",
       "      <td>liver</td>\n",
       "      <td>/</td>\n",
       "      <td>NaN</td>\n",
       "      <td>PXD000533</td>\n",
       "      <td>11704</td>\n",
       "      <td>11014</td>\n",
       "      <td>9757</td>\n",
       "      <td>2449</td>\n",
       "      <td>in-solution</td>\n",
       "      <td>Q-exactive</td>\n",
       "      <td>24328083</td>\n",
       "      <td>2</td>\n",
       "    </tr>\n",
       "    <tr>\n",
       "      <th>...</th>\n",
       "      <td>...</td>\n",
       "      <td>...</td>\n",
       "      <td>...</td>\n",
       "      <td>...</td>\n",
       "      <td>...</td>\n",
       "      <td>...</td>\n",
       "      <td>...</td>\n",
       "      <td>...</td>\n",
       "      <td>...</td>\n",
       "      <td>...</td>\n",
       "      <td>...</td>\n",
       "      <td>...</td>\n",
       "      <td>...</td>\n",
       "      <td>...</td>\n",
       "      <td>...</td>\n",
       "      <td>...</td>\n",
       "      <td>...</td>\n",
       "      <td>...</td>\n",
       "      <td>...</td>\n",
       "    </tr>\n",
       "    <tr>\n",
       "      <th>4317</th>\n",
       "      <td>36435</td>\n",
       "      <td>1872</td>\n",
       "      <td>01481_G02_P015041_S00_N15_R1</td>\n",
       "      <td>636</td>\n",
       "      <td>CRC</td>\n",
       "      <td>colorectal cancer</td>\n",
       "      <td>/</td>\n",
       "      <td>colon</td>\n",
       "      <td>/</td>\n",
       "      <td>NaN</td>\n",
       "      <td>PXD005354</td>\n",
       "      <td>42831</td>\n",
       "      <td>8512</td>\n",
       "      <td>2790</td>\n",
       "      <td>1239</td>\n",
       "      <td>in-solution</td>\n",
       "      <td>LTQ Orbitrap Velos</td>\n",
       "      <td>29101300</td>\n",
       "      <td>65</td>\n",
       "    </tr>\n",
       "    <tr>\n",
       "      <th>4318</th>\n",
       "      <td>36436</td>\n",
       "      <td>1872</td>\n",
       "      <td>01481_G03_P015041_S00_N23_R1</td>\n",
       "      <td>636</td>\n",
       "      <td>CRC</td>\n",
       "      <td>colorectal cancer</td>\n",
       "      <td>/</td>\n",
       "      <td>colon</td>\n",
       "      <td>/</td>\n",
       "      <td>NaN</td>\n",
       "      <td>PXD005354</td>\n",
       "      <td>23567</td>\n",
       "      <td>4960</td>\n",
       "      <td>1663</td>\n",
       "      <td>663</td>\n",
       "      <td>in-solution</td>\n",
       "      <td>LTQ Orbitrap Velos</td>\n",
       "      <td>29101300</td>\n",
       "      <td>65</td>\n",
       "    </tr>\n",
       "    <tr>\n",
       "      <th>4319</th>\n",
       "      <td>36437</td>\n",
       "      <td>1872</td>\n",
       "      <td>01481_H01_P015041_S00_N08_R1</td>\n",
       "      <td>636</td>\n",
       "      <td>CRC</td>\n",
       "      <td>colorectal cancer</td>\n",
       "      <td>/</td>\n",
       "      <td>colon</td>\n",
       "      <td>/</td>\n",
       "      <td>NaN</td>\n",
       "      <td>PXD005354</td>\n",
       "      <td>52524</td>\n",
       "      <td>9375</td>\n",
       "      <td>2980</td>\n",
       "      <td>1296</td>\n",
       "      <td>in-solution</td>\n",
       "      <td>LTQ Orbitrap Velos</td>\n",
       "      <td>29101300</td>\n",
       "      <td>65</td>\n",
       "    </tr>\n",
       "    <tr>\n",
       "      <th>4320</th>\n",
       "      <td>36438</td>\n",
       "      <td>1872</td>\n",
       "      <td>01481_H02_P015041_S00_N16_R1</td>\n",
       "      <td>636</td>\n",
       "      <td>CRC</td>\n",
       "      <td>colorectal cancer</td>\n",
       "      <td>/</td>\n",
       "      <td>colon</td>\n",
       "      <td>/</td>\n",
       "      <td>NaN</td>\n",
       "      <td>PXD005354</td>\n",
       "      <td>40851</td>\n",
       "      <td>8223</td>\n",
       "      <td>2626</td>\n",
       "      <td>1135</td>\n",
       "      <td>in-solution</td>\n",
       "      <td>LTQ Orbitrap Velos</td>\n",
       "      <td>29101300</td>\n",
       "      <td>65</td>\n",
       "    </tr>\n",
       "    <tr>\n",
       "      <th>4321</th>\n",
       "      <td>36439</td>\n",
       "      <td>1872</td>\n",
       "      <td>01481_H03_P015041_S00_N24_R1</td>\n",
       "      <td>636</td>\n",
       "      <td>CRC</td>\n",
       "      <td>colorectal cancer</td>\n",
       "      <td>/</td>\n",
       "      <td>colon</td>\n",
       "      <td>/</td>\n",
       "      <td>NaN</td>\n",
       "      <td>PXD005354</td>\n",
       "      <td>18078</td>\n",
       "      <td>3788</td>\n",
       "      <td>1116</td>\n",
       "      <td>435</td>\n",
       "      <td>in-solution</td>\n",
       "      <td>LTQ Orbitrap Velos</td>\n",
       "      <td>29101300</td>\n",
       "      <td>65</td>\n",
       "    </tr>\n",
       "  </tbody>\n",
       "</table>\n",
       "<p>4322 rows × 19 columns</p>\n",
       "</div>"
      ],
      "text/plain": [
       "      assay_id  project_id                      filename  cell_id cell_line  \\\n",
       "0        30960        1815                        3B10-1      545     Hep3B   \n",
       "1        30961        1815                        3B10-2      545     Hep3B   \n",
       "2        30962        1815                         3B1-1      545     Hep3B   \n",
       "3        30963        1815                        3B11-1      545     Hep3B   \n",
       "4        30964        1815                        3B11-2      545     Hep3B   \n",
       "...        ...         ...                           ...      ...       ...   \n",
       "4317     36435        1872  01481_G02_P015041_S00_N15_R1      636       CRC   \n",
       "4318     36436        1872  01481_G03_P015041_S00_N23_R1      636       CRC   \n",
       "4319     36437        1872  01481_H01_P015041_S00_N08_R1      636       CRC   \n",
       "4320     36438        1872  01481_H02_P015041_S00_N16_R1      636       CRC   \n",
       "4321     36439        1872  01481_H03_P015041_S00_N24_R1      636       CRC   \n",
       "\n",
       "                       disease treatment tissue_type sub_cell  organ_id  \\\n",
       "0     hepatocellular carcinoma         /       liver        /       NaN   \n",
       "1     hepatocellular carcinoma         /       liver        /       NaN   \n",
       "2     hepatocellular carcinoma         /       liver        /       NaN   \n",
       "3     hepatocellular carcinoma         /       liver        /       NaN   \n",
       "4     hepatocellular carcinoma         /       liver        /       NaN   \n",
       "...                        ...       ...         ...      ...       ...   \n",
       "4317         colorectal cancer         /       colon        /       NaN   \n",
       "4318         colorectal cancer         /       colon        /       NaN   \n",
       "4319         colorectal cancer         /       colon        /       NaN   \n",
       "4320         colorectal cancer         /       colon        /       NaN   \n",
       "4321         colorectal cancer         /       colon        /       NaN   \n",
       "\n",
       "     PXD_accession  all_PSM  sign_PSM  peptides  proteins experiment_type  \\\n",
       "0        PXD000533    11014     10578      9705      2401     in-solution   \n",
       "1        PXD000533    11530     11036     10104      2449     in-solution   \n",
       "2        PXD000533    11558     10874      9947      2620     in-solution   \n",
       "3        PXD000533    11821     11205      9940      2542     in-solution   \n",
       "4        PXD000533    11704     11014      9757      2449     in-solution   \n",
       "...            ...      ...       ...       ...       ...             ...   \n",
       "4317     PXD005354    42831      8512      2790      1239     in-solution   \n",
       "4318     PXD005354    23567      4960      1663       663     in-solution   \n",
       "4319     PXD005354    52524      9375      2980      1296     in-solution   \n",
       "4320     PXD005354    40851      8223      2626      1135     in-solution   \n",
       "4321     PXD005354    18078      3788      1116       435     in-solution   \n",
       "\n",
       "              instrument      pmid  pool_id  \n",
       "0             Q-exactive  24328083        1  \n",
       "1             Q-exactive  24328083        2  \n",
       "2             Q-exactive  24328083        1  \n",
       "3             Q-exactive  24328083        1  \n",
       "4             Q-exactive  24328083        2  \n",
       "...                  ...       ...      ...  \n",
       "4317  LTQ Orbitrap Velos  29101300       65  \n",
       "4318  LTQ Orbitrap Velos  29101300       65  \n",
       "4319  LTQ Orbitrap Velos  29101300       65  \n",
       "4320  LTQ Orbitrap Velos  29101300       65  \n",
       "4321  LTQ Orbitrap Velos  29101300       65  \n",
       "\n",
       "[4322 rows x 19 columns]"
      ]
     },
     "execution_count": 14,
     "metadata": {},
     "output_type": "execute_result"
    }
   ],
   "source": [
    "meta"
   ]
  }
 ],
 "metadata": {
  "kernelspec": {
   "display_name": "ionbot",
   "language": "python",
   "name": "python3"
  },
  "language_info": {
   "codemirror_mode": {
    "name": "ipython",
    "version": 3
   },
   "file_extension": ".py",
   "mimetype": "text/x-python",
   "name": "python",
   "nbconvert_exporter": "python",
   "pygments_lexer": "ipython3",
   "version": "3.7.7"
  },
  "orig_nbformat": 4,
  "vscode": {
   "interpreter": {
    "hash": "db8b8ce622d6c99bf71358dbacc49720c17f6ed359743e9dd314dcdbdb145bdd"
   }
  }
 },
 "nbformat": 4,
 "nbformat_minor": 2
}
