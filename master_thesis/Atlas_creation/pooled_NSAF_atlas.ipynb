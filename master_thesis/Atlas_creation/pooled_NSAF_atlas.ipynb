{
 "cells": [
  {
   "cell_type": "markdown",
   "metadata": {},
   "source": [
    "Many assays contained a small amount of proteins, insufficient to represent a cell line proteome. These are originated from fractionated samples loaded separately on the LC-MS/MS and thus giving unique raw-files for each fraction. These are pooled here after manual annotation of these fractions (shown in *Format_pool.csv*), so every assay represents a full proteome representation of a cell line."
   ]
  },
  {
   "cell_type": "code",
   "execution_count": 1,
   "metadata": {},
   "outputs": [],
   "source": [
    "import pandas as pd\n",
    "import mysql.connector\n",
    "import numpy as np"
   ]
  },
  {
   "cell_type": "code",
   "execution_count": 2,
   "metadata": {},
   "outputs": [
    {
     "name": "stdout",
     "output_type": "stream",
     "text": [
      "connection succesfull\n"
     ]
    }
   ],
   "source": [
    "conn = mysql.connector.connect(user='root', password='password', host='127.0.0.1', port='3306',database='expression_atlas_cells')\n",
    "mycursor = conn.cursor(buffered = True)\n",
    "\n",
    "# check the connection\n",
    "if conn.is_connected():\n",
    "    print(\"connection succesfull\")\n",
    "else:\n",
    "    print(\"no connection\")"
   ]
  },
  {
   "cell_type": "code",
   "execution_count": 3,
   "metadata": {},
   "outputs": [
    {
     "data": {
      "text/html": [
       "<div>\n",
       "<style scoped>\n",
       "    .dataframe tbody tr th:only-of-type {\n",
       "        vertical-align: middle;\n",
       "    }\n",
       "\n",
       "    .dataframe tbody tr th {\n",
       "        vertical-align: top;\n",
       "    }\n",
       "\n",
       "    .dataframe thead th {\n",
       "        text-align: right;\n",
       "    }\n",
       "</style>\n",
       "<table border=\"1\" class=\"dataframe\">\n",
       "  <thead>\n",
       "    <tr style=\"text-align: right;\">\n",
       "      <th></th>\n",
       "      <th>assay_id</th>\n",
       "      <th>peptide_id</th>\n",
       "      <th>quantification</th>\n",
       "    </tr>\n",
       "  </thead>\n",
       "  <tbody>\n",
       "    <tr>\n",
       "      <th>0</th>\n",
       "      <td>31000</td>\n",
       "      <td>110730450</td>\n",
       "      <td>1.0</td>\n",
       "    </tr>\n",
       "    <tr>\n",
       "      <th>1</th>\n",
       "      <td>31002</td>\n",
       "      <td>110730450</td>\n",
       "      <td>3.0</td>\n",
       "    </tr>\n",
       "    <tr>\n",
       "      <th>2</th>\n",
       "      <td>31003</td>\n",
       "      <td>110730450</td>\n",
       "      <td>2.0</td>\n",
       "    </tr>\n",
       "    <tr>\n",
       "      <th>3</th>\n",
       "      <td>31048</td>\n",
       "      <td>110730450</td>\n",
       "      <td>2.0</td>\n",
       "    </tr>\n",
       "    <tr>\n",
       "      <th>4</th>\n",
       "      <td>31049</td>\n",
       "      <td>110730450</td>\n",
       "      <td>2.0</td>\n",
       "    </tr>\n",
       "  </tbody>\n",
       "</table>\n",
       "</div>"
      ],
      "text/plain": [
       "   assay_id  peptide_id  quantification\n",
       "0     31000   110730450             1.0\n",
       "1     31002   110730450             3.0\n",
       "2     31003   110730450             2.0\n",
       "3     31048   110730450             2.0\n",
       "4     31049   110730450             2.0"
      ]
     },
     "execution_count": 3,
     "metadata": {},
     "output_type": "execute_result"
    }
   ],
   "source": [
    "assaysql = \"SELECT assay_id, peptide_id, quantification FROM peptide_to_assay\"\n",
    "assayData = pd.read_sql_query(assaysql, conn)\n",
    "assayData.head()"
   ]
  },
  {
   "cell_type": "markdown",
   "metadata": {},
   "source": [
    "Get all peptide to protein relations"
   ]
  },
  {
   "cell_type": "code",
   "execution_count": 4,
   "metadata": {},
   "outputs": [
    {
     "data": {
      "text/html": [
       "<div>\n",
       "<style scoped>\n",
       "    .dataframe tbody tr th:only-of-type {\n",
       "        vertical-align: middle;\n",
       "    }\n",
       "\n",
       "    .dataframe tbody tr th {\n",
       "        vertical-align: top;\n",
       "    }\n",
       "\n",
       "    .dataframe thead th {\n",
       "        text-align: right;\n",
       "    }\n",
       "</style>\n",
       "<table border=\"1\" class=\"dataframe\">\n",
       "  <thead>\n",
       "    <tr style=\"text-align: right;\">\n",
       "      <th></th>\n",
       "      <th>peptide_id</th>\n",
       "      <th>uniprot_id</th>\n",
       "    </tr>\n",
       "  </thead>\n",
       "  <tbody>\n",
       "    <tr>\n",
       "      <th>0</th>\n",
       "      <td>110745848</td>\n",
       "      <td>A0A024RBG1</td>\n",
       "    </tr>\n",
       "    <tr>\n",
       "      <th>1</th>\n",
       "      <td>112000279</td>\n",
       "      <td>A0A024RBG1</td>\n",
       "    </tr>\n",
       "    <tr>\n",
       "      <th>2</th>\n",
       "      <td>112950201</td>\n",
       "      <td>A0A075B6I1</td>\n",
       "    </tr>\n",
       "    <tr>\n",
       "      <th>3</th>\n",
       "      <td>115802737</td>\n",
       "      <td>A0A075B6R2</td>\n",
       "    </tr>\n",
       "    <tr>\n",
       "      <th>4</th>\n",
       "      <td>113028442</td>\n",
       "      <td>A0A075B6R9</td>\n",
       "    </tr>\n",
       "  </tbody>\n",
       "</table>\n",
       "</div>"
      ],
      "text/plain": [
       "   peptide_id  uniprot_id\n",
       "0   110745848  A0A024RBG1\n",
       "1   112000279  A0A024RBG1\n",
       "2   112950201  A0A075B6I1\n",
       "3   115802737  A0A075B6R2\n",
       "4   113028442  A0A075B6R9"
      ]
     },
     "execution_count": 4,
     "metadata": {},
     "output_type": "execute_result"
    }
   ],
   "source": [
    "pepsql = \"SELECT peptide_to_protein.peptide_id, peptide_to_protein.uniprot_id FROM peptide_to_protein\"\n",
    "pepData = pd.read_sql_query(pepsql, conn)\n",
    "pepData.head()"
   ]
  },
  {
   "cell_type": "markdown",
   "metadata": {},
   "source": [
    "Get sequence length for all proteins in the database"
   ]
  },
  {
   "cell_type": "code",
   "execution_count": 5,
   "metadata": {},
   "outputs": [
    {
     "data": {
      "text/html": [
       "<div>\n",
       "<style scoped>\n",
       "    .dataframe tbody tr th:only-of-type {\n",
       "        vertical-align: middle;\n",
       "    }\n",
       "\n",
       "    .dataframe tbody tr th {\n",
       "        vertical-align: top;\n",
       "    }\n",
       "\n",
       "    .dataframe thead th {\n",
       "        text-align: right;\n",
       "    }\n",
       "</style>\n",
       "<table border=\"1\" class=\"dataframe\">\n",
       "  <thead>\n",
       "    <tr style=\"text-align: right;\">\n",
       "      <th></th>\n",
       "      <th>uniprot_id</th>\n",
       "      <th>length</th>\n",
       "    </tr>\n",
       "  </thead>\n",
       "  <tbody>\n",
       "    <tr>\n",
       "      <th>0</th>\n",
       "      <td>A0A024RBG1</td>\n",
       "      <td>181.0</td>\n",
       "    </tr>\n",
       "    <tr>\n",
       "      <th>1</th>\n",
       "      <td>A0A075B6I1</td>\n",
       "      <td>120.0</td>\n",
       "    </tr>\n",
       "    <tr>\n",
       "      <th>2</th>\n",
       "      <td>A0A075B6R2</td>\n",
       "      <td>117.0</td>\n",
       "    </tr>\n",
       "    <tr>\n",
       "      <th>3</th>\n",
       "      <td>A0A075B6R9</td>\n",
       "      <td>120.0</td>\n",
       "    </tr>\n",
       "    <tr>\n",
       "      <th>4</th>\n",
       "      <td>A0A075B6V5</td>\n",
       "      <td>113.0</td>\n",
       "    </tr>\n",
       "  </tbody>\n",
       "</table>\n",
       "</div>"
      ],
      "text/plain": [
       "   uniprot_id  length\n",
       "0  A0A024RBG1   181.0\n",
       "1  A0A075B6I1   120.0\n",
       "2  A0A075B6R2   117.0\n",
       "3  A0A075B6R9   120.0\n",
       "4  A0A075B6V5   113.0"
      ]
     },
     "execution_count": 5,
     "metadata": {},
     "output_type": "execute_result"
    }
   ],
   "source": [
    "seqsql = \"SELECT uniprot_id, length FROM protein WHERE length IS NOT NULL\"\n",
    "seqData = pd.read_sql_query(seqsql, conn)\n",
    "seqData[\"length\"] = pd.to_numeric(seqData['length'], errors = \"coerce\")\n",
    "seqData.head()"
   ]
  },
  {
   "cell_type": "markdown",
   "metadata": {},
   "source": [
    "Select proteotypic peptides (peptide with 1 peptide to protein relation)"
   ]
  },
  {
   "cell_type": "code",
   "execution_count": 6,
   "metadata": {},
   "outputs": [
    {
     "data": {
      "text/html": [
       "<div>\n",
       "<style scoped>\n",
       "    .dataframe tbody tr th:only-of-type {\n",
       "        vertical-align: middle;\n",
       "    }\n",
       "\n",
       "    .dataframe tbody tr th {\n",
       "        vertical-align: top;\n",
       "    }\n",
       "\n",
       "    .dataframe thead th {\n",
       "        text-align: right;\n",
       "    }\n",
       "</style>\n",
       "<table border=\"1\" class=\"dataframe\">\n",
       "  <thead>\n",
       "    <tr style=\"text-align: right;\">\n",
       "      <th></th>\n",
       "      <th>peptide_id</th>\n",
       "      <th>uniprot_id</th>\n",
       "    </tr>\n",
       "  </thead>\n",
       "  <tbody>\n",
       "    <tr>\n",
       "      <th>0</th>\n",
       "      <td>110745848</td>\n",
       "      <td>A0A024RBG1</td>\n",
       "    </tr>\n",
       "    <tr>\n",
       "      <th>1</th>\n",
       "      <td>112000279</td>\n",
       "      <td>A0A024RBG1</td>\n",
       "    </tr>\n",
       "    <tr>\n",
       "      <th>2</th>\n",
       "      <td>112950201</td>\n",
       "      <td>A0A075B6I1</td>\n",
       "    </tr>\n",
       "    <tr>\n",
       "      <th>3</th>\n",
       "      <td>115802737</td>\n",
       "      <td>A0A075B6R2</td>\n",
       "    </tr>\n",
       "    <tr>\n",
       "      <th>4</th>\n",
       "      <td>113028442</td>\n",
       "      <td>A0A075B6R9</td>\n",
       "    </tr>\n",
       "  </tbody>\n",
       "</table>\n",
       "</div>"
      ],
      "text/plain": [
       "   peptide_id  uniprot_id\n",
       "0   110745848  A0A024RBG1\n",
       "1   112000279  A0A024RBG1\n",
       "2   112950201  A0A075B6I1\n",
       "3   115802737  A0A075B6R2\n",
       "4   113028442  A0A075B6R9"
      ]
     },
     "execution_count": 6,
     "metadata": {},
     "output_type": "execute_result"
    }
   ],
   "source": [
    "#Select proteotypic peptides\n",
    "proteotypicData = pepData.groupby(\"peptide_id\").filter(lambda x: len(x) == 1)\n",
    "proteotypicData.head()"
   ]
  },
  {
   "cell_type": "markdown",
   "metadata": {},
   "source": [
    "Select proteins which have more than 2 proteotypic peptides"
   ]
  },
  {
   "cell_type": "code",
   "execution_count": 7,
   "metadata": {},
   "outputs": [
    {
     "data": {
      "text/plain": [
       "(160681, 2)"
      ]
     },
     "execution_count": 7,
     "metadata": {},
     "output_type": "execute_result"
    }
   ],
   "source": [
    "#only select proteins with at least 2 proteotypic peptides\n",
    "proteins = proteotypicData.groupby(\"uniprot_id\").filter(lambda x: len(x) > 2)\n",
    "proteins.shape"
   ]
  },
  {
   "cell_type": "markdown",
   "metadata": {},
   "source": [
    "drop non human proteins"
   ]
  },
  {
   "cell_type": "code",
   "execution_count": 8,
   "metadata": {},
   "outputs": [],
   "source": [
    "non_human_proteins = non_human = \"\"\"ADH1_YEAST,,,\n",
    "ALBU_BOVIN,,,\n",
    "ALDOA_RABIT,,,\n",
    "BGAL_ECOLI,,,\n",
    "CAH2_BOVIN,,,\n",
    "CAS1_BOVIN,,,\n",
    "CAS2_BOVIN,,,\n",
    "CASB_BOVIN,,,\n",
    "CASK_BOVIN,,,\n",
    "CYC_HORSE,,,\n",
    "DHE3_BOVIN,,,\n",
    "GAG_SCVLA,,,\n",
    "GFP_AEQVI,,,\n",
    "K1C15_SHEEP,,,\n",
    "K1M1_SHEEP,,,\n",
    "K1M2_SHEEP,,,\n",
    "K2M1_SHEEP,,,\n",
    "K2M2_SHEEP,,,\n",
    "K2M3_SHEEP,,,\n",
    "KRA3_SHEEP,,,\n",
    "KRA61_SHEEP,,,\n",
    "LALBA_BOVIN,,,\n",
    "LYSC_CHICK,,,\n",
    "LYSC_LYSEN,,,\n",
    "MYG_HORSE,,,\n",
    "REF_HEVBR,,,\n",
    "SRPP_HEVBR,,,\n",
    "TRY1_BOVIN,,,\n",
    "TRYP_PIG\"\"\".split(\",,,\\n\")\n",
    "proteins = proteins[~proteins[\"uniprot_id\"].isin(non_human_proteins)]"
   ]
  },
  {
   "cell_type": "markdown",
   "metadata": {},
   "source": [
    "Merge assays containing spectral counts and proteins"
   ]
  },
  {
   "cell_type": "code",
   "execution_count": 9,
   "metadata": {},
   "outputs": [
    {
     "data": {
      "text/html": [
       "<div>\n",
       "<style scoped>\n",
       "    .dataframe tbody tr th:only-of-type {\n",
       "        vertical-align: middle;\n",
       "    }\n",
       "\n",
       "    .dataframe tbody tr th {\n",
       "        vertical-align: top;\n",
       "    }\n",
       "\n",
       "    .dataframe thead th {\n",
       "        text-align: right;\n",
       "    }\n",
       "</style>\n",
       "<table border=\"1\" class=\"dataframe\">\n",
       "  <thead>\n",
       "    <tr style=\"text-align: right;\">\n",
       "      <th></th>\n",
       "      <th>assay_id</th>\n",
       "      <th>quantification</th>\n",
       "      <th>uniprot_id</th>\n",
       "    </tr>\n",
       "  </thead>\n",
       "  <tbody>\n",
       "    <tr>\n",
       "      <th>797770</th>\n",
       "      <td>30960</td>\n",
       "      <td>1.0</td>\n",
       "      <td>A0A1B0GUS4</td>\n",
       "    </tr>\n",
       "    <tr>\n",
       "      <th>813680</th>\n",
       "      <td>30960</td>\n",
       "      <td>2.0</td>\n",
       "      <td>A0AVT1</td>\n",
       "    </tr>\n",
       "    <tr>\n",
       "      <th>1651976</th>\n",
       "      <td>30960</td>\n",
       "      <td>3.0</td>\n",
       "      <td>A0AVT1</td>\n",
       "    </tr>\n",
       "    <tr>\n",
       "      <th>1681511</th>\n",
       "      <td>30960</td>\n",
       "      <td>2.0</td>\n",
       "      <td>A0MZ66</td>\n",
       "    </tr>\n",
       "    <tr>\n",
       "      <th>1890952</th>\n",
       "      <td>30960</td>\n",
       "      <td>1.0</td>\n",
       "      <td>A1L170</td>\n",
       "    </tr>\n",
       "    <tr>\n",
       "      <th>1665418</th>\n",
       "      <td>30960</td>\n",
       "      <td>2.0</td>\n",
       "      <td>A2RRP1</td>\n",
       "    </tr>\n",
       "    <tr>\n",
       "      <th>1889165</th>\n",
       "      <td>30960</td>\n",
       "      <td>1.0</td>\n",
       "      <td>A2RUC4</td>\n",
       "    </tr>\n",
       "    <tr>\n",
       "      <th>1889242</th>\n",
       "      <td>30960</td>\n",
       "      <td>1.0</td>\n",
       "      <td>A3KMH1</td>\n",
       "    </tr>\n",
       "    <tr>\n",
       "      <th>1667244</th>\n",
       "      <td>30960</td>\n",
       "      <td>2.0</td>\n",
       "      <td>A4D1E9</td>\n",
       "    </tr>\n",
       "    <tr>\n",
       "      <th>1841187</th>\n",
       "      <td>30960</td>\n",
       "      <td>3.0</td>\n",
       "      <td>A6NCS6</td>\n",
       "    </tr>\n",
       "  </tbody>\n",
       "</table>\n",
       "</div>"
      ],
      "text/plain": [
       "         assay_id  quantification  uniprot_id\n",
       "797770      30960             1.0  A0A1B0GUS4\n",
       "813680      30960             2.0      A0AVT1\n",
       "1651976     30960             3.0      A0AVT1\n",
       "1681511     30960             2.0      A0MZ66\n",
       "1890952     30960             1.0      A1L170\n",
       "1665418     30960             2.0      A2RRP1\n",
       "1889165     30960             1.0      A2RUC4\n",
       "1889242     30960             1.0      A3KMH1\n",
       "1667244     30960             2.0      A4D1E9\n",
       "1841187     30960             3.0      A6NCS6"
      ]
     },
     "execution_count": 9,
     "metadata": {},
     "output_type": "execute_result"
    }
   ],
   "source": [
    "#Merge assay table with spectral counts and table with proteins\n",
    "protData = pd.merge(assayData, proteins, on = \"peptide_id\").sort_values([\"assay_id\", \"uniprot_id\"])\n",
    "del protData['peptide_id']\n",
    "protData.head(10)"
   ]
  },
  {
   "cell_type": "markdown",
   "metadata": {},
   "source": [
    "Now add the manually curated excel file with following characteristics:<br>\n",
    "- contains assay_id, PXD_accession and new label, \"pool_id\".\n",
    "    - 0 = no pooling needed\n",
    "    - no_annotation = drop it\n",
    "    - x = unique integer within a project which represents the pool."
   ]
  },
  {
   "cell_type": "code",
   "execution_count": null,
   "metadata": {},
   "outputs": [],
   "source": [
    "#Create excel file\n",
    "query = \"SELECT assay_id, project_id, filename\""
   ]
  },
  {
   "cell_type": "code",
   "execution_count": 10,
   "metadata": {},
   "outputs": [
    {
     "data": {
      "text/html": [
       "<div>\n",
       "<style scoped>\n",
       "    .dataframe tbody tr th:only-of-type {\n",
       "        vertical-align: middle;\n",
       "    }\n",
       "\n",
       "    .dataframe tbody tr th {\n",
       "        vertical-align: top;\n",
       "    }\n",
       "\n",
       "    .dataframe thead th {\n",
       "        text-align: right;\n",
       "    }\n",
       "</style>\n",
       "<table border=\"1\" class=\"dataframe\">\n",
       "  <thead>\n",
       "    <tr style=\"text-align: right;\">\n",
       "      <th></th>\n",
       "      <th>assay_id</th>\n",
       "      <th>PXD_accession</th>\n",
       "      <th>pool_id</th>\n",
       "    </tr>\n",
       "  </thead>\n",
       "  <tbody>\n",
       "    <tr>\n",
       "      <th>0</th>\n",
       "      <td>30960</td>\n",
       "      <td>PXD000533</td>\n",
       "      <td>1</td>\n",
       "    </tr>\n",
       "    <tr>\n",
       "      <th>1</th>\n",
       "      <td>30961</td>\n",
       "      <td>PXD000533</td>\n",
       "      <td>2</td>\n",
       "    </tr>\n",
       "    <tr>\n",
       "      <th>2</th>\n",
       "      <td>30962</td>\n",
       "      <td>PXD000533</td>\n",
       "      <td>1</td>\n",
       "    </tr>\n",
       "    <tr>\n",
       "      <th>3</th>\n",
       "      <td>30963</td>\n",
       "      <td>PXD000533</td>\n",
       "      <td>1</td>\n",
       "    </tr>\n",
       "    <tr>\n",
       "      <th>4</th>\n",
       "      <td>30964</td>\n",
       "      <td>PXD000533</td>\n",
       "      <td>2</td>\n",
       "    </tr>\n",
       "    <tr>\n",
       "      <th>...</th>\n",
       "      <td>...</td>\n",
       "      <td>...</td>\n",
       "      <td>...</td>\n",
       "    </tr>\n",
       "    <tr>\n",
       "      <th>812</th>\n",
       "      <td>32907</td>\n",
       "      <td>PXD017391</td>\n",
       "      <td>0</td>\n",
       "    </tr>\n",
       "    <tr>\n",
       "      <th>813</th>\n",
       "      <td>32908</td>\n",
       "      <td>PXD017391</td>\n",
       "      <td>0</td>\n",
       "    </tr>\n",
       "    <tr>\n",
       "      <th>814</th>\n",
       "      <td>32909</td>\n",
       "      <td>PXD017391</td>\n",
       "      <td>0</td>\n",
       "    </tr>\n",
       "    <tr>\n",
       "      <th>815</th>\n",
       "      <td>32910</td>\n",
       "      <td>PXD017391</td>\n",
       "      <td>0</td>\n",
       "    </tr>\n",
       "    <tr>\n",
       "      <th>816</th>\n",
       "      <td>32911</td>\n",
       "      <td>PXD016742</td>\n",
       "      <td>0</td>\n",
       "    </tr>\n",
       "  </tbody>\n",
       "</table>\n",
       "<p>817 rows × 3 columns</p>\n",
       "</div>"
      ],
      "text/plain": [
       "     assay_id PXD_accession  pool_id\n",
       "0       30960     PXD000533        1\n",
       "1       30961     PXD000533        2\n",
       "2       30962     PXD000533        1\n",
       "3       30963     PXD000533        1\n",
       "4       30964     PXD000533        2\n",
       "..        ...           ...      ...\n",
       "812     32907     PXD017391        0\n",
       "813     32908     PXD017391        0\n",
       "814     32909     PXD017391        0\n",
       "815     32910     PXD017391        0\n",
       "816     32911     PXD016742        0\n",
       "\n",
       "[817 rows x 3 columns]"
      ]
     },
     "execution_count": 10,
     "metadata": {},
     "output_type": "execute_result"
    }
   ],
   "source": [
    "pool_formatting = pd.read_csv(\"Format_pool.csv\", sep = \";\")\n",
    "pool_formatting = pool_formatting.loc[:,[\"assay_id\", \"PXD_accession\", \"pool_id\"]]\n",
    "pool_formatting = pool_formatting[~(pool_formatting.pool_id == \"no_annotation\")]\n",
    "pool_formatting.pool_id = pool_formatting.pool_id.astype(int)\n",
    "pool_formatting.reset_index(drop = True, inplace = True)\n",
    "pool_formatting"
   ]
  },
  {
   "cell_type": "markdown",
   "metadata": {},
   "source": [
    "Select files which need no pooling"
   ]
  },
  {
   "cell_type": "code",
   "execution_count": 11,
   "metadata": {},
   "outputs": [],
   "source": [
    "no_pool = pool_formatting[pool_formatting.pool_id == 0].assay_id.tolist()"
   ]
  },
  {
   "cell_type": "markdown",
   "metadata": {},
   "source": [
    "Group the files that need pooling for each project"
   ]
  },
  {
   "cell_type": "code",
   "execution_count": 12,
   "metadata": {},
   "outputs": [],
   "source": [
    "#list in list of pools\n",
    "pools = pool_formatting[~pool_formatting.assay_id.isin(no_pool)].groupby([\"PXD_accession\", \"pool_id\"]).apply(lambda x: list(x.assay_id)).tolist()"
   ]
  },
  {
   "cell_type": "markdown",
   "metadata": {},
   "source": [
    "Split data per assay or group of assays"
   ]
  },
  {
   "cell_type": "code",
   "execution_count": 13,
   "metadata": {},
   "outputs": [],
   "source": [
    "DataFrameDict_no_pool = {elem: pd.DataFrame for elem in no_pool}\n",
    "for key in DataFrameDict_no_pool.keys():\n",
    "    DataFrameDict_no_pool[key] = protData[:][protData[\"assay_id\"] == key]"
   ]
  },
  {
   "cell_type": "code",
   "execution_count": 14,
   "metadata": {},
   "outputs": [],
   "source": [
    "DataFrameDict_pooled = {pool[0]: pd.DataFrame for pool in pools}\n",
    "for pool in pools:\n",
    "    DataFrameDict_pooled[pool[0]] = protData[:][protData.assay_id.isin(pool)]"
   ]
  },
  {
   "cell_type": "code",
   "execution_count": 15,
   "metadata": {},
   "outputs": [
    {
     "name": "stdout",
     "output_type": "stream",
     "text": [
      "No pool assays: 272\n",
      "Pooled assays: 46\n",
      "Concatened length: 318\n"
     ]
    }
   ],
   "source": [
    "print(f\"No pool assays: {len(DataFrameDict_no_pool)}\\nPooled assays: {len(DataFrameDict_pooled)}\")\n",
    "DataFrameDict_no_pool.update(DataFrameDict_pooled)\n",
    "print(f\"Concatened length: {len(DataFrameDict_no_pool)}\")"
   ]
  },
  {
   "cell_type": "code",
   "execution_count": 16,
   "metadata": {},
   "outputs": [],
   "source": [
    "DataFramaDict2 = DataFrameDict_no_pool.copy()"
   ]
  },
  {
   "cell_type": "markdown",
   "metadata": {},
   "source": [
    "Calculate NSAF for each protein"
   ]
  },
  {
   "cell_type": "code",
   "execution_count": 17,
   "metadata": {},
   "outputs": [],
   "source": [
    "for count, key in enumerate(DataFramaDict2.keys()):\n",
    "    sumSaf = 0\n",
    "    assay = DataFramaDict2[key]\n",
    "    assay.pop(\"assay_id\")\n",
    "\n",
    "    #calculate sum of spectral counts for each protein\n",
    "    grouped = DataFramaDict2[key].groupby(\"uniprot_id\").sum().reset_index()\n",
    "    seqAddedDF = pd.merge(grouped, seqData, on = \"uniprot_id\")\n",
    "    seqAddedDF.insert(loc = 2, column = 'SAF', value = 0)\n",
    "    seqAddedDF.insert(loc = 3, column = 'NSAF', value = 0)\n",
    "    \n",
    "    #Calculate SAF score for each protein by dividing sum of spectral counts by protein length\n",
    "    for index, row in seqAddedDF.iterrows():\n",
    "        saf = row['quantification']/row['length']\n",
    "        seqAddedDF.loc[index, 'SAF'] = saf\n",
    "        # calculate sum of SAF scores in assay\n",
    "        sumSaf += saf\n",
    "\n",
    "    # Calculate NSAF score by normalizing each SAF score\n",
    "    seqAddedDF[\"NSAF\"] = seqAddedDF[\"SAF\"] / sumSaf\n",
    "    \n",
    "    del seqAddedDF['length']\n",
    "    del seqAddedDF['quantification']\n",
    "    del seqAddedDF['SAF']\n",
    "    seqAddedDF.insert(loc = 0, column = 'assay_id', value = key)\n",
    "    DataFramaDict2[key] = seqAddedDF"
   ]
  },
  {
   "cell_type": "code",
   "execution_count": 18,
   "metadata": {},
   "outputs": [
    {
     "data": {
      "text/plain": [
       "318"
      ]
     },
     "execution_count": 18,
     "metadata": {},
     "output_type": "execute_result"
    }
   ],
   "source": [
    "proteinData = pd.DataFrame()\n",
    "\n",
    "for key in DataFramaDict2.keys():\n",
    "    proteinData = proteinData.append(DataFramaDict2[key])\n",
    "\n",
    "len(proteinData.assay_id.unique())"
   ]
  },
  {
   "cell_type": "code",
   "execution_count": 19,
   "metadata": {},
   "outputs": [
    {
     "data": {
      "text/html": [
       "<div>\n",
       "<style scoped>\n",
       "    .dataframe tbody tr th:only-of-type {\n",
       "        vertical-align: middle;\n",
       "    }\n",
       "\n",
       "    .dataframe tbody tr th {\n",
       "        vertical-align: top;\n",
       "    }\n",
       "\n",
       "    .dataframe thead th {\n",
       "        text-align: right;\n",
       "    }\n",
       "</style>\n",
       "<table border=\"1\" class=\"dataframe\">\n",
       "  <thead>\n",
       "    <tr style=\"text-align: right;\">\n",
       "      <th></th>\n",
       "      <th>assay_id</th>\n",
       "      <th>uniprot_id</th>\n",
       "      <th>NSAF</th>\n",
       "    </tr>\n",
       "  </thead>\n",
       "  <tbody>\n",
       "    <tr>\n",
       "      <th>0</th>\n",
       "      <td>31098</td>\n",
       "      <td>A0AVT1</td>\n",
       "      <td>0.000493</td>\n",
       "    </tr>\n",
       "    <tr>\n",
       "      <th>1</th>\n",
       "      <td>31098</td>\n",
       "      <td>A1L020</td>\n",
       "      <td>0.000664</td>\n",
       "    </tr>\n",
       "    <tr>\n",
       "      <th>2</th>\n",
       "      <td>31098</td>\n",
       "      <td>A5YKK6</td>\n",
       "      <td>0.000097</td>\n",
       "    </tr>\n",
       "    <tr>\n",
       "      <th>3</th>\n",
       "      <td>31098</td>\n",
       "      <td>A6NGN9</td>\n",
       "      <td>0.000171</td>\n",
       "    </tr>\n",
       "    <tr>\n",
       "      <th>4</th>\n",
       "      <td>31098</td>\n",
       "      <td>O00264</td>\n",
       "      <td>0.001772</td>\n",
       "    </tr>\n",
       "  </tbody>\n",
       "</table>\n",
       "</div>"
      ],
      "text/plain": [
       "   assay_id uniprot_id      NSAF\n",
       "0     31098     A0AVT1  0.000493\n",
       "1     31098     A1L020  0.000664\n",
       "2     31098     A5YKK6  0.000097\n",
       "3     31098     A6NGN9  0.000171\n",
       "4     31098     O00264  0.001772"
      ]
     },
     "execution_count": 19,
     "metadata": {},
     "output_type": "execute_result"
    }
   ],
   "source": [
    "proteinData.head()"
   ]
  },
  {
   "cell_type": "code",
   "execution_count": 20,
   "metadata": {},
   "outputs": [
    {
     "data": {
      "text/html": [
       "<div>\n",
       "<style scoped>\n",
       "    .dataframe tbody tr th:only-of-type {\n",
       "        vertical-align: middle;\n",
       "    }\n",
       "\n",
       "    .dataframe tbody tr th {\n",
       "        vertical-align: top;\n",
       "    }\n",
       "\n",
       "    .dataframe thead th {\n",
       "        text-align: right;\n",
       "    }\n",
       "</style>\n",
       "<table border=\"1\" class=\"dataframe\">\n",
       "  <thead>\n",
       "    <tr style=\"text-align: right;\">\n",
       "      <th></th>\n",
       "      <th>assay_id</th>\n",
       "      <th>uniprot_id</th>\n",
       "      <th>NSAF</th>\n",
       "    </tr>\n",
       "  </thead>\n",
       "  <tbody>\n",
       "    <tr>\n",
       "      <th>0</th>\n",
       "      <td>31098</td>\n",
       "      <td>A0AVT1</td>\n",
       "      <td>0.000493</td>\n",
       "    </tr>\n",
       "    <tr>\n",
       "      <th>1</th>\n",
       "      <td>31098</td>\n",
       "      <td>A1L020</td>\n",
       "      <td>0.000664</td>\n",
       "    </tr>\n",
       "    <tr>\n",
       "      <th>2</th>\n",
       "      <td>31098</td>\n",
       "      <td>A5YKK6</td>\n",
       "      <td>0.000097</td>\n",
       "    </tr>\n",
       "    <tr>\n",
       "      <th>3</th>\n",
       "      <td>31098</td>\n",
       "      <td>A6NGN9</td>\n",
       "      <td>0.000171</td>\n",
       "    </tr>\n",
       "    <tr>\n",
       "      <th>4</th>\n",
       "      <td>31098</td>\n",
       "      <td>O00264</td>\n",
       "      <td>0.001772</td>\n",
       "    </tr>\n",
       "  </tbody>\n",
       "</table>\n",
       "</div>"
      ],
      "text/plain": [
       "   assay_id uniprot_id      NSAF\n",
       "0     31098     A0AVT1  0.000493\n",
       "1     31098     A1L020  0.000664\n",
       "2     31098     A5YKK6  0.000097\n",
       "3     31098     A6NGN9  0.000171\n",
       "4     31098     O00264  0.001772"
      ]
     },
     "execution_count": 20,
     "metadata": {},
     "output_type": "execute_result"
    }
   ],
   "source": [
    "#write NSAF proteome to file\n",
    "proteinData.to_csv(path_or_buf = 'pooled_proteome_nsaf_1.csv', index = False)\n",
    "df = pd.read_csv('pooled_proteome_nsaf_1.csv')\n",
    "df.head()"
   ]
  }
 ],
 "metadata": {
  "interpreter": {
   "hash": "db8b8ce622d6c99bf71358dbacc49720c17f6ed359743e9dd314dcdbdb145bdd"
  },
  "kernelspec": {
   "display_name": "Python 3.7.7 ('ionbot')",
   "language": "python",
   "name": "python3"
  },
  "language_info": {
   "codemirror_mode": {
    "name": "ipython",
    "version": 3
   },
   "file_extension": ".py",
   "mimetype": "text/x-python",
   "name": "python",
   "nbconvert_exporter": "python",
   "pygments_lexer": "ipython3",
   "version": "3.7.7"
  },
  "orig_nbformat": 4
 },
 "nbformat": 4,
 "nbformat_minor": 2
}
