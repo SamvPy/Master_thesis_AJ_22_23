{
 "cells": [
  {
   "attachments": {},
   "cell_type": "markdown",
   "metadata": {},
   "source": [
    "# Create protein expression atlas"
   ]
  },
  {
   "cell_type": "code",
   "execution_count": 1,
   "metadata": {},
   "outputs": [],
   "source": [
    "import pandas as pd\n",
    "import mysql.connector\n",
    "import numpy as np\n",
    "import seaborn as sns\n",
    "import matplotlib.pyplot as plt\n",
    "\n",
    "from ipywidgets import IntProgress\n",
    "from IPython.display import display"
   ]
  },
  {
   "attachments": {},
   "cell_type": "markdown",
   "metadata": {},
   "source": [
    "Loosely based on source code from Tine Claeys (see Reference folder)"
   ]
  },
  {
   "cell_type": "code",
   "execution_count": 2,
   "metadata": {},
   "outputs": [
    {
     "name": "stdout",
     "output_type": "stream",
     "text": [
      "connection succesfull\n"
     ]
    }
   ],
   "source": [
    "conn = mysql.connector.connect(user='root', password='password', host='127.0.0.1', port='3306',database='expression_atlas_cells')\n",
    "mycursor = conn.cursor(buffered = True)\n",
    "\n",
    "# check the connection\n",
    "if conn.is_connected():\n",
    "    print(\"connection succesfull\")\n",
    "else:\n",
    "    print(\"no connection\")"
   ]
  },
  {
   "attachments": {},
   "cell_type": "markdown",
   "metadata": {},
   "source": [
    "# Load all the data"
   ]
  },
  {
   "attachments": {},
   "cell_type": "markdown",
   "metadata": {},
   "source": [
    "Reformat so a matrix is generated with columns: assay_id, quantification, uniprot_id\n",
    "- Load peptide_to_assay\n",
    "- Load peptide_to_protein\n",
    "- Load protein information from protein table\n",
    "- Filter: Only get proteotypic peptides (peptide -> 1 protein)\n",
    "- Filter: Drop contaminant proteins according to the cRAP database\n",
    "- Filter: Only get proteins with more than 2 peptide relations"
   ]
  },
  {
   "cell_type": "code",
   "execution_count": 3,
   "metadata": {},
   "outputs": [
    {
     "data": {
      "text/html": [
       "<div>\n",
       "<style scoped>\n",
       "    .dataframe tbody tr th:only-of-type {\n",
       "        vertical-align: middle;\n",
       "    }\n",
       "\n",
       "    .dataframe tbody tr th {\n",
       "        vertical-align: top;\n",
       "    }\n",
       "\n",
       "    .dataframe thead th {\n",
       "        text-align: right;\n",
       "    }\n",
       "</style>\n",
       "<table border=\"1\" class=\"dataframe\">\n",
       "  <thead>\n",
       "    <tr style=\"text-align: right;\">\n",
       "      <th></th>\n",
       "      <th>PXD_accession</th>\n",
       "    </tr>\n",
       "  </thead>\n",
       "  <tbody>\n",
       "    <tr>\n",
       "      <th>0</th>\n",
       "      <td>PXD000533</td>\n",
       "    </tr>\n",
       "    <tr>\n",
       "      <th>1</th>\n",
       "      <td>PXD004280</td>\n",
       "    </tr>\n",
       "    <tr>\n",
       "      <th>2</th>\n",
       "      <td>PXD002842</td>\n",
       "    </tr>\n",
       "    <tr>\n",
       "      <th>3</th>\n",
       "      <td>PXD003594</td>\n",
       "    </tr>\n",
       "    <tr>\n",
       "      <th>4</th>\n",
       "      <td>PXD008996</td>\n",
       "    </tr>\n",
       "  </tbody>\n",
       "</table>\n",
       "</div>"
      ],
      "text/plain": [
       "  PXD_accession\n",
       "0     PXD000533\n",
       "1     PXD004280\n",
       "2     PXD002842\n",
       "3     PXD003594\n",
       "4     PXD008996"
      ]
     },
     "execution_count": 3,
     "metadata": {},
     "output_type": "execute_result"
    }
   ],
   "source": [
    "projectsql = \"SELECT PXD_accession FROM project\"\n",
    "projectData = pd.read_sql_query(projectsql, conn)\n",
    "projectData.head()"
   ]
  },
  {
   "cell_type": "code",
   "execution_count": 6,
   "metadata": {},
   "outputs": [
    {
     "data": {
      "text/plain": [
       "63"
      ]
     },
     "execution_count": 6,
     "metadata": {},
     "output_type": "execute_result"
    }
   ],
   "source": [
    "projectData.PXD_accession.nunique()"
   ]
  },
  {
   "cell_type": "code",
   "execution_count": 3,
   "metadata": {},
   "outputs": [
    {
     "data": {
      "text/html": [
       "<div>\n",
       "<style scoped>\n",
       "    .dataframe tbody tr th:only-of-type {\n",
       "        vertical-align: middle;\n",
       "    }\n",
       "\n",
       "    .dataframe tbody tr th {\n",
       "        vertical-align: top;\n",
       "    }\n",
       "\n",
       "    .dataframe thead th {\n",
       "        text-align: right;\n",
       "    }\n",
       "</style>\n",
       "<table border=\"1\" class=\"dataframe\">\n",
       "  <thead>\n",
       "    <tr style=\"text-align: right;\">\n",
       "      <th></th>\n",
       "      <th>assay_id</th>\n",
       "      <th>peptide_id</th>\n",
       "      <th>quantification</th>\n",
       "    </tr>\n",
       "  </thead>\n",
       "  <tbody>\n",
       "    <tr>\n",
       "      <th>0</th>\n",
       "      <td>30960</td>\n",
       "      <td>110730450</td>\n",
       "      <td>2.0</td>\n",
       "    </tr>\n",
       "    <tr>\n",
       "      <th>1</th>\n",
       "      <td>30961</td>\n",
       "      <td>110730450</td>\n",
       "      <td>2.0</td>\n",
       "    </tr>\n",
       "    <tr>\n",
       "      <th>2</th>\n",
       "      <td>30995</td>\n",
       "      <td>110730450</td>\n",
       "      <td>1.0</td>\n",
       "    </tr>\n",
       "    <tr>\n",
       "      <th>3</th>\n",
       "      <td>31006</td>\n",
       "      <td>110730450</td>\n",
       "      <td>1.0</td>\n",
       "    </tr>\n",
       "    <tr>\n",
       "      <th>4</th>\n",
       "      <td>31007</td>\n",
       "      <td>110730450</td>\n",
       "      <td>1.0</td>\n",
       "    </tr>\n",
       "  </tbody>\n",
       "</table>\n",
       "</div>"
      ],
      "text/plain": [
       "   assay_id  peptide_id  quantification\n",
       "0     30960   110730450             2.0\n",
       "1     30961   110730450             2.0\n",
       "2     30995   110730450             1.0\n",
       "3     31006   110730450             1.0\n",
       "4     31007   110730450             1.0"
      ]
     },
     "execution_count": 3,
     "metadata": {},
     "output_type": "execute_result"
    }
   ],
   "source": [
    "# NOTE: Loading the table takes 5 minutes\n",
    "\n",
    "assaysql = \"SELECT assay_id, peptide_id, quantification FROM peptide_to_assay\"\n",
    "assayData = pd.read_sql_query(assaysql, conn)\n",
    "assayData.head()"
   ]
  },
  {
   "cell_type": "code",
   "execution_count": 11,
   "metadata": {},
   "outputs": [
    {
     "data": {
      "text/plain": [
       "4414"
      ]
     },
     "execution_count": 11,
     "metadata": {},
     "output_type": "execute_result"
    }
   ],
   "source": [
    "# Before 18/02/2023: 1943\n",
    "\n",
    "assayData.assay_id.nunique()"
   ]
  },
  {
   "cell_type": "code",
   "execution_count": null,
   "metadata": {},
   "outputs": [],
   "source": [
    "meta = pd.read_csv(\"../Metadata/unified_metadata.csv\")\n",
    "assayData[assayData.assay_id.isin(meta.assay_id.tolist())]"
   ]
  },
  {
   "attachments": {},
   "cell_type": "markdown",
   "metadata": {},
   "source": [
    "Get all peptide to protein relations"
   ]
  },
  {
   "cell_type": "code",
   "execution_count": 12,
   "metadata": {},
   "outputs": [
    {
     "data": {
      "text/html": [
       "<div>\n",
       "<style scoped>\n",
       "    .dataframe tbody tr th:only-of-type {\n",
       "        vertical-align: middle;\n",
       "    }\n",
       "\n",
       "    .dataframe tbody tr th {\n",
       "        vertical-align: top;\n",
       "    }\n",
       "\n",
       "    .dataframe thead th {\n",
       "        text-align: right;\n",
       "    }\n",
       "</style>\n",
       "<table border=\"1\" class=\"dataframe\">\n",
       "  <thead>\n",
       "    <tr style=\"text-align: right;\">\n",
       "      <th></th>\n",
       "      <th>peptide_id</th>\n",
       "      <th>uniprot_id</th>\n",
       "    </tr>\n",
       "  </thead>\n",
       "  <tbody>\n",
       "    <tr>\n",
       "      <th>0</th>\n",
       "      <td>122045961</td>\n",
       "      <td>A0A024QZ42</td>\n",
       "    </tr>\n",
       "    <tr>\n",
       "      <th>1</th>\n",
       "      <td>120203377</td>\n",
       "      <td>A0A024QZX5</td>\n",
       "    </tr>\n",
       "    <tr>\n",
       "      <th>2</th>\n",
       "      <td>122405701</td>\n",
       "      <td>A0A024R1R8</td>\n",
       "    </tr>\n",
       "    <tr>\n",
       "      <th>3</th>\n",
       "      <td>132052084</td>\n",
       "      <td>A0A024R214</td>\n",
       "    </tr>\n",
       "    <tr>\n",
       "      <th>4</th>\n",
       "      <td>129311384</td>\n",
       "      <td>A0A024R7E8</td>\n",
       "    </tr>\n",
       "  </tbody>\n",
       "</table>\n",
       "</div>"
      ],
      "text/plain": [
       "   peptide_id  uniprot_id\n",
       "0   122045961  A0A024QZ42\n",
       "1   120203377  A0A024QZX5\n",
       "2   122405701  A0A024R1R8\n",
       "3   132052084  A0A024R214\n",
       "4   129311384  A0A024R7E8"
      ]
     },
     "execution_count": 12,
     "metadata": {},
     "output_type": "execute_result"
    }
   ],
   "source": [
    "pepsql = \"SELECT peptide_to_protein.peptide_id, peptide_to_protein.uniprot_id FROM peptide_to_protein\"\n",
    "pepData = pd.read_sql_query(pepsql, conn)\n",
    "pepData.head()"
   ]
  },
  {
   "cell_type": "code",
   "execution_count": 13,
   "metadata": {},
   "outputs": [
    {
     "data": {
      "text/plain": [
       "(496188, 2)"
      ]
     },
     "execution_count": 13,
     "metadata": {},
     "output_type": "execute_result"
    }
   ],
   "source": [
    "# Before 18/02/23 addition of data: 424682\n",
    "\n",
    "pepData.shape"
   ]
  },
  {
   "attachments": {},
   "cell_type": "markdown",
   "metadata": {},
   "source": [
    "Get sequence length for all proteins in the database"
   ]
  },
  {
   "cell_type": "code",
   "execution_count": 14,
   "metadata": {},
   "outputs": [
    {
     "name": "stdout",
     "output_type": "stream",
     "text": [
      "(16893, 4)\n"
     ]
    },
    {
     "data": {
      "text/html": [
       "<div>\n",
       "<style scoped>\n",
       "    .dataframe tbody tr th:only-of-type {\n",
       "        vertical-align: middle;\n",
       "    }\n",
       "\n",
       "    .dataframe tbody tr th {\n",
       "        vertical-align: top;\n",
       "    }\n",
       "\n",
       "    .dataframe thead th {\n",
       "        text-align: right;\n",
       "    }\n",
       "</style>\n",
       "<table border=\"1\" class=\"dataframe\">\n",
       "  <thead>\n",
       "    <tr style=\"text-align: right;\">\n",
       "      <th></th>\n",
       "      <th>uniprot_id</th>\n",
       "      <th>description</th>\n",
       "      <th>length</th>\n",
       "      <th>sequence</th>\n",
       "    </tr>\n",
       "  </thead>\n",
       "  <tbody>\n",
       "    <tr>\n",
       "      <th>0</th>\n",
       "      <td>A0A024RBG1</td>\n",
       "      <td>Diphosphoinositol polyphosphate phosphohydrola...</td>\n",
       "      <td>181.0</td>\n",
       "      <td>MMKFKPNQTRTYDREGFKKRAACLCFRSEQEDEVLLVSSSRYPDQW...</td>\n",
       "    </tr>\n",
       "    <tr>\n",
       "      <th>1</th>\n",
       "      <td>A0A075B6H7</td>\n",
       "      <td>Probable non-functional immunoglobulin kappa v...</td>\n",
       "      <td>116.0</td>\n",
       "      <td>MEAPAQLLFLLLLWLPDTTREIVMTQSPPTLSLSPGERVTLSCRAS...</td>\n",
       "    </tr>\n",
       "    <tr>\n",
       "      <th>2</th>\n",
       "      <td>A0A075B6I1</td>\n",
       "      <td>Immunoglobulin lambda variable 4-60</td>\n",
       "      <td>120.0</td>\n",
       "      <td>MAWTPLLLLFPLLLHCTGSLSQPVLTQSSSASASLGSSVKLTCTLS...</td>\n",
       "    </tr>\n",
       "    <tr>\n",
       "      <th>3</th>\n",
       "      <td>A0A075B6I3</td>\n",
       "      <td>Probable non-functional immunoglobulin lambda ...</td>\n",
       "      <td>123.0</td>\n",
       "      <td>MALTPLLLLLLSHCTGSLSRPVLTQPPSLSASPGATARLPCTLSSD...</td>\n",
       "    </tr>\n",
       "    <tr>\n",
       "      <th>4</th>\n",
       "      <td>A0A075B6L6</td>\n",
       "      <td>Probable non-functional T cell receptor beta v...</td>\n",
       "      <td>115.0</td>\n",
       "      <td>MGTRLLCWAALCLLGADHTGAGVSQTPSNKVTEKGKDVELRCDPIS...</td>\n",
       "    </tr>\n",
       "  </tbody>\n",
       "</table>\n",
       "</div>"
      ],
      "text/plain": [
       "   uniprot_id                                        description  length  \\\n",
       "0  A0A024RBG1  Diphosphoinositol polyphosphate phosphohydrola...   181.0   \n",
       "1  A0A075B6H7  Probable non-functional immunoglobulin kappa v...   116.0   \n",
       "2  A0A075B6I1                Immunoglobulin lambda variable 4-60   120.0   \n",
       "3  A0A075B6I3  Probable non-functional immunoglobulin lambda ...   123.0   \n",
       "4  A0A075B6L6  Probable non-functional T cell receptor beta v...   115.0   \n",
       "\n",
       "                                            sequence  \n",
       "0  MMKFKPNQTRTYDREGFKKRAACLCFRSEQEDEVLLVSSSRYPDQW...  \n",
       "1  MEAPAQLLFLLLLWLPDTTREIVMTQSPPTLSLSPGERVTLSCRAS...  \n",
       "2  MAWTPLLLLFPLLLHCTGSLSQPVLTQSSSASASLGSSVKLTCTLS...  \n",
       "3  MALTPLLLLLLSHCTGSLSRPVLTQPPSLSASPGATARLPCTLSSD...  \n",
       "4  MGTRLLCWAALCLLGADHTGAGVSQTPSNKVTEKGKDVELRCDPIS...  "
      ]
     },
     "execution_count": 14,
     "metadata": {},
     "output_type": "execute_result"
    }
   ],
   "source": [
    "seqsql = \"SELECT * FROM protein WHERE length IS NOT NULL\"\n",
    "seqData = pd.read_sql_query(seqsql, conn)\n",
    "seqData[\"length\"] = pd.to_numeric(seqData['length'], errors = \"coerce\")\n",
    "\n",
    "print(seqData.shape)\n",
    "\n",
    "seqData.head()"
   ]
  },
  {
   "cell_type": "code",
   "execution_count": 15,
   "metadata": {},
   "outputs": [
    {
     "name": "stdout",
     "output_type": "stream",
     "text": [
      "# TREMBL protein identifiers:  11756\n",
      "% peptides ided with TREMBL: 5.04%\n"
     ]
    }
   ],
   "source": [
    "# There are 11756 unreviewed protein identifiers from the TREMBL database. These could be linked to the reviewed SwissProt entry through mapping.\n",
    "# https://www.uniprot.org/help/gene_centric_isoform_mapping\n",
    "# Local file: UP000005640_9606.idmapping\n",
    "\n",
    "print('# TREMBL protein identifiers: ', pepData[~pepData.uniprot_id.isin(seqData.uniprot_id)].uniprot_id.nunique())\n",
    "print('% peptides ided with TREMBL: {:.2f}%'.format(pepData[~pepData.uniprot_id.isin(seqData.uniprot_id)].shape[0]/pepData.shape[0] *100))"
   ]
  },
  {
   "attachments": {},
   "cell_type": "markdown",
   "metadata": {},
   "source": [
    "Select proteotypic peptides (peptide with 1 peptide to protein relation)"
   ]
  },
  {
   "cell_type": "code",
   "execution_count": 16,
   "metadata": {},
   "outputs": [
    {
     "name": "stdout",
     "output_type": "stream",
     "text": [
      "(494039, 2)\n"
     ]
    },
    {
     "data": {
      "text/html": [
       "<div>\n",
       "<style scoped>\n",
       "    .dataframe tbody tr th:only-of-type {\n",
       "        vertical-align: middle;\n",
       "    }\n",
       "\n",
       "    .dataframe tbody tr th {\n",
       "        vertical-align: top;\n",
       "    }\n",
       "\n",
       "    .dataframe thead th {\n",
       "        text-align: right;\n",
       "    }\n",
       "</style>\n",
       "<table border=\"1\" class=\"dataframe\">\n",
       "  <thead>\n",
       "    <tr style=\"text-align: right;\">\n",
       "      <th></th>\n",
       "      <th>peptide_id</th>\n",
       "      <th>uniprot_id</th>\n",
       "    </tr>\n",
       "  </thead>\n",
       "  <tbody>\n",
       "    <tr>\n",
       "      <th>0</th>\n",
       "      <td>122045961</td>\n",
       "      <td>A0A024QZ42</td>\n",
       "    </tr>\n",
       "    <tr>\n",
       "      <th>1</th>\n",
       "      <td>120203377</td>\n",
       "      <td>A0A024QZX5</td>\n",
       "    </tr>\n",
       "    <tr>\n",
       "      <th>2</th>\n",
       "      <td>122405701</td>\n",
       "      <td>A0A024R1R8</td>\n",
       "    </tr>\n",
       "    <tr>\n",
       "      <th>3</th>\n",
       "      <td>132052084</td>\n",
       "      <td>A0A024R214</td>\n",
       "    </tr>\n",
       "    <tr>\n",
       "      <th>4</th>\n",
       "      <td>129311384</td>\n",
       "      <td>A0A024R7E8</td>\n",
       "    </tr>\n",
       "  </tbody>\n",
       "</table>\n",
       "</div>"
      ],
      "text/plain": [
       "   peptide_id  uniprot_id\n",
       "0   122045961  A0A024QZ42\n",
       "1   120203377  A0A024QZX5\n",
       "2   122405701  A0A024R1R8\n",
       "3   132052084  A0A024R214\n",
       "4   129311384  A0A024R7E8"
      ]
     },
     "execution_count": 16,
     "metadata": {},
     "output_type": "execute_result"
    }
   ],
   "source": [
    "# Before 18/02/2023: 422679\n",
    "\n",
    "proteotypicData = pepData.groupby(\"peptide_id\").filter(lambda x: len(x) == 1)\n",
    "print(proteotypicData.shape)\n",
    "proteotypicData.head()"
   ]
  },
  {
   "attachments": {},
   "cell_type": "markdown",
   "metadata": {},
   "source": [
    "Drop non human proteins (contaminant removal) <br>\n",
    "- Check the protein ids that contain strange symbols ([-_|])\n",
    "- Convert them to standard uniprot identifiers\n",
    "- Check all these identifiers are human proteins"
   ]
  },
  {
   "cell_type": "code",
   "execution_count": 17,
   "metadata": {},
   "outputs": [
    {
     "data": {
      "text/plain": [
       "['ADH1_YEAST', 'ADH1_YEAST|', 'ALBU_BOVIN', 'ALBU_BOVIN|', 'ALDOA_RABIT']"
      ]
     },
     "execution_count": 17,
     "metadata": {},
     "output_type": "execute_result"
    }
   ],
   "source": [
    "# Check for protein identifiers that do not match the uniprot id regex.\n",
    "proteotypicData = proteotypicData.copy()\n",
    "contaminants = proteotypicData[proteotypicData.uniprot_id.str.contains(pat = r\"[-_|]\")].uniprot_id.unique().tolist()\n",
    "contaminants[:5]"
   ]
  },
  {
   "attachments": {},
   "cell_type": "markdown",
   "metadata": {},
   "source": [
    "Some are human proteins, yet the function that parsed the protein identifiers failed to parse it correctly... <br>\n",
    "Search manually for these and change the protein identifiers accordingly. Then check through the cRAP database whether common contaminants are included"
   ]
  },
  {
   "cell_type": "code",
   "execution_count": 18,
   "metadata": {},
   "outputs": [],
   "source": [
    "# From the cRAP https://www.thegpm.org/crap/index.html database, common contaminant identifiers were extracted\n",
    "CRAP = pd.read_csv(\"CRAP.tsv\", sep=\"\\t\")\n",
    "CRAP[\"uniprot_id\"] = CRAP.Description.apply(lambda x: x[1:7])"
   ]
  },
  {
   "cell_type": "code",
   "execution_count": 19,
   "metadata": {},
   "outputs": [
    {
     "name": "stdout",
     "output_type": "stream",
     "text": [
      "AMYS_HUMAN|\n",
      "H-INV\n",
      "P01045-1\n",
      "P02535-1\n",
      "P08730-1\n",
      "P13646-1\n"
     ]
    }
   ],
   "source": [
    "# All the failed uniprot ids are CRAP so delete them from the proteotypicData data structure\n",
    "\n",
    "uniprot_parser_failed = {\"AMYS_HUMAN|\":     \"/\",        # Not found in uniprot\n",
    "                         \"ANT3_HUMAN|\":     \"P01008\",   # Antithrombin-III\n",
    "                         \"B2MG_HUMAN|\":     \"P61769\",   # Beta-2-microglobulin\n",
    "                         \"BID_HUMAN|\":      \"P55957\",   # BH3-interacting domain death agonist\n",
    "                         \"CATG_HUMAN|\":     \"P08311\",   # Cathepsin G\n",
    "                         \"GELS_HUMAN|\":     \"P06396\",   # Gelsolin\n",
    "                         \"HBB_HUMAN|\":      \"P68871\",   # Hemoglobin subunit beta\n",
    "                         \"H-INV\":           \"/\",        # Not found\n",
    "                         \"IGF2_HUMAN|\":     \"P01344\",   # Insulin-like growth factor II\n",
    "                         'K1C9_HUMAN|':     'P35527',   # Keratin, type I cytoskeletal 9\n",
    "                         'K1H2_HUMAN|':     \"Q14532\",   # Keratin, type I cuticular Ha2\n",
    "                         'K1H4_HUMAN|':     \"O76011\",   # Keratin, type I cuticular Ha4\n",
    "                         'K1H5_HUMAN':      \"Q92764\",   # Keratin, type I cuticular Ha5\n",
    "                         'K1H5_HUMAN|':     \"Q92764\",   # Keratin, type I cuticular Ha5,\n",
    "                         'K1H8_HUMAN|':     \"O76015\",   # Keratin, type I cuticular Ha8\n",
    "                         'K1HA_HUMAN|':     'O76009',   # Keratin, type I cuticular Ha3-I\n",
    "                         \"K1H6_HUMAN|\":     \"O76013\",   # Keratin, type I cuticular Ha6\n",
    "                         \"K1HB_HUMAN|\":     \"Q14525\",   # Keratin, type I cuticular Ha3-II\n",
    "                         \"KCRM_HUMAN|\":     \"P06732\",   # Creatine kinase M-type\n",
    "                         \"KRHB4_HUMAN|\":    \"Q9NSB2\",   # Keratin, type II cuticular Hb4\n",
    "                         'KRHB3_HUMAN|':    \"P78385\",   # Keratin, type II cuticular Hb3\n",
    "                         'KRHB4_HUMAN':     \"Q9NSB2\",   # Keratin, type II cuticular Hb4,\n",
    "                         'KRHB5_HUMAN|':    \"P78386\",   # Keratin, type II cuticular Hb5\n",
    "                         'LALBA_HUMAN|':    \"P00709\",   # Alpha-lactalbumin\n",
    "                         'LEP_HUMAN|':      \"P41159\",   # Leptin\n",
    "                         \"LYSC_HUMAN|\":     \"P61626\",   # Lysozyme C\n",
    "                         'NEDD8_HUMAN|':    \"Q15843\",   # NEDD8\n",
    "                         'NQO2_HUMAN|':     \"P16083\",   # Ribosyldihydronicotinamide dehydrogenase [quinone]\n",
    "                         \"P01045-1\":        \"P01045\",   # canonical sequence of Kininogen-2, a BOVINE protein\n",
    "                         \"P02535-1\":        \"P02535\",   # Canonical sequence of Keratin, the MOUSE protein\n",
    "                         \"P08730-1\":        \"P08730\",   # Another MOUSE keratin protein\n",
    "                         \"P13646-1\":        \"P13646\",   # Human keratin\n",
    "                         'PPIA_HUMAN':      \"P62937\",   # Peptidyl-prolyl cis-trans isomerase A\n",
    "                         'PPIA_HUMAN|':     \"P62937\",   # Peptidyl-prolyl cis-trans isomerase A\n",
    "                         \"RASH_HUMAN|\":     \"P01112\",   # GTPase HRas\n",
    "                         'RS27A_HUMAN|':    \"P62979\",   # Ubiquitin-40S ribosomal protein S27a\n",
    "                         'TAU_HUMAN':       \"P10636\",   # Microtubule-associated protein tau\n",
    "                         'TNFA_HUMAN|':     \"P01375\",   # Tumor necrosis factor\n",
    "                         \"UBE2C_HUMAN|\":    \"O00762\"}   # Ubiquitin-conjugating enzyme E2 C\n",
    "\n",
    "# Convert the non-standard identifiers\n",
    "for key, parser_id in uniprot_parser_failed.items():\n",
    "    if parser_id not in CRAP.uniprot_id.unique().tolist():\n",
    "        print(key)"
   ]
  },
  {
   "cell_type": "code",
   "execution_count": 20,
   "metadata": {},
   "outputs": [],
   "source": [
    "def status_protein(protein_id):\n",
    "    if protein_id in list(uniprot_parser_failed.values()):\n",
    "        return 'contaminant'\n",
    "    if protein_id in CRAP.uniprot_id.unique().tolist():\n",
    "        return 'contaminant'\n",
    "    else:\n",
    "        return 'identification'\n",
    "\n",
    "proteotypicData[\"parsed_uniprot\"] = proteotypicData.uniprot_id.apply(lambda x: uniprot_parser_failed[x] if x in list(uniprot_parser_failed.keys()) else x)\n",
    "proteotypicData[\"status\"] = proteotypicData.parsed_uniprot.apply(status_protein)"
   ]
  },
  {
   "cell_type": "code",
   "execution_count": 21,
   "metadata": {},
   "outputs": [],
   "source": [
    "# Reformat\n",
    "proteotypicData.drop(\"uniprot_id\", axis = 1, inplace = True)\n",
    "proteotypicData.rename(columns={\"parsed_uniprot\":\"uniprot_id\"},inplace=True)\n",
    "\n",
    "# Merge with uniprot SwissProt file containing sequence and length information\n",
    "proteotypicData = pd.merge(proteotypicData, seqData, on = \"uniprot_id\")\n",
    "proteotypicData = proteotypicData[~(proteotypicData.status == \"contaminant\")]"
   ]
  },
  {
   "attachments": {},
   "cell_type": "markdown",
   "metadata": {},
   "source": [
    "Select proteins which have more than 2 proteotypic peptides"
   ]
  },
  {
   "cell_type": "code",
   "execution_count": 22,
   "metadata": {},
   "outputs": [
    {
     "name": "stdout",
     "output_type": "stream",
     "text": [
      "(468838, 6)\n",
      "(465311, 6)\n"
     ]
    }
   ],
   "source": [
    "print(proteotypicData.shape)\n",
    "proteins = proteotypicData.groupby(\"uniprot_id\").filter(lambda x: len(x) > 2)\n",
    "print(proteins.shape)"
   ]
  },
  {
   "attachments": {},
   "cell_type": "markdown",
   "metadata": {},
   "source": [
    "Merge assays containing spectral counts and proteins"
   ]
  },
  {
   "cell_type": "code",
   "execution_count": 23,
   "metadata": {},
   "outputs": [
    {
     "name": "stdout",
     "output_type": "stream",
     "text": [
      "(12882034, 8)\n"
     ]
    },
    {
     "data": {
      "text/html": [
       "<div>\n",
       "<style scoped>\n",
       "    .dataframe tbody tr th:only-of-type {\n",
       "        vertical-align: middle;\n",
       "    }\n",
       "\n",
       "    .dataframe tbody tr th {\n",
       "        vertical-align: top;\n",
       "    }\n",
       "\n",
       "    .dataframe thead th {\n",
       "        text-align: right;\n",
       "    }\n",
       "</style>\n",
       "<table border=\"1\" class=\"dataframe\">\n",
       "  <thead>\n",
       "    <tr style=\"text-align: right;\">\n",
       "      <th></th>\n",
       "      <th>assay_id</th>\n",
       "      <th>peptide_id</th>\n",
       "      <th>quantification</th>\n",
       "      <th>uniprot_id</th>\n",
       "      <th>status</th>\n",
       "      <th>description</th>\n",
       "      <th>length</th>\n",
       "      <th>sequence</th>\n",
       "    </tr>\n",
       "  </thead>\n",
       "  <tbody>\n",
       "    <tr>\n",
       "      <th>56525</th>\n",
       "      <td>30960</td>\n",
       "      <td>110734028</td>\n",
       "      <td>5.0</td>\n",
       "      <td>A0AV96</td>\n",
       "      <td>identification</td>\n",
       "      <td>RNA-binding protein 47 (RNA-binding motif prot...</td>\n",
       "      <td>593.0</td>\n",
       "      <td>MTAEDSTAAMSSDSAAGSSAKVPEGVAGAPNEAALLALMERTGYSM...</td>\n",
       "    </tr>\n",
       "    <tr>\n",
       "      <th>85567</th>\n",
       "      <td>30960</td>\n",
       "      <td>110736528</td>\n",
       "      <td>2.0</td>\n",
       "      <td>A0AVT1</td>\n",
       "      <td>identification</td>\n",
       "      <td>Ubiquitin-like modifier-activating enzyme 6 (U...</td>\n",
       "      <td>1052.0</td>\n",
       "      <td>MEGSEPVAAHQGEEASCSSWGTGSTNKNLPIMSTASVEIDDALYSR...</td>\n",
       "    </tr>\n",
       "    <tr>\n",
       "      <th>111025</th>\n",
       "      <td>30960</td>\n",
       "      <td>110737579</td>\n",
       "      <td>2.0</td>\n",
       "      <td>A0AVT1</td>\n",
       "      <td>identification</td>\n",
       "      <td>Ubiquitin-like modifier-activating enzyme 6 (U...</td>\n",
       "      <td>1052.0</td>\n",
       "      <td>MEGSEPVAAHQGEEASCSSWGTGSTNKNLPIMSTASVEIDDALYSR...</td>\n",
       "    </tr>\n",
       "    <tr>\n",
       "      <th>141112</th>\n",
       "      <td>30960</td>\n",
       "      <td>110739628</td>\n",
       "      <td>3.0</td>\n",
       "      <td>A0AVT1</td>\n",
       "      <td>identification</td>\n",
       "      <td>Ubiquitin-like modifier-activating enzyme 6 (U...</td>\n",
       "      <td>1052.0</td>\n",
       "      <td>MEGSEPVAAHQGEEASCSSWGTGSTNKNLPIMSTASVEIDDALYSR...</td>\n",
       "    </tr>\n",
       "    <tr>\n",
       "      <th>56253</th>\n",
       "      <td>30960</td>\n",
       "      <td>110733975</td>\n",
       "      <td>3.0</td>\n",
       "      <td>A0FGR8</td>\n",
       "      <td>identification</td>\n",
       "      <td>Extended synaptotagmin-2 (E-Syt2) (Chr2Syt)</td>\n",
       "      <td>921.0</td>\n",
       "      <td>MTANRDAALSSHRHPGCAQRPRTPTFASSSQRRSAFGFDDGNFPGL...</td>\n",
       "    </tr>\n",
       "  </tbody>\n",
       "</table>\n",
       "</div>"
      ],
      "text/plain": [
       "        assay_id  peptide_id  quantification uniprot_id          status  \\\n",
       "56525      30960   110734028             5.0     A0AV96  identification   \n",
       "85567      30960   110736528             2.0     A0AVT1  identification   \n",
       "111025     30960   110737579             2.0     A0AVT1  identification   \n",
       "141112     30960   110739628             3.0     A0AVT1  identification   \n",
       "56253      30960   110733975             3.0     A0FGR8  identification   \n",
       "\n",
       "                                              description  length  \\\n",
       "56525   RNA-binding protein 47 (RNA-binding motif prot...   593.0   \n",
       "85567   Ubiquitin-like modifier-activating enzyme 6 (U...  1052.0   \n",
       "111025  Ubiquitin-like modifier-activating enzyme 6 (U...  1052.0   \n",
       "141112  Ubiquitin-like modifier-activating enzyme 6 (U...  1052.0   \n",
       "56253         Extended synaptotagmin-2 (E-Syt2) (Chr2Syt)   921.0   \n",
       "\n",
       "                                                 sequence  \n",
       "56525   MTAEDSTAAMSSDSAAGSSAKVPEGVAGAPNEAALLALMERTGYSM...  \n",
       "85567   MEGSEPVAAHQGEEASCSSWGTGSTNKNLPIMSTASVEIDDALYSR...  \n",
       "111025  MEGSEPVAAHQGEEASCSSWGTGSTNKNLPIMSTASVEIDDALYSR...  \n",
       "141112  MEGSEPVAAHQGEEASCSSWGTGSTNKNLPIMSTASVEIDDALYSR...  \n",
       "56253   MTANRDAALSSHRHPGCAQRPRTPTFASSSQRRSAFGFDDGNFPGL...  "
      ]
     },
     "execution_count": 23,
     "metadata": {},
     "output_type": "execute_result"
    }
   ],
   "source": [
    "protData = pd.merge(assayData, proteins, on = \"peptide_id\").sort_values([\"assay_id\", \"uniprot_id\"])\n",
    "print(protData.shape)\n",
    "protData.head()"
   ]
  },
  {
   "cell_type": "code",
   "execution_count": 24,
   "metadata": {},
   "outputs": [],
   "source": [
    "protData.assay_id.nunique()\n",
    "protData = protData.iloc[:,:4]\n",
    "del protData[\"peptide_id\"]"
   ]
  },
  {
   "attachments": {},
   "cell_type": "markdown",
   "metadata": {},
   "source": [
    "---\n",
    "---"
   ]
  },
  {
   "attachments": {},
   "cell_type": "markdown",
   "metadata": {},
   "source": [
    "# Quantify with NSAF (unpooled)"
   ]
  },
  {
   "attachments": {},
   "cell_type": "markdown",
   "metadata": {},
   "source": [
    "Split data per assay"
   ]
  },
  {
   "cell_type": "code",
   "execution_count": null,
   "metadata": {},
   "outputs": [],
   "source": [
    "assays = protData['assay_id'].unique()\n",
    "DataFramaDict = {elem: pd.DataFrame for elem in assays}\n",
    "\n",
    "f = IntProgress(min=0, max=len(DataFramaDict))\n",
    "display(f)\n",
    "\n",
    "for key in DataFramaDict.keys():\n",
    "    DataFramaDict[key] = protData[:][protData[\"assay_id\"] == key]\n",
    "    f.value += 1"
   ]
  },
  {
   "cell_type": "code",
   "execution_count": 199,
   "metadata": {},
   "outputs": [],
   "source": [
    "import copy\n",
    "DataFramaDict2 = copy.deepcopy(DataFramaDict)"
   ]
  },
  {
   "attachments": {},
   "cell_type": "markdown",
   "metadata": {},
   "source": [
    "Calculate NSAF score for each protein per assay"
   ]
  },
  {
   "cell_type": "code",
   "execution_count": 200,
   "metadata": {},
   "outputs": [
    {
     "data": {
      "application/vnd.jupyter.widget-view+json": {
       "model_id": "a5202d326a584bd98be7417d00461861",
       "version_major": 2,
       "version_minor": 0
      },
      "text/plain": [
       "IntProgress(value=0, max=4414)"
      ]
     },
     "metadata": {},
     "output_type": "display_data"
    }
   ],
   "source": [
    "f = IntProgress(min=0, max = len(DataFramaDict2))\n",
    "display(f)\n",
    "\n",
    "for count, key in enumerate(DataFramaDict2.keys()):\n",
    "    sumSaf = 0\n",
    "    assay = DataFramaDict2[key]\n",
    "    assay.pop(\"assay_id\")\n",
    "\n",
    "    #calculate sum of spectral counts for each protein\n",
    "    grouped = DataFramaDict2[key].groupby(\"uniprot_id\").sum().reset_index()\n",
    "    seqAddedDF = pd.merge(grouped, seqData, on = \"uniprot_id\")\n",
    "    seqAddedDF.insert(loc = 2, column = 'SAF', value = 0)\n",
    "    seqAddedDF.insert(loc = 3, column = 'NSAF', value = 0)\n",
    "    \n",
    "    #Calculate SAF score for each protein by dividing sum of spectral counts by protein length\n",
    "    for index, row in seqAddedDF.iterrows():\n",
    "        saf = row['quantification']/row['length']\n",
    "        seqAddedDF.loc[index, 'SAF'] = saf\n",
    "        # calculate sum of SAF scores in assay\n",
    "        sumSaf += saf\n",
    "\n",
    "    # Calculate NSAF score by normalizing each SAF score\n",
    "    seqAddedDF[\"NSAF\"] = seqAddedDF[\"SAF\"] / sumSaf\n",
    "    \n",
    "    del seqAddedDF['length']\n",
    "    del seqAddedDF['quantification']\n",
    "    del seqAddedDF['SAF']\n",
    "    seqAddedDF.insert(loc = 0, column = 'assay_id', value = key)\n",
    "    DataFramaDict2[key] = seqAddedDF\n",
    "\n",
    "    f.value += 1"
   ]
  },
  {
   "cell_type": "code",
   "execution_count": 209,
   "metadata": {},
   "outputs": [
    {
     "data": {
      "application/vnd.jupyter.widget-view+json": {
       "model_id": "6da583f866eb402da965dd95405dcffc",
       "version_major": 2,
       "version_minor": 0
      },
      "text/plain": [
       "IntProgress(value=0, max=4414)"
      ]
     },
     "metadata": {},
     "output_type": "display_data"
    }
   ],
   "source": [
    "f = IntProgress(min=0, max = len(DataFramaDict2))\n",
    "display(f)\n",
    "\n",
    "proteinData = []\n",
    "\n",
    "for key in DataFramaDict2.keys():\n",
    "    proteinData.append(DataFramaDict2[key])\n",
    "    f.value += 1\n",
    "\n",
    "proteinData = pd.concat(proteinData, ignore_index=True)"
   ]
  },
  {
   "cell_type": "code",
   "execution_count": null,
   "metadata": {},
   "outputs": [],
   "source": [
    "df = proteinData"
   ]
  },
  {
   "cell_type": "code",
   "execution_count": 210,
   "metadata": {},
   "outputs": [
    {
     "data": {
      "text/plain": [
       "4414"
      ]
     },
     "execution_count": 210,
     "metadata": {},
     "output_type": "execute_result"
    }
   ],
   "source": [
    "proteinData.assay_id.nunique()"
   ]
  },
  {
   "cell_type": "code",
   "execution_count": 52,
   "metadata": {},
   "outputs": [],
   "source": [
    "#write NSAF proteome to file\n",
    "df = df[[\"assay_id\", \"uniprot_id\", \"NSAF\"]]\n",
    "df.to_hdf(path_or_buf = 'proteome_nsaf_3.h5', key = \"df\", mode = \"w\")"
   ]
  },
  {
   "cell_type": "code",
   "execution_count": 4,
   "metadata": {},
   "outputs": [],
   "source": [
    "df = pd.read_hdf('proteome_nsaf_3.h5')"
   ]
  },
  {
   "attachments": {},
   "cell_type": "markdown",
   "metadata": {},
   "source": [
    "# Quantify with NSAF (pooled)"
   ]
  },
  {
   "attachments": {},
   "cell_type": "markdown",
   "metadata": {},
   "source": [
    "Add pool_id metadata for pooling the fractions <br>\n",
    "Then fuse the fraction tables and calculate NSAF together"
   ]
  },
  {
   "cell_type": "code",
   "execution_count": 25,
   "metadata": {},
   "outputs": [
    {
     "name": "stdout",
     "output_type": "stream",
     "text": [
      "4414\n"
     ]
    }
   ],
   "source": [
    "sqlquery = \"SELECT assay_id, filename FROM assay\"\n",
    "assay_meta = pd.read_sql_query(sqlquery, conn)\n",
    "assay_meta = assay_meta[assay_meta.assay_id.isin(df.assay_id)]\n",
    "print(assay_meta.shape[0])"
   ]
  },
  {
   "cell_type": "code",
   "execution_count": 26,
   "metadata": {},
   "outputs": [
    {
     "data": {
      "text/plain": [
       "(4322, 20)"
      ]
     },
     "execution_count": 26,
     "metadata": {},
     "output_type": "execute_result"
    }
   ],
   "source": [
    "meta = pd.read_csv(\"../Metadata/unified_metadata.csv\")\n",
    "meta.shape"
   ]
  },
  {
   "cell_type": "code",
   "execution_count": 33,
   "metadata": {},
   "outputs": [
    {
     "name": "stdout",
     "output_type": "stream",
     "text": [
      "Whole lysate samples: 389\n",
      "Fractions: 232 (3933 assays collapsed)\n",
      "Total: 621\n"
     ]
    }
   ],
   "source": [
    "no_pool = meta[meta.pool_id.isin([0])].assay_id.tolist()\n",
    "\n",
    "#list in list of pools\n",
    "pools = meta[~meta.assay_id.isin(no_pool)].groupby([\"PXD_accession\", \"pool_id\"]).apply(lambda x: list(x.assay_id)).tolist()\n",
    "\n",
    "print(\"Whole lysate samples: {}\\nFractions: {} ({} assays collapsed)\".format (len(no_pool), len(pools), sum([len(pool) for pool in pools])))\n",
    "print(\"Total: {}\".format(len(no_pool)+len(pools)))"
   ]
  },
  {
   "cell_type": "code",
   "execution_count": null,
   "metadata": {},
   "outputs": [],
   "source": [
    "f = IntProgress(min=0, max = len(no_pool))\n",
    "f2 = IntProgress(min=0, max = len(pools))\n",
    "display(f)\n",
    "\n",
    "DataFrameDict_no_pool = {elem: pd.DataFrame for elem in no_pool}\n",
    "for key in DataFrameDict_no_pool.keys():\n",
    "    DataFrameDict_no_pool[key] = protData[:][protData[\"assay_id\"] == key]\n",
    "    f.value += 1\n",
    "\n",
    "display(f2)\n",
    "\n",
    "DataFrameDict_pooled = {pool[0]: pd.DataFrame for pool in pools}\n",
    "for pool in pools:\n",
    "    DataFrameDict_pooled[pool[0]] = protData[:][protData.assay_id.isin(pool)]\n",
    "    f2.value += 1\n",
    "\n",
    "DataFrameDict_no_pool.update(DataFrameDict_pooled)"
   ]
  },
  {
   "cell_type": "code",
   "execution_count": 37,
   "metadata": {},
   "outputs": [],
   "source": [
    "import copy\n",
    "DataFramaDict_pooling = copy.deepcopy(DataFrameDict_no_pool)"
   ]
  },
  {
   "cell_type": "code",
   "execution_count": 39,
   "metadata": {},
   "outputs": [
    {
     "data": {
      "application/vnd.jupyter.widget-view+json": {
       "model_id": "539862b3fa4e4cadbebc3db58eaa0d18",
       "version_major": 2,
       "version_minor": 0
      },
      "text/plain": [
       "IntProgress(value=0, max=621)"
      ]
     },
     "metadata": {},
     "output_type": "display_data"
    }
   ],
   "source": [
    "f = IntProgress(min=0, max = len(DataFramaDict_pooling))\n",
    "display(f)\n",
    "\n",
    "for count, key in enumerate(DataFramaDict_pooling.keys()):\n",
    "    sumSaf = 0\n",
    "    assay = DataFramaDict_pooling[key]\n",
    "    assay.pop(\"assay_id\")\n",
    "\n",
    "    #calculate sum of spectral counts for each protein\n",
    "    grouped = DataFramaDict_pooling[key].groupby(\"uniprot_id\").sum().reset_index()\n",
    "    seqAddedDF = pd.merge(grouped, seqData, on = \"uniprot_id\")\n",
    "    seqAddedDF.insert(loc = 2, column = 'SAF', value = 0)\n",
    "    seqAddedDF.insert(loc = 3, column = 'NSAF', value = 0)\n",
    "    \n",
    "    #Calculate SAF score for each protein by dividing sum of spectral counts by protein length\n",
    "    for index, row in seqAddedDF.iterrows():\n",
    "        saf = row['quantification']/row['length']\n",
    "        seqAddedDF.loc[index, 'SAF'] = saf\n",
    "        # calculate sum of SAF scores in assay\n",
    "        sumSaf += saf\n",
    "\n",
    "    # Calculate NSAF score by normalizing each SAF score\n",
    "    seqAddedDF[\"NSAF\"] = seqAddedDF[\"SAF\"] / sumSaf\n",
    "    \n",
    "    del seqAddedDF['length']\n",
    "    del seqAddedDF['quantification']\n",
    "    del seqAddedDF['SAF']\n",
    "    seqAddedDF.insert(loc = 0, column = 'assay_id', value = key)\n",
    "    DataFramaDict_pooling[key] = seqAddedDF\n",
    "    f.value += 1"
   ]
  },
  {
   "cell_type": "code",
   "execution_count": 42,
   "metadata": {},
   "outputs": [
    {
     "data": {
      "application/vnd.jupyter.widget-view+json": {
       "model_id": "d2c038321ed44b4882f3bf2158f9b280",
       "version_major": 2,
       "version_minor": 0
      },
      "text/plain": [
       "IntProgress(value=0, max=621)"
      ]
     },
     "metadata": {},
     "output_type": "display_data"
    }
   ],
   "source": [
    "f = IntProgress(min=0, max = len(DataFramaDict_pooling))\n",
    "display(f)\n",
    "\n",
    "proteinData_pooled = []\n",
    "\n",
    "for key in DataFramaDict_pooling.keys():\n",
    "    proteinData_pooled.append(DataFramaDict_pooling[key])\n",
    "    f.value += 1\n",
    "\n",
    "proteinData_pooled = pd.concat(proteinData_pooled, ignore_index=True)"
   ]
  },
  {
   "cell_type": "code",
   "execution_count": 43,
   "metadata": {},
   "outputs": [
    {
     "data": {
      "text/plain": [
       "621"
      ]
     },
     "execution_count": 43,
     "metadata": {},
     "output_type": "execute_result"
    }
   ],
   "source": [
    "proteinData_pooled.assay_id.nunique()"
   ]
  },
  {
   "cell_type": "code",
   "execution_count": 48,
   "metadata": {},
   "outputs": [],
   "source": [
    "proteinData_pooled = proteinData_pooled[[\"assay_id\", \"uniprot_id\", \"NSAF\"]]"
   ]
  },
  {
   "cell_type": "code",
   "execution_count": 49,
   "metadata": {},
   "outputs": [],
   "source": [
    "#write NSAF proteome to file\n",
    "proteinData_pooled.to_hdf(path_or_buf = 'proteome_nsaf_pooled_3.h5', key = \"df\", mode = \"w\")"
   ]
  },
  {
   "cell_type": "code",
   "execution_count": 50,
   "metadata": {},
   "outputs": [],
   "source": [
    "df2 = pd.read_hdf('proteome_nsaf_pooled_3.h5')"
   ]
  },
  {
   "attachments": {},
   "cell_type": "markdown",
   "metadata": {},
   "source": [
    "---\n",
    "---"
   ]
  }
 ],
 "metadata": {
  "interpreter": {
   "hash": "db8b8ce622d6c99bf71358dbacc49720c17f6ed359743e9dd314dcdbdb145bdd"
  },
  "kernelspec": {
   "display_name": "Python 3.7.7 ('ionbot')",
   "language": "python",
   "name": "python3"
  },
  "language_info": {
   "codemirror_mode": {
    "name": "ipython",
    "version": 3
   },
   "file_extension": ".py",
   "mimetype": "text/x-python",
   "name": "python",
   "nbconvert_exporter": "python",
   "pygments_lexer": "ipython3",
   "version": "3.7.7"
  },
  "orig_nbformat": 4
 },
 "nbformat": 4,
 "nbformat_minor": 2
}
