{
 "cells": [
  {
   "cell_type": "code",
   "execution_count": 2,
   "metadata": {},
   "outputs": [],
   "source": [
    "import re\n",
    "from pathlib import Path\n",
    "import glob\n",
    "import pandas as pd"
   ]
  },
  {
   "cell_type": "markdown",
   "metadata": {},
   "source": [
    "62 PXD-files where deemed 'useable' from the ionbot excel spreadsheet. <br>\n",
    "Now, it will be checked whether they are already processed in ionbot."
   ]
  },
  {
   "cell_type": "code",
   "execution_count": 11,
   "metadata": {},
   "outputs": [
    {
     "name": "stdout",
     "output_type": "stream",
     "text": [
      "63\n",
      "['PXD014777']\n"
     ]
    },
    {
     "name": "stderr",
     "output_type": "stream",
     "text": [
      "/home/compomics/miniconda3/envs/ionbot/lib/python3.7/site-packages/ipykernel_launcher.py:4: FutureWarning: The signature of `Series.to_csv` was aligned to that of `DataFrame.to_csv`, and argument 'header' will change its default value from False to True: please pass an explicit value to suppress this warning.\n",
      "  after removing the cwd from sys.path.\n"
     ]
    }
   ],
   "source": [
    "found_pxd = ['PXD004051', 'PXD006421', 'PXD005620', 'PXD002676', 'PXD001952', 'PXD007885', 'PXD007906', 'PXD021281', 'PXD006653', 'PXD002842', 'PXD003594', 'PXD006035', 'PXD008719', 'PXD001668', 'PXD009185', 'PXD005507', 'PXD001247', 'PXD007837', 'PXD008035', 'PXD001974', 'PXD002057', 'PXD008381', 'PXD010012', 'PXD005045', 'PXD009933', 'PXD002032', 'PXD010538', 'PXD006614', 'PXD009600', \n",
    "'PXD009442', 'PXD010306', 'PXD009557', 'PXD009560', 'PXD003252', 'PXD003587', 'PXD007543', 'PXD008693', 'PXD003362', 'PXD011580', 'PXD010256', 'PXD000426', 'PXD009861', 'PXD006419', 'PXD008967', 'PXD000612', 'PXD001592', 'PXD003438', 'PXD004824', 'PXD014300', 'PXD018450', 'PXD018625', 'PXD017391', 'PXD018918', 'PXD011961', 'PXD013541', 'PXD018066', 'PXD016742', 'PXD014777', 'PXD017898', 'PXD014381', 'PXD016119', 'PXD015571', 'PXD009149']\n",
    "found_pxd = pd.Series(found_pxd)\n",
    "#found_pxd.to_csv(\"filter_found_pxd2.csv\", index = False)"
   ]
  },
  {
   "cell_type": "code",
   "execution_count": 12,
   "metadata": {},
   "outputs": [
    {
     "data": {
      "text/plain": [
       "108"
      ]
     },
     "execution_count": 12,
     "metadata": {},
     "output_type": "execute_result"
    }
   ],
   "source": [
    "data = pd.read_csv(\"/home/compomics/Sam/git/python/master_thesis/Metadata/cellosaurus_webscraping_filtered_update.csv\", sep = \";\", usecols = [\"PXD\", \"Cell\", \"Useable\"], encoding = 'latin1')\n",
    "data2 = pd.read_csv(\"filter_found_pxd.csv\", sep = \";\", usecols = [\"PXD\", \"Cell\", \"Useable\"])\n",
    "new_pxd = list(data[data.Useable == \"yes\"].PXD)\n",
    "new_pxd2 = list(data2[data2.Useable == \"yes\"].PXD)\n",
    "#print(len(new_pxd), len(new_pxd2))\n",
    "total_projects = new_pxd + new_pxd2\n",
    "len(total_projects)"
   ]
  },
  {
   "cell_type": "code",
   "execution_count": 7,
   "metadata": {},
   "outputs": [
    {
     "name": "stdout",
     "output_type": "stream",
     "text": [
      "['/home/compomics/mounts/conode53/pride2/PRIDE_DATA/PXD002823', '/home/compomics/mounts/conode53/pride2/PRIDE_DATA/PXD001857', '/home/compomics/mounts/conode53/pride2/PRIDE_DATA/PXD000272', '/home/compomics/mounts/conode53/pride2/PRIDE_DATA/PXD004019', '/home/compomics/mounts/conode53/pride2/PRIDE_DATA/PXD004113']\n"
     ]
    },
    {
     "data": {
      "text/plain": [
       "2431"
      ]
     },
     "execution_count": 7,
     "metadata": {},
     "output_type": "execute_result"
    }
   ],
   "source": [
    "root = Path(\"/home/compomics/mounts\")\n",
    "\n",
    "pxd_dir = glob.glob(\"/home/compomics/mounts/*/*/PRIDE_DATA/*\")\n",
    "print(pxd_dir[:5])\n",
    "len(pxd_dir)"
   ]
  },
  {
   "cell_type": "code",
   "execution_count": 8,
   "metadata": {},
   "outputs": [],
   "source": [
    "PXD_reprocessed = []\n",
    "dir_PXD_reprocessed = []\n",
    "regex = re.compile(r\"(PXD)(\\d+)\")\n",
    "for i in pxd_dir:\n",
    "    result = regex.findall(i)\n",
    "    if result != []:    \n",
    "        #PXD_reprocessed.append(\"\".join(result[0]))\n",
    "        if \"\".join(result[0]) in total_projects:\n",
    "            dir_PXD_reprocessed.append(i)\n",
    "            PXD_reprocessed.append(\"\".join(result[0]))\n",
    "\n"
   ]
  },
  {
   "cell_type": "code",
   "execution_count": 9,
   "metadata": {},
   "outputs": [
    {
     "name": "stdout",
     "output_type": "stream",
     "text": [
      "73 ['PXD001592', 'PXD003409', 'PXD003411', 'PXD000533', 'PXD003410']\n",
      "73 ['/home/compomics/mounts/conode53/pride2/PRIDE_DATA/PXD001592', '/home/compomics/mounts/conode53/pride/PRIDE_DATA/PXD003409', '/home/compomics/mounts/conode53/pride/PRIDE_DATA/PXD003411', '/home/compomics/mounts/conode53/pride/PRIDE_DATA/PXD000533', '/home/compomics/mounts/conode53/pride/PRIDE_DATA/PXD003410']\n"
     ]
    }
   ],
   "source": [
    "print(len(PXD_reprocessed), PXD_reprocessed[:5])\n",
    "print(len(dir_PXD_reprocessed), dir_PXD_reprocessed[:5])"
   ]
  },
  {
   "cell_type": "markdown",
   "metadata": {},
   "source": [
    "It seems like 49 of the 63 PXDs are reprocessed."
   ]
  },
  {
   "cell_type": "code",
   "execution_count": 14,
   "metadata": {},
   "outputs": [
    {
     "name": "stdout",
     "output_type": "stream",
     "text": [
      "35\n"
     ]
    },
    {
     "data": {
      "text/plain": [
       "['PXD000535',\n",
       " 'PXD001441',\n",
       " 'PXD001468',\n",
       " 'PXD001511',\n",
       " 'PXD002117',\n",
       " 'PXD002613',\n",
       " 'PXD003530',\n",
       " 'PXD003596',\n",
       " 'PXD003668',\n",
       " 'PXD003790',\n",
       " 'PXD003896',\n",
       " 'PXD003903',\n",
       " 'PXD004182',\n",
       " 'PXD004452',\n",
       " 'PXD004900',\n",
       " 'PXD004940',\n",
       " 'PXD005354',\n",
       " 'PXD005572',\n",
       " 'PXD005912',\n",
       " 'PXD005946',\n",
       " 'PXD005940',\n",
       " 'PXD005942',\n",
       " 'PXD006112',\n",
       " 'PXD009686',\n",
       " 'PXD013615',\n",
       " 'PXD008222',\n",
       " 'PXD000612',\n",
       " 'PXD001668',\n",
       " 'PXD001952',\n",
       " 'PXD001974',\n",
       " 'PXD002676',\n",
       " 'PXD004051',\n",
       " 'PXD005507',\n",
       " 'PXD006653',\n",
       " 'PXD009185']"
      ]
     },
     "execution_count": 14,
     "metadata": {},
     "output_type": "execute_result"
    }
   ],
   "source": [
    "not_reprocessed = [x for x in total_projects if x not in PXD_reprocessed]\n",
    "print(len(not_reprocessed))\n",
    "not_reprocessed"
   ]
  },
  {
   "cell_type": "code",
   "execution_count": 10,
   "metadata": {},
   "outputs": [
    {
     "data": {
      "text/plain": [
       "{'PXD': 49, 'RAW': 1893}"
      ]
     },
     "execution_count": 10,
     "metadata": {},
     "output_type": "execute_result"
    }
   ],
   "source": [
    "import openpyxl, os\n",
    "check1 = {\"PXD\": 0, \"RAW\": 0}\n",
    "wb = openpyxl.Workbook()\n",
    "sheet = wb[\"Sheet\"]\n",
    "sheet[\"A1\"], sheet[\"B1\"], sheet[\"C1\"], sheet[\"D1\"], sheet[\"E1\"] = \"PXD\", \"RAW\", \"cell_line\", \"disease\", \"tissue_type\"\n",
    "\n",
    "for i in dir_PXD_reprocessed:\n",
    "    check1['PXD'] += 1\n",
    "    sheet.cell(row = sheet.max_row + 2, column = 1).value = os.path.basename(i)\n",
    "    for count, x in enumerate(glob.glob(f\"{i}/RAW/*\")):\n",
    "        check1['RAW'] += 1\n",
    "        if count == 0:\n",
    "            sheet.cell(row = sheet.max_row, column = 2). value = os.path.basename(x)\n",
    "            continue\n",
    "        sheet.cell(row = sheet.max_row + 1, column = 2). value = os.path.basename(x)\n",
    "\n",
    "wb.save(\"annotation_excel3.xlsx\")\n",
    "\n",
    "check1"
   ]
  }
 ],
 "metadata": {
  "interpreter": {
   "hash": "31f2aee4e71d21fbe5cf8b01ff0e069b9275f58929596ceb00d14d90e3e16cd6"
  },
  "kernelspec": {
   "display_name": "Python 3.6.9 64-bit",
   "language": "python",
   "name": "python3"
  },
  "language_info": {
   "codemirror_mode": {
    "name": "ipython",
    "version": 3
   },
   "file_extension": ".py",
   "mimetype": "text/x-python",
   "name": "python",
   "nbconvert_exporter": "python",
   "pygments_lexer": "ipython3",
   "version": "3.7.7"
  },
  "orig_nbformat": 4
 },
 "nbformat": 4,
 "nbformat_minor": 2
}
