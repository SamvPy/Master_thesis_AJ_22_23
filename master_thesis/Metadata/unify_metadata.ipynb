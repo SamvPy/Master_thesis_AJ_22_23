{
 "cells": [
  {
   "attachments": {},
   "cell_type": "markdown",
   "metadata": {},
   "source": [
    "# Convert all metadata in 1"
   ]
  },
  {
   "attachments": {},
   "cell_type": "markdown",
   "metadata": {},
   "source": [
    "With so much metadata files and information scattered throughout, here this will be combined to allow more smooth workflows"
   ]
  },
  {
   "attachments": {},
   "cell_type": "markdown",
   "metadata": {},
   "source": [
    "What is needed is a clear metadata file, connecting assay_ids, filenames and others"
   ]
  },
  {
   "cell_type": "code",
   "execution_count": 1,
   "metadata": {},
   "outputs": [
    {
     "name": "stdout",
     "output_type": "stream",
     "text": [
      "connection succesfull\n"
     ]
    }
   ],
   "source": [
    "import pandas as pd\n",
    "import mysql.connector\n",
    "import numpy as np\n",
    "import seaborn as sns\n",
    "import matplotlib.pyplot as plt\n",
    "\n",
    "conn = mysql.connector.connect(user='root', password='password', host='127.0.0.1', port='3306',database='expression_atlas_cells')\n",
    "mycursor = conn.cursor(buffered = True)\n",
    "\n",
    "# check the connection\n",
    "if conn.is_connected():\n",
    "    print(\"connection succesfull\")\n",
    "else:\n",
    "    print(\"no connection\")"
   ]
  },
  {
   "attachments": {},
   "cell_type": "markdown",
   "metadata": {},
   "source": [
    "Extract all metadata loaded in the database"
   ]
  },
  {
   "cell_type": "code",
   "execution_count": 2,
   "metadata": {},
   "outputs": [
    {
     "name": "stdout",
     "output_type": "stream",
     "text": [
      "(5623, 14)\n"
     ]
    },
    {
     "data": {
      "text/html": [
       "<div>\n",
       "<style scoped>\n",
       "    .dataframe tbody tr th:only-of-type {\n",
       "        vertical-align: middle;\n",
       "    }\n",
       "\n",
       "    .dataframe tbody tr th {\n",
       "        vertical-align: top;\n",
       "    }\n",
       "\n",
       "    .dataframe thead th {\n",
       "        text-align: right;\n",
       "    }\n",
       "</style>\n",
       "<table border=\"1\" class=\"dataframe\">\n",
       "  <thead>\n",
       "    <tr style=\"text-align: right;\">\n",
       "      <th></th>\n",
       "      <th>assay_id</th>\n",
       "      <th>project_id</th>\n",
       "      <th>filename</th>\n",
       "      <th>cell_id</th>\n",
       "      <th>cell_line</th>\n",
       "      <th>disease</th>\n",
       "      <th>treatment</th>\n",
       "      <th>tissue_type</th>\n",
       "      <th>sub_cell</th>\n",
       "      <th>organ_id</th>\n",
       "      <th>PXD_accession</th>\n",
       "      <th>experiment_type</th>\n",
       "      <th>instrument</th>\n",
       "      <th>pmid</th>\n",
       "    </tr>\n",
       "  </thead>\n",
       "  <tbody>\n",
       "    <tr>\n",
       "      <th>0</th>\n",
       "      <td>30960</td>\n",
       "      <td>1815</td>\n",
       "      <td>3B10-1</td>\n",
       "      <td>545</td>\n",
       "      <td>Hep3B</td>\n",
       "      <td>hepatocellular carcinoma</td>\n",
       "      <td>/</td>\n",
       "      <td>liver</td>\n",
       "      <td>/</td>\n",
       "      <td>None</td>\n",
       "      <td>PXD000533</td>\n",
       "      <td>/</td>\n",
       "      <td>/</td>\n",
       "      <td>/</td>\n",
       "    </tr>\n",
       "    <tr>\n",
       "      <th>1</th>\n",
       "      <td>30961</td>\n",
       "      <td>1815</td>\n",
       "      <td>3B10-2</td>\n",
       "      <td>545</td>\n",
       "      <td>Hep3B</td>\n",
       "      <td>hepatocellular carcinoma</td>\n",
       "      <td>/</td>\n",
       "      <td>liver</td>\n",
       "      <td>/</td>\n",
       "      <td>None</td>\n",
       "      <td>PXD000533</td>\n",
       "      <td>/</td>\n",
       "      <td>/</td>\n",
       "      <td>/</td>\n",
       "    </tr>\n",
       "    <tr>\n",
       "      <th>2</th>\n",
       "      <td>30962</td>\n",
       "      <td>1815</td>\n",
       "      <td>3B1-1</td>\n",
       "      <td>545</td>\n",
       "      <td>Hep3B</td>\n",
       "      <td>hepatocellular carcinoma</td>\n",
       "      <td>/</td>\n",
       "      <td>liver</td>\n",
       "      <td>/</td>\n",
       "      <td>None</td>\n",
       "      <td>PXD000533</td>\n",
       "      <td>/</td>\n",
       "      <td>/</td>\n",
       "      <td>/</td>\n",
       "    </tr>\n",
       "    <tr>\n",
       "      <th>3</th>\n",
       "      <td>30963</td>\n",
       "      <td>1815</td>\n",
       "      <td>3B11-1</td>\n",
       "      <td>545</td>\n",
       "      <td>Hep3B</td>\n",
       "      <td>hepatocellular carcinoma</td>\n",
       "      <td>/</td>\n",
       "      <td>liver</td>\n",
       "      <td>/</td>\n",
       "      <td>None</td>\n",
       "      <td>PXD000533</td>\n",
       "      <td>/</td>\n",
       "      <td>/</td>\n",
       "      <td>/</td>\n",
       "    </tr>\n",
       "    <tr>\n",
       "      <th>4</th>\n",
       "      <td>30964</td>\n",
       "      <td>1815</td>\n",
       "      <td>3B11-2</td>\n",
       "      <td>545</td>\n",
       "      <td>Hep3B</td>\n",
       "      <td>hepatocellular carcinoma</td>\n",
       "      <td>/</td>\n",
       "      <td>liver</td>\n",
       "      <td>/</td>\n",
       "      <td>None</td>\n",
       "      <td>PXD000533</td>\n",
       "      <td>/</td>\n",
       "      <td>/</td>\n",
       "      <td>/</td>\n",
       "    </tr>\n",
       "  </tbody>\n",
       "</table>\n",
       "</div>"
      ],
      "text/plain": [
       "   assay_id  project_id filename  cell_id cell_line                   disease  \\\n",
       "0     30960        1815   3B10-1      545     Hep3B  hepatocellular carcinoma   \n",
       "1     30961        1815   3B10-2      545     Hep3B  hepatocellular carcinoma   \n",
       "2     30962        1815    3B1-1      545     Hep3B  hepatocellular carcinoma   \n",
       "3     30963        1815   3B11-1      545     Hep3B  hepatocellular carcinoma   \n",
       "4     30964        1815   3B11-2      545     Hep3B  hepatocellular carcinoma   \n",
       "\n",
       "  treatment tissue_type sub_cell organ_id PXD_accession experiment_type  \\\n",
       "0         /       liver        /     None     PXD000533               /   \n",
       "1         /       liver        /     None     PXD000533               /   \n",
       "2         /       liver        /     None     PXD000533               /   \n",
       "3         /       liver        /     None     PXD000533               /   \n",
       "4         /       liver        /     None     PXD000533               /   \n",
       "\n",
       "  instrument pmid  \n",
       "0          /    /  \n",
       "1          /    /  \n",
       "2          /    /  \n",
       "3          /    /  \n",
       "4          /    /  "
      ]
     },
     "execution_count": 2,
     "metadata": {},
     "output_type": "execute_result"
    }
   ],
   "source": [
    "assay_project_query = \"SELECT * FROM assay\"\n",
    "assay_project_data = pd.read_sql_query(assay_project_query, conn)\n",
    "\n",
    "project_query = \"SELECT * FROM project\"\n",
    "project_data = pd.read_sql_query(project_query, conn)\n",
    "\n",
    "assay_cell_query = \"SELECT assay_id, cell_id FROM cell_to_assay\"\n",
    "assay_cell_data = pd.read_sql_query(assay_cell_query, conn)\n",
    "\n",
    "cell_query = \"SELECT * FROM cell\"\n",
    "cell_data = pd.read_sql_query(cell_query, conn)\n",
    "\n",
    "full_df = pd.merge(assay_project_data, assay_cell_data, on = \"assay_id\")\n",
    "full_df = pd.merge(full_df, cell_data, on = \"cell_id\")\n",
    "full_df = pd.merge(full_df, project_data, on = \"project_id\")\n",
    "print(full_df.shape)\n",
    "full_df.head()"
   ]
  },
  {
   "attachments": {},
   "cell_type": "markdown",
   "metadata": {},
   "source": [
    "Annotate spectra, all and significant, and the unique peptides identified"
   ]
  },
  {
   "cell_type": "code",
   "execution_count": 3,
   "metadata": {},
   "outputs": [
    {
     "name": "stderr",
     "output_type": "stream",
     "text": [
      "/home/compomics/miniconda3/envs/ionbot/lib/python3.7/site-packages/ipykernel_launcher.py:4: FutureWarning: Sorting because non-concatenation axis is not aligned. A future version\n",
      "of pandas will change to not sort by default.\n",
      "\n",
      "To accept the future behavior, pass 'sort=False'.\n",
      "\n",
      "To retain the current behavior and silence the warning, pass 'sort=True'.\n",
      "\n",
      "  after removing the cwd from sys.path.\n"
     ]
    }
   ],
   "source": [
    "spectra1 = pd.read_csv(\"../Database/parsedAvailableFiles.csv\", index_col=\"Unnamed: 0\")\n",
    "spectra2 = pd.read_csv(\"../Database/parsedFailedFiles.csv\")\n",
    "spectra3 = pd.read_csv(\"../Database/parsedNewFiles.csv\")\n",
    "all_parsed = pd.concat([spectra3.rename({\"PXD\": \"PXD_accession\", \"RAW\": \"filename\"}, axis=1), spectra2, spectra1])[\"PXD_accession filename cell_line tissue_type sub_cell disease treatment all_PSM sign_PSM peptides proteins\".split()].reset_index(drop = True)\n",
    "all_spectra = all_parsed[\"PXD_accession filename all_PSM sign_PSM peptides proteins\".split()]"
   ]
  },
  {
   "cell_type": "code",
   "execution_count": 4,
   "metadata": {},
   "outputs": [],
   "source": [
    "full_df = pd.merge(full_df, all_spectra, on = \"filename\", suffixes=(None, \"_drop\")).drop([\"PXD_accession_drop\"], axis = 1)"
   ]
  },
  {
   "cell_type": "code",
   "execution_count": 5,
   "metadata": {},
   "outputs": [
    {
     "data": {
      "text/plain": [
       "Text(0, 0.5, 'Percentage empty files in a project')"
      ]
     },
     "execution_count": 5,
     "metadata": {},
     "output_type": "execute_result"
    },
    {
     "data": {
      "image/png": "[encoded data removed]",
      "text/plain": [
       "<Figure size 2160x360 with 1 Axes>"
      ]
     },
     "metadata": {
      "needs_background": "light"
     },
     "output_type": "display_data"
    }
   ],
   "source": [
    "# Percentage of files in a project that have no identifications\n",
    "# For more detailed info, see 'summary_stats_data.ipynb\n",
    "\n",
    "plt.figure(figsize=(30,5))\n",
    "plt.xticks(rotation=90)\n",
    "\n",
    "\n",
    "identification_project = full_df[full_df.proteins == 0].groupby(\"PXD_accession\").count()[\"assay_id\"] / full_df.groupby(\"PXD_accession\").count()[\"assay_id\"]\n",
    "identification_project.fillna(0, inplace = True)\n",
    "sns.barplot(x = identification_project.index, y = identification_project)\n",
    "plt.ylabel(\"Percentage empty files in a project\")"
   ]
  },
  {
   "cell_type": "code",
   "execution_count": 6,
   "metadata": {},
   "outputs": [
    {
     "name": "stdout",
     "output_type": "stream",
     "text": [
      "Failed files: 1209\n"
     ]
    },
    {
     "data": {
      "text/plain": [
       "<matplotlib.axes._subplots.AxesSubplot at 0x7f93d030ed10>"
      ]
     },
     "execution_count": 6,
     "metadata": {},
     "output_type": "execute_result"
    },
    {
     "data": {
      "image/png": "[encoded data removed]",
      "text/plain": [
       "<Figure size 432x288 with 1 Axes>"
      ]
     },
     "metadata": {
      "needs_background": "light"
     },
     "output_type": "display_data"
    }
   ],
   "source": [
    "# Some files do contain many PSMs yet have not identified anything\n",
    "print('Failed files: {}'.format(full_df[full_df.proteins == 0].shape[0]))\n",
    "plt.title(\"#PSMs for no-identification files\")\n",
    "sns.lineplot(x=range(len(full_df[full_df.proteins == 0].all_PSM)), y=full_df[full_df.proteins == 0].all_PSM)"
   ]
  },
  {
   "attachments": {},
   "cell_type": "markdown",
   "metadata": {},
   "source": [
    "Filter the empty files out for now"
   ]
  },
  {
   "cell_type": "code",
   "execution_count": 5,
   "metadata": {},
   "outputs": [],
   "source": [
    "full_df = full_df[full_df.proteins != 0]"
   ]
  },
  {
   "cell_type": "code",
   "execution_count": 8,
   "metadata": {},
   "outputs": [
    {
     "data": {
      "text/plain": [
       "48"
      ]
     },
     "execution_count": 8,
     "metadata": {},
     "output_type": "execute_result"
    }
   ],
   "source": [
    "full_df.PXD_accession.nunique()"
   ]
  },
  {
   "cell_type": "code",
   "execution_count": 9,
   "metadata": {},
   "outputs": [
    {
     "data": {
      "text/html": [
       "<div>\n",
       "<style scoped>\n",
       "    .dataframe tbody tr th:only-of-type {\n",
       "        vertical-align: middle;\n",
       "    }\n",
       "\n",
       "    .dataframe tbody tr th {\n",
       "        vertical-align: top;\n",
       "    }\n",
       "\n",
       "    .dataframe thead th {\n",
       "        text-align: right;\n",
       "    }\n",
       "</style>\n",
       "<table border=\"1\" class=\"dataframe\">\n",
       "  <thead>\n",
       "    <tr style=\"text-align: right;\">\n",
       "      <th></th>\n",
       "      <th>assay_id</th>\n",
       "      <th>project_id</th>\n",
       "      <th>filename</th>\n",
       "      <th>cell_id</th>\n",
       "      <th>cell_line</th>\n",
       "      <th>disease</th>\n",
       "      <th>treatment</th>\n",
       "      <th>tissue_type</th>\n",
       "      <th>sub_cell</th>\n",
       "      <th>organ_id</th>\n",
       "      <th>PXD_accession</th>\n",
       "      <th>experiment_type</th>\n",
       "      <th>instrument</th>\n",
       "      <th>pmid</th>\n",
       "      <th>all_PSM</th>\n",
       "      <th>sign_PSM</th>\n",
       "      <th>peptides</th>\n",
       "      <th>proteins</th>\n",
       "    </tr>\n",
       "  </thead>\n",
       "  <tbody>\n",
       "    <tr>\n",
       "      <th>0</th>\n",
       "      <td>30960</td>\n",
       "      <td>1815</td>\n",
       "      <td>3B10-1</td>\n",
       "      <td>545</td>\n",
       "      <td>Hep3B</td>\n",
       "      <td>hepatocellular carcinoma</td>\n",
       "      <td>/</td>\n",
       "      <td>liver</td>\n",
       "      <td>/</td>\n",
       "      <td>None</td>\n",
       "      <td>PXD000533</td>\n",
       "      <td>/</td>\n",
       "      <td>/</td>\n",
       "      <td>/</td>\n",
       "      <td>11014</td>\n",
       "      <td>10578</td>\n",
       "      <td>9705</td>\n",
       "      <td>2401</td>\n",
       "    </tr>\n",
       "    <tr>\n",
       "      <th>1</th>\n",
       "      <td>30961</td>\n",
       "      <td>1815</td>\n",
       "      <td>3B10-2</td>\n",
       "      <td>545</td>\n",
       "      <td>Hep3B</td>\n",
       "      <td>hepatocellular carcinoma</td>\n",
       "      <td>/</td>\n",
       "      <td>liver</td>\n",
       "      <td>/</td>\n",
       "      <td>None</td>\n",
       "      <td>PXD000533</td>\n",
       "      <td>/</td>\n",
       "      <td>/</td>\n",
       "      <td>/</td>\n",
       "      <td>11530</td>\n",
       "      <td>11036</td>\n",
       "      <td>10104</td>\n",
       "      <td>2449</td>\n",
       "    </tr>\n",
       "    <tr>\n",
       "      <th>2</th>\n",
       "      <td>30962</td>\n",
       "      <td>1815</td>\n",
       "      <td>3B1-1</td>\n",
       "      <td>545</td>\n",
       "      <td>Hep3B</td>\n",
       "      <td>hepatocellular carcinoma</td>\n",
       "      <td>/</td>\n",
       "      <td>liver</td>\n",
       "      <td>/</td>\n",
       "      <td>None</td>\n",
       "      <td>PXD000533</td>\n",
       "      <td>/</td>\n",
       "      <td>/</td>\n",
       "      <td>/</td>\n",
       "      <td>11558</td>\n",
       "      <td>10874</td>\n",
       "      <td>9947</td>\n",
       "      <td>2620</td>\n",
       "    </tr>\n",
       "    <tr>\n",
       "      <th>3</th>\n",
       "      <td>30963</td>\n",
       "      <td>1815</td>\n",
       "      <td>3B11-1</td>\n",
       "      <td>545</td>\n",
       "      <td>Hep3B</td>\n",
       "      <td>hepatocellular carcinoma</td>\n",
       "      <td>/</td>\n",
       "      <td>liver</td>\n",
       "      <td>/</td>\n",
       "      <td>None</td>\n",
       "      <td>PXD000533</td>\n",
       "      <td>/</td>\n",
       "      <td>/</td>\n",
       "      <td>/</td>\n",
       "      <td>11821</td>\n",
       "      <td>11205</td>\n",
       "      <td>9940</td>\n",
       "      <td>2542</td>\n",
       "    </tr>\n",
       "    <tr>\n",
       "      <th>4</th>\n",
       "      <td>30964</td>\n",
       "      <td>1815</td>\n",
       "      <td>3B11-2</td>\n",
       "      <td>545</td>\n",
       "      <td>Hep3B</td>\n",
       "      <td>hepatocellular carcinoma</td>\n",
       "      <td>/</td>\n",
       "      <td>liver</td>\n",
       "      <td>/</td>\n",
       "      <td>None</td>\n",
       "      <td>PXD000533</td>\n",
       "      <td>/</td>\n",
       "      <td>/</td>\n",
       "      <td>/</td>\n",
       "      <td>11704</td>\n",
       "      <td>11014</td>\n",
       "      <td>9757</td>\n",
       "      <td>2449</td>\n",
       "    </tr>\n",
       "  </tbody>\n",
       "</table>\n",
       "</div>"
      ],
      "text/plain": [
       "   assay_id  project_id filename  cell_id cell_line                   disease  \\\n",
       "0     30960        1815   3B10-1      545     Hep3B  hepatocellular carcinoma   \n",
       "1     30961        1815   3B10-2      545     Hep3B  hepatocellular carcinoma   \n",
       "2     30962        1815    3B1-1      545     Hep3B  hepatocellular carcinoma   \n",
       "3     30963        1815   3B11-1      545     Hep3B  hepatocellular carcinoma   \n",
       "4     30964        1815   3B11-2      545     Hep3B  hepatocellular carcinoma   \n",
       "\n",
       "  treatment tissue_type sub_cell organ_id PXD_accession experiment_type  \\\n",
       "0         /       liver        /     None     PXD000533               /   \n",
       "1         /       liver        /     None     PXD000533               /   \n",
       "2         /       liver        /     None     PXD000533               /   \n",
       "3         /       liver        /     None     PXD000533               /   \n",
       "4         /       liver        /     None     PXD000533               /   \n",
       "\n",
       "  instrument pmid  all_PSM  sign_PSM  peptides  proteins  \n",
       "0          /    /    11014     10578      9705      2401  \n",
       "1          /    /    11530     11036     10104      2449  \n",
       "2          /    /    11558     10874      9947      2620  \n",
       "3          /    /    11821     11205      9940      2542  \n",
       "4          /    /    11704     11014      9757      2449  "
      ]
     },
     "execution_count": 9,
     "metadata": {},
     "output_type": "execute_result"
    }
   ],
   "source": [
    "full_df.head()"
   ]
  },
  {
   "attachments": {},
   "cell_type": "markdown",
   "metadata": {},
   "source": [
    "Add experiment_type, instrument, pmid data. This is stored in \"project_annotation_update.csv\""
   ]
  },
  {
   "cell_type": "code",
   "execution_count": 10,
   "metadata": {},
   "outputs": [],
   "source": [
    "project_metadata = pd.read_csv(\"../Metadata/project_metadata.csv\", sep=\";\")"
   ]
  },
  {
   "cell_type": "code",
   "execution_count": 11,
   "metadata": {},
   "outputs": [],
   "source": [
    "def fn(row):\n",
    "    PXD, digestion, instrument, pmid = project_metadata[project_metadata.accession == row.PXD_accession].values[0]\n",
    "    return digestion, instrument, pmid\n",
    "\n",
    "\n",
    "applied_df = full_df.apply(lambda row: fn(row), axis='columns', result_type='expand')\n",
    "applied_df.rename(columns={0: \"experiment_type\", 1: \"instrument\", 2: \"pmid\"}, inplace=True)\n",
    "full_df.drop(\"experiment_type instrument pmid\".split(), inplace = True, axis = 1)\n",
    "full_df = pd.concat([full_df, applied_df], axis=1)"
   ]
  },
  {
   "attachments": {},
   "cell_type": "markdown",
   "metadata": {},
   "source": [
    "Add pooling metadata"
   ]
  },
  {
   "cell_type": "code",
   "execution_count": null,
   "metadata": {},
   "outputs": [],
   "source": []
  },
  {
   "cell_type": "code",
   "execution_count": 159,
   "metadata": {},
   "outputs": [],
   "source": [
    "# add annotation of pooling; This is saved in the pooling.log file. The format is INFO:root:filename: poolID\n",
    "pooling_annotation = {\"filename\":[], \"poolID\":[]}\n",
    "\n",
    "with open(\"../Atlas_creation/pooling.log\", \"r\") as logfile:\n",
    "    for line in logfile:\n",
    "        filename = line.split(\":\")[-2]\n",
    "        poolID = line.split(\":\")[-1]\n",
    "\n",
    "        pooling_annotation[\"filename\"].append(filename)\n",
    "        pooling_annotation[\"poolID\"].append(poolID.strip())\n",
    "\n",
    "pooling_annotation = pd.DataFrame(pooling_annotation)\n",
    "\n",
    "pooling_annotation2 = pd.read_excel(\"../Metadata/annotation_excel4.xlsx\", engine=\"openpyxl\")\n",
    "pooling_annotation2 = pooling_annotation2[pooling_annotation2.Useable == \"yes\"]\n",
    "pooling_annotation2[\"RAW\"] = pooling_annotation2.RAW.apply(lambda x: str(x).split(\".\")[0])\n",
    "\n",
    "pooling_annotation3 = pd.read_excel(\"../Metadata/annotation_PXD018450.xlsx\", engine=\"openpyxl\")\n",
    "pooling_annotation3[\"pool_id\"] = pooling_annotation3.pool_id.apply(lambda x: str(x))"
   ]
  },
  {
   "cell_type": "code",
   "execution_count": 160,
   "metadata": {},
   "outputs": [],
   "source": [
    "def generate_pool_table(full_df, metadata1, metadata2, metadata3):\n",
    "    pool_id_table = {\"filename\": [], \"pool_id\": []}\n",
    "    for i, row in full_df.iterrows():\n",
    "        file = row.filename\n",
    "        pool_id_table[\"filename\"].append(file)\n",
    "\n",
    "        meta1 = metadata1[metadata1.filename == file].poolID\n",
    "        meta2 = metadata2[metadata2.RAW == file].pool_id\n",
    "        meta3 = metadata3[metadata3.RAW == file].pool_id\n",
    "\n",
    "        if len(meta2) == 1:\n",
    "            pool_id_table[\"pool_id\"].append(meta2.values[0])\n",
    "            continue\n",
    "\n",
    "        elif len(meta1) == 1:\n",
    "            pool_id_table[\"pool_id\"].append(meta1.values[0])\n",
    "            continue\n",
    "\n",
    "        elif len(meta3) == 1:\n",
    "            pool_id_table[\"pool_id\"].append(meta3.values[0])\n",
    "            continue\n",
    "        \n",
    "        else:\n",
    "            pool_id_table[\"pool_id\"].append(np.nan)\n",
    "\n",
    "    return pd.DataFrame(pool_id_table)"
   ]
  },
  {
   "cell_type": "code",
   "execution_count": 168,
   "metadata": {},
   "outputs": [],
   "source": [
    "pool1 = pd.read_csv(\"annotation_excel4.csv\")\n",
    "pool1 = pool1[pool1.Useable == \"yes\"]\n",
    "pool1[\"RAW\"] = pool1.RAW.apply(lambda x: str(x).split(\".\")[0])\n",
    "\n",
    "def change(row):\n",
    "    row_pool = row.pool_id\n",
    "    ref_pool = pool1[pool1.RAW == row.RAW]\n",
    "\n",
    "    if str(row_pool) == \"nan\":\n",
    "        if (len(ref_pool) > 0) and (str(row_pool) != str(ref_pool.pool_id.values[0])):\n",
    "            return str(ref_pool.pool_id.values[0])\n",
    "        return str(row.pool_id)\n",
    "    else:\n",
    "        return str(row.pool_id)\n",
    "\n",
    "pooling_annotation2[\"pool_id\"] = pooling_annotation2.apply(change, axis = 1)\n",
    "pooling_annotation2 = pooling_annotation2[pooling_annotation2.PXD != \"PXD013615\"]"
   ]
  },
  {
   "cell_type": "code",
   "execution_count": 169,
   "metadata": {},
   "outputs": [],
   "source": [
    "pool_table = generate_pool_table(full_df=full_df, metadata1=pooling_annotation, metadata2=pooling_annotation2, metadata3=pooling_annotation3)"
   ]
  },
  {
   "cell_type": "code",
   "execution_count": 174,
   "metadata": {},
   "outputs": [
    {
     "name": "stdout",
     "output_type": "stream",
     "text": [
      "(92, 18)\n"
     ]
    }
   ],
   "source": [
    "no_annotation_pool = full_df[full_df.filename.isin(pool_table[pool_table.pool_id.isin(\"? / no_annotation\".split())].filename)]\n",
    "print(no_annotation_pool.shape)"
   ]
  },
  {
   "cell_type": "code",
   "execution_count": 175,
   "metadata": {},
   "outputs": [
    {
     "data": {
      "text/plain": [
       "<matplotlib.axes._subplots.AxesSubplot at 0x7f18ee5c87d0>"
      ]
     },
     "execution_count": 175,
     "metadata": {},
     "output_type": "execute_result"
    },
    {
     "data": {
      "image/png": "[encoded data removed]",
      "text/plain": [
       "<Figure size 2520x504 with 1 Axes>"
      ]
     },
     "metadata": {
      "needs_background": "light"
     },
     "output_type": "display_data"
    }
   ],
   "source": [
    "plt.figure(figsize=(35,7))\n",
    "plt.xticks(rotation=90)\n",
    "sns.barplot(x=no_annotation_pool.filename, y=no_annotation_pool.proteins)"
   ]
  },
  {
   "cell_type": "code",
   "execution_count": 176,
   "metadata": {},
   "outputs": [
    {
     "data": {
      "text/plain": [
       "array(['PXD004280', 'PXD006112', 'PXD003896', 'PXD003790'], dtype=object)"
      ]
     },
     "execution_count": 176,
     "metadata": {},
     "output_type": "execute_result"
    }
   ],
   "source": [
    "no_annotation_pool.PXD_accession.unique()"
   ]
  },
  {
   "cell_type": "code",
   "execution_count": 177,
   "metadata": {},
   "outputs": [
    {
     "data": {
      "text/plain": [
       "(4322, 2)"
      ]
     },
     "execution_count": 177,
     "metadata": {},
     "output_type": "execute_result"
    }
   ],
   "source": [
    "pool_table_annot = pool_table[~pool_table.pool_id.isin(\"? / no_annotation\".split())]\n",
    "pool_table_annot.shape"
   ]
  },
  {
   "cell_type": "code",
   "execution_count": 179,
   "metadata": {},
   "outputs": [
    {
     "name": "stdout",
     "output_type": "stream",
     "text": [
      "(4322, 19)\n"
     ]
    },
    {
     "data": {
      "text/html": [
       "<div>\n",
       "<style scoped>\n",
       "    .dataframe tbody tr th:only-of-type {\n",
       "        vertical-align: middle;\n",
       "    }\n",
       "\n",
       "    .dataframe tbody tr th {\n",
       "        vertical-align: top;\n",
       "    }\n",
       "\n",
       "    .dataframe thead th {\n",
       "        text-align: right;\n",
       "    }\n",
       "</style>\n",
       "<table border=\"1\" class=\"dataframe\">\n",
       "  <thead>\n",
       "    <tr style=\"text-align: right;\">\n",
       "      <th></th>\n",
       "      <th>assay_id</th>\n",
       "      <th>project_id</th>\n",
       "      <th>filename</th>\n",
       "      <th>cell_id</th>\n",
       "      <th>cell_line</th>\n",
       "      <th>disease</th>\n",
       "      <th>treatment</th>\n",
       "      <th>tissue_type</th>\n",
       "      <th>sub_cell</th>\n",
       "      <th>organ_id</th>\n",
       "      <th>PXD_accession</th>\n",
       "      <th>all_PSM</th>\n",
       "      <th>sign_PSM</th>\n",
       "      <th>peptides</th>\n",
       "      <th>proteins</th>\n",
       "      <th>experiment_type</th>\n",
       "      <th>instrument</th>\n",
       "      <th>pmid</th>\n",
       "      <th>pool_id</th>\n",
       "    </tr>\n",
       "  </thead>\n",
       "  <tbody>\n",
       "    <tr>\n",
       "      <th>4317</th>\n",
       "      <td>36435</td>\n",
       "      <td>1872</td>\n",
       "      <td>01481_G02_P015041_S00_N15_R1</td>\n",
       "      <td>636</td>\n",
       "      <td>CRC</td>\n",
       "      <td>colorectal cancer</td>\n",
       "      <td>/</td>\n",
       "      <td>colon</td>\n",
       "      <td>/</td>\n",
       "      <td>None</td>\n",
       "      <td>PXD005354</td>\n",
       "      <td>42831</td>\n",
       "      <td>8512</td>\n",
       "      <td>2790</td>\n",
       "      <td>1239</td>\n",
       "      <td>in-solution</td>\n",
       "      <td>LTQ Orbitrap Velos</td>\n",
       "      <td>29101300</td>\n",
       "      <td>65</td>\n",
       "    </tr>\n",
       "    <tr>\n",
       "      <th>4318</th>\n",
       "      <td>36436</td>\n",
       "      <td>1872</td>\n",
       "      <td>01481_G03_P015041_S00_N23_R1</td>\n",
       "      <td>636</td>\n",
       "      <td>CRC</td>\n",
       "      <td>colorectal cancer</td>\n",
       "      <td>/</td>\n",
       "      <td>colon</td>\n",
       "      <td>/</td>\n",
       "      <td>None</td>\n",
       "      <td>PXD005354</td>\n",
       "      <td>23567</td>\n",
       "      <td>4960</td>\n",
       "      <td>1663</td>\n",
       "      <td>663</td>\n",
       "      <td>in-solution</td>\n",
       "      <td>LTQ Orbitrap Velos</td>\n",
       "      <td>29101300</td>\n",
       "      <td>65</td>\n",
       "    </tr>\n",
       "    <tr>\n",
       "      <th>4319</th>\n",
       "      <td>36437</td>\n",
       "      <td>1872</td>\n",
       "      <td>01481_H01_P015041_S00_N08_R1</td>\n",
       "      <td>636</td>\n",
       "      <td>CRC</td>\n",
       "      <td>colorectal cancer</td>\n",
       "      <td>/</td>\n",
       "      <td>colon</td>\n",
       "      <td>/</td>\n",
       "      <td>None</td>\n",
       "      <td>PXD005354</td>\n",
       "      <td>52524</td>\n",
       "      <td>9375</td>\n",
       "      <td>2980</td>\n",
       "      <td>1296</td>\n",
       "      <td>in-solution</td>\n",
       "      <td>LTQ Orbitrap Velos</td>\n",
       "      <td>29101300</td>\n",
       "      <td>65</td>\n",
       "    </tr>\n",
       "    <tr>\n",
       "      <th>4320</th>\n",
       "      <td>36438</td>\n",
       "      <td>1872</td>\n",
       "      <td>01481_H02_P015041_S00_N16_R1</td>\n",
       "      <td>636</td>\n",
       "      <td>CRC</td>\n",
       "      <td>colorectal cancer</td>\n",
       "      <td>/</td>\n",
       "      <td>colon</td>\n",
       "      <td>/</td>\n",
       "      <td>None</td>\n",
       "      <td>PXD005354</td>\n",
       "      <td>40851</td>\n",
       "      <td>8223</td>\n",
       "      <td>2626</td>\n",
       "      <td>1135</td>\n",
       "      <td>in-solution</td>\n",
       "      <td>LTQ Orbitrap Velos</td>\n",
       "      <td>29101300</td>\n",
       "      <td>65</td>\n",
       "    </tr>\n",
       "    <tr>\n",
       "      <th>4321</th>\n",
       "      <td>36439</td>\n",
       "      <td>1872</td>\n",
       "      <td>01481_H03_P015041_S00_N24_R1</td>\n",
       "      <td>636</td>\n",
       "      <td>CRC</td>\n",
       "      <td>colorectal cancer</td>\n",
       "      <td>/</td>\n",
       "      <td>colon</td>\n",
       "      <td>/</td>\n",
       "      <td>None</td>\n",
       "      <td>PXD005354</td>\n",
       "      <td>18078</td>\n",
       "      <td>3788</td>\n",
       "      <td>1116</td>\n",
       "      <td>435</td>\n",
       "      <td>in-solution</td>\n",
       "      <td>LTQ Orbitrap Velos</td>\n",
       "      <td>29101300</td>\n",
       "      <td>65</td>\n",
       "    </tr>\n",
       "  </tbody>\n",
       "</table>\n",
       "</div>"
      ],
      "text/plain": [
       "      assay_id  project_id                      filename  cell_id cell_line  \\\n",
       "4317     36435        1872  01481_G02_P015041_S00_N15_R1      636       CRC   \n",
       "4318     36436        1872  01481_G03_P015041_S00_N23_R1      636       CRC   \n",
       "4319     36437        1872  01481_H01_P015041_S00_N08_R1      636       CRC   \n",
       "4320     36438        1872  01481_H02_P015041_S00_N16_R1      636       CRC   \n",
       "4321     36439        1872  01481_H03_P015041_S00_N24_R1      636       CRC   \n",
       "\n",
       "                disease treatment tissue_type sub_cell organ_id PXD_accession  \\\n",
       "4317  colorectal cancer         /       colon        /     None     PXD005354   \n",
       "4318  colorectal cancer         /       colon        /     None     PXD005354   \n",
       "4319  colorectal cancer         /       colon        /     None     PXD005354   \n",
       "4320  colorectal cancer         /       colon        /     None     PXD005354   \n",
       "4321  colorectal cancer         /       colon        /     None     PXD005354   \n",
       "\n",
       "      all_PSM  sign_PSM  peptides  proteins experiment_type  \\\n",
       "4317    42831      8512      2790      1239     in-solution   \n",
       "4318    23567      4960      1663       663     in-solution   \n",
       "4319    52524      9375      2980      1296     in-solution   \n",
       "4320    40851      8223      2626      1135     in-solution   \n",
       "4321    18078      3788      1116       435     in-solution   \n",
       "\n",
       "              instrument      pmid pool_id  \n",
       "4317  LTQ Orbitrap Velos  29101300      65  \n",
       "4318  LTQ Orbitrap Velos  29101300      65  \n",
       "4319  LTQ Orbitrap Velos  29101300      65  \n",
       "4320  LTQ Orbitrap Velos  29101300      65  \n",
       "4321  LTQ Orbitrap Velos  29101300      65  "
      ]
     },
     "execution_count": 179,
     "metadata": {},
     "output_type": "execute_result"
    }
   ],
   "source": [
    "full_df = pd.merge(full_df, pool_table_annot, on=\"filename\")\n",
    "print(full_df.shape)\n",
    "full_df.tail()"
   ]
  },
  {
   "cell_type": "code",
   "execution_count": 187,
   "metadata": {},
   "outputs": [],
   "source": [
    "full_df[\"tissue_type\"] = full_df.tissue_type.replace(\"T-cell\", \"blood\")"
   ]
  },
  {
   "cell_type": "code",
   "execution_count": 189,
   "metadata": {},
   "outputs": [],
   "source": [
    "full_df.to_csv(\"unified_metadata.csv\")"
   ]
  },
  {
   "attachments": {},
   "cell_type": "markdown",
   "metadata": {},
   "source": [
    "---"
   ]
  },
  {
   "attachments": {},
   "cell_type": "markdown",
   "metadata": {},
   "source": [
    "Add ionbot version"
   ]
  },
  {
   "cell_type": "code",
   "execution_count": 7,
   "metadata": {},
   "outputs": [],
   "source": [
    "spectra3 = pd.read_csv(\"../Database/parsedNewFiles.csv\")\n",
    "ionbot_version1 = pd.read_csv(\"../Database/parsed_manual_meta2.csv\", index_col=\"Unnamed: 0\")[[\"PXD\", \"ionbot_version\"]]\n",
    "spectra3[\"ionbot_version\"] = spectra3.file_path.apply(lambda x: x.split(\"/\")[8])\n",
    "ionbot_version2 = spectra3[[\"PXD\", \"ionbot_version\"]]\n",
    "\n",
    "ionbot_version = {\"PXD\": {}, \"ionbot_version\": {}}\n",
    "for pxd in set(ionbot_version1.PXD.unique().tolist() + ionbot_version2.PXD.unique().tolist()):\n",
    "    if pxd in ionbot_version1.PXD.unique() and pxd in ionbot_version2.PXD.unique():\n",
    "        if ionbot_version1[ionbot_version1.PXD == pxd].ionbot_version.unique() != ionbot_version2[ionbot_version2.PXD == pxd].ionbot_version.unique():\n",
    "            print(f\"Non matching versions: {pxd}\")\n",
    "    \n",
    "    if pxd in ionbot_version1.PXD.unique():\n",
    "        ionbot_version[\"PXD\"][pxd] = pxd\n",
    "        ionbot_version[\"ionbot_version\"][pxd] = ionbot_version1[ionbot_version1.PXD == pxd].ionbot_version.unique()[0]\n",
    "\n",
    "    elif pxd in ionbot_version2.PXD.unique():\n",
    "        ionbot_version[\"PXD\"][pxd] = pxd\n",
    "        ionbot_version[\"ionbot_version\"][pxd] = ionbot_version2[ionbot_version2.PXD == pxd].ionbot_version.unique()[0]\n",
    "    \n",
    "    else:\n",
    "        print(f\"Error, {pxd} not found\")\n",
    "\n",
    "ionbot_version = pd.DataFrame(ionbot_version)\n",
    "\n",
    "meta = pd.read_csv(\"unified_metadata.csv\")\n",
    "meta[\"ionbot_version\"] = meta.PXD_accession.apply(lambda x: ionbot_version[ionbot_version.PXD == x].ionbot_version.values[0])"
   ]
  },
  {
   "cell_type": "code",
   "execution_count": 61,
   "metadata": {},
   "outputs": [],
   "source": [
    "meta.to_csv(\"unified_metadata.csv\", index = False)"
   ]
  }
 ],
 "metadata": {
  "kernelspec": {
   "display_name": "ionbot",
   "language": "python",
   "name": "python3"
  },
  "language_info": {
   "codemirror_mode": {
    "name": "ipython",
    "version": 3
   },
   "file_extension": ".py",
   "mimetype": "text/x-python",
   "name": "python",
   "nbconvert_exporter": "python",
   "pygments_lexer": "ipython3",
   "version": "3.7.7"
  },
  "orig_nbformat": 4,
  "vscode": {
   "interpreter": {
    "hash": "db8b8ce622d6c99bf71358dbacc49720c17f6ed359743e9dd314dcdbdb145bdd"
   }
  }
 },
 "nbformat": 4,
 "nbformat_minor": 2
}
