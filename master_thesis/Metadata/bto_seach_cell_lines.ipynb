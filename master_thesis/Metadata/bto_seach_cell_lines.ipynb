{
 "cells": [
  {
   "cell_type": "code",
   "execution_count": 20,
   "metadata": {},
   "outputs": [],
   "source": [
    "import nbconvert\n",
    "import re"
   ]
  },
  {
   "cell_type": "markdown",
   "metadata": {},
   "source": [
    "Every BTO id is checked whether it contains the PMIDs from the ionbot excel file. If this is the case, it gets saved into the list 'check_pmid'. If it was already in there, this means the PMID is linked with more than 1 BTO id and thus can be deleted.\n",
    "If a PMID is both present in the PMIDs and check_pmid lists, this means it is only linked with 1 bto."
   ]
  },
  {
   "cell_type": "code",
   "execution_count": 23,
   "metadata": {},
   "outputs": [
    {
     "name": "stdout",
     "output_type": "stream",
     "text": [
      "['25717101', '27918545', '28988947', '29467285', '29774096'] 208\n"
     ]
    }
   ],
   "source": [
    "\n",
    "with open(\"PMID_cellculture.txt\") as f:\n",
    "    text = \"\".join(f.readlines())\n",
    "\n",
    "regex = re.compile(r\"(PMID:)(\\d+)\")\n",
    "result = list(regex.findall(text))\n",
    "\n",
    "PMIDs = []\n",
    "for i in result:\n",
    "    PMIDs.append(i[1])\n",
    "\n",
    "print(PMIDs[:5], len(PMIDs))"
   ]
  },
  {
   "cell_type": "code",
   "execution_count": 24,
   "metadata": {},
   "outputs": [],
   "source": [
    "check_pmid = []\n",
    "bto_PMID = []\n",
    "\n",
    "with open('tissue_textmining_mentions.tsv') as infile:\n",
    "\n",
    "    for count, line in enumerate(infile):\n",
    "\n",
    "        line = str(line).replace('\\t', ' ')\n",
    "\n",
    "        line_list = line.split(' ')\n",
    "\n",
    "        ontology_term = line_list[0]\n",
    "\n",
    "        for i in PMIDs:\n",
    "            \n",
    "            if i in line_list:\n",
    "                \n",
    "                if i in check_pmid:\n",
    "                    PMIDs.remove(i)\n",
    "            \n",
    "                else:\n",
    "                    check_pmid.append(i)\n",
    "                    bto_PMID.append((ontology_term, i))\n",
    "\n",
    "        if len(PMIDs) < 5:\n",
    "            break"
   ]
  },
  {
   "cell_type": "code",
   "execution_count": 32,
   "metadata": {},
   "outputs": [
    {
     "name": "stdout",
     "output_type": "stream",
     "text": [
      "29747501\n",
      "29038488\n"
     ]
    }
   ],
   "source": [
    "for i in PMIDs:\n",
    "    if i in check_pmid:\n",
    "        print(i)"
   ]
  }
 ],
 "metadata": {
  "interpreter": {
   "hash": "31f2aee4e71d21fbe5cf8b01ff0e069b9275f58929596ceb00d14d90e3e16cd6"
  },
  "kernelspec": {
   "display_name": "Python 3.6.9 64-bit",
   "language": "python",
   "name": "python3"
  },
  "language_info": {
   "codemirror_mode": {
    "name": "ipython",
    "version": 3
   },
   "file_extension": ".py",
   "mimetype": "text/x-python",
   "name": "python",
   "nbconvert_exporter": "python",
   "pygments_lexer": "ipython3",
   "version": "3.7.6"
  },
  "orig_nbformat": 4
 },
 "nbformat": 4,
 "nbformat_minor": 2
}
