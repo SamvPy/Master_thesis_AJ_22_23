{
 "cells": [
  {
   "cell_type": "code",
   "execution_count": 3,
   "metadata": {},
   "outputs": [],
   "source": [
    "from pathlib import Path\n",
    "import os\n",
    "import pandas as pd\n",
    "import urllib.parse\n",
    "import urllib.request\n",
    "os.chdir(Path.home() / \"master_thesis_folder\")"
   ]
  },
  {
   "cell_type": "code",
   "execution_count": 4,
   "metadata": {},
   "outputs": [],
   "source": [
    "#Function converts ids and returns a dataframe using the UNIPROT ID Mapper.\n",
    "def id_converter(From, To, Query, id_names):\n",
    "    url = 'https://www.uniprot.org/uploadlists/'\n",
    "\n",
    "    params = {\n",
    "        'from' : From,\n",
    "        'to' : To,\n",
    "        'format' : 'tab',\n",
    "        'query': Query\n",
    "    }\n",
    "\n",
    "    data = urllib.parse.urlencode(params)\n",
    "    data = data.encode('utf-8')\n",
    "    req = urllib.request.Request(url, data)\n",
    "    with urllib.request.urlopen(req) as f:\n",
    "        response = f.read()\n",
    "\n",
    "    h_ensembl = response.decode('utf-8')\n",
    "    ensembl_file = open('h_ensembl.tsv', 'w')\n",
    "    ensembl_file.write(h_ensembl)\n",
    "    ensembl_file.close()\n",
    "\n",
    "    hp_ids_df = pd.read_csv(\"h_ensembl.tsv\", sep= '\\t', names = id_names)\n",
    "    return hp_ids_df"
   ]
  },
  {
   "cell_type": "markdown",
   "metadata": {},
   "source": [
    "Mouse orthologues are searched for a list of human proteins (4981) used in the tissue predictor.\n",
    "The human proteins are stored in a list variable called 'h_prots_uniprot'. These are uniprot ID's.\n",
    "\n",
    "First, BioMart is used to identify human-mouse orthologues. This file is stored in a panda dataframe.\n",
    "The proteins however are identified as ensembl_ids.\n",
    "\n",
    "- (KEGG)\n",
    "- BioMart\n"
   ]
  },
  {
   "cell_type": "code",
   "execution_count": 5,
   "metadata": {},
   "outputs": [
    {
     "data": {
      "text/plain": [
       "4981"
      ]
     },
     "execution_count": 5,
     "metadata": {},
     "output_type": "execute_result"
    }
   ],
   "source": [
    "h_prots_file = open(\"used_features.txt\", \"r\")\n",
    "h_prots = h_prots_file.read().split(\", \")\n",
    "h_prots_uniprot = [prot[1:-1] for prot in h_prots]\n",
    "len(h_prots_uniprot)"
   ]
  },
  {
   "cell_type": "code",
   "execution_count": 6,
   "metadata": {},
   "outputs": [
    {
     "data": {
      "text/html": [
       "<div>\n",
       "<style scoped>\n",
       "    .dataframe tbody tr th:only-of-type {\n",
       "        vertical-align: middle;\n",
       "    }\n",
       "\n",
       "    .dataframe tbody tr th {\n",
       "        vertical-align: top;\n",
       "    }\n",
       "\n",
       "    .dataframe thead th {\n",
       "        text-align: right;\n",
       "    }\n",
       "</style>\n",
       "<table border=\"1\" class=\"dataframe\">\n",
       "  <thead>\n",
       "    <tr style=\"text-align: right;\">\n",
       "      <th></th>\n",
       "      <th>Orthology confidence</th>\n",
       "      <th>human_eid</th>\n",
       "      <th>mouse_eid</th>\n",
       "    </tr>\n",
       "  </thead>\n",
       "  <tbody>\n",
       "    <tr>\n",
       "      <th>0</th>\n",
       "      <td>0</td>\n",
       "      <td>ENSP00000354687</td>\n",
       "      <td>ENSMUSP00000080991</td>\n",
       "    </tr>\n",
       "    <tr>\n",
       "      <th>1</th>\n",
       "      <td>1</td>\n",
       "      <td>ENSP00000355046</td>\n",
       "      <td>ENSMUSP00000080992</td>\n",
       "    </tr>\n",
       "    <tr>\n",
       "      <th>2</th>\n",
       "      <td>1</td>\n",
       "      <td>ENSP00000354499</td>\n",
       "      <td>ENSMUSP00000080993</td>\n",
       "    </tr>\n",
       "    <tr>\n",
       "      <th>3</th>\n",
       "      <td>1</td>\n",
       "      <td>ENSP00000354876</td>\n",
       "      <td>ENSMUSP00000080994</td>\n",
       "    </tr>\n",
       "    <tr>\n",
       "      <th>4</th>\n",
       "      <td>0</td>\n",
       "      <td>ENSP00000355265</td>\n",
       "      <td>ENSMUSP00000080995</td>\n",
       "    </tr>\n",
       "  </tbody>\n",
       "</table>\n",
       "</div>"
      ],
      "text/plain": [
       "   Orthology confidence        human_eid           mouse_eid\n",
       "0                     0  ENSP00000354687  ENSMUSP00000080991\n",
       "1                     1  ENSP00000355046  ENSMUSP00000080992\n",
       "2                     1  ENSP00000354499  ENSMUSP00000080993\n",
       "3                     1  ENSP00000354876  ENSMUSP00000080994\n",
       "4                     0  ENSP00000355265  ENSMUSP00000080995"
      ]
     },
     "execution_count": 6,
     "metadata": {},
     "output_type": "execute_result"
    }
   ],
   "source": [
    "hmo_df = pd.read_csv(\"mart_export.csv\")\n",
    "hmo_df = hmo_df.rename(columns={\n",
    "    \"Protein stable ID\" : \"human_eid\",\n",
    "    \"Mouse protein or transcript stable ID\" : \"mouse_eid\",\n",
    "    \"Mouse orthology confidence [0 low, 1 high]\": \"Orthology confidence\"\n",
    "})\n",
    "hmo_df.drop('Query protein or transcript ID', inplace=True, axis=1)\n",
    "hmo_df.head()"
   ]
  },
  {
   "cell_type": "code",
   "execution_count": 7,
   "metadata": {},
   "outputs": [
    {
     "data": {
      "text/plain": [
       "(47031, 3)"
      ]
     },
     "execution_count": 7,
     "metadata": {},
     "output_type": "execute_result"
    }
   ],
   "source": [
    "hmo_df.shape"
   ]
  },
  {
   "cell_type": "markdown",
   "metadata": {},
   "source": [
    "The database identifier mapping ('Retrieve/ID mapping') of UNIPROT was used to convert the uniprot_id of the human proteins into an ensembl_id. <br>\n",
    "This is stored into a dataframe called `hp_ids_df` and has 12194 rows."
   ]
  },
  {
   "cell_type": "code",
   "execution_count": 8,
   "metadata": {},
   "outputs": [
    {
     "data": {
      "text/plain": [
       "(12194, 2)"
      ]
     },
     "execution_count": 8,
     "metadata": {},
     "output_type": "execute_result"
    }
   ],
   "source": [
    "hp_ids_df = id_converter('ACC+ID', 'ENSEMBL_PRO_ID', \" \".join(h_prots_uniprot), [\"h_uniprot\", \"human_eid\"])\n",
    "\n",
    "hp_ids_df.shape"
   ]
  },
  {
   "cell_type": "code",
   "execution_count": 9,
   "metadata": {},
   "outputs": [
    {
     "data": {
      "text/html": [
       "<div>\n",
       "<style scoped>\n",
       "    .dataframe tbody tr th:only-of-type {\n",
       "        vertical-align: middle;\n",
       "    }\n",
       "\n",
       "    .dataframe tbody tr th {\n",
       "        vertical-align: top;\n",
       "    }\n",
       "\n",
       "    .dataframe thead th {\n",
       "        text-align: right;\n",
       "    }\n",
       "</style>\n",
       "<table border=\"1\" class=\"dataframe\">\n",
       "  <thead>\n",
       "    <tr style=\"text-align: right;\">\n",
       "      <th></th>\n",
       "      <th>h_uniprot</th>\n",
       "      <th>human_eid</th>\n",
       "    </tr>\n",
       "  </thead>\n",
       "  <tbody>\n",
       "    <tr>\n",
       "      <th>0</th>\n",
       "      <td>From</td>\n",
       "      <td>To</td>\n",
       "    </tr>\n",
       "    <tr>\n",
       "      <th>1</th>\n",
       "      <td>A0A075B6H7</td>\n",
       "      <td>ENSP00000374782</td>\n",
       "    </tr>\n",
       "    <tr>\n",
       "      <th>2</th>\n",
       "      <td>A0A075B6H7</td>\n",
       "      <td>ENSP00000487957</td>\n",
       "    </tr>\n",
       "    <tr>\n",
       "      <th>3</th>\n",
       "      <td>A0A075B6H8</td>\n",
       "      <td>ENSP00000374813</td>\n",
       "    </tr>\n",
       "    <tr>\n",
       "      <th>4</th>\n",
       "      <td>A0A075B6H9</td>\n",
       "      <td>ENSP00000374817</td>\n",
       "    </tr>\n",
       "  </tbody>\n",
       "</table>\n",
       "</div>"
      ],
      "text/plain": [
       "    h_uniprot        human_eid\n",
       "0        From               To\n",
       "1  A0A075B6H7  ENSP00000374782\n",
       "2  A0A075B6H7  ENSP00000487957\n",
       "3  A0A075B6H8  ENSP00000374813\n",
       "4  A0A075B6H9  ENSP00000374817"
      ]
     },
     "execution_count": 9,
     "metadata": {},
     "output_type": "execute_result"
    }
   ],
   "source": [
    "hp_ids_df.head()"
   ]
  },
  {
   "cell_type": "markdown",
   "metadata": {},
   "source": [
    "One uniprot_id is linked with several ensembl_ids. <br>\n",
    "However, **20** ensembl ids were not found. These uniprot_ids are stored in the variable '`eid_not_found`'."
   ]
  },
  {
   "cell_type": "code",
   "execution_count": 10,
   "metadata": {},
   "outputs": [
    {
     "name": "stdout",
     "output_type": "stream",
     "text": [
      "20\n"
     ]
    }
   ],
   "source": [
    "eid_not_found = []\n",
    "for prot in h_prots_uniprot:\n",
    "    if prot not in hp_ids_df.h_uniprot.values:\n",
    "        eid_not_found.append(prot)\n",
    "print(len(eid_not_found))"
   ]
  },
  {
   "cell_type": "markdown",
   "metadata": {},
   "source": [
    "Now the ensembl_ids of the uniprot entries are matched with the orthologues of the BioMart file. <br>\n",
    "The mouse orthologues are converted to a string in order to access the database identifier mapping ('Retrieve/ID mapping') of UNIPROT again. <br>\n",
    "Following this, the 2 dataframes are merged once more and the orthologues are linked by uniprot ID."
   ]
  },
  {
   "cell_type": "code",
   "execution_count": 11,
   "metadata": {},
   "outputs": [
    {
     "data": {
      "text/plain": [
       "(11210, 4)"
      ]
     },
     "execution_count": 11,
     "metadata": {},
     "output_type": "execute_result"
    }
   ],
   "source": [
    "hmo_df_1 = hp_ids_df.merge(hmo_df, on = \"human_eid\", how = \"inner\")\n",
    "hmo_df_1.shape"
   ]
  },
  {
   "cell_type": "code",
   "execution_count": 12,
   "metadata": {},
   "outputs": [
    {
     "data": {
      "text/html": [
       "<div>\n",
       "<style scoped>\n",
       "    .dataframe tbody tr th:only-of-type {\n",
       "        vertical-align: middle;\n",
       "    }\n",
       "\n",
       "    .dataframe tbody tr th {\n",
       "        vertical-align: top;\n",
       "    }\n",
       "\n",
       "    .dataframe thead th {\n",
       "        text-align: right;\n",
       "    }\n",
       "</style>\n",
       "<table border=\"1\" class=\"dataframe\">\n",
       "  <thead>\n",
       "    <tr style=\"text-align: right;\">\n",
       "      <th></th>\n",
       "      <th>h_uniprot</th>\n",
       "      <th>human_eid</th>\n",
       "      <th>Orthology confidence</th>\n",
       "      <th>mouse_eid</th>\n",
       "    </tr>\n",
       "  </thead>\n",
       "  <tbody>\n",
       "    <tr>\n",
       "      <th>0</th>\n",
       "      <td>A0A075B6H7</td>\n",
       "      <td>ENSP00000374782</td>\n",
       "      <td>0</td>\n",
       "      <td>ENSMUSP00000100174</td>\n",
       "    </tr>\n",
       "    <tr>\n",
       "      <th>1</th>\n",
       "      <td>A0A075B6H8</td>\n",
       "      <td>ENSP00000374813</td>\n",
       "      <td>0</td>\n",
       "      <td>ENSMUSP00000100124</td>\n",
       "    </tr>\n",
       "    <tr>\n",
       "      <th>2</th>\n",
       "      <td>A0A075B6H8</td>\n",
       "      <td>ENSP00000374813</td>\n",
       "      <td>0</td>\n",
       "      <td>ENSMUSP00000142805</td>\n",
       "    </tr>\n",
       "    <tr>\n",
       "      <th>3</th>\n",
       "      <td>A0A075B6H9</td>\n",
       "      <td>ENSP00000374817</td>\n",
       "      <td>0</td>\n",
       "      <td>ENSMUSP00000100465</td>\n",
       "    </tr>\n",
       "    <tr>\n",
       "      <th>4</th>\n",
       "      <td>A0A075B6I1</td>\n",
       "      <td>ENSP00000374819</td>\n",
       "      <td>0</td>\n",
       "      <td>ENSMUSP00000100465</td>\n",
       "    </tr>\n",
       "  </tbody>\n",
       "</table>\n",
       "</div>"
      ],
      "text/plain": [
       "    h_uniprot        human_eid  Orthology confidence           mouse_eid\n",
       "0  A0A075B6H7  ENSP00000374782                     0  ENSMUSP00000100174\n",
       "1  A0A075B6H8  ENSP00000374813                     0  ENSMUSP00000100124\n",
       "2  A0A075B6H8  ENSP00000374813                     0  ENSMUSP00000142805\n",
       "3  A0A075B6H9  ENSP00000374817                     0  ENSMUSP00000100465\n",
       "4  A0A075B6I1  ENSP00000374819                     0  ENSMUSP00000100465"
      ]
     },
     "execution_count": 12,
     "metadata": {},
     "output_type": "execute_result"
    }
   ],
   "source": [
    "hmo_df_1.head()"
   ]
  },
  {
   "cell_type": "code",
   "execution_count": 13,
   "metadata": {},
   "outputs": [
    {
     "data": {
      "text/plain": [
       "(5003, 2)"
      ]
     },
     "execution_count": 13,
     "metadata": {},
     "output_type": "execute_result"
    }
   ],
   "source": [
    "mouse_orthologue_serie = hmo_df_1.mouse_eid\n",
    "mouse_orth_string = \" \".join(mouse_orthologue_serie.values)\n",
    "\n",
    "mo_ids_df = id_converter(\"ENSEMBL_PRO_ID\", \"ACC\", mouse_orth_string, [\"mouse_eid\", \"mouse_uniprot\"])\n",
    "\n",
    "mo_ids_df.shape"
   ]
  },
  {
   "cell_type": "code",
   "execution_count": 14,
   "metadata": {},
   "outputs": [
    {
     "data": {
      "text/html": [
       "<div>\n",
       "<style scoped>\n",
       "    .dataframe tbody tr th:only-of-type {\n",
       "        vertical-align: middle;\n",
       "    }\n",
       "\n",
       "    .dataframe tbody tr th {\n",
       "        vertical-align: top;\n",
       "    }\n",
       "\n",
       "    .dataframe thead th {\n",
       "        text-align: right;\n",
       "    }\n",
       "</style>\n",
       "<table border=\"1\" class=\"dataframe\">\n",
       "  <thead>\n",
       "    <tr style=\"text-align: right;\">\n",
       "      <th></th>\n",
       "      <th>mouse_eid</th>\n",
       "      <th>mouse_uniprot</th>\n",
       "      <th>h_uniprot</th>\n",
       "      <th>human_eid</th>\n",
       "      <th>Orthology confidence</th>\n",
       "    </tr>\n",
       "  </thead>\n",
       "  <tbody>\n",
       "    <tr>\n",
       "      <th>0</th>\n",
       "      <td>ENSMUSP00000100174</td>\n",
       "      <td>A0A075B5M9</td>\n",
       "      <td>A0A075B6H7</td>\n",
       "      <td>ENSP00000374782</td>\n",
       "      <td>0</td>\n",
       "    </tr>\n",
       "    <tr>\n",
       "      <th>1</th>\n",
       "      <td>ENSMUSP00000100174</td>\n",
       "      <td>A0A075B5M9</td>\n",
       "      <td>A0A087WSY6</td>\n",
       "      <td>ENSP00000403672</td>\n",
       "      <td>0</td>\n",
       "    </tr>\n",
       "    <tr>\n",
       "      <th>2</th>\n",
       "      <td>ENSMUSP00000100174</td>\n",
       "      <td>A0A075B5M9</td>\n",
       "      <td>A0A0C4DH25</td>\n",
       "      <td>ENSP00000374805</td>\n",
       "      <td>0</td>\n",
       "    </tr>\n",
       "    <tr>\n",
       "      <th>3</th>\n",
       "      <td>ENSMUSP00000100174</td>\n",
       "      <td>A0A075B5M9</td>\n",
       "      <td>P01619</td>\n",
       "      <td>ENSP00000418649</td>\n",
       "      <td>0</td>\n",
       "    </tr>\n",
       "    <tr>\n",
       "      <th>4</th>\n",
       "      <td>ENSMUSP00000100124</td>\n",
       "      <td>A0A0B4J1I1</td>\n",
       "      <td>A0A075B6H8</td>\n",
       "      <td>ENSP00000374813</td>\n",
       "      <td>0</td>\n",
       "    </tr>\n",
       "    <tr>\n",
       "      <th>...</th>\n",
       "      <td>...</td>\n",
       "      <td>...</td>\n",
       "      <td>...</td>\n",
       "      <td>...</td>\n",
       "      <td>...</td>\n",
       "    </tr>\n",
       "    <tr>\n",
       "      <th>11217</th>\n",
       "      <td>ENSMUSP00000094176</td>\n",
       "      <td>Q69ZX6</td>\n",
       "      <td>Q9Y6X9</td>\n",
       "      <td>ENSP00000380763</td>\n",
       "      <td>1</td>\n",
       "    </tr>\n",
       "    <tr>\n",
       "      <th>11218</th>\n",
       "      <td>ENSMUSP00000123354</td>\n",
       "      <td>Q8C5W4</td>\n",
       "      <td>Q9Y6X9</td>\n",
       "      <td>ENSP00000215862</td>\n",
       "      <td>0</td>\n",
       "    </tr>\n",
       "    <tr>\n",
       "      <th>11219</th>\n",
       "      <td>ENSMUSP00000123354</td>\n",
       "      <td>Q8C5W4</td>\n",
       "      <td>Q9Y6X9</td>\n",
       "      <td>ENSP00000380763</td>\n",
       "      <td>0</td>\n",
       "    </tr>\n",
       "    <tr>\n",
       "      <th>11220</th>\n",
       "      <td>ENSMUSP00000023918</td>\n",
       "      <td>Q920Q8</td>\n",
       "      <td>Q9Y6Y0</td>\n",
       "      <td>ENSP00000356468</td>\n",
       "      <td>1</td>\n",
       "    </tr>\n",
       "    <tr>\n",
       "      <th>11221</th>\n",
       "      <td>ENSMUSP00000035610</td>\n",
       "      <td>G3X928</td>\n",
       "      <td>Q9Y6Y8</td>\n",
       "      <td>ENSP00000358071</td>\n",
       "      <td>1</td>\n",
       "    </tr>\n",
       "  </tbody>\n",
       "</table>\n",
       "<p>11222 rows × 5 columns</p>\n",
       "</div>"
      ],
      "text/plain": [
       "                mouse_eid mouse_uniprot   h_uniprot        human_eid  \\\n",
       "0      ENSMUSP00000100174    A0A075B5M9  A0A075B6H7  ENSP00000374782   \n",
       "1      ENSMUSP00000100174    A0A075B5M9  A0A087WSY6  ENSP00000403672   \n",
       "2      ENSMUSP00000100174    A0A075B5M9  A0A0C4DH25  ENSP00000374805   \n",
       "3      ENSMUSP00000100174    A0A075B5M9      P01619  ENSP00000418649   \n",
       "4      ENSMUSP00000100124    A0A0B4J1I1  A0A075B6H8  ENSP00000374813   \n",
       "...                   ...           ...         ...              ...   \n",
       "11217  ENSMUSP00000094176        Q69ZX6      Q9Y6X9  ENSP00000380763   \n",
       "11218  ENSMUSP00000123354        Q8C5W4      Q9Y6X9  ENSP00000215862   \n",
       "11219  ENSMUSP00000123354        Q8C5W4      Q9Y6X9  ENSP00000380763   \n",
       "11220  ENSMUSP00000023918        Q920Q8      Q9Y6Y0  ENSP00000356468   \n",
       "11221  ENSMUSP00000035610        G3X928      Q9Y6Y8  ENSP00000358071   \n",
       "\n",
       "       Orthology confidence  \n",
       "0                         0  \n",
       "1                         0  \n",
       "2                         0  \n",
       "3                         0  \n",
       "4                         0  \n",
       "...                     ...  \n",
       "11217                     1  \n",
       "11218                     0  \n",
       "11219                     0  \n",
       "11220                     1  \n",
       "11221                     1  \n",
       "\n",
       "[11222 rows x 5 columns]"
      ]
     },
     "execution_count": 14,
     "metadata": {},
     "output_type": "execute_result"
    }
   ],
   "source": [
    "hmo_df_2 = mo_ids_df.merge(hmo_df_1, on = \"mouse_eid\", how = \"inner\")\n",
    "hmo_df_2"
   ]
  },
  {
   "cell_type": "markdown",
   "metadata": {},
   "source": [
    "`hmo_uniprot_id_df` is a subset containing the uniprot_ids of `hmo_df_2` which is the linked dataframe."
   ]
  },
  {
   "cell_type": "code",
   "execution_count": 15,
   "metadata": {},
   "outputs": [
    {
     "data": {
      "text/html": [
       "<div>\n",
       "<style scoped>\n",
       "    .dataframe tbody tr th:only-of-type {\n",
       "        vertical-align: middle;\n",
       "    }\n",
       "\n",
       "    .dataframe tbody tr th {\n",
       "        vertical-align: top;\n",
       "    }\n",
       "\n",
       "    .dataframe thead th {\n",
       "        text-align: right;\n",
       "    }\n",
       "</style>\n",
       "<table border=\"1\" class=\"dataframe\">\n",
       "  <thead>\n",
       "    <tr style=\"text-align: right;\">\n",
       "      <th></th>\n",
       "      <th>h_uniprot</th>\n",
       "      <th>mouse_uniprot</th>\n",
       "      <th>Orthology confidence</th>\n",
       "    </tr>\n",
       "  </thead>\n",
       "  <tbody>\n",
       "    <tr>\n",
       "      <th>0</th>\n",
       "      <td>A0A075B6H7</td>\n",
       "      <td>A0A075B5M9</td>\n",
       "      <td>0</td>\n",
       "    </tr>\n",
       "    <tr>\n",
       "      <th>1</th>\n",
       "      <td>A0A087WSY6</td>\n",
       "      <td>A0A075B5M9</td>\n",
       "      <td>0</td>\n",
       "    </tr>\n",
       "    <tr>\n",
       "      <th>2</th>\n",
       "      <td>A0A0C4DH25</td>\n",
       "      <td>A0A075B5M9</td>\n",
       "      <td>0</td>\n",
       "    </tr>\n",
       "    <tr>\n",
       "      <th>3</th>\n",
       "      <td>P01619</td>\n",
       "      <td>A0A075B5M9</td>\n",
       "      <td>0</td>\n",
       "    </tr>\n",
       "    <tr>\n",
       "      <th>4</th>\n",
       "      <td>A0A075B6H8</td>\n",
       "      <td>A0A0B4J1I1</td>\n",
       "      <td>0</td>\n",
       "    </tr>\n",
       "  </tbody>\n",
       "</table>\n",
       "</div>"
      ],
      "text/plain": [
       "    h_uniprot mouse_uniprot  Orthology confidence\n",
       "0  A0A075B6H7    A0A075B5M9                     0\n",
       "1  A0A087WSY6    A0A075B5M9                     0\n",
       "2  A0A0C4DH25    A0A075B5M9                     0\n",
       "3      P01619    A0A075B5M9                     0\n",
       "4  A0A075B6H8    A0A0B4J1I1                     0"
      ]
     },
     "execution_count": 15,
     "metadata": {},
     "output_type": "execute_result"
    }
   ],
   "source": [
    "hmo_uniprot_id_df = hmo_df_2[[\"h_uniprot\", \"mouse_uniprot\", \"Orthology confidence\"]]\n",
    "hmo_uniprot_id_df.head()"
   ]
  },
  {
   "cell_type": "markdown",
   "metadata": {},
   "source": [
    "For 4308 human proteins (86.5%), at least 1 mouse orthologue is found with a high orthology confidence (as stated by BioMart). <br>"
   ]
  },
  {
   "cell_type": "code",
   "execution_count": 16,
   "metadata": {},
   "outputs": [
    {
     "data": {
      "text/plain": [
       "h_uniprot\n",
       "A0A0A0MS15    1\n",
       "A0A0U1RQS6    1\n",
       "A0AVT1        2\n",
       "A0MZ66        5\n",
       "A0PJW6        1\n",
       "             ..\n",
       "Q9Y6X5        1\n",
       "Q9Y6X8        1\n",
       "Q9Y6X9        2\n",
       "Q9Y6Y0        1\n",
       "Q9Y6Y8        1\n",
       "Name: mouse_uniprot, Length: 4308, dtype: int64"
      ]
     },
     "execution_count": 16,
     "metadata": {},
     "output_type": "execute_result"
    }
   ],
   "source": [
    "hmo_uniprot_id_df.loc[hmo_uniprot_id_df[\"Orthology confidence\"] == 1].groupby([\"h_uniprot\"]).mouse_uniprot.count()"
   ]
  },
  {
   "cell_type": "markdown",
   "metadata": {},
   "source": [
    "If the orthology score is not taken into account, 4704 (94.4%) human-mouse orthologues are found."
   ]
  },
  {
   "cell_type": "code",
   "execution_count": 17,
   "metadata": {},
   "outputs": [
    {
     "data": {
      "text/plain": [
       "h_uniprot\n",
       "A0A075B6H7    1\n",
       "A0A075B6H8    2\n",
       "A0A075B6H9    1\n",
       "A0A075B6I1    1\n",
       "A0A087WSY6    1\n",
       "             ..\n",
       "Q9Y6X5        1\n",
       "Q9Y6X8        1\n",
       "Q9Y6X9        4\n",
       "Q9Y6Y0        1\n",
       "Q9Y6Y8        1\n",
       "Name: mouse_uniprot, Length: 4704, dtype: int64"
      ]
     },
     "execution_count": 17,
     "metadata": {},
     "output_type": "execute_result"
    }
   ],
   "source": [
    "hmo_uniprot_id_df.groupby([\"h_uniprot\"]).mouse_uniprot.count()"
   ]
  },
  {
   "cell_type": "markdown",
   "metadata": {},
   "source": [
    "The uniprot_ids whereof no orthologue was found are stored in `no_orthologue_found`."
   ]
  },
  {
   "cell_type": "code",
   "execution_count": 18,
   "metadata": {},
   "outputs": [
    {
     "data": {
      "text/plain": [
       "257"
      ]
     },
     "execution_count": 18,
     "metadata": {},
     "output_type": "execute_result"
    }
   ],
   "source": [
    "no_orthologue_found = []\n",
    "for uid in h_prots_uniprot:\n",
    "    if uid not in hmo_uniprot_id_df.h_uniprot.values:\n",
    "        no_orthologue_found.append(uid)\n",
    "for i in eid_not_found:\n",
    "    no_orthologue_found.remove(i)\n",
    "len(no_orthologue_found)"
   ]
  },
  {
   "cell_type": "markdown",
   "metadata": {},
   "source": [
    "To choose 1 protein of the different matched orthologues, several options can be considered: <br>\n",
    "- at random (not preferable)\n",
    "- %id. target mouse gene identical to query gene (if the human gene is larger than the mouse gene)\n",
    "- %id. query gene identical to target mouse gene (if the mouse gene is larger than the human gene) \n",
    "<br>\n",
    "\n",
    "The last two criteria usually correlate pretty well with each other"
   ]
  }
 ],
 "metadata": {
  "interpreter": {
   "hash": "4a4eba04f191595a374d0029d4e5e3337cb1f862add4626c15529d5f40c3d40f"
  },
  "kernelspec": {
   "display_name": "Python 3.9.6 64-bit ('.mlenv': venv)",
   "name": "python3"
  },
  "language_info": {
   "codemirror_mode": {
    "name": "ipython",
    "version": 3
   },
   "file_extension": ".py",
   "mimetype": "text/x-python",
   "name": "python",
   "nbconvert_exporter": "python",
   "pygments_lexer": "ipython3",
   "version": "3.9.6"
  },
  "orig_nbformat": 4
 },
 "nbformat": 4,
 "nbformat_minor": 2
}
