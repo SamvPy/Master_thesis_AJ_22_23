{
 "cells": [
  {
   "cell_type": "markdown",
   "metadata": {},
   "source": [
    "# ML model performance comparison"
   ]
  },
  {
   "cell_type": "code",
   "execution_count": 1,
   "metadata": {},
   "outputs": [],
   "source": [
    "import pandas as pd\n",
    "import seaborn as sns\n",
    "import matplotlib.pyplot as plt\n",
    "import numpy as np"
   ]
  },
  {
   "cell_type": "code",
   "execution_count": 75,
   "metadata": {},
   "outputs": [],
   "source": [
    "def _unstring_list(stringed_list):\n",
    "    res = stringed_list.strip(\"][\")\n",
    "    res = [float(x.strip()) for x in res.split(\" \") if x != '']\n",
    "    return res"
   ]
  },
  {
   "cell_type": "code",
   "execution_count": 84,
   "metadata": {},
   "outputs": [],
   "source": [
    "def _group_f1_per_tissue(nested_list, labels_f1):\n",
    "    \n",
    "    f1_per_tissue = {label: [] for label in labels_f1}\n",
    "    for cv in range(10):\n",
    "        for index, label_f1 in enumerate(labels_f1):\n",
    "            f1_per_tissue[label_f1].append(nested_list[cv][index])\n",
    "    return f1_per_tissue"
   ]
  },
  {
   "cell_type": "code",
   "execution_count": 85,
   "metadata": {},
   "outputs": [],
   "source": [
    "def parse_boxplot_data(results_dataset, labels_f1):\n",
    "    '''\n",
    "    the results_dataset should contain #cv stringatized lists of f1_scores with each element the score of a label.\n",
    "    \n",
    "    The function returns a dataframe with 3 columns: tissue_type, f1_scores, algorithm\n",
    "    \n",
    "    This can directly be used as input to make boxplots.'''\n",
    "\n",
    "    algos = results_dataset.algorithm.unique()\n",
    "    # turn raw results table into dictionary {alg1: [f1_tissue_cv1, f1_tissue_cv2 , ..., f1_tissue_cvx], alg2: ...}\n",
    "    base_f1 = {alg : [] for alg in algos}\n",
    "    for alg in algos:\n",
    "        for f1 in results_dataset[results_dataset.algorithm == alg].f1:\n",
    "            base_f1[alg].append(_unstring_list(f1))\n",
    "\n",
    "    final_df = pd.DataFrame(columns = [\"tissue_type\", \"f1\", \"algorithm\"])\n",
    "    \n",
    "    for algo, nested_list in base_f1.items():\n",
    "\n",
    "        f1_grouped = _group_f1_per_tissue(nested_list=nested_list, labels_f1=labels_f1)\n",
    "        df_f1 = pd.DataFrame.from_dict(f1_grouped)\n",
    "        df_f1 = df_f1.melt(var_name=\"tissue_type\", value_name=\"f1\")\n",
    "        df_f1[\"algorithm\"] = algo\n",
    "    \n",
    "        final_df = pd.concat([final_df, df_f1], axis = 0)\n",
    "\n",
    "    return final_df"
   ]
  },
  {
   "cell_type": "code",
   "execution_count": 79,
   "metadata": {},
   "outputs": [],
   "source": [
    "base_results = pd.read_csv(\"base_results.csv\", sep = \";\").rename(columns = {\"Unnamed: 0\": \"algorithm\"})"
   ]
  },
  {
   "cell_type": "code",
   "execution_count": 80,
   "metadata": {},
   "outputs": [],
   "source": [
    "labels_f1 = ['breast',\n",
    " 'blood',\n",
    " 'brain',\n",
    " 'ovary',\n",
    " 'cervix',\n",
    " 'umbilical vein',\n",
    " 'colon',\n",
    " 'skin',\n",
    " 'kidney',\n",
    " 'trophoblast',\n",
    " 'liver']"
   ]
  },
  {
   "cell_type": "code",
   "execution_count": 87,
   "metadata": {},
   "outputs": [],
   "source": [
    "parsed_boxplot_data = parse_boxplot_data(base_results, labels_f1=labels_f1)"
   ]
  },
  {
   "cell_type": "code",
   "execution_count": 88,
   "metadata": {},
   "outputs": [
    {
     "data": {
      "text/html": [
       "<div>\n",
       "<style scoped>\n",
       "    .dataframe tbody tr th:only-of-type {\n",
       "        vertical-align: middle;\n",
       "    }\n",
       "\n",
       "    .dataframe tbody tr th {\n",
       "        vertical-align: top;\n",
       "    }\n",
       "\n",
       "    .dataframe thead th {\n",
       "        text-align: right;\n",
       "    }\n",
       "</style>\n",
       "<table border=\"1\" class=\"dataframe\">\n",
       "  <thead>\n",
       "    <tr style=\"text-align: right;\">\n",
       "      <th></th>\n",
       "      <th>tissue_type</th>\n",
       "      <th>f1</th>\n",
       "      <th>algorithm</th>\n",
       "    </tr>\n",
       "  </thead>\n",
       "  <tbody>\n",
       "    <tr>\n",
       "      <th>0</th>\n",
       "      <td>breast</td>\n",
       "      <td>0.842105</td>\n",
       "      <td>rf</td>\n",
       "    </tr>\n",
       "    <tr>\n",
       "      <th>1</th>\n",
       "      <td>breast</td>\n",
       "      <td>0.842105</td>\n",
       "      <td>rf</td>\n",
       "    </tr>\n",
       "    <tr>\n",
       "      <th>2</th>\n",
       "      <td>breast</td>\n",
       "      <td>1.000000</td>\n",
       "      <td>rf</td>\n",
       "    </tr>\n",
       "    <tr>\n",
       "      <th>3</th>\n",
       "      <td>breast</td>\n",
       "      <td>0.545455</td>\n",
       "      <td>rf</td>\n",
       "    </tr>\n",
       "    <tr>\n",
       "      <th>4</th>\n",
       "      <td>breast</td>\n",
       "      <td>0.857143</td>\n",
       "      <td>rf</td>\n",
       "    </tr>\n",
       "  </tbody>\n",
       "</table>\n",
       "</div>"
      ],
      "text/plain": [
       "  tissue_type        f1 algorithm\n",
       "0      breast  0.842105        rf\n",
       "1      breast  0.842105        rf\n",
       "2      breast  1.000000        rf\n",
       "3      breast  0.545455        rf\n",
       "4      breast  0.857143        rf"
      ]
     },
     "execution_count": 88,
     "metadata": {},
     "output_type": "execute_result"
    }
   ],
   "source": [
    "parsed_boxplot_data.head()"
   ]
  },
  {
   "cell_type": "code",
   "execution_count": 95,
   "metadata": {},
   "outputs": [
    {
     "data": {
      "text/plain": [
       "<matplotlib.axes._subplots.AxesSubplot at 0x7fa6443d0e10>"
      ]
     },
     "execution_count": 95,
     "metadata": {},
     "output_type": "execute_result"
    },
    {
     "data": {
      "image/png": "[encoded data removed]",
      "text/plain": [
       "<Figure size 1440x504 with 1 Axes>"
      ]
     },
     "metadata": {
      "needs_background": "light"
     },
     "output_type": "display_data"
    }
   ],
   "source": [
    "plt.figure(figsize=(20,7))\n",
    "plt.title(\"Base: F1 scores grouped by tissue per algorithm\")\n",
    "sns.boxplot(data = parsed_boxplot_data, x = \"tissue_type\", y = \"f1\", hue = \"algorithm\", orient = \"vertical\")"
   ]
  }
 ],
 "metadata": {
  "kernelspec": {
   "display_name": "Python 3.7.7 ('ionbot')",
   "language": "python",
   "name": "python3"
  },
  "language_info": {
   "codemirror_mode": {
    "name": "ipython",
    "version": 3
   },
   "file_extension": ".py",
   "mimetype": "text/x-python",
   "name": "python",
   "nbconvert_exporter": "python",
   "pygments_lexer": "ipython3",
   "version": "3.7.7"
  },
  "orig_nbformat": 4,
  "vscode": {
   "interpreter": {
    "hash": "db8b8ce622d6c99bf71358dbacc49720c17f6ed359743e9dd314dcdbdb145bdd"
   }
  }
 },
 "nbformat": 4,
 "nbformat_minor": 2
}
