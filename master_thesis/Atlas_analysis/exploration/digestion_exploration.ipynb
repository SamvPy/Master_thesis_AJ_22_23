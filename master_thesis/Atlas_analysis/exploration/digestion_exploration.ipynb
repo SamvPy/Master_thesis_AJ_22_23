{
 "cells": [
  {
   "cell_type": "markdown",
   "metadata": {},
   "source": [
    "Exploring whether digestion method tends to bias based on hydrophobicity"
   ]
  },
  {
   "cell_type": "code",
   "execution_count": 1,
   "metadata": {},
   "outputs": [],
   "source": [
    "import mysql.connector\n",
    "import matplotlib.pyplot as plt\n",
    "import numpy as np\n",
    "import pandas as pd\n",
    "import seaborn as sns\n",
    "from sklearn.manifold import TSNE "
   ]
  },
  {
   "cell_type": "code",
   "execution_count": 2,
   "metadata": {},
   "outputs": [
    {
     "name": "stdout",
     "output_type": "stream",
     "text": [
      "connection succesfull\n"
     ]
    }
   ],
   "source": [
    "conn = mysql.connector.connect(user='root', password='password', host='127.0.0.1', port='3306',\n",
    "                               database='expression_atlas_cells')\n",
    "mycursor = conn.cursor(buffered=True)\n",
    "\n",
    "# check the connection\n",
    "if conn.is_connected():\n",
    "    print(\"connection succesfull\")\n",
    "else:\n",
    "    print(\"no connection\")"
   ]
  },
  {
   "attachments": {},
   "cell_type": "markdown",
   "metadata": {},
   "source": [
    "# Calculating GRAVY (hydrophobicity)"
   ]
  },
  {
   "cell_type": "code",
   "execution_count": 3,
   "metadata": {},
   "outputs": [],
   "source": [
    "# Source: https://www.thermofisher.com/be/en/home/references/ambion-tech-support/rna-tools-and-calculators/proteins-and-amino-acids.html\n",
    "mol_weights =   {'A': 89.1,\n",
    "                'R': 174.2,\n",
    "                'N': 132.1,\n",
    "                'D': 133.1,\n",
    "                'C': 121.2,\n",
    "                'E': 147.1,\n",
    "                'Q': 146.2,\n",
    "                'G': 75.1,\n",
    "                'H': 155.2,\n",
    "                'I': 131.2,\n",
    "                'L': 131.2,\n",
    "                'K': 146.2,\n",
    "                'M': 149.2,\n",
    "                'F': 165.2,\n",
    "                'P': 115.1,\n",
    "                'S': 105.1,\n",
    "                'T': 119.1,\n",
    "                'W': 204.2,\n",
    "                'Y': 181.2,\n",
    "                'V': 117.1}\n",
    "\n",
    "def calculateWeight(sequence: str):\n",
    "    weight = 0\n",
    "    for AA in sequence:\n",
    "        if AA not in mol_weights.keys():\n",
    "            continue\n",
    "        weight += mol_weights[AA]\n",
    "    return weight"
   ]
  },
  {
   "cell_type": "code",
   "execution_count": 4,
   "metadata": {},
   "outputs": [],
   "source": [
    "#Gravy scores of AA; source: https://pubmed.ncbi.nlm.nih.gov/7108955/\n",
    "GRAVY_SCORES = {\n",
    "    \"I\": 4.5,\n",
    "    \"V\": 4.2,\n",
    "    \"L\": 3.8,\n",
    "    \"F\": 2.8,\n",
    "    \"C\": 2.5,\n",
    "    \"M\": 1.9,\n",
    "    \"A\": 1.8,\n",
    "    \"G\": -0.4,\n",
    "    \"T\": -.7,\n",
    "    \"W\": -0.9,\n",
    "    \"S\": -0.8,\n",
    "    \"Y\": - 1.3,\n",
    "    \"P\": -1.6,\n",
    "    \"H\": -3.2,\n",
    "    \"E\": - 3.5,\n",
    "    \"Q\": -3.5,\n",
    "    \"D\": -3.5,\n",
    "    \"N\": - 3.5,\n",
    "    \"K\": -3.9,\n",
    "    \"R\": - 4.5\n",
    "}\n",
    "\n",
    "def calculateGravy(sequence: str):\n",
    "    \"\"\"Calculates Gravy-score of a given protein sequence.\n",
    "    \n",
    "    Calculation is based on hydrophibicity score of AA from the following paper: https://pubmed.ncbi.nlm.nih.gov/7108955/\n",
    "    \n",
    "    G > 0: more hydrophobic\n",
    "    G < 0: more hydrophilic\"\"\"\n",
    "\n",
    "    G_score = 0\n",
    "    for AA in sequence:\n",
    "        if AA not in GRAVY_SCORES.keys():\n",
    "            continue\n",
    "        G_score += GRAVY_SCORES[AA]\n",
    "    return G_score/len(sequence)"
   ]
  },
  {
   "cell_type": "code",
   "execution_count": 5,
   "metadata": {},
   "outputs": [
    {
     "data": {
      "text/html": [
       "<div>\n",
       "<style scoped>\n",
       "    .dataframe tbody tr th:only-of-type {\n",
       "        vertical-align: middle;\n",
       "    }\n",
       "\n",
       "    .dataframe tbody tr th {\n",
       "        vertical-align: top;\n",
       "    }\n",
       "\n",
       "    .dataframe thead th {\n",
       "        text-align: right;\n",
       "    }\n",
       "</style>\n",
       "<table border=\"1\" class=\"dataframe\">\n",
       "  <thead>\n",
       "    <tr style=\"text-align: right;\">\n",
       "      <th></th>\n",
       "      <th>uniprot_id</th>\n",
       "      <th>sequence</th>\n",
       "      <th>GRAVY</th>\n",
       "    </tr>\n",
       "  </thead>\n",
       "  <tbody>\n",
       "    <tr>\n",
       "      <th>7</th>\n",
       "      <td>A0A024RBG1</td>\n",
       "      <td>MMKFKPNQTRTYDREGFKKRAACLCFRSEQEDEVLLVSSSRYPDQW...</td>\n",
       "      <td>-0.581768</td>\n",
       "    </tr>\n",
       "    <tr>\n",
       "      <th>14</th>\n",
       "      <td>A0A075B6H7</td>\n",
       "      <td>MEAPAQLLFLLLLWLPDTTREIVMTQSPPTLSLSPGERVTLSCRAS...</td>\n",
       "      <td>-0.106897</td>\n",
       "    </tr>\n",
       "    <tr>\n",
       "      <th>17</th>\n",
       "      <td>A0A075B6I1</td>\n",
       "      <td>MAWTPLLLLFPLLLHCTGSLSQPVLTQSSSASASLGSSVKLTCTLS...</td>\n",
       "      <td>-0.248333</td>\n",
       "    </tr>\n",
       "    <tr>\n",
       "      <th>18</th>\n",
       "      <td>A0A075B6I3</td>\n",
       "      <td>MALTPLLLLLLSHCTGSLSRPVLTQPPSLSASPGATARLPCTLSSD...</td>\n",
       "      <td>-0.156098</td>\n",
       "    </tr>\n",
       "    <tr>\n",
       "      <th>22</th>\n",
       "      <td>A0A075B6L6</td>\n",
       "      <td>MGTRLLCWAALCLLGADHTGAGVSQTPSNKVTEKGKDVELRCDPIS...</td>\n",
       "      <td>-0.290435</td>\n",
       "    </tr>\n",
       "  </tbody>\n",
       "</table>\n",
       "</div>"
      ],
      "text/plain": [
       "    uniprot_id                                           sequence     GRAVY\n",
       "7   A0A024RBG1  MMKFKPNQTRTYDREGFKKRAACLCFRSEQEDEVLLVSSSRYPDQW... -0.581768\n",
       "14  A0A075B6H7  MEAPAQLLFLLLLWLPDTTREIVMTQSPPTLSLSPGERVTLSCRAS... -0.106897\n",
       "17  A0A075B6I1  MAWTPLLLLFPLLLHCTGSLSQPVLTQSSSASASLGSSVKLTCTLS... -0.248333\n",
       "18  A0A075B6I3  MALTPLLLLLLSHCTGSLSRPVLTQPPSLSASPGATARLPCTLSSD... -0.156098\n",
       "22  A0A075B6L6  MGTRLLCWAALCLLGADHTGAGVSQTPSNKVTEKGKDVELRCDPIS... -0.290435"
      ]
     },
     "execution_count": 5,
     "metadata": {},
     "output_type": "execute_result"
    },
    {
     "data": {
      "image/png": "[encoded data removed]",
      "text/plain": [
       "<Figure size 432x288 with 1 Axes>"
      ]
     },
     "metadata": {
      "needs_background": "light"
     },
     "output_type": "display_data"
    }
   ],
   "source": [
    "# Get uniprot_ids and sequence from the database and calculate the GRAVY's\n",
    "\n",
    "query = \"SELECT uniprot_id, sequence FROM protein\"\n",
    "uniprot_seq = pd.read_sql(query, conn)\n",
    "uniprot_seq = uniprot_seq[~uniprot_seq.sequence.isna()]\n",
    "uniprot_seq[\"GRAVY\"] = uniprot_seq.apply(lambda x: calculateGravy(x[\"sequence\"]), axis = 1)\n",
    "sns.histplot(uniprot_seq.GRAVY)\n",
    "uniprot_seq.head()"
   ]
  },
  {
   "cell_type": "code",
   "execution_count": 6,
   "metadata": {},
   "outputs": [],
   "source": [
    "uniprot_seq = uniprot_seq.filter(items = [\"uniprot_id\", \"GRAVY\"]).set_index(\"uniprot_id\")"
   ]
  },
  {
   "cell_type": "code",
   "execution_count": 7,
   "metadata": {},
   "outputs": [],
   "source": [
    "# Read expression matrix\n",
    "\n",
    "data = pd.read_csv(\"../PEMatrix/norm_NSAF_data2.csv\", index_col = \"assay_id\")\n",
    "data = np.exp2(data).fillna(0)"
   ]
  },
  {
   "cell_type": "code",
   "execution_count": 10,
   "metadata": {},
   "outputs": [],
   "source": [
    "data[\"GRAVY\"] = data.apply(lambda x: apply_gravy(x), axis = 1)"
   ]
  },
  {
   "cell_type": "code",
   "execution_count": 9,
   "metadata": {},
   "outputs": [],
   "source": [
    "def apply_gravy(row):\n",
    "    column_names = data.columns\n",
    "    score = 0\n",
    "    norm = 0\n",
    "\n",
    "    for i in range(1,len(column_names)-1):\n",
    "\n",
    "        saf = row.values[i]\n",
    "        prot = column_names[i]\n",
    "\n",
    "        if saf != 0.0 and prot in uniprot_seq.index: \n",
    "            \n",
    "            GRAVY = uniprot_seq.loc[prot].values[0] #Take GRAVY score from uniprot_seq table\n",
    "            score += saf*GRAVY #Update score so there is one complete hydrophobicity score for the proteome\n",
    "            norm += saf\n",
    "\n",
    "    # Scores are normalized by the total expression in a sample to get the 'mean hydrophobicity score' of a sample    \n",
    "    norm_score = score/norm\n",
    "\n",
    "    return norm_score"
   ]
  },
  {
   "cell_type": "code",
   "execution_count": 30,
   "metadata": {},
   "outputs": [
    {
     "data": {
      "text/html": [
       "<div>\n",
       "<style scoped>\n",
       "    .dataframe tbody tr th:only-of-type {\n",
       "        vertical-align: middle;\n",
       "    }\n",
       "\n",
       "    .dataframe tbody tr th {\n",
       "        vertical-align: top;\n",
       "    }\n",
       "\n",
       "    .dataframe thead th {\n",
       "        text-align: right;\n",
       "    }\n",
       "</style>\n",
       "<table border=\"1\" class=\"dataframe\">\n",
       "  <thead>\n",
       "    <tr style=\"text-align: right;\">\n",
       "      <th></th>\n",
       "      <th>A0A024RBG1</th>\n",
       "      <th>A0A075B6X5</th>\n",
       "      <th>A0A075B767</th>\n",
       "      <th>A0A087WV62</th>\n",
       "      <th>A0A087X0K7</th>\n",
       "      <th>A0A096LP01</th>\n",
       "      <th>A0A096LP49</th>\n",
       "      <th>A0A096LP55</th>\n",
       "      <th>A0A0A6YYK6</th>\n",
       "      <th>A0A0A6YYK7</th>\n",
       "      <th>...</th>\n",
       "      <th>Q9Y6X8</th>\n",
       "      <th>Q9Y6X9</th>\n",
       "      <th>Q9Y6Y0</th>\n",
       "      <th>Q9Y6Y1</th>\n",
       "      <th>Q9Y6Y8</th>\n",
       "      <th>Q9Y6Y9</th>\n",
       "      <th>Q9Y6Z5</th>\n",
       "      <th>Q9Y6Z7</th>\n",
       "      <th>W5XKT8</th>\n",
       "      <th>GRAVY</th>\n",
       "    </tr>\n",
       "    <tr>\n",
       "      <th>assay_id</th>\n",
       "      <th></th>\n",
       "      <th></th>\n",
       "      <th></th>\n",
       "      <th></th>\n",
       "      <th></th>\n",
       "      <th></th>\n",
       "      <th></th>\n",
       "      <th></th>\n",
       "      <th></th>\n",
       "      <th></th>\n",
       "      <th></th>\n",
       "      <th></th>\n",
       "      <th></th>\n",
       "      <th></th>\n",
       "      <th></th>\n",
       "      <th></th>\n",
       "      <th></th>\n",
       "      <th></th>\n",
       "      <th></th>\n",
       "      <th></th>\n",
       "      <th></th>\n",
       "    </tr>\n",
       "  </thead>\n",
       "  <tbody>\n",
       "    <tr>\n",
       "      <th>30960</th>\n",
       "      <td>0.183124</td>\n",
       "      <td>0.0</td>\n",
       "      <td>0.0</td>\n",
       "      <td>0.000000</td>\n",
       "      <td>0.0</td>\n",
       "      <td>0.000000</td>\n",
       "      <td>0.0</td>\n",
       "      <td>0.0</td>\n",
       "      <td>0.0</td>\n",
       "      <td>0.0</td>\n",
       "      <td>...</td>\n",
       "      <td>0.351156</td>\n",
       "      <td>0.440845</td>\n",
       "      <td>0.578063</td>\n",
       "      <td>0.000000</td>\n",
       "      <td>0.724107</td>\n",
       "      <td>0.000000</td>\n",
       "      <td>0.0</td>\n",
       "      <td>0.000000</td>\n",
       "      <td>0.0</td>\n",
       "      <td>-0.417148</td>\n",
       "    </tr>\n",
       "    <tr>\n",
       "      <th>30961</th>\n",
       "      <td>0.000000</td>\n",
       "      <td>0.0</td>\n",
       "      <td>0.0</td>\n",
       "      <td>0.000000</td>\n",
       "      <td>0.0</td>\n",
       "      <td>0.000000</td>\n",
       "      <td>0.0</td>\n",
       "      <td>0.0</td>\n",
       "      <td>0.0</td>\n",
       "      <td>0.0</td>\n",
       "      <td>...</td>\n",
       "      <td>0.390983</td>\n",
       "      <td>0.460482</td>\n",
       "      <td>0.480931</td>\n",
       "      <td>0.046224</td>\n",
       "      <td>0.657400</td>\n",
       "      <td>0.000000</td>\n",
       "      <td>0.0</td>\n",
       "      <td>0.000000</td>\n",
       "      <td>0.0</td>\n",
       "      <td>-0.417552</td>\n",
       "    </tr>\n",
       "    <tr>\n",
       "      <th>31008</th>\n",
       "      <td>0.177701</td>\n",
       "      <td>0.0</td>\n",
       "      <td>0.0</td>\n",
       "      <td>0.000000</td>\n",
       "      <td>0.0</td>\n",
       "      <td>0.567224</td>\n",
       "      <td>0.0</td>\n",
       "      <td>0.0</td>\n",
       "      <td>0.0</td>\n",
       "      <td>0.0</td>\n",
       "      <td>...</td>\n",
       "      <td>0.133220</td>\n",
       "      <td>0.307616</td>\n",
       "      <td>0.464130</td>\n",
       "      <td>0.000000</td>\n",
       "      <td>0.749596</td>\n",
       "      <td>0.306039</td>\n",
       "      <td>0.0</td>\n",
       "      <td>0.000000</td>\n",
       "      <td>0.0</td>\n",
       "      <td>-0.415383</td>\n",
       "    </tr>\n",
       "    <tr>\n",
       "      <th>31009</th>\n",
       "      <td>0.175251</td>\n",
       "      <td>0.0</td>\n",
       "      <td>0.0</td>\n",
       "      <td>0.237335</td>\n",
       "      <td>0.0</td>\n",
       "      <td>0.681363</td>\n",
       "      <td>0.0</td>\n",
       "      <td>0.0</td>\n",
       "      <td>0.0</td>\n",
       "      <td>0.0</td>\n",
       "      <td>...</td>\n",
       "      <td>0.100064</td>\n",
       "      <td>0.391899</td>\n",
       "      <td>0.373511</td>\n",
       "      <td>0.000000</td>\n",
       "      <td>0.658392</td>\n",
       "      <td>0.302510</td>\n",
       "      <td>0.0</td>\n",
       "      <td>0.000000</td>\n",
       "      <td>0.0</td>\n",
       "      <td>-0.415629</td>\n",
       "    </tr>\n",
       "    <tr>\n",
       "      <th>31102</th>\n",
       "      <td>0.000000</td>\n",
       "      <td>0.0</td>\n",
       "      <td>0.0</td>\n",
       "      <td>0.000000</td>\n",
       "      <td>0.0</td>\n",
       "      <td>0.000000</td>\n",
       "      <td>0.0</td>\n",
       "      <td>0.0</td>\n",
       "      <td>0.0</td>\n",
       "      <td>0.0</td>\n",
       "      <td>...</td>\n",
       "      <td>0.000000</td>\n",
       "      <td>0.000000</td>\n",
       "      <td>0.000000</td>\n",
       "      <td>0.000000</td>\n",
       "      <td>0.307507</td>\n",
       "      <td>0.000000</td>\n",
       "      <td>0.0</td>\n",
       "      <td>0.000000</td>\n",
       "      <td>0.0</td>\n",
       "      <td>-0.434442</td>\n",
       "    </tr>\n",
       "    <tr>\n",
       "      <th>...</th>\n",
       "      <td>...</td>\n",
       "      <td>...</td>\n",
       "      <td>...</td>\n",
       "      <td>...</td>\n",
       "      <td>...</td>\n",
       "      <td>...</td>\n",
       "      <td>...</td>\n",
       "      <td>...</td>\n",
       "      <td>...</td>\n",
       "      <td>...</td>\n",
       "      <td>...</td>\n",
       "      <td>...</td>\n",
       "      <td>...</td>\n",
       "      <td>...</td>\n",
       "      <td>...</td>\n",
       "      <td>...</td>\n",
       "      <td>...</td>\n",
       "      <td>...</td>\n",
       "      <td>...</td>\n",
       "      <td>...</td>\n",
       "      <td>...</td>\n",
       "    </tr>\n",
       "    <tr>\n",
       "      <th>36558</th>\n",
       "      <td>0.000000</td>\n",
       "      <td>0.0</td>\n",
       "      <td>0.0</td>\n",
       "      <td>0.000000</td>\n",
       "      <td>0.0</td>\n",
       "      <td>0.000000</td>\n",
       "      <td>0.0</td>\n",
       "      <td>0.0</td>\n",
       "      <td>0.0</td>\n",
       "      <td>0.0</td>\n",
       "      <td>...</td>\n",
       "      <td>0.000000</td>\n",
       "      <td>0.549531</td>\n",
       "      <td>1.326739</td>\n",
       "      <td>0.000000</td>\n",
       "      <td>0.352428</td>\n",
       "      <td>0.000000</td>\n",
       "      <td>0.0</td>\n",
       "      <td>0.000000</td>\n",
       "      <td>0.0</td>\n",
       "      <td>-0.460267</td>\n",
       "    </tr>\n",
       "    <tr>\n",
       "      <th>36563</th>\n",
       "      <td>0.000000</td>\n",
       "      <td>0.0</td>\n",
       "      <td>0.0</td>\n",
       "      <td>0.000000</td>\n",
       "      <td>0.0</td>\n",
       "      <td>0.000000</td>\n",
       "      <td>0.0</td>\n",
       "      <td>0.0</td>\n",
       "      <td>0.0</td>\n",
       "      <td>0.0</td>\n",
       "      <td>...</td>\n",
       "      <td>0.000000</td>\n",
       "      <td>0.657817</td>\n",
       "      <td>0.320836</td>\n",
       "      <td>0.000000</td>\n",
       "      <td>1.290040</td>\n",
       "      <td>0.000000</td>\n",
       "      <td>0.0</td>\n",
       "      <td>0.000000</td>\n",
       "      <td>0.0</td>\n",
       "      <td>-0.463607</td>\n",
       "    </tr>\n",
       "    <tr>\n",
       "      <th>36568</th>\n",
       "      <td>0.000000</td>\n",
       "      <td>0.0</td>\n",
       "      <td>0.0</td>\n",
       "      <td>0.000000</td>\n",
       "      <td>0.0</td>\n",
       "      <td>0.000000</td>\n",
       "      <td>0.0</td>\n",
       "      <td>0.0</td>\n",
       "      <td>0.0</td>\n",
       "      <td>0.0</td>\n",
       "      <td>...</td>\n",
       "      <td>0.000000</td>\n",
       "      <td>0.244890</td>\n",
       "      <td>0.450411</td>\n",
       "      <td>0.000000</td>\n",
       "      <td>0.736769</td>\n",
       "      <td>0.000000</td>\n",
       "      <td>0.0</td>\n",
       "      <td>0.000000</td>\n",
       "      <td>0.0</td>\n",
       "      <td>-0.460008</td>\n",
       "    </tr>\n",
       "    <tr>\n",
       "      <th>36573</th>\n",
       "      <td>0.000000</td>\n",
       "      <td>0.0</td>\n",
       "      <td>0.0</td>\n",
       "      <td>0.000000</td>\n",
       "      <td>0.0</td>\n",
       "      <td>0.000000</td>\n",
       "      <td>0.0</td>\n",
       "      <td>0.0</td>\n",
       "      <td>0.0</td>\n",
       "      <td>0.0</td>\n",
       "      <td>...</td>\n",
       "      <td>0.000000</td>\n",
       "      <td>0.392924</td>\n",
       "      <td>0.651474</td>\n",
       "      <td>0.000000</td>\n",
       "      <td>0.268677</td>\n",
       "      <td>0.000000</td>\n",
       "      <td>0.0</td>\n",
       "      <td>0.561716</td>\n",
       "      <td>0.0</td>\n",
       "      <td>-0.443354</td>\n",
       "    </tr>\n",
       "    <tr>\n",
       "      <th>36578</th>\n",
       "      <td>0.000000</td>\n",
       "      <td>0.0</td>\n",
       "      <td>0.0</td>\n",
       "      <td>0.000000</td>\n",
       "      <td>0.0</td>\n",
       "      <td>0.000000</td>\n",
       "      <td>0.0</td>\n",
       "      <td>0.0</td>\n",
       "      <td>0.0</td>\n",
       "      <td>0.0</td>\n",
       "      <td>...</td>\n",
       "      <td>0.000000</td>\n",
       "      <td>0.528068</td>\n",
       "      <td>0.000000</td>\n",
       "      <td>0.000000</td>\n",
       "      <td>0.000000</td>\n",
       "      <td>0.000000</td>\n",
       "      <td>0.0</td>\n",
       "      <td>0.000000</td>\n",
       "      <td>0.0</td>\n",
       "      <td>-0.429053</td>\n",
       "    </tr>\n",
       "  </tbody>\n",
       "</table>\n",
       "<p>518 rows × 14508 columns</p>\n",
       "</div>"
      ],
      "text/plain": [
       "          A0A024RBG1  A0A075B6X5  A0A075B767  A0A087WV62  A0A087X0K7  \\\n",
       "assay_id                                                               \n",
       "30960       0.183124         0.0         0.0    0.000000         0.0   \n",
       "30961       0.000000         0.0         0.0    0.000000         0.0   \n",
       "31008       0.177701         0.0         0.0    0.000000         0.0   \n",
       "31009       0.175251         0.0         0.0    0.237335         0.0   \n",
       "31102       0.000000         0.0         0.0    0.000000         0.0   \n",
       "...              ...         ...         ...         ...         ...   \n",
       "36558       0.000000         0.0         0.0    0.000000         0.0   \n",
       "36563       0.000000         0.0         0.0    0.000000         0.0   \n",
       "36568       0.000000         0.0         0.0    0.000000         0.0   \n",
       "36573       0.000000         0.0         0.0    0.000000         0.0   \n",
       "36578       0.000000         0.0         0.0    0.000000         0.0   \n",
       "\n",
       "          A0A096LP01  A0A096LP49  A0A096LP55  A0A0A6YYK6  A0A0A6YYK7  ...  \\\n",
       "assay_id                                                              ...   \n",
       "30960       0.000000         0.0         0.0         0.0         0.0  ...   \n",
       "30961       0.000000         0.0         0.0         0.0         0.0  ...   \n",
       "31008       0.567224         0.0         0.0         0.0         0.0  ...   \n",
       "31009       0.681363         0.0         0.0         0.0         0.0  ...   \n",
       "31102       0.000000         0.0         0.0         0.0         0.0  ...   \n",
       "...              ...         ...         ...         ...         ...  ...   \n",
       "36558       0.000000         0.0         0.0         0.0         0.0  ...   \n",
       "36563       0.000000         0.0         0.0         0.0         0.0  ...   \n",
       "36568       0.000000         0.0         0.0         0.0         0.0  ...   \n",
       "36573       0.000000         0.0         0.0         0.0         0.0  ...   \n",
       "36578       0.000000         0.0         0.0         0.0         0.0  ...   \n",
       "\n",
       "            Q9Y6X8    Q9Y6X9    Q9Y6Y0    Q9Y6Y1    Q9Y6Y8    Q9Y6Y9  Q9Y6Z5  \\\n",
       "assay_id                                                                       \n",
       "30960     0.351156  0.440845  0.578063  0.000000  0.724107  0.000000     0.0   \n",
       "30961     0.390983  0.460482  0.480931  0.046224  0.657400  0.000000     0.0   \n",
       "31008     0.133220  0.307616  0.464130  0.000000  0.749596  0.306039     0.0   \n",
       "31009     0.100064  0.391899  0.373511  0.000000  0.658392  0.302510     0.0   \n",
       "31102     0.000000  0.000000  0.000000  0.000000  0.307507  0.000000     0.0   \n",
       "...            ...       ...       ...       ...       ...       ...     ...   \n",
       "36558     0.000000  0.549531  1.326739  0.000000  0.352428  0.000000     0.0   \n",
       "36563     0.000000  0.657817  0.320836  0.000000  1.290040  0.000000     0.0   \n",
       "36568     0.000000  0.244890  0.450411  0.000000  0.736769  0.000000     0.0   \n",
       "36573     0.000000  0.392924  0.651474  0.000000  0.268677  0.000000     0.0   \n",
       "36578     0.000000  0.528068  0.000000  0.000000  0.000000  0.000000     0.0   \n",
       "\n",
       "            Q9Y6Z7  W5XKT8     GRAVY  \n",
       "assay_id                              \n",
       "30960     0.000000     0.0 -0.417148  \n",
       "30961     0.000000     0.0 -0.417552  \n",
       "31008     0.000000     0.0 -0.415383  \n",
       "31009     0.000000     0.0 -0.415629  \n",
       "31102     0.000000     0.0 -0.434442  \n",
       "...            ...     ...       ...  \n",
       "36558     0.000000     0.0 -0.460267  \n",
       "36563     0.000000     0.0 -0.463607  \n",
       "36568     0.000000     0.0 -0.460008  \n",
       "36573     0.561716     0.0 -0.443354  \n",
       "36578     0.000000     0.0 -0.429053  \n",
       "\n",
       "[518 rows x 14508 columns]"
      ]
     },
     "execution_count": 30,
     "metadata": {},
     "output_type": "execute_result"
    }
   ],
   "source": [
    "data"
   ]
  },
  {
   "attachments": {},
   "cell_type": "markdown",
   "metadata": {},
   "source": [
    "# On protein level"
   ]
  },
  {
   "cell_type": "code",
   "execution_count": 11,
   "metadata": {},
   "outputs": [],
   "source": [
    "# Get metadata of the samples\n",
    "\n",
    "meta = pd.read_csv(\"../../Metadata/unified_metadata.csv\")\n",
    "meta = meta[meta.assay_id.isin(data.index)]\n",
    "\n",
    "groups = pd.read_csv(\"../../Metadata/group_cells_annotation.csv\", sep =\";\", index_col=\"Unnamed: 0\")\n",
    "meta[\"Group\"] = meta.cell_line.apply(lambda x: groups[groups.cell_line == x][\"group\"].values[0])\n",
    "meta = meta.set_index(\"assay_id\")"
   ]
  },
  {
   "cell_type": "code",
   "execution_count": 35,
   "metadata": {},
   "outputs": [
    {
     "data": {
      "text/html": [
       "<div>\n",
       "<style scoped>\n",
       "    .dataframe tbody tr th:only-of-type {\n",
       "        vertical-align: middle;\n",
       "    }\n",
       "\n",
       "    .dataframe tbody tr th {\n",
       "        vertical-align: top;\n",
       "    }\n",
       "\n",
       "    .dataframe thead th {\n",
       "        text-align: right;\n",
       "    }\n",
       "</style>\n",
       "<table border=\"1\" class=\"dataframe\">\n",
       "  <thead>\n",
       "    <tr style=\"text-align: right;\">\n",
       "      <th></th>\n",
       "      <th>project_id</th>\n",
       "      <th>filename</th>\n",
       "      <th>cell_id</th>\n",
       "      <th>cell_line</th>\n",
       "      <th>disease</th>\n",
       "      <th>treatment</th>\n",
       "      <th>tissue_type</th>\n",
       "      <th>sub_cell</th>\n",
       "      <th>organ_id</th>\n",
       "      <th>PXD_accession</th>\n",
       "      <th>all_PSM</th>\n",
       "      <th>sign_PSM</th>\n",
       "      <th>peptides</th>\n",
       "      <th>proteins</th>\n",
       "      <th>experiment_type</th>\n",
       "      <th>instrument</th>\n",
       "      <th>pmid</th>\n",
       "      <th>pool_id</th>\n",
       "      <th>ionbot_version</th>\n",
       "      <th>Group</th>\n",
       "    </tr>\n",
       "    <tr>\n",
       "      <th>assay_id</th>\n",
       "      <th></th>\n",
       "      <th></th>\n",
       "      <th></th>\n",
       "      <th></th>\n",
       "      <th></th>\n",
       "      <th></th>\n",
       "      <th></th>\n",
       "      <th></th>\n",
       "      <th></th>\n",
       "      <th></th>\n",
       "      <th></th>\n",
       "      <th></th>\n",
       "      <th></th>\n",
       "      <th></th>\n",
       "      <th></th>\n",
       "      <th></th>\n",
       "      <th></th>\n",
       "      <th></th>\n",
       "      <th></th>\n",
       "      <th></th>\n",
       "    </tr>\n",
       "  </thead>\n",
       "  <tbody>\n",
       "    <tr>\n",
       "      <th>30960</th>\n",
       "      <td>1815</td>\n",
       "      <td>3B10-1</td>\n",
       "      <td>545</td>\n",
       "      <td>Hep3B</td>\n",
       "      <td>hepatocellular carcinoma</td>\n",
       "      <td>/</td>\n",
       "      <td>liver</td>\n",
       "      <td>/</td>\n",
       "      <td>NaN</td>\n",
       "      <td>PXD000533</td>\n",
       "      <td>11014</td>\n",
       "      <td>10578</td>\n",
       "      <td>9705</td>\n",
       "      <td>2401</td>\n",
       "      <td>in-solution</td>\n",
       "      <td>Q-exactive</td>\n",
       "      <td>24328083</td>\n",
       "      <td>1</td>\n",
       "      <td>IONBOT_v0.8.0</td>\n",
       "      <td>HCC</td>\n",
       "    </tr>\n",
       "    <tr>\n",
       "      <th>30961</th>\n",
       "      <td>1815</td>\n",
       "      <td>3B10-2</td>\n",
       "      <td>545</td>\n",
       "      <td>Hep3B</td>\n",
       "      <td>hepatocellular carcinoma</td>\n",
       "      <td>/</td>\n",
       "      <td>liver</td>\n",
       "      <td>/</td>\n",
       "      <td>NaN</td>\n",
       "      <td>PXD000533</td>\n",
       "      <td>11530</td>\n",
       "      <td>11036</td>\n",
       "      <td>10104</td>\n",
       "      <td>2449</td>\n",
       "      <td>in-solution</td>\n",
       "      <td>Q-exactive</td>\n",
       "      <td>24328083</td>\n",
       "      <td>2</td>\n",
       "      <td>IONBOT_v0.8.0</td>\n",
       "      <td>HCC</td>\n",
       "    </tr>\n",
       "    <tr>\n",
       "      <th>31008</th>\n",
       "      <td>1815</td>\n",
       "      <td>H10-1</td>\n",
       "      <td>546</td>\n",
       "      <td>MHCC97</td>\n",
       "      <td>hepatocellular carcinoma</td>\n",
       "      <td>/</td>\n",
       "      <td>liver</td>\n",
       "      <td>MHCC97H</td>\n",
       "      <td>NaN</td>\n",
       "      <td>PXD000533</td>\n",
       "      <td>11151</td>\n",
       "      <td>10296</td>\n",
       "      <td>9384</td>\n",
       "      <td>2368</td>\n",
       "      <td>in-solution</td>\n",
       "      <td>Q-exactive</td>\n",
       "      <td>24328083</td>\n",
       "      <td>3</td>\n",
       "      <td>IONBOT_v0.8.0</td>\n",
       "      <td>HCC</td>\n",
       "    </tr>\n",
       "    <tr>\n",
       "      <th>31009</th>\n",
       "      <td>1815</td>\n",
       "      <td>H10-2</td>\n",
       "      <td>546</td>\n",
       "      <td>MHCC97</td>\n",
       "      <td>hepatocellular carcinoma</td>\n",
       "      <td>/</td>\n",
       "      <td>liver</td>\n",
       "      <td>MHCC97H</td>\n",
       "      <td>NaN</td>\n",
       "      <td>PXD000533</td>\n",
       "      <td>11335</td>\n",
       "      <td>10567</td>\n",
       "      <td>9593</td>\n",
       "      <td>2390</td>\n",
       "      <td>in-solution</td>\n",
       "      <td>Q-exactive</td>\n",
       "      <td>24328083</td>\n",
       "      <td>4</td>\n",
       "      <td>IONBOT_v0.8.0</td>\n",
       "      <td>HCC</td>\n",
       "    </tr>\n",
       "    <tr>\n",
       "      <th>31488</th>\n",
       "      <td>1832</td>\n",
       "      <td>CHPP_97H_RP1_1</td>\n",
       "      <td>546</td>\n",
       "      <td>MHCC97</td>\n",
       "      <td>hepatocellular carcinoma</td>\n",
       "      <td>/</td>\n",
       "      <td>liver</td>\n",
       "      <td>MHCC97H</td>\n",
       "      <td>NaN</td>\n",
       "      <td>PXD000529</td>\n",
       "      <td>7110</td>\n",
       "      <td>6598</td>\n",
       "      <td>5840</td>\n",
       "      <td>2181</td>\n",
       "      <td>in-solution</td>\n",
       "      <td>Q-exactive</td>\n",
       "      <td>24328083</td>\n",
       "      <td>1</td>\n",
       "      <td>IONBOT_v0.8.0</td>\n",
       "      <td>HCC</td>\n",
       "    </tr>\n",
       "  </tbody>\n",
       "</table>\n",
       "</div>"
      ],
      "text/plain": [
       "          project_id        filename  cell_id cell_line  \\\n",
       "assay_id                                                  \n",
       "30960           1815          3B10-1      545     Hep3B   \n",
       "30961           1815          3B10-2      545     Hep3B   \n",
       "31008           1815           H10-1      546    MHCC97   \n",
       "31009           1815           H10-2      546    MHCC97   \n",
       "31488           1832  CHPP_97H_RP1_1      546    MHCC97   \n",
       "\n",
       "                           disease treatment tissue_type sub_cell  organ_id  \\\n",
       "assay_id                                                                      \n",
       "30960     hepatocellular carcinoma         /       liver        /       NaN   \n",
       "30961     hepatocellular carcinoma         /       liver        /       NaN   \n",
       "31008     hepatocellular carcinoma         /       liver  MHCC97H       NaN   \n",
       "31009     hepatocellular carcinoma         /       liver  MHCC97H       NaN   \n",
       "31488     hepatocellular carcinoma         /       liver  MHCC97H       NaN   \n",
       "\n",
       "         PXD_accession  all_PSM  sign_PSM  peptides  proteins experiment_type  \\\n",
       "assay_id                                                                        \n",
       "30960        PXD000533    11014     10578      9705      2401     in-solution   \n",
       "30961        PXD000533    11530     11036     10104      2449     in-solution   \n",
       "31008        PXD000533    11151     10296      9384      2368     in-solution   \n",
       "31009        PXD000533    11335     10567      9593      2390     in-solution   \n",
       "31488        PXD000529     7110      6598      5840      2181     in-solution   \n",
       "\n",
       "          instrument      pmid  pool_id ionbot_version Group  \n",
       "assay_id                                                      \n",
       "30960     Q-exactive  24328083        1  IONBOT_v0.8.0   HCC  \n",
       "30961     Q-exactive  24328083        2  IONBOT_v0.8.0   HCC  \n",
       "31008     Q-exactive  24328083        3  IONBOT_v0.8.0   HCC  \n",
       "31009     Q-exactive  24328083        4  IONBOT_v0.8.0   HCC  \n",
       "31488     Q-exactive  24328083        1  IONBOT_v0.8.0   HCC  "
      ]
     },
     "execution_count": 35,
     "metadata": {},
     "output_type": "execute_result"
    }
   ],
   "source": [
    "meta.head()"
   ]
  },
  {
   "cell_type": "code",
   "execution_count": 37,
   "metadata": {},
   "outputs": [
    {
     "data": {
      "text/plain": [
       "in-solution            339\n",
       "FASP                   129\n",
       "in-gel                  33\n",
       "in-gel, in-solution     13\n",
       "in-solution, FASP        4\n",
       "Name: experiment_type, dtype: int64"
      ]
     },
     "execution_count": 37,
     "metadata": {},
     "output_type": "execute_result"
    }
   ],
   "source": [
    "meta.experiment_type.value_counts()"
   ]
  },
  {
   "cell_type": "code",
   "execution_count": 36,
   "metadata": {},
   "outputs": [
    {
     "data": {
      "text/plain": [
       "<matplotlib.axes._subplots.AxesSubplot at 0x7fbbc8701c90>"
      ]
     },
     "execution_count": 36,
     "metadata": {},
     "output_type": "execute_result"
    },
    {
     "data": {
      "image/png": "[encoded data removed]",
      "text/plain": [
       "<Figure size 432x288 with 1 Axes>"
      ]
     },
     "metadata": {
      "needs_background": "light"
     },
     "output_type": "display_data"
    }
   ],
   "source": [
    "# Distribution of mean hydrophibicity scores of samples\n",
    "sns.histplot(data.GRAVY)"
   ]
  },
  {
   "cell_type": "code",
   "execution_count": 42,
   "metadata": {},
   "outputs": [
    {
     "data": {
      "text/plain": [
       "<seaborn.axisgrid.FacetGrid at 0x7fbbc86fa810>"
      ]
     },
     "execution_count": 42,
     "metadata": {},
     "output_type": "execute_result"
    },
    {
     "data": {
      "image/png": "[encoded data removed]",
      "text/plain": [
       "<Figure size 1088x216 with 5 Axes>"
      ]
     },
     "metadata": {
      "needs_background": "light"
     },
     "output_type": "display_data"
    }
   ],
   "source": [
    "# Plot the same as above but separately for each experiment type\n",
    "\n",
    "# Form a facetgrid using columns with a hue\n",
    "sea = sns.FacetGrid(pd.merge(data, meta, left_index=True, right_index=True), col = \"experiment_type\")\n",
    "   \n",
    "# map the above form facetgrid with some attributes  \n",
    "sea.map(sns.histplot, \"GRAVY\")\n",
    " \n",
    "# adding legend\n",
    "sea.add_legend()"
   ]
  },
  {
   "cell_type": "code",
   "execution_count": 12,
   "metadata": {},
   "outputs": [
    {
     "data": {
      "text/plain": [
       "<matplotlib.axes._subplots.AxesSubplot at 0x7f28780bae90>"
      ]
     },
     "execution_count": 12,
     "metadata": {},
     "output_type": "execute_result"
    },
    {
     "data": {
      "image/png": "[encoded data removed]",
      "text/plain": [
       "<Figure size 432x288 with 1 Axes>"
      ]
     },
     "metadata": {
      "needs_background": "light"
     },
     "output_type": "display_data"
    }
   ],
   "source": [
    "sns.kdeplot(data = pd.merge(data.loc[meta[meta.experiment_type.isin([\"in-solution\", \"FASP\", \"in-gel\"])].index, :], \n",
    "                            meta[meta.experiment_type.isin([\"in-solution\", \"FASP\", \"in-gel\"])], left_index=True, right_index=True), x = \"GRAVY\", hue = \"experiment_type\", common_norm=False)"
   ]
  },
  {
   "cell_type": "code",
   "execution_count": 48,
   "metadata": {},
   "outputs": [],
   "source": [
    "on_filter_index = meta[meta.experiment_type == \"FASP\"].index\n",
    "in_solution_index = meta[meta.experiment_type == \"in-solution\"].index\n",
    "in_gel_index = meta[meta.experiment_type == \"in-gel\"].index"
   ]
  },
  {
   "cell_type": "code",
   "execution_count": 50,
   "metadata": {},
   "outputs": [
    {
     "data": {
      "text/plain": [
       "assay_id\n",
       "30960   -0.417148\n",
       "30961   -0.417552\n",
       "31008   -0.415383\n",
       "31009   -0.415629\n",
       "31488   -0.428349\n",
       "           ...   \n",
       "36299   -0.437395\n",
       "36344   -0.442043\n",
       "36347   -0.424842\n",
       "36350   -0.410503\n",
       "36416   -0.467440\n",
       "Name: GRAVY, Length: 339, dtype: float64"
      ]
     },
     "execution_count": 50,
     "metadata": {},
     "output_type": "execute_result"
    }
   ],
   "source": [
    "data.loc[in_solution_index,\"GRAVY\"]"
   ]
  },
  {
   "cell_type": "code",
   "execution_count": 54,
   "metadata": {},
   "outputs": [
    {
     "name": "stdout",
     "output_type": "stream",
     "text": [
      "Filter vs solution:  Ttest_indResult(statistic=5.9905914514707295, pvalue=1.3029502948739332e-08)\n",
      "Filter vs gel:       Ttest_indResult(statistic=-6.0135957717626685, pvalue=1.2228390850166546e-08)\n",
      "gel vs solution:     Ttest_indResult(statistic=19.496859288694434, pvalue=8.128288493284684e-28)\n"
     ]
    }
   ],
   "source": [
    "from scipy import stats\n",
    "filter_vs_solution = stats.ttest_ind(data.loc[on_filter_index,\"GRAVY\"], data.loc[in_solution_index, \"GRAVY\"], equal_var = False)\n",
    "filter_vs_gel = stats.ttest_ind(data.loc[on_filter_index,\"GRAVY\"], data.loc[in_gel_index, \"GRAVY\"], equal_var = False)\n",
    "gel_vs_solution = stats.ttest_ind(data.loc[in_gel_index,\"GRAVY\"], data.loc[in_solution_index, \"GRAVY\"], equal_var = False)\n",
    "\n",
    "print(\"Filter vs solution:  {}\".format(filter_vs_solution))\n",
    "print(\"Filter vs gel:       {}\".format(filter_vs_gel))\n",
    "print(\"gel vs solution:     {}\".format(gel_vs_solution))\n",
    "\n",
    "# TODO: perform other tests (Kruskal Wallis)"
   ]
  },
  {
   "attachments": {},
   "cell_type": "markdown",
   "metadata": {},
   "source": [
    "# On peptide level"
   ]
  },
  {
   "cell_type": "code",
   "execution_count": 8,
   "metadata": {},
   "outputs": [],
   "source": [
    "meta = pd.read_csv(\"../Metadata/unified_metadata.csv\")\n",
    "nsaf = pd.read_hdf(\"../Atlas_creation/proteome_nsaf_pooled_3.h5\")\n",
    "nsaf = nsaf.pivot(index=\"assay_id\", columns=\"uniprot_id\", values = \"NSAF\")\n",
    "\n",
    "meta = meta[meta.assay_id.isin(nsaf.index)]"
   ]
  },
  {
   "cell_type": "code",
   "execution_count": 6,
   "metadata": {},
   "outputs": [
    {
     "data": {
      "text/html": [
       "<div>\n",
       "<style scoped>\n",
       "    .dataframe tbody tr th:only-of-type {\n",
       "        vertical-align: middle;\n",
       "    }\n",
       "\n",
       "    .dataframe tbody tr th {\n",
       "        vertical-align: top;\n",
       "    }\n",
       "\n",
       "    .dataframe thead th {\n",
       "        text-align: right;\n",
       "    }\n",
       "</style>\n",
       "<table border=\"1\" class=\"dataframe\">\n",
       "  <thead>\n",
       "    <tr style=\"text-align: right;\">\n",
       "      <th></th>\n",
       "      <th>assay_id</th>\n",
       "      <th>project_id</th>\n",
       "      <th>filename</th>\n",
       "      <th>cell_id</th>\n",
       "      <th>cell_line</th>\n",
       "      <th>disease</th>\n",
       "      <th>treatment</th>\n",
       "      <th>tissue_type</th>\n",
       "      <th>sub_cell</th>\n",
       "      <th>organ_id</th>\n",
       "      <th>PXD_accession</th>\n",
       "      <th>all_PSM</th>\n",
       "      <th>sign_PSM</th>\n",
       "      <th>peptides</th>\n",
       "      <th>proteins</th>\n",
       "      <th>instrument</th>\n",
       "      <th>pmid</th>\n",
       "      <th>pool_id</th>\n",
       "    </tr>\n",
       "    <tr>\n",
       "      <th>experiment_type</th>\n",
       "      <th></th>\n",
       "      <th></th>\n",
       "      <th></th>\n",
       "      <th></th>\n",
       "      <th></th>\n",
       "      <th></th>\n",
       "      <th></th>\n",
       "      <th></th>\n",
       "      <th></th>\n",
       "      <th></th>\n",
       "      <th></th>\n",
       "      <th></th>\n",
       "      <th></th>\n",
       "      <th></th>\n",
       "      <th></th>\n",
       "      <th></th>\n",
       "      <th></th>\n",
       "      <th></th>\n",
       "    </tr>\n",
       "  </thead>\n",
       "  <tbody>\n",
       "    <tr>\n",
       "      <th>FASP</th>\n",
       "      <td>146</td>\n",
       "      <td>146</td>\n",
       "      <td>146</td>\n",
       "      <td>146</td>\n",
       "      <td>146</td>\n",
       "      <td>146</td>\n",
       "      <td>146</td>\n",
       "      <td>146</td>\n",
       "      <td>146</td>\n",
       "      <td>0</td>\n",
       "      <td>146</td>\n",
       "      <td>146</td>\n",
       "      <td>146</td>\n",
       "      <td>146</td>\n",
       "      <td>146</td>\n",
       "      <td>146</td>\n",
       "      <td>146</td>\n",
       "      <td>146</td>\n",
       "    </tr>\n",
       "    <tr>\n",
       "      <th>in-gel</th>\n",
       "      <td>38</td>\n",
       "      <td>38</td>\n",
       "      <td>38</td>\n",
       "      <td>38</td>\n",
       "      <td>38</td>\n",
       "      <td>38</td>\n",
       "      <td>38</td>\n",
       "      <td>38</td>\n",
       "      <td>38</td>\n",
       "      <td>0</td>\n",
       "      <td>38</td>\n",
       "      <td>38</td>\n",
       "      <td>38</td>\n",
       "      <td>38</td>\n",
       "      <td>38</td>\n",
       "      <td>38</td>\n",
       "      <td>38</td>\n",
       "      <td>38</td>\n",
       "    </tr>\n",
       "    <tr>\n",
       "      <th>in-gel, in-solution</th>\n",
       "      <td>13</td>\n",
       "      <td>13</td>\n",
       "      <td>13</td>\n",
       "      <td>13</td>\n",
       "      <td>13</td>\n",
       "      <td>13</td>\n",
       "      <td>13</td>\n",
       "      <td>13</td>\n",
       "      <td>13</td>\n",
       "      <td>0</td>\n",
       "      <td>13</td>\n",
       "      <td>13</td>\n",
       "      <td>13</td>\n",
       "      <td>13</td>\n",
       "      <td>13</td>\n",
       "      <td>13</td>\n",
       "      <td>13</td>\n",
       "      <td>13</td>\n",
       "    </tr>\n",
       "    <tr>\n",
       "      <th>in-solution</th>\n",
       "      <td>420</td>\n",
       "      <td>420</td>\n",
       "      <td>420</td>\n",
       "      <td>420</td>\n",
       "      <td>420</td>\n",
       "      <td>420</td>\n",
       "      <td>420</td>\n",
       "      <td>420</td>\n",
       "      <td>420</td>\n",
       "      <td>0</td>\n",
       "      <td>420</td>\n",
       "      <td>420</td>\n",
       "      <td>420</td>\n",
       "      <td>420</td>\n",
       "      <td>420</td>\n",
       "      <td>420</td>\n",
       "      <td>420</td>\n",
       "      <td>420</td>\n",
       "    </tr>\n",
       "    <tr>\n",
       "      <th>in-solution, FASP</th>\n",
       "      <td>4</td>\n",
       "      <td>4</td>\n",
       "      <td>4</td>\n",
       "      <td>4</td>\n",
       "      <td>4</td>\n",
       "      <td>4</td>\n",
       "      <td>4</td>\n",
       "      <td>4</td>\n",
       "      <td>4</td>\n",
       "      <td>0</td>\n",
       "      <td>4</td>\n",
       "      <td>4</td>\n",
       "      <td>4</td>\n",
       "      <td>4</td>\n",
       "      <td>4</td>\n",
       "      <td>4</td>\n",
       "      <td>4</td>\n",
       "      <td>4</td>\n",
       "    </tr>\n",
       "  </tbody>\n",
       "</table>\n",
       "</div>"
      ],
      "text/plain": [
       "                     assay_id  project_id  filename  cell_id  cell_line  \\\n",
       "experiment_type                                                           \n",
       "FASP                      146         146       146      146        146   \n",
       "in-gel                     38          38        38       38         38   \n",
       "in-gel, in-solution        13          13        13       13         13   \n",
       "in-solution               420         420       420      420        420   \n",
       "in-solution, FASP           4           4         4        4          4   \n",
       "\n",
       "                     disease  treatment  tissue_type  sub_cell  organ_id  \\\n",
       "experiment_type                                                            \n",
       "FASP                     146        146          146       146         0   \n",
       "in-gel                    38         38           38        38         0   \n",
       "in-gel, in-solution       13         13           13        13         0   \n",
       "in-solution              420        420          420       420         0   \n",
       "in-solution, FASP          4          4            4         4         0   \n",
       "\n",
       "                     PXD_accession  all_PSM  sign_PSM  peptides  proteins  \\\n",
       "experiment_type                                                             \n",
       "FASP                           146      146       146       146       146   \n",
       "in-gel                          38       38        38        38        38   \n",
       "in-gel, in-solution             13       13        13        13        13   \n",
       "in-solution                    420      420       420       420       420   \n",
       "in-solution, FASP                4        4         4         4         4   \n",
       "\n",
       "                     instrument  pmid  pool_id  \n",
       "experiment_type                                 \n",
       "FASP                        146   146      146  \n",
       "in-gel                       38    38       38  \n",
       "in-gel, in-solution          13    13       13  \n",
       "in-solution                 420   420      420  \n",
       "in-solution, FASP             4     4        4  "
      ]
     },
     "execution_count": 6,
     "metadata": {},
     "output_type": "execute_result"
    }
   ],
   "source": [
    "meta.groupby(\"experiment_type\").count()"
   ]
  },
  {
   "cell_type": "code",
   "execution_count": 9,
   "metadata": {},
   "outputs": [],
   "source": [
    "# Get the peptide counts for each assays and information of the peptides (sequence)\n",
    "\n",
    "sql_query = \"SELECT assay_id, peptide_id, quantification FROM peptide_to_assay\"\n",
    "peptide_assay = pd.read_sql(sql_query, conn)\n",
    "\n",
    "sql_query = \"SELECT * FROM peptide\"\n",
    "peptides = pd.read_sql(sql_query, conn)"
   ]
  },
  {
   "cell_type": "code",
   "execution_count": 11,
   "metadata": {},
   "outputs": [],
   "source": [
    "# Calculate some attributes\n",
    "peptides[\"GRAVY\"] = peptides.peptide_sequence.apply(lambda x: calculateGravy(x))\n",
    "peptides[\"MolWeight\"] = peptides.peptide_sequence.apply(lambda x: calculateWeight(x))\n",
    "peptides[\"Length\"] = peptides.peptide_sequence.apply(lambda x: len(x))"
   ]
  },
  {
   "cell_type": "code",
   "execution_count": 10,
   "metadata": {},
   "outputs": [
    {
     "data": {
      "text/html": [
       "<div>\n",
       "<style scoped>\n",
       "    .dataframe tbody tr th:only-of-type {\n",
       "        vertical-align: middle;\n",
       "    }\n",
       "\n",
       "    .dataframe tbody tr th {\n",
       "        vertical-align: top;\n",
       "    }\n",
       "\n",
       "    .dataframe thead th {\n",
       "        text-align: right;\n",
       "    }\n",
       "</style>\n",
       "<table border=\"1\" class=\"dataframe\">\n",
       "  <thead>\n",
       "    <tr style=\"text-align: right;\">\n",
       "      <th></th>\n",
       "      <th>GRAVY</th>\n",
       "      <th>MolWeight</th>\n",
       "    </tr>\n",
       "  </thead>\n",
       "  <tbody>\n",
       "    <tr>\n",
       "      <th>0</th>\n",
       "      <td>-0.077778</td>\n",
       "      <td>1295.4</td>\n",
       "    </tr>\n",
       "    <tr>\n",
       "      <th>1</th>\n",
       "      <td>0.460000</td>\n",
       "      <td>1297.6</td>\n",
       "    </tr>\n",
       "    <tr>\n",
       "      <th>2</th>\n",
       "      <td>0.021429</td>\n",
       "      <td>1868.3</td>\n",
       "    </tr>\n",
       "    <tr>\n",
       "      <th>3</th>\n",
       "      <td>-0.870833</td>\n",
       "      <td>3215.4</td>\n",
       "    </tr>\n",
       "    <tr>\n",
       "      <th>4</th>\n",
       "      <td>-0.586957</td>\n",
       "      <td>3259.7</td>\n",
       "    </tr>\n",
       "    <tr>\n",
       "      <th>...</th>\n",
       "      <td>...</td>\n",
       "      <td>...</td>\n",
       "    </tr>\n",
       "    <tr>\n",
       "      <th>495078</th>\n",
       "      <td>0.703448</td>\n",
       "      <td>3837.3</td>\n",
       "    </tr>\n",
       "    <tr>\n",
       "      <th>495079</th>\n",
       "      <td>0.082143</td>\n",
       "      <td>3719.4</td>\n",
       "    </tr>\n",
       "    <tr>\n",
       "      <th>495080</th>\n",
       "      <td>-1.050000</td>\n",
       "      <td>983.1</td>\n",
       "    </tr>\n",
       "    <tr>\n",
       "      <th>495081</th>\n",
       "      <td>-0.512500</td>\n",
       "      <td>2000.3</td>\n",
       "    </tr>\n",
       "    <tr>\n",
       "      <th>495082</th>\n",
       "      <td>-1.300000</td>\n",
       "      <td>1403.5</td>\n",
       "    </tr>\n",
       "  </tbody>\n",
       "</table>\n",
       "<p>495083 rows × 2 columns</p>\n",
       "</div>"
      ],
      "text/plain": [
       "           GRAVY  MolWeight\n",
       "0      -0.077778     1295.4\n",
       "1       0.460000     1297.6\n",
       "2       0.021429     1868.3\n",
       "3      -0.870833     3215.4\n",
       "4      -0.586957     3259.7\n",
       "...          ...        ...\n",
       "495078  0.703448     3837.3\n",
       "495079  0.082143     3719.4\n",
       "495080 -1.050000      983.1\n",
       "495081 -0.512500     2000.3\n",
       "495082 -1.300000     1403.5\n",
       "\n",
       "[495083 rows x 2 columns]"
      ]
     },
     "execution_count": 10,
     "metadata": {},
     "output_type": "execute_result"
    }
   ],
   "source": [
    "peptides.loc[:,[\"GRAVY\", \"MolWeight\"]]"
   ]
  },
  {
   "cell_type": "code",
   "execution_count": 12,
   "metadata": {},
   "outputs": [
    {
     "data": {
      "text/plain": [
       "<matplotlib.axes._subplots.AxesSubplot at 0x7fa828b57dd0>"
      ]
     },
     "execution_count": 12,
     "metadata": {},
     "output_type": "execute_result"
    },
    {
     "data": {
      "image/png": "[encoded data removed]",
      "text/plain": [
       "<Figure size 2160x504 with 3 Axes>"
      ]
     },
     "metadata": {
      "needs_background": "light"
     },
     "output_type": "display_data"
    }
   ],
   "source": [
    "# Plot the attributes of peptides found in the database, regardless of the number of times they are identified\n",
    "fig, ax = plt.subplots(1,3, figsize=(30,7))\n",
    "\n",
    "fig.suptitle(\"Distribution of all identified peptides in the database\")\n",
    "ax[0].set_title(\"Hydrophobicity\")\n",
    "ax[1].set_title(\"Molecular weight\")\n",
    "ax[2].set_title(\"Length\")\n",
    "\n",
    "sns.kdeplot(peptides.GRAVY, ax=ax[0])\n",
    "sns.kdeplot(peptides.MolWeight, ax=ax[1])\n",
    "sns.histplot(peptides.Length, ax=ax[2])"
   ]
  },
  {
   "cell_type": "code",
   "execution_count": 12,
   "metadata": {},
   "outputs": [],
   "source": [
    "peptide_table = pd.merge(peptide_assay, peptides, on = \"peptide_id\")"
   ]
  },
  {
   "cell_type": "code",
   "execution_count": 15,
   "metadata": {},
   "outputs": [
    {
     "data": {
      "text/plain": [
       "0        9705\n",
       "1       10104\n",
       "48       9384\n",
       "49       9593\n",
       "96       5840\n",
       "        ...  \n",
       "4181     1597\n",
       "4226     1781\n",
       "4229     1689\n",
       "4232     1806\n",
       "4298     1276\n",
       "Name: peptides, Length: 621, dtype: int64"
      ]
     },
     "execution_count": 15,
     "metadata": {},
     "output_type": "execute_result"
    }
   ],
   "source": [
    "# Peptides identified in the MS-files\n",
    "meta.peptides"
   ]
  },
  {
   "cell_type": "code",
   "execution_count": 17,
   "metadata": {},
   "outputs": [
    {
     "data": {
      "text/plain": [
       "<matplotlib.axes._subplots.AxesSubplot at 0x7f3d6e864190>"
      ]
     },
     "execution_count": 17,
     "metadata": {},
     "output_type": "execute_result"
    },
    {
     "data": {
      "image/png": "[encoded data removed]",
      "text/plain": [
       "<Figure size 432x288 with 1 Axes>"
      ]
     },
     "metadata": {
      "needs_background": "light"
     },
     "output_type": "display_data"
    }
   ],
   "source": [
    "# NOTE: the low peptide identifications is due to fractions\n",
    "sns.kdeplot(meta.peptides, hue = meta[\"ionbot_version\"])"
   ]
  },
  {
   "cell_type": "code",
   "execution_count": 14,
   "metadata": {},
   "outputs": [],
   "source": [
    "FASP_assay = meta[(meta.experiment_type == \"FASP\") &].assay_id.tolist()\n",
    "ingel_assay = meta[(meta.experiment_type == \"in-gel\") & ].assay_id.tolist()\n",
    "in_solution_assay = meta[(meta.experiment_type == \"in-solution\") & ].assay_id.tolist()"
   ]
  },
  {
   "cell_type": "code",
   "execution_count": 15,
   "metadata": {},
   "outputs": [
    {
     "data": {
      "text/plain": [
       "<BarContainer object of 3 artists>"
      ]
     },
     "execution_count": 15,
     "metadata": {},
     "output_type": "execute_result"
    },
    {
     "data": {
      "image/png": "[encoded data removed]",
      "text/plain": [
       "<Figure size 432x288 with 1 Axes>"
      ]
     },
     "metadata": {
      "needs_background": "light"
     },
     "output_type": "display_data"
    }
   ],
   "source": [
    "# Counts of samples with certain sample prep\n",
    "plt.bar(x=[\"On Filter\", 'In Gel', \"In Solution\"], height = [len(set(FASP_assay)), len(set(ingel_assay)), len(set(in_solution_assay))])"
   ]
  },
  {
   "cell_type": "code",
   "execution_count": 16,
   "metadata": {},
   "outputs": [],
   "source": [
    "peptides_FASP = peptide_table[peptide_table.assay_id.isin(FASP_assay)]\n",
    "peptides_ingel = peptide_table[peptide_table.assay_id.isin(ingel_assay)]\n",
    "peptides_solution = peptide_table[peptide_table.assay_id.isin(in_solution_assay)]"
   ]
  },
  {
   "cell_type": "code",
   "execution_count": 17,
   "metadata": {},
   "outputs": [],
   "source": [
    "from ipywidgets import IntProgress\n",
    "from IPython.display import display\n",
    "\n",
    "def summarize_assay_datapoints(table: pd.DataFrame):\n",
    "    \n",
    "    # {'GRAVY': {'assay1': x, 'assay2': x}, {'MolWeight}: {'assay1': x, 'assay2': x}}\n",
    "    dataframe_data = {'GRAVY': {}, \n",
    "                      'MolWeight': {},\n",
    "                      'AvgLength': {}}\n",
    "    \n",
    "    assay_ids = table.assay_id.unique()\n",
    "\n",
    "    f = IntProgress(min=0, max = len(assay_ids))\n",
    "    display(f)\n",
    "\n",
    "    # For each assay, compute several metrics\n",
    "    for assay_id in assay_ids:\n",
    "        assay_table = table[table.assay_id == assay_id]\n",
    "\n",
    "        total_quant = 0\n",
    "        Gravy = 0\n",
    "        MolWeight = 0\n",
    "        AvgLength = 0\n",
    "\n",
    "        # For each peptide in the assay, sum the metrics\n",
    "        for i, row in assay_table.iterrows():\n",
    "\n",
    "            total_quant += row[\"quantification\"]\n",
    "            Gravy += row[\"GRAVY\"] * row[\"quantification\"]\n",
    "            MolWeight += row[\"MolWeight\"] * row[\"quantification\"]\n",
    "            AvgLength += row[\"Length\"] * row[\"quantification\"]\n",
    "\n",
    "        # Normalize them by the amount of peptides identified\n",
    "        Gravy = Gravy / total_quant\n",
    "        MolWeight = MolWeight / total_quant\n",
    "        AvgLength = AvgLength / total_quant\n",
    "\n",
    "        # Save them in dataframe format\n",
    "        dataframe_data[\"GRAVY\"][assay_id] = Gravy\n",
    "        dataframe_data[\"MolWeight\"][assay_id] = MolWeight\n",
    "        dataframe_data[\"AvgLength\"][assay_id] = AvgLength\n",
    "\n",
    "        f.value += 1\n",
    "    \n",
    "    return pd.DataFrame(dataframe_data)"
   ]
  },
  {
   "cell_type": "code",
   "execution_count": 18,
   "metadata": {},
   "outputs": [
    {
     "name": "stdout",
     "output_type": "stream",
     "text": [
      "(135280, 8) (2929608, 8) (1242894, 8)\n"
     ]
    }
   ],
   "source": [
    "print(peptides_ingel.shape, peptides_solution.shape, peptides_FASP.shape)"
   ]
  },
  {
   "cell_type": "code",
   "execution_count": 19,
   "metadata": {},
   "outputs": [
    {
     "data": {
      "application/vnd.jupyter.widget-view+json": {
       "model_id": "a142fe3f541140768894b8bbbe038e95",
       "version_major": 2,
       "version_minor": 0
      },
      "text/plain": [
       "IntProgress(value=0, max=38)"
      ]
     },
     "metadata": {},
     "output_type": "display_data"
    },
    {
     "data": {
      "application/vnd.jupyter.widget-view+json": {
       "model_id": "fbf6029691834e7f8c98e8ec8a1b62bb",
       "version_major": 2,
       "version_minor": 0
      },
      "text/plain": [
       "IntProgress(value=0, max=420)"
      ]
     },
     "metadata": {},
     "output_type": "display_data"
    },
    {
     "data": {
      "application/vnd.jupyter.widget-view+json": {
       "model_id": "ed88ed0dedbd4c688e72a7102df0cb16",
       "version_major": 2,
       "version_minor": 0
      },
      "text/plain": [
       "IntProgress(value=0, max=146)"
      ]
     },
     "metadata": {},
     "output_type": "display_data"
    }
   ],
   "source": [
    "in_gel_df = summarize_assay_datapoints(peptides_ingel)\n",
    "in_solution_df = summarize_assay_datapoints(peptides_solution)\n",
    "FASP_df = summarize_assay_datapoints(peptides_FASP)"
   ]
  },
  {
   "cell_type": "code",
   "execution_count": 20,
   "metadata": {},
   "outputs": [],
   "source": [
    "in_gel_df[\"Type\"] = \"in gel\"\n",
    "in_solution_df[\"Type\"] = \"in solution\"\n",
    "FASP_df[\"Type\"] = \"on filter\""
   ]
  },
  {
   "cell_type": "code",
   "execution_count": 21,
   "metadata": {},
   "outputs": [
    {
     "data": {
      "text/html": [
       "<div>\n",
       "<style scoped>\n",
       "    .dataframe tbody tr th:only-of-type {\n",
       "        vertical-align: middle;\n",
       "    }\n",
       "\n",
       "    .dataframe tbody tr th {\n",
       "        vertical-align: top;\n",
       "    }\n",
       "\n",
       "    .dataframe thead th {\n",
       "        text-align: right;\n",
       "    }\n",
       "</style>\n",
       "<table border=\"1\" class=\"dataframe\">\n",
       "  <thead>\n",
       "    <tr style=\"text-align: right;\">\n",
       "      <th></th>\n",
       "      <th>GRAVY</th>\n",
       "      <th>MolWeight</th>\n",
       "      <th>AvgLength</th>\n",
       "      <th>Type</th>\n",
       "    </tr>\n",
       "  </thead>\n",
       "  <tbody>\n",
       "    <tr>\n",
       "      <th>31336</th>\n",
       "      <td>-0.219539</td>\n",
       "      <td>2290.165129</td>\n",
       "      <td>17.823423</td>\n",
       "      <td>in gel</td>\n",
       "    </tr>\n",
       "    <tr>\n",
       "      <th>31339</th>\n",
       "      <td>-0.227038</td>\n",
       "      <td>2294.455268</td>\n",
       "      <td>17.852712</td>\n",
       "      <td>in gel</td>\n",
       "    </tr>\n",
       "    <tr>\n",
       "      <th>31138</th>\n",
       "      <td>-0.151920</td>\n",
       "      <td>2008.655944</td>\n",
       "      <td>15.680743</td>\n",
       "      <td>in gel</td>\n",
       "    </tr>\n",
       "    <tr>\n",
       "      <th>31139</th>\n",
       "      <td>-0.154921</td>\n",
       "      <td>1992.073076</td>\n",
       "      <td>15.554104</td>\n",
       "      <td>in gel</td>\n",
       "    </tr>\n",
       "    <tr>\n",
       "      <th>31140</th>\n",
       "      <td>-0.189968</td>\n",
       "      <td>2017.660812</td>\n",
       "      <td>15.760542</td>\n",
       "      <td>in gel</td>\n",
       "    </tr>\n",
       "  </tbody>\n",
       "</table>\n",
       "</div>"
      ],
      "text/plain": [
       "          GRAVY    MolWeight  AvgLength    Type\n",
       "31336 -0.219539  2290.165129  17.823423  in gel\n",
       "31339 -0.227038  2294.455268  17.852712  in gel\n",
       "31138 -0.151920  2008.655944  15.680743  in gel\n",
       "31139 -0.154921  1992.073076  15.554104  in gel\n",
       "31140 -0.189968  2017.660812  15.760542  in gel"
      ]
     },
     "execution_count": 21,
     "metadata": {},
     "output_type": "execute_result"
    }
   ],
   "source": [
    "summary_df = pd.concat([in_gel_df, in_solution_df, FASP_df])\n",
    "summary_df.head()"
   ]
  },
  {
   "cell_type": "code",
   "execution_count": 29,
   "metadata": {},
   "outputs": [
    {
     "data": {
      "text/plain": [
       "<matplotlib.axes._subplots.AxesSubplot at 0x7fa828b86d50>"
      ]
     },
     "execution_count": 29,
     "metadata": {},
     "output_type": "execute_result"
    },
    {
     "data": {
      "image/png": "[encoded data removed]",
      "text/plain": [
       "<Figure size 2160x864 with 6 Axes>"
      ]
     },
     "metadata": {
      "needs_background": "light"
     },
     "output_type": "display_data"
    }
   ],
   "source": [
    "# Plot the mean GRAVY, molecular weight and length of the peptides identified in a sample\n",
    "\n",
    "fig, ax = plt.subplots(2,3, figsize=(30,12))\n",
    "\n",
    "ax[0,0].set_title(\"GRAVY\")\n",
    "sns.kdeplot(summary_df.GRAVY, hue = summary_df.Type, ax = ax[0,0], common_norm=False)\n",
    "\n",
    "ax[0,1].set_title(\"MolWeight\")\n",
    "sns.kdeplot(summary_df.MolWeight, hue = summary_df.Type, ax = ax[0,1], common_norm=False)\n",
    "\n",
    "ax[0,2].set_title(\"AvgLength\")\n",
    "sns.kdeplot(summary_df.AvgLength, hue = summary_df.Type, ax = ax[0,2], common_norm=False)\n",
    "\n",
    "ax[1,0].set_title(\"GRAVY\")\n",
    "sns.boxplot(data=summary_df, x=\"Type\", y=\"GRAVY\", ax=ax[1,0])\n",
    "\n",
    "ax[1,1].set_title(\"MolWeight\")\n",
    "sns.boxplot(data=summary_df, x=\"Type\", y=\"MolWeight\", ax=ax[1,1])\n",
    "\n",
    "ax[1,2].set_title(\"AvgLength\")\n",
    "sns.boxplot(data=summary_df, x=\"Type\", y=\"AvgLength\", ax=ax[1,2])"
   ]
  },
  {
   "cell_type": "code",
   "execution_count": 78,
   "metadata": {},
   "outputs": [
    {
     "name": "stdout",
     "output_type": "stream",
     "text": [
      "Ttest_indResult(statistic=4.226878771936755, pvalue=3.74462189866782e-05) Ttest_indResult(statistic=0.8909803993901755, pvalue=0.3734095454370364)\n"
     ]
    }
   ],
   "source": [
    "from scipy import stats\n",
    "print(stats.ttest_ind(summary_df[summary_df.Type == \"in gel\"].GRAVY, summary_df[summary_df.Type == \"on filter\"].GRAVY),\n",
    "      stats.ttest_ind(summary_df[summary_df.Type == \"in gel\"].GRAVY, summary_df[summary_df.Type == \"in solution\"].GRAVY))"
   ]
  },
  {
   "cell_type": "code",
   "execution_count": 75,
   "metadata": {},
   "outputs": [
    {
     "data": {
      "text/plain": [
       "<matplotlib.axes._subplots.AxesSubplot at 0x7fb9919d1b10>"
      ]
     },
     "execution_count": 75,
     "metadata": {},
     "output_type": "execute_result"
    },
    {
     "data": {
      "image/png": "[encoded data removed]",
      "text/plain": [
       "<Figure size 432x288 with 1 Axes>"
      ]
     },
     "metadata": {
      "needs_background": "light"
     },
     "output_type": "display_data"
    }
   ],
   "source": [
    "sns.scatterplot(x=summary_df.GRAVY, y=summary_df.MolWeight, hue = summary_df.Type)"
   ]
  },
  {
   "attachments": {},
   "cell_type": "markdown",
   "metadata": {},
   "source": [
    "# TODO"
   ]
  },
  {
   "attachments": {},
   "cell_type": "markdown",
   "metadata": {},
   "source": [
    "See which proteins are identified in the sample preps and plot their GRAVY distribution regardless of quantification. Also make venn plots to see how large the overlap is"
   ]
  }
 ],
 "metadata": {
  "kernelspec": {
   "display_name": "Python 3.7.7 ('ionbot')",
   "language": "python",
   "name": "python3"
  },
  "language_info": {
   "codemirror_mode": {
    "name": "ipython",
    "version": 3
   },
   "file_extension": ".py",
   "mimetype": "text/x-python",
   "name": "python",
   "nbconvert_exporter": "python",
   "pygments_lexer": "ipython3",
   "version": "3.7.7"
  },
  "orig_nbformat": 4,
  "vscode": {
   "interpreter": {
    "hash": "db8b8ce622d6c99bf71358dbacc49720c17f6ed359743e9dd314dcdbdb145bdd"
   }
  }
 },
 "nbformat": 4,
 "nbformat_minor": 2
}
