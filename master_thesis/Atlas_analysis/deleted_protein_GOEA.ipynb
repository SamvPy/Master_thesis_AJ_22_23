{
 "cells": [
  {
   "cell_type": "code",
   "execution_count": 1,
   "metadata": {},
   "outputs": [],
   "source": [
    "import pandas as pd\n",
    "import AtlasAnalysisFunctions as AAF\n",
    "import numpy as np\n",
    "import seaborn as sns\n",
    "import matplotlib.pyplot as plt"
   ]
  },
  {
   "cell_type": "markdown",
   "metadata": {},
   "source": [
    "# GEA on the deleted proteins per class"
   ]
  },
  {
   "cell_type": "markdown",
   "metadata": {},
   "source": [
    "Idea: If the filtering procedure enhances classification, yet shuffled filtering does not, the protein deletions must be class specific. <br>\n",
    "This will be evaluated here."
   ]
  },
  {
   "cell_type": "code",
   "execution_count": 2,
   "metadata": {},
   "outputs": [],
   "source": [
    "# Minimal preprocessing\n",
    "base = pd.read_csv(\"base_ML_dataset.csv\")\n",
    "metadata = base.iloc[:, -2:]\n",
    "metadata = metadata.reset_index().rename(columns = {\"index\": \"assay_id\"})\n",
    "metadata.loc[metadata.tissue_type == \"T-cell\", \"tissue_type\"] = \"blood\"\n",
    "labels = base.pop(\"tissue_type\")\n",
    "data = base.iloc[:, :-1]\n",
    "data.fillna(0, inplace = True)\n",
    "data.head()\n",
    "full_df = pd.concat([data, labels], axis = 1)\n",
    "full_df = full_df[~full_df.tissue_type.isin([\"trophoblast\",\"prostate\", \"fetal kidney\", \"lung\", \"fibroblast\", \"/\"])]\n",
    "full_df.loc[full_df.tissue_type == \"T-cell\", [\"tissue_type\"]] = \"blood\"\n",
    "labels = full_df.pop(\"tissue_type\")\n",
    "data = full_df\n",
    "metadata = metadata.loc[metadata.index.isin(data.index),:]"
   ]
  },
  {
   "cell_type": "code",
   "execution_count": 4,
   "metadata": {},
   "outputs": [
    {
     "name": "stdout",
     "output_type": "stream",
     "text": [
      "Filtered dataset on reoccur global stored in 'filtered_dataset'\n"
     ]
    }
   ],
   "source": [
    "f50_global = AAF.ModelModule(data, metadata)\n",
    "f50_global.set_labels(\"tissue_type\")\n",
    "f50_global.filter_dataset(\"reoccur global\", percentage_reoccurence=.50)"
   ]
  },
  {
   "cell_type": "code",
   "execution_count": 3,
   "metadata": {},
   "outputs": [
    {
     "data": {
      "text/html": [
       "<div>\n",
       "<style scoped>\n",
       "    .dataframe tbody tr th:only-of-type {\n",
       "        vertical-align: middle;\n",
       "    }\n",
       "\n",
       "    .dataframe tbody tr th {\n",
       "        vertical-align: top;\n",
       "    }\n",
       "\n",
       "    .dataframe thead th {\n",
       "        text-align: right;\n",
       "    }\n",
       "</style>\n",
       "<table border=\"1\" class=\"dataframe\">\n",
       "  <thead>\n",
       "    <tr style=\"text-align: right;\">\n",
       "      <th></th>\n",
       "      <th>uniprot_id</th>\n",
       "      <th>GO_ID</th>\n",
       "      <th>Aspect</th>\n",
       "    </tr>\n",
       "  </thead>\n",
       "  <tbody>\n",
       "    <tr>\n",
       "      <th>0</th>\n",
       "      <td>A0AVT1</td>\n",
       "      <td>GO:0005515</td>\n",
       "      <td>F</td>\n",
       "    </tr>\n",
       "    <tr>\n",
       "      <th>1</th>\n",
       "      <td>A0AVT1</td>\n",
       "      <td>GO:0005524</td>\n",
       "      <td>F</td>\n",
       "    </tr>\n",
       "    <tr>\n",
       "      <th>2</th>\n",
       "      <td>A0AVT1</td>\n",
       "      <td>GO:0019780</td>\n",
       "      <td>F</td>\n",
       "    </tr>\n",
       "    <tr>\n",
       "      <th>3</th>\n",
       "      <td>A0AVT1</td>\n",
       "      <td>GO:0006511</td>\n",
       "      <td>P</td>\n",
       "    </tr>\n",
       "    <tr>\n",
       "      <th>4</th>\n",
       "      <td>A0AVT1</td>\n",
       "      <td>GO:0007612</td>\n",
       "      <td>P</td>\n",
       "    </tr>\n",
       "  </tbody>\n",
       "</table>\n",
       "</div>"
      ],
      "text/plain": [
       "  uniprot_id       GO_ID Aspect\n",
       "0     A0AVT1  GO:0005515      F\n",
       "1     A0AVT1  GO:0005524      F\n",
       "2     A0AVT1  GO:0019780      F\n",
       "3     A0AVT1  GO:0006511      P\n",
       "4     A0AVT1  GO:0007612      P"
      ]
     },
     "execution_count": 3,
     "metadata": {},
     "output_type": "execute_result"
    }
   ],
   "source": [
    "prot_go_mapping = pd.read_csv(\"uniprot_GO_mapping.csv\")\n",
    "prot_go_mapping.head()"
   ]
  },
  {
   "cell_type": "code",
   "execution_count": null,
   "metadata": {},
   "outputs": [],
   "source": [
    "F_mask = prot_go_mapping.Aspect == \"F\"\n",
    "P_mask = prot_go_mapping.Aspect == \"P\"\n",
    "C_mask = prot_go_mapping.Aspect == \"C\""
   ]
  },
  {
   "cell_type": "code",
   "execution_count": 17,
   "metadata": {},
   "outputs": [
    {
     "data": {
      "text/html": [
       "<div>\n",
       "<style scoped>\n",
       "    .dataframe tbody tr th:only-of-type {\n",
       "        vertical-align: middle;\n",
       "    }\n",
       "\n",
       "    .dataframe tbody tr th {\n",
       "        vertical-align: top;\n",
       "    }\n",
       "\n",
       "    .dataframe thead th {\n",
       "        text-align: right;\n",
       "    }\n",
       "</style>\n",
       "<table border=\"1\" class=\"dataframe\">\n",
       "  <thead>\n",
       "    <tr style=\"text-align: right;\">\n",
       "      <th></th>\n",
       "      <th>uniprot_id</th>\n",
       "      <th>GO_ID</th>\n",
       "      <th>Aspect</th>\n",
       "    </tr>\n",
       "  </thead>\n",
       "  <tbody>\n",
       "    <tr>\n",
       "      <th>134</th>\n",
       "      <td>A6NHT5</td>\n",
       "      <td>GO:0000981</td>\n",
       "      <td>F</td>\n",
       "    </tr>\n",
       "    <tr>\n",
       "      <th>135</th>\n",
       "      <td>A6NHT5</td>\n",
       "      <td>GO:0007420</td>\n",
       "      <td>P</td>\n",
       "    </tr>\n",
       "    <tr>\n",
       "      <th>136</th>\n",
       "      <td>A6NHT5</td>\n",
       "      <td>GO:0007566</td>\n",
       "      <td>P</td>\n",
       "    </tr>\n",
       "    <tr>\n",
       "      <th>137</th>\n",
       "      <td>A6NHT5</td>\n",
       "      <td>GO:0030154</td>\n",
       "      <td>P</td>\n",
       "    </tr>\n",
       "    <tr>\n",
       "      <th>138</th>\n",
       "      <td>A6NHT5</td>\n",
       "      <td>GO:0042472</td>\n",
       "      <td>P</td>\n",
       "    </tr>\n",
       "    <tr>\n",
       "      <th>...</th>\n",
       "      <td>...</td>\n",
       "      <td>...</td>\n",
       "      <td>...</td>\n",
       "    </tr>\n",
       "    <tr>\n",
       "      <th>217125</th>\n",
       "      <td>Q9H069</td>\n",
       "      <td>GO:0005515</td>\n",
       "      <td>F</td>\n",
       "    </tr>\n",
       "    <tr>\n",
       "      <th>217126</th>\n",
       "      <td>Q9H069</td>\n",
       "      <td>GO:0005737</td>\n",
       "      <td>C</td>\n",
       "    </tr>\n",
       "    <tr>\n",
       "      <th>217127</th>\n",
       "      <td>Q9H069</td>\n",
       "      <td>GO:0005930</td>\n",
       "      <td>C</td>\n",
       "    </tr>\n",
       "    <tr>\n",
       "      <th>217128</th>\n",
       "      <td>Q9H069</td>\n",
       "      <td>GO:0036126</td>\n",
       "      <td>C</td>\n",
       "    </tr>\n",
       "    <tr>\n",
       "      <th>217129</th>\n",
       "      <td>Q9H069</td>\n",
       "      <td>GO:0005929</td>\n",
       "      <td>C</td>\n",
       "    </tr>\n",
       "  </tbody>\n",
       "</table>\n",
       "<p>58148 rows × 3 columns</p>\n",
       "</div>"
      ],
      "text/plain": [
       "       uniprot_id       GO_ID Aspect\n",
       "134        A6NHT5  GO:0000981      F\n",
       "135        A6NHT5  GO:0007420      P\n",
       "136        A6NHT5  GO:0007566      P\n",
       "137        A6NHT5  GO:0030154      P\n",
       "138        A6NHT5  GO:0042472      P\n",
       "...           ...         ...    ...\n",
       "217125     Q9H069  GO:0005515      F\n",
       "217126     Q9H069  GO:0005737      C\n",
       "217127     Q9H069  GO:0005930      C\n",
       "217128     Q9H069  GO:0036126      C\n",
       "217129     Q9H069  GO:0005929      C\n",
       "\n",
       "[58148 rows x 3 columns]"
      ]
     },
     "execution_count": 17,
     "metadata": {},
     "output_type": "execute_result"
    }
   ],
   "source": [
    "prot_go_mapping[prot_go_mapping.uniprot_id.isin(f50_global.deletions_per_class[\"liver\"])]"
   ]
  },
  {
   "cell_type": "code",
   "execution_count": 20,
   "metadata": {},
   "outputs": [
    {
     "name": "stderr",
     "output_type": "stream",
     "text": [
      "/home/compomics/miniconda3/envs/ionbot/lib/python3.7/site-packages/ipykernel_launcher.py:4: SettingWithCopyWarning: \n",
      "A value is trying to be set on a copy of a slice from a DataFrame.\n",
      "Try using .loc[row_indexer,col_indexer] = value instead\n",
      "\n",
      "See the caveats in the documentation: http://pandas.pydata.org/pandas-docs/stable/user_guide/indexing.html#returning-a-view-versus-a-copy\n",
      "  after removing the cwd from sys.path.\n"
     ]
    }
   ],
   "source": [
    "GO_del_df = pd.DataFrame(columns = [\"uniprot_id\", \"GO_ID\", \"Aspect\", \"tissue\"])\n",
    "for tissue, del_prots in f50_global.deletions_per_class.items():\n",
    "    del_df = prot_go_mapping[prot_go_mapping.uniprot_id.isin(del_prots)]\n",
    "    del_df[\"tissue\"] = tissue\n",
    "    GO_del_df = pd.concat([GO_del_df, del_df])"
   ]
  },
  {
   "cell_type": "code",
   "execution_count": 24,
   "metadata": {},
   "outputs": [],
   "source": [
    "functional_GO = GO_del_df[GO_del_df.Aspect == \"F\"]\n",
    "process_GO = GO_del_df[GO_del_df.Aspect == \"P\"]\n",
    "compartment_GO = GO_del_df[GO_del_df.Aspect == \"C\"]"
   ]
  },
  {
   "cell_type": "code",
   "execution_count": 33,
   "metadata": {},
   "outputs": [
    {
     "data": {
      "text/plain": [
       "GO:0005515    41502\n",
       "GO:0046872     7894\n",
       "GO:0005524     5728\n",
       "GO:0042802     4983\n",
       "GO:0003723     4855\n",
       "              ...  \n",
       "GO:0008903        1\n",
       "GO:0004408        1\n",
       "GO:0000016        1\n",
       "GO:0001733        1\n",
       "GO:0004799        1\n",
       "Name: GO_ID, Length: 3951, dtype: int64"
      ]
     },
     "execution_count": 33,
     "metadata": {},
     "output_type": "execute_result"
    }
   ],
   "source": [
    "functional_GO.GO_ID.value_counts()"
   ]
  },
  {
   "cell_type": "code",
   "execution_count": 34,
   "metadata": {},
   "outputs": [
    {
     "name": "stdout",
     "output_type": "stream",
     "text": [
      "           index  GO_ID\n",
      "0     GO:0005515   2406\n",
      "1     GO:0046872    549\n",
      "2     GO:0005524    330\n",
      "3     GO:0042802    291\n",
      "4     GO:0000978    279\n",
      "...          ...    ...\n",
      "2091  GO:0045569      1\n",
      "2092  GO:0015501      1\n",
      "2093  GO:0003920      1\n",
      "2094  GO:0048030      1\n",
      "2095  GO:0016682      1\n",
      "\n",
      "[2096 rows x 2 columns]\n",
      "           index  GO_ID\n",
      "0     GO:0005515   6211\n",
      "1     GO:0046872   1055\n",
      "2     GO:0005524    877\n",
      "3     GO:0003723    803\n",
      "4     GO:0042802    775\n",
      "...          ...    ...\n",
      "3363  GO:0102751      1\n",
      "3364  GO:0050104      1\n",
      "3365  GO:0044016      1\n",
      "3366  GO:0071820      1\n",
      "3367  GO:0035226      1\n",
      "\n",
      "[3368 rows x 2 columns]\n",
      "           index  GO_ID\n",
      "0     GO:0005515   4937\n",
      "1     GO:0046872    916\n",
      "2     GO:0005524    676\n",
      "3     GO:0003723    603\n",
      "4     GO:0042802    602\n",
      "...          ...    ...\n",
      "2992  GO:0071209      1\n",
      "2993  GO:0061656      1\n",
      "2994  GO:0018549      1\n",
      "2995  GO:0008832      1\n",
      "2996  GO:0016682      1\n",
      "\n",
      "[2997 rows x 2 columns]\n",
      "           index  GO_ID\n",
      "0     GO:0005515   2681\n",
      "1     GO:0003723    493\n",
      "2     GO:0046872    407\n",
      "3     GO:0005524    372\n",
      "4     GO:0042802    318\n",
      "...          ...    ...\n",
      "2183  GO:0004515      1\n",
      "2184  GO:0061797      1\n",
      "2185  GO:0034596      1\n",
      "2186  GO:0150043      1\n",
      "2187  GO:0140803      1\n",
      "\n",
      "[2188 rows x 2 columns]\n",
      "           index  GO_ID\n",
      "0     GO:0005515   6373\n",
      "1     GO:0046872   1157\n",
      "2     GO:0005524    883\n",
      "3     GO:0003723    793\n",
      "4     GO:0042802    782\n",
      "...          ...    ...\n",
      "3412  GO:0047464      1\n",
      "3413  GO:0005367      1\n",
      "3414  GO:0033858      1\n",
      "3415  GO:0004123      1\n",
      "3416  GO:0016167      1\n",
      "\n",
      "[3417 rows x 2 columns]\n",
      "           index  GO_ID\n",
      "0     GO:0005515   2084\n",
      "1     GO:0046872    324\n",
      "2     GO:0003723    316\n",
      "3     GO:0005524    305\n",
      "4     GO:0042802    233\n",
      "...          ...    ...\n",
      "1981  GO:0015232      1\n",
      "1982  GO:0052832      1\n",
      "1983  GO:0050333      1\n",
      "1984  GO:0008184      1\n",
      "1985  GO:0016682      1\n",
      "\n",
      "[1986 rows x 2 columns]\n",
      "           index  GO_ID\n",
      "0     GO:0005515   4532\n",
      "1     GO:0046872    898\n",
      "2     GO:0005524    623\n",
      "3     GO:0042802    568\n",
      "4     GO:0003723    564\n",
      "...          ...    ...\n",
      "3008  GO:0050693      1\n",
      "3009  GO:0140069      1\n",
      "3010  GO:0080023      1\n",
      "3011  GO:0008422      1\n",
      "3012  GO:0016682      1\n",
      "\n",
      "[3013 rows x 2 columns]\n",
      "           index  GO_ID\n",
      "0     GO:0005515   3288\n",
      "1     GO:0046872    671\n",
      "2     GO:0005524    448\n",
      "3     GO:0042802    396\n",
      "4     GO:0003723    284\n",
      "...          ...    ...\n",
      "2504  GO:0022848      1\n",
      "2505  GO:0019782      1\n",
      "2506  GO:0070004      1\n",
      "2507  GO:0044020      1\n",
      "2508  GO:0016682      1\n",
      "\n",
      "[2509 rows x 2 columns]\n",
      "           index  GO_ID\n",
      "0     GO:0005515   4349\n",
      "1     GO:0046872    921\n",
      "2     GO:0005524    573\n",
      "3     GO:0042802    495\n",
      "4     GO:0003723    466\n",
      "...          ...    ...\n",
      "2774  GO:0047658      1\n",
      "2775  GO:0030160      1\n",
      "2776  GO:0000254      1\n",
      "2777  GO:0061605      1\n",
      "2778  GO:0140803      1\n",
      "\n",
      "[2779 rows x 2 columns]\n",
      "           index  GO_ID\n",
      "0     GO:0005515   4641\n",
      "1     GO:0046872    996\n",
      "2     GO:0005524    641\n",
      "3     GO:0042802    523\n",
      "4     GO:0000981    443\n",
      "...          ...    ...\n",
      "2843  GO:1904399      1\n",
      "2844  GO:0106050      1\n",
      "2845  GO:0003919      1\n",
      "2846  GO:0061797      1\n",
      "2847  GO:0140803      1\n",
      "\n",
      "[2848 rows x 2 columns]\n"
     ]
    }
   ],
   "source": [
    "for tissue in functional_GO.tissue.unique():\n",
    "    print(functional_GO[functional_GO.tissue == tissue].GO_ID.value_counts().reset_index())\n"
   ]
  }
 ],
 "metadata": {
  "kernelspec": {
   "display_name": "Python 3.7.7 ('ionbot')",
   "language": "python",
   "name": "python3"
  },
  "language_info": {
   "codemirror_mode": {
    "name": "ipython",
    "version": 3
   },
   "file_extension": ".py",
   "mimetype": "text/x-python",
   "name": "python",
   "nbconvert_exporter": "python",
   "pygments_lexer": "ipython3",
   "version": "3.7.7"
  },
  "orig_nbformat": 4,
  "vscode": {
   "interpreter": {
    "hash": "db8b8ce622d6c99bf71358dbacc49720c17f6ed359743e9dd314dcdbdb145bdd"
   }
  }
 },
 "nbformat": 4,
 "nbformat_minor": 2
}
