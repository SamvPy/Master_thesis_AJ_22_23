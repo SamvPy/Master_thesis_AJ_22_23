{
 "cells": [
  {
   "cell_type": "markdown",
   "metadata": {},
   "source": [
    "# Imputation strategy"
   ]
  },
  {
   "cell_type": "markdown",
   "metadata": {},
   "source": [
    "This notebook will explore an imputation strategy and its following performance on the dataset. <br>\n",
    "\n",
    "Imputation will be done iteratively, starting from the sample with the second most identifications in a class. <br>\n",
    "The goal is to bring the #identifications closer to each other so the samples hopefully become more comparable."
   ]
  },
  {
   "cell_type": "code",
   "execution_count": 1,
   "metadata": {},
   "outputs": [],
   "source": [
    "import pandas as pd\n",
    "import AtlasAnalysisFunctions as AAF"
   ]
  },
  {
   "cell_type": "code",
   "execution_count": 2,
   "metadata": {},
   "outputs": [],
   "source": [
    "# Minimal preprocessing\n",
    "base = pd.read_csv(\"base_ML_dataset.csv\")\n",
    "metadata = base.iloc[:, -2:]\n",
    "metadata = metadata.reset_index().rename(columns = {\"index\": \"assay_id\"})\n",
    "metadata.loc[metadata.tissue_type == \"T-cell\", \"tissue_type\"] = \"blood\"\n",
    "labels = base.pop(\"tissue_type\")\n",
    "data = base.iloc[:, :-1]\n",
    "data.fillna(0, inplace = True)\n",
    "data.head()\n",
    "full_df = pd.concat([data, labels], axis = 1)\n",
    "full_df = full_df[~full_df.tissue_type.isin([\"trophoblast\",\"prostate\", \"fetal kidney\", \"lung\", \"fibroblast\", \"/\"])]\n",
    "full_df.loc[full_df.tissue_type == \"T-cell\", [\"tissue_type\"]] = \"blood\"\n",
    "labels = full_df.pop(\"tissue_type\")\n",
    "data = full_df\n",
    "metadata = metadata.loc[metadata.index.isin(data.index),:]"
   ]
  },
  {
   "cell_type": "code",
   "execution_count": 5,
   "metadata": {},
   "outputs": [],
   "source": [
    "dm = AAF.ModelModule(data, metadata)\n",
    "dm.set_labels(\"tissue_type\")"
   ]
  },
  {
   "cell_type": "code",
   "execution_count": 8,
   "metadata": {},
   "outputs": [
    {
     "data": {
      "text/plain": [
       "281    4268\n",
       "282    4295\n",
       "283    4253\n",
       "284    4216\n",
       "285    4298\n",
       "286    4132\n",
       "305    2711\n",
       "306    2627\n",
       "307    2795\n",
       "308    2831\n",
       "310    1975\n",
       "311    1941\n",
       "312    1919\n",
       "313    1906\n",
       "314    1947\n",
       "315    1956\n",
       "316    3511\n",
       "317     917\n",
       "318     922\n",
       "319     935\n",
       "320    1398\n",
       "321    1445\n",
       "322    1428\n",
       "323    1121\n",
       "324    1184\n",
       "325     954\n",
       "326    1760\n",
       "327    1731\n",
       "328    1825\n",
       "329    1782\n",
       "330    1905\n",
       "331    1902\n",
       "332    1522\n",
       "333    1491\n",
       "334    1695\n",
       "335    1687\n",
       "336    1699\n",
       "337    1745\n",
       "378    7323\n",
       "379    6763\n",
       "380     339\n",
       "398    1867\n",
       "399    1857\n",
       "400    1871\n",
       "401    1833\n",
       "402    1888\n",
       "403    1890\n",
       "dtype: int64"
      ]
     },
     "execution_count": 8,
     "metadata": {},
     "output_type": "execute_result"
    }
   ],
   "source": [
    "(dm.dataset.loc[dm.labels[dm.labels == \"cervix\"].index,:] != 0).sum(axis = 1)"
   ]
  }
 ],
 "metadata": {
  "kernelspec": {
   "display_name": "Python 3.7.7 ('ionbot')",
   "language": "python",
   "name": "python3"
  },
  "language_info": {
   "codemirror_mode": {
    "name": "ipython",
    "version": 3
   },
   "file_extension": ".py",
   "mimetype": "text/x-python",
   "name": "python",
   "nbconvert_exporter": "python",
   "pygments_lexer": "ipython3",
   "version": "3.7.7"
  },
  "orig_nbformat": 4,
  "vscode": {
   "interpreter": {
    "hash": "db8b8ce622d6c99bf71358dbacc49720c17f6ed359743e9dd314dcdbdb145bdd"
   }
  }
 },
 "nbformat": 4,
 "nbformat_minor": 2
}
