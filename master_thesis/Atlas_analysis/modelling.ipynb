{
 "cells": [
  {
   "cell_type": "markdown",
   "metadata": {},
   "source": [
    "# Machine learning modelling notebook"
   ]
  },
  {
   "cell_type": "markdown",
   "metadata": {},
   "source": [
    "---"
   ]
  },
  {
   "cell_type": "markdown",
   "metadata": {},
   "source": [
    "### Imports"
   ]
  },
  {
   "cell_type": "code",
   "execution_count": 8,
   "metadata": {},
   "outputs": [],
   "source": [
    "from sklearn.pipeline import make_pipeline\n",
    "from sklearn.preprocessing import StandardScaler\n",
    "from sklearn.svm import SVC\n",
    "from sklearn.model_selection import StratifiedKFold, GridSearchCV\n",
    "from sklearn.metrics import confusion_matrix, ConfusionMatrixDisplay\n",
    "from sklearn.tree import DecisionTreeClassifier\n",
    "from sklearn.ensemble import RandomForestClassifier, AdaBoostClassifier\n",
    "from xgboost import XGBClassifier\n",
    "from sklearn.metrics import f1_score\n",
    "from sklearn.linear_model import LogisticRegression\n",
    "import pandas as pd\n",
    "import seaborn as sns\n",
    "import matplotlib.pyplot as plt\n",
    "import numpy as np\n",
    "import pickle\n",
    "import AtlasAnalysisFunctions as AAF"
   ]
  },
  {
   "cell_type": "code",
   "execution_count": 3,
   "metadata": {},
   "outputs": [],
   "source": [
    "# Functions to store and retrieve class instances\n",
    "def save_class_to_file(filename, object):\n",
    "    with open(f\"objects/{filename}.pkl\", \"wb\") as filehandler:\n",
    "        pickle.dump(object, filehandler, pickle.HIGHEST_PROTOCOL)\n",
    "\n",
    "def open_file_to_class(file_name):\n",
    "    with open(f'objects/{file_name}.pkl', 'rb') as filehandler:\n",
    "        return pickle.load(filehandler)"
   ]
  },
  {
   "cell_type": "markdown",
   "metadata": {},
   "source": [
    "---"
   ]
  },
  {
   "cell_type": "markdown",
   "metadata": {},
   "source": [
    "### basic setup"
   ]
  },
  {
   "cell_type": "code",
   "execution_count": 4,
   "metadata": {},
   "outputs": [
    {
     "data": {
      "text/html": [
       "<div>\n",
       "<style scoped>\n",
       "    .dataframe tbody tr th:only-of-type {\n",
       "        vertical-align: middle;\n",
       "    }\n",
       "\n",
       "    .dataframe tbody tr th {\n",
       "        vertical-align: top;\n",
       "    }\n",
       "\n",
       "    .dataframe thead th {\n",
       "        text-align: right;\n",
       "    }\n",
       "</style>\n",
       "<table border=\"1\" class=\"dataframe\">\n",
       "  <thead>\n",
       "    <tr style=\"text-align: right;\">\n",
       "      <th></th>\n",
       "      <th>A0A024RBG1</th>\n",
       "      <th>A0A075B6X5</th>\n",
       "      <th>A0A096LP01</th>\n",
       "      <th>A0A096LP49</th>\n",
       "      <th>A0A0A6YYK6</th>\n",
       "      <th>A0A0B4J1V0</th>\n",
       "      <th>A0A0B4J2F0</th>\n",
       "      <th>A0A0J9YWL9</th>\n",
       "      <th>A0A0J9YX94</th>\n",
       "      <th>A0A0U1RRE5</th>\n",
       "      <th>...</th>\n",
       "      <th>Q9Y6X4</th>\n",
       "      <th>Q9Y6X5</th>\n",
       "      <th>Q9Y6X8</th>\n",
       "      <th>Q9Y6X9</th>\n",
       "      <th>Q9Y6Y0</th>\n",
       "      <th>Q9Y6Y1</th>\n",
       "      <th>Q9Y6Y8</th>\n",
       "      <th>Q9Y6Y9</th>\n",
       "      <th>Q9Y6Z7</th>\n",
       "      <th>W5XKT8</th>\n",
       "    </tr>\n",
       "  </thead>\n",
       "  <tbody>\n",
       "    <tr>\n",
       "      <th>0</th>\n",
       "      <td>0.000010</td>\n",
       "      <td>0.0</td>\n",
       "      <td>0.000000</td>\n",
       "      <td>0.0</td>\n",
       "      <td>0.0</td>\n",
       "      <td>0.000000</td>\n",
       "      <td>0.0</td>\n",
       "      <td>0.000000</td>\n",
       "      <td>0.0</td>\n",
       "      <td>0.0</td>\n",
       "      <td>...</td>\n",
       "      <td>0.000070</td>\n",
       "      <td>0.000016</td>\n",
       "      <td>0.000028</td>\n",
       "      <td>0.000040</td>\n",
       "      <td>0.000062</td>\n",
       "      <td>0.000000</td>\n",
       "      <td>0.000088</td>\n",
       "      <td>0.000000</td>\n",
       "      <td>0.0</td>\n",
       "      <td>0.0</td>\n",
       "    </tr>\n",
       "    <tr>\n",
       "      <th>1</th>\n",
       "      <td>0.000000</td>\n",
       "      <td>0.0</td>\n",
       "      <td>0.000000</td>\n",
       "      <td>0.0</td>\n",
       "      <td>0.0</td>\n",
       "      <td>0.000000</td>\n",
       "      <td>0.0</td>\n",
       "      <td>0.000000</td>\n",
       "      <td>0.0</td>\n",
       "      <td>0.0</td>\n",
       "      <td>...</td>\n",
       "      <td>0.000068</td>\n",
       "      <td>0.000016</td>\n",
       "      <td>0.000033</td>\n",
       "      <td>0.000042</td>\n",
       "      <td>0.000045</td>\n",
       "      <td>0.000001</td>\n",
       "      <td>0.000075</td>\n",
       "      <td>0.000000</td>\n",
       "      <td>0.0</td>\n",
       "      <td>0.0</td>\n",
       "    </tr>\n",
       "    <tr>\n",
       "      <th>2</th>\n",
       "      <td>0.000011</td>\n",
       "      <td>0.0</td>\n",
       "      <td>0.000061</td>\n",
       "      <td>0.0</td>\n",
       "      <td>0.0</td>\n",
       "      <td>0.000016</td>\n",
       "      <td>0.0</td>\n",
       "      <td>0.000002</td>\n",
       "      <td>0.0</td>\n",
       "      <td>0.0</td>\n",
       "      <td>...</td>\n",
       "      <td>0.000000</td>\n",
       "      <td>0.000000</td>\n",
       "      <td>0.000007</td>\n",
       "      <td>0.000024</td>\n",
       "      <td>0.000045</td>\n",
       "      <td>0.000000</td>\n",
       "      <td>0.000092</td>\n",
       "      <td>0.000024</td>\n",
       "      <td>0.0</td>\n",
       "      <td>0.0</td>\n",
       "    </tr>\n",
       "    <tr>\n",
       "      <th>3</th>\n",
       "      <td>0.000011</td>\n",
       "      <td>0.0</td>\n",
       "      <td>0.000080</td>\n",
       "      <td>0.0</td>\n",
       "      <td>0.0</td>\n",
       "      <td>0.000016</td>\n",
       "      <td>0.0</td>\n",
       "      <td>0.000002</td>\n",
       "      <td>0.0</td>\n",
       "      <td>0.0</td>\n",
       "      <td>...</td>\n",
       "      <td>0.000000</td>\n",
       "      <td>0.000000</td>\n",
       "      <td>0.000005</td>\n",
       "      <td>0.000035</td>\n",
       "      <td>0.000033</td>\n",
       "      <td>0.000000</td>\n",
       "      <td>0.000076</td>\n",
       "      <td>0.000024</td>\n",
       "      <td>0.0</td>\n",
       "      <td>0.0</td>\n",
       "    </tr>\n",
       "    <tr>\n",
       "      <th>4</th>\n",
       "      <td>0.000000</td>\n",
       "      <td>0.0</td>\n",
       "      <td>0.000000</td>\n",
       "      <td>0.0</td>\n",
       "      <td>0.0</td>\n",
       "      <td>0.000000</td>\n",
       "      <td>0.0</td>\n",
       "      <td>0.000000</td>\n",
       "      <td>0.0</td>\n",
       "      <td>0.0</td>\n",
       "      <td>...</td>\n",
       "      <td>0.000000</td>\n",
       "      <td>0.000000</td>\n",
       "      <td>0.000000</td>\n",
       "      <td>0.000000</td>\n",
       "      <td>0.000000</td>\n",
       "      <td>0.000000</td>\n",
       "      <td>0.000350</td>\n",
       "      <td>0.000000</td>\n",
       "      <td>0.0</td>\n",
       "      <td>0.0</td>\n",
       "    </tr>\n",
       "  </tbody>\n",
       "</table>\n",
       "<p>5 rows × 13166 columns</p>\n",
       "</div>"
      ],
      "text/plain": [
       "   A0A024RBG1  A0A075B6X5  A0A096LP01  A0A096LP49  A0A0A6YYK6  A0A0B4J1V0  \\\n",
       "0    0.000010         0.0    0.000000         0.0         0.0    0.000000   \n",
       "1    0.000000         0.0    0.000000         0.0         0.0    0.000000   \n",
       "2    0.000011         0.0    0.000061         0.0         0.0    0.000016   \n",
       "3    0.000011         0.0    0.000080         0.0         0.0    0.000016   \n",
       "4    0.000000         0.0    0.000000         0.0         0.0    0.000000   \n",
       "\n",
       "   A0A0B4J2F0  A0A0J9YWL9  A0A0J9YX94  A0A0U1RRE5  ...    Q9Y6X4    Q9Y6X5  \\\n",
       "0         0.0    0.000000         0.0         0.0  ...  0.000070  0.000016   \n",
       "1         0.0    0.000000         0.0         0.0  ...  0.000068  0.000016   \n",
       "2         0.0    0.000002         0.0         0.0  ...  0.000000  0.000000   \n",
       "3         0.0    0.000002         0.0         0.0  ...  0.000000  0.000000   \n",
       "4         0.0    0.000000         0.0         0.0  ...  0.000000  0.000000   \n",
       "\n",
       "     Q9Y6X8    Q9Y6X9    Q9Y6Y0    Q9Y6Y1    Q9Y6Y8    Q9Y6Y9  Q9Y6Z7  W5XKT8  \n",
       "0  0.000028  0.000040  0.000062  0.000000  0.000088  0.000000     0.0     0.0  \n",
       "1  0.000033  0.000042  0.000045  0.000001  0.000075  0.000000     0.0     0.0  \n",
       "2  0.000007  0.000024  0.000045  0.000000  0.000092  0.000024     0.0     0.0  \n",
       "3  0.000005  0.000035  0.000033  0.000000  0.000076  0.000024     0.0     0.0  \n",
       "4  0.000000  0.000000  0.000000  0.000000  0.000350  0.000000     0.0     0.0  \n",
       "\n",
       "[5 rows x 13166 columns]"
      ]
     },
     "execution_count": 4,
     "metadata": {},
     "output_type": "execute_result"
    }
   ],
   "source": [
    "# Minimal preprocessing\n",
    "base = pd.read_csv(\"base_ML_dataset.csv\")\n",
    "metadata = base.iloc[:, -2:]\n",
    "metadata = metadata.reset_index().rename(columns = {\"index\": \"assay_id\"})\n",
    "metadata.loc[metadata.tissue_type == \"T-cell\", \"tissue_type\"] = \"blood\"\n",
    "labels = base.pop(\"tissue_type\")\n",
    "data = base.iloc[:, :-1]\n",
    "data.fillna(0, inplace = True)\n",
    "data.head()"
   ]
  },
  {
   "cell_type": "code",
   "execution_count": 5,
   "metadata": {},
   "outputs": [],
   "source": [
    "full_df = pd.concat([data, labels], axis = 1)\n",
    "full_df = full_df[~full_df.tissue_type.isin([\"trophoblast\",\"prostate\", \"fetal kidney\", \"lung\", \"fibroblast\", \"/\"])]\n",
    "full_df.loc[full_df.tissue_type == \"T-cell\", [\"tissue_type\"]] = \"blood\"\n",
    "labels = full_df.pop(\"tissue_type\")\n",
    "data = full_df\n",
    "metadata = metadata.loc[metadata.index.isin(data.index),:]"
   ]
  },
  {
   "cell_type": "code",
   "execution_count": 6,
   "metadata": {},
   "outputs": [
    {
     "name": "stdout",
     "output_type": "stream",
     "text": [
      "83\n",
      "75\n",
      "63\n",
      "49\n",
      "47\n",
      "28\n",
      "26\n",
      "26\n",
      "20\n",
      "11\n"
     ]
    },
    {
     "data": {
      "text/plain": [
       "{'breast': 0.5156626506024097,\n",
       " 'blood': 0.5706666666666667,\n",
       " 'brain': 0.6793650793650794,\n",
       " 'ovary': 0.8734693877551021,\n",
       " 'cervix': 0.9106382978723404,\n",
       " 'umbilical vein': 1.5285714285714285,\n",
       " 'skin': 1.646153846153846,\n",
       " 'colon': 1.646153846153846,\n",
       " 'kidney': 2.14,\n",
       " 'liver': 3.890909090909091}"
      ]
     },
     "execution_count": 6,
     "metadata": {},
     "output_type": "execute_result"
    }
   ],
   "source": [
    "new_weights = {}\n",
    "all = labels.value_counts().sum()\n",
    "for index, row in labels.value_counts().reset_index().iterrows():\n",
    "    print(row[\"tissue_type\"])\n",
    "    new_weights[row[\"index\"]] = all/(labels.nunique()*row[\"tissue_type\"])\n",
    "new_weights"
   ]
  },
  {
   "cell_type": "code",
   "execution_count": 7,
   "metadata": {},
   "outputs": [
    {
     "data": {
      "text/plain": [
       "{'breast': 4.156626506024097,\n",
       " 'blood': 4.706666666666667,\n",
       " 'brain': 5.7936507936507935,\n",
       " 'ovary': 7.73469387755102,\n",
       " 'cervix': 8.106382978723405,\n",
       " 'umbilical vein': 14.285714285714286,\n",
       " 'skin': 15.461538461538462,\n",
       " 'colon': 15.461538461538462,\n",
       " 'kidney': 20.4,\n",
       " 'liver': 37.90909090909091}"
      ]
     },
     "execution_count": 7,
     "metadata": {},
     "output_type": "execute_result"
    }
   ],
   "source": [
    "# Due to imbalance, the classes have weight values (see exploration)\n",
    "weights = {}\n",
    "all = labels.value_counts().sum()\n",
    "for index, row in labels.value_counts().reset_index().iterrows():\n",
    "    weights[row[\"index\"]] = (all-row[\"tissue_type\"])/row[\"tissue_type\"]\n",
    "weights"
   ]
  },
  {
   "cell_type": "markdown",
   "metadata": {},
   "source": [
    "---"
   ]
  },
  {
   "cell_type": "code",
   "execution_count": 11,
   "metadata": {},
   "outputs": [],
   "source": [
    "base_model_class = AAF.ModelModule(data, metadata)\n",
    "\n",
    "filtered75_local = AAF.ModelModule(data, metadata)\n",
    "filtered75_local.set_labels('tissue_type')\n",
    "filtered50_local = AAF.ModelModule(data, metadata)\n",
    "filtered50_local.set_labels('tissue_type')\n",
    "filtered25_local = AAF.ModelModule(data, metadata)\n",
    "filtered25_local.set_labels('tissue_type')"
   ]
  },
  {
   "cell_type": "code",
   "execution_count": 12,
   "metadata": {},
   "outputs": [
    {
     "name": "stdout",
     "output_type": "stream",
     "text": [
      "Filtered dataset on reoccur local stored in 'filtered_dataset'\n",
      "75 done\n",
      "Filtered dataset on reoccur local stored in 'filtered_dataset'\n",
      "50 done\n",
      "Filtered dataset on reoccur local stored in 'filtered_dataset'\n",
      "25 done\n"
     ]
    }
   ],
   "source": [
    "filtered75_local.filter_dataset(method = 'reoccur local', percentage_reoccurence=.75)\n",
    "print(\"75 done\")\n",
    "filtered50_local.filter_dataset(method = 'reoccur local', percentage_reoccurence=.50)\n",
    "print(\"50 done\")\n",
    "filtered25_local.filter_dataset(method = 'reoccur local', percentage_reoccurence=.25)\n",
    "print(\"25 done\")"
   ]
  },
  {
   "cell_type": "code",
   "execution_count": 53,
   "metadata": {},
   "outputs": [],
   "source": [
    "save_class_to_file(\"f25_local\", filtered25_local)\n",
    "save_class_to_file(\"f50_local\", filtered50_local)\n",
    "save_class_to_file(\"f75_local\", filtered75_local)"
   ]
  },
  {
   "cell_type": "code",
   "execution_count": 9,
   "metadata": {},
   "outputs": [],
   "source": [
    "filtered75_local = open_file_to_class(\"f75_local\")\n",
    "filtered50_local = open_file_to_class(\"f50_local\")\n",
    "filtered25_local = open_file_to_class(\"f25_local\")"
   ]
  },
  {
   "cell_type": "code",
   "execution_count": 10,
   "metadata": {},
   "outputs": [
    {
     "data": {
      "text/plain": [
       "<matplotlib.axes._subplots.AxesSubplot at 0x7f2d12303810>"
      ]
     },
     "execution_count": 10,
     "metadata": {},
     "output_type": "execute_result"
    },
    {
     "data": {
      "image/png": "[encoded data removed]",
      "text/plain": [
       "<Figure size 1080x504 with 3 Axes>"
      ]
     },
     "metadata": {
      "needs_background": "light"
     },
     "output_type": "display_data"
    }
   ],
   "source": [
    "fig, ax = plt.subplots(3, sharex = \"all\",figsize = (15,7))\n",
    "ax[0].set_title(\"75% filtering\")\n",
    "ax[1].set_title(\"50% filtering\")\n",
    "ax[2].set_title(\"25% filtering\")\n",
    "sns.histplot(filtered75_local.deletions_per_sample.proteins_lost, ax=ax[0], binwidth = 100)\n",
    "sns.histplot(filtered50_local.deletions_per_sample.proteins_lost, ax=ax[1], binwidth = 100)\n",
    "sns.histplot(filtered25_local.deletions_per_sample.proteins_lost, ax=ax[2], binwidth = 100)"
   ]
  },
  {
   "cell_type": "code",
   "execution_count": 14,
   "metadata": {},
   "outputs": [],
   "source": [
    "models = {\n",
    "    \"svm\": SVC(class_weight=new_weights),\n",
    "    \"rf\": RandomForestClassifier(class_weight=new_weights),\n",
    "    \"lr\": LogisticRegression(class_weight=new_weights)\n",
    "}"
   ]
  },
  {
   "cell_type": "code",
   "execution_count": 15,
   "metadata": {},
   "outputs": [
    {
     "name": "stdout",
     "output_type": "stream",
     "text": [
      "Models initialized.\n",
      "Models: dict_keys(['svm', 'rf', 'lr'])\n"
     ]
    }
   ],
   "source": [
    "filtered50_local.initialize_models(models)"
   ]
  },
  {
   "cell_type": "code",
   "execution_count": 16,
   "metadata": {},
   "outputs": [
    {
     "name": "stdout",
     "output_type": "stream",
     "text": [
      "Comparing results done. See the results in results/comparison_f50_local_skf_weighted.csv\n",
      "Comparing results done. See the results in results/comparison_f50_local_skf_weighted.csv\n",
      "Comparing results done. See the results in results/comparison_f50_local_skf_weighted.csv\n"
     ]
    }
   ],
   "source": [
    "filtered50_local.compare_models(\"init\", StratifiedKFold(10), \"f50_local_skf_weighted\")"
   ]
  },
  {
   "cell_type": "code",
   "execution_count": 17,
   "metadata": {},
   "outputs": [],
   "source": [
    "pbKFold = AAF.ProjectBasedSplit(10, filtered50_local.metadata, \"tissue_type\")"
   ]
  },
  {
   "cell_type": "code",
   "execution_count": 18,
   "metadata": {},
   "outputs": [
    {
     "name": "stderr",
     "output_type": "stream",
     "text": [
      "/home/compomics/miniconda3/envs/ionbot/lib/python3.7/site-packages/sklearn/metrics/_classification.py:1580: UndefinedMetricWarning: F-score is ill-defined and being set to 0.0 in labels with no true nor predicted samples. Use `zero_division` parameter to control this behavior.\n",
      "  _warn_prf(average, \"true nor predicted\", \"F-score is\", len(true_sum))\n",
      "/home/compomics/miniconda3/envs/ionbot/lib/python3.7/site-packages/sklearn/metrics/_classification.py:1580: UndefinedMetricWarning: F-score is ill-defined and being set to 0.0 in labels with no true nor predicted samples. Use `zero_division` parameter to control this behavior.\n",
      "  _warn_prf(average, \"true nor predicted\", \"F-score is\", len(true_sum))\n",
      "/home/compomics/miniconda3/envs/ionbot/lib/python3.7/site-packages/sklearn/metrics/_classification.py:1580: UndefinedMetricWarning: F-score is ill-defined and being set to 0.0 in labels with no true nor predicted samples. Use `zero_division` parameter to control this behavior.\n",
      "  _warn_prf(average, \"true nor predicted\", \"F-score is\", len(true_sum))\n",
      "/home/compomics/miniconda3/envs/ionbot/lib/python3.7/site-packages/sklearn/metrics/_classification.py:1580: UndefinedMetricWarning: F-score is ill-defined and being set to 0.0 in labels with no true nor predicted samples. Use `zero_division` parameter to control this behavior.\n",
      "  _warn_prf(average, \"true nor predicted\", \"F-score is\", len(true_sum))\n",
      "/home/compomics/miniconda3/envs/ionbot/lib/python3.7/site-packages/sklearn/metrics/_classification.py:1580: UndefinedMetricWarning: F-score is ill-defined and being set to 0.0 in labels with no true nor predicted samples. Use `zero_division` parameter to control this behavior.\n",
      "  _warn_prf(average, \"true nor predicted\", \"F-score is\", len(true_sum))\n",
      "/home/compomics/miniconda3/envs/ionbot/lib/python3.7/site-packages/sklearn/metrics/_classification.py:1580: UndefinedMetricWarning: F-score is ill-defined and being set to 0.0 in labels with no true nor predicted samples. Use `zero_division` parameter to control this behavior.\n",
      "  _warn_prf(average, \"true nor predicted\", \"F-score is\", len(true_sum))\n",
      "/home/compomics/miniconda3/envs/ionbot/lib/python3.7/site-packages/sklearn/metrics/_classification.py:1580: UndefinedMetricWarning: F-score is ill-defined and being set to 0.0 in labels with no true nor predicted samples. Use `zero_division` parameter to control this behavior.\n",
      "  _warn_prf(average, \"true nor predicted\", \"F-score is\", len(true_sum))\n",
      "/home/compomics/miniconda3/envs/ionbot/lib/python3.7/site-packages/sklearn/metrics/_classification.py:1580: UndefinedMetricWarning: F-score is ill-defined and being set to 0.0 in labels with no true nor predicted samples. Use `zero_division` parameter to control this behavior.\n",
      "  _warn_prf(average, \"true nor predicted\", \"F-score is\", len(true_sum))\n"
     ]
    },
    {
     "name": "stdout",
     "output_type": "stream",
     "text": [
      "Comparing results done. See the results in results/comparison_f50_local_pbs_weighted.csv\n"
     ]
    },
    {
     "name": "stderr",
     "output_type": "stream",
     "text": [
      "/home/compomics/miniconda3/envs/ionbot/lib/python3.7/site-packages/sklearn/metrics/_classification.py:1580: UndefinedMetricWarning: F-score is ill-defined and being set to 0.0 in labels with no true nor predicted samples. Use `zero_division` parameter to control this behavior.\n",
      "  _warn_prf(average, \"true nor predicted\", \"F-score is\", len(true_sum))\n",
      "/home/compomics/miniconda3/envs/ionbot/lib/python3.7/site-packages/sklearn/metrics/_classification.py:1580: UndefinedMetricWarning: F-score is ill-defined and being set to 0.0 in labels with no true nor predicted samples. Use `zero_division` parameter to control this behavior.\n",
      "  _warn_prf(average, \"true nor predicted\", \"F-score is\", len(true_sum))\n",
      "/home/compomics/miniconda3/envs/ionbot/lib/python3.7/site-packages/sklearn/metrics/_classification.py:1580: UndefinedMetricWarning: F-score is ill-defined and being set to 0.0 in labels with no true nor predicted samples. Use `zero_division` parameter to control this behavior.\n",
      "  _warn_prf(average, \"true nor predicted\", \"F-score is\", len(true_sum))\n",
      "/home/compomics/miniconda3/envs/ionbot/lib/python3.7/site-packages/sklearn/metrics/_classification.py:1580: UndefinedMetricWarning: F-score is ill-defined and being set to 0.0 in labels with no true nor predicted samples. Use `zero_division` parameter to control this behavior.\n",
      "  _warn_prf(average, \"true nor predicted\", \"F-score is\", len(true_sum))\n",
      "/home/compomics/miniconda3/envs/ionbot/lib/python3.7/site-packages/sklearn/metrics/_classification.py:1580: UndefinedMetricWarning: F-score is ill-defined and being set to 0.0 in labels with no true nor predicted samples. Use `zero_division` parameter to control this behavior.\n",
      "  _warn_prf(average, \"true nor predicted\", \"F-score is\", len(true_sum))\n",
      "/home/compomics/miniconda3/envs/ionbot/lib/python3.7/site-packages/sklearn/metrics/_classification.py:1580: UndefinedMetricWarning: F-score is ill-defined and being set to 0.0 in labels with no true nor predicted samples. Use `zero_division` parameter to control this behavior.\n",
      "  _warn_prf(average, \"true nor predicted\", \"F-score is\", len(true_sum))\n",
      "/home/compomics/miniconda3/envs/ionbot/lib/python3.7/site-packages/sklearn/metrics/_classification.py:1580: UndefinedMetricWarning: F-score is ill-defined and being set to 0.0 in labels with no true nor predicted samples. Use `zero_division` parameter to control this behavior.\n",
      "  _warn_prf(average, \"true nor predicted\", \"F-score is\", len(true_sum))\n",
      "/home/compomics/miniconda3/envs/ionbot/lib/python3.7/site-packages/sklearn/metrics/_classification.py:1580: UndefinedMetricWarning: F-score is ill-defined and being set to 0.0 in labels with no true nor predicted samples. Use `zero_division` parameter to control this behavior.\n",
      "  _warn_prf(average, \"true nor predicted\", \"F-score is\", len(true_sum))\n",
      "/home/compomics/miniconda3/envs/ionbot/lib/python3.7/site-packages/sklearn/metrics/_classification.py:1580: UndefinedMetricWarning: F-score is ill-defined and being set to 0.0 in labels with no true nor predicted samples. Use `zero_division` parameter to control this behavior.\n",
      "  _warn_prf(average, \"true nor predicted\", \"F-score is\", len(true_sum))\n"
     ]
    },
    {
     "name": "stdout",
     "output_type": "stream",
     "text": [
      "Comparing results done. See the results in results/comparison_f50_local_pbs_weighted.csv\n"
     ]
    },
    {
     "name": "stderr",
     "output_type": "stream",
     "text": [
      "/home/compomics/miniconda3/envs/ionbot/lib/python3.7/site-packages/sklearn/metrics/_classification.py:1580: UndefinedMetricWarning: F-score is ill-defined and being set to 0.0 in labels with no true nor predicted samples. Use `zero_division` parameter to control this behavior.\n",
      "  _warn_prf(average, \"true nor predicted\", \"F-score is\", len(true_sum))\n",
      "/home/compomics/miniconda3/envs/ionbot/lib/python3.7/site-packages/sklearn/metrics/_classification.py:1580: UndefinedMetricWarning: F-score is ill-defined and being set to 0.0 in labels with no true nor predicted samples. Use `zero_division` parameter to control this behavior.\n",
      "  _warn_prf(average, \"true nor predicted\", \"F-score is\", len(true_sum))\n",
      "/home/compomics/miniconda3/envs/ionbot/lib/python3.7/site-packages/sklearn/metrics/_classification.py:1580: UndefinedMetricWarning: F-score is ill-defined and being set to 0.0 in labels with no true nor predicted samples. Use `zero_division` parameter to control this behavior.\n",
      "  _warn_prf(average, \"true nor predicted\", \"F-score is\", len(true_sum))\n",
      "/home/compomics/miniconda3/envs/ionbot/lib/python3.7/site-packages/sklearn/metrics/_classification.py:1580: UndefinedMetricWarning: F-score is ill-defined and being set to 0.0 in labels with no true nor predicted samples. Use `zero_division` parameter to control this behavior.\n",
      "  _warn_prf(average, \"true nor predicted\", \"F-score is\", len(true_sum))\n",
      "/home/compomics/miniconda3/envs/ionbot/lib/python3.7/site-packages/sklearn/metrics/_classification.py:1580: UndefinedMetricWarning: F-score is ill-defined and being set to 0.0 in labels with no true nor predicted samples. Use `zero_division` parameter to control this behavior.\n",
      "  _warn_prf(average, \"true nor predicted\", \"F-score is\", len(true_sum))\n",
      "/home/compomics/miniconda3/envs/ionbot/lib/python3.7/site-packages/sklearn/metrics/_classification.py:1580: UndefinedMetricWarning: F-score is ill-defined and being set to 0.0 in labels with no true nor predicted samples. Use `zero_division` parameter to control this behavior.\n",
      "  _warn_prf(average, \"true nor predicted\", \"F-score is\", len(true_sum))\n",
      "/home/compomics/miniconda3/envs/ionbot/lib/python3.7/site-packages/sklearn/metrics/_classification.py:1580: UndefinedMetricWarning: F-score is ill-defined and being set to 0.0 in labels with no true nor predicted samples. Use `zero_division` parameter to control this behavior.\n",
      "  _warn_prf(average, \"true nor predicted\", \"F-score is\", len(true_sum))\n"
     ]
    },
    {
     "name": "stdout",
     "output_type": "stream",
     "text": [
      "Comparing results done. See the results in results/comparison_f50_local_pbs_weighted.csv\n"
     ]
    },
    {
     "name": "stderr",
     "output_type": "stream",
     "text": [
      "/home/compomics/miniconda3/envs/ionbot/lib/python3.7/site-packages/sklearn/metrics/_classification.py:1580: UndefinedMetricWarning: F-score is ill-defined and being set to 0.0 in labels with no true nor predicted samples. Use `zero_division` parameter to control this behavior.\n",
      "  _warn_prf(average, \"true nor predicted\", \"F-score is\", len(true_sum))\n"
     ]
    }
   ],
   "source": [
    "filtered50_local.compare_models(\"init\", pbKFold, \"f50_local_pbs_weighted\")"
   ]
  },
  {
   "cell_type": "code",
   "execution_count": 7,
   "metadata": {},
   "outputs": [],
   "source": [
    "base_model_class.set_labels('tissue_type')"
   ]
  },
  {
   "cell_type": "code",
   "execution_count": 10,
   "metadata": {},
   "outputs": [
    {
     "name": "stdout",
     "output_type": "stream",
     "text": [
      "Filtered dataset on reoccur global stored in 'filtered_dataset'\n"
     ]
    }
   ],
   "source": [
    "base_model_class.filter_dataset(method = \"reoccur global\", percentage_reoccurence= .75)"
   ]
  },
  {
   "cell_type": "code",
   "execution_count": 13,
   "metadata": {},
   "outputs": [
    {
     "data": {
      "text/plain": [
       "<matplotlib.axes._subplots.AxesSubplot at 0x7fa72d5a3410>"
      ]
     },
     "execution_count": 13,
     "metadata": {},
     "output_type": "execute_result"
    },
    {
     "data": {
      "image/png": "[encoded data removed]",
      "text/plain": [
       "<Figure size 432x288 with 1 Axes>"
      ]
     },
     "metadata": {
      "needs_background": "light"
     },
     "output_type": "display_data"
    }
   ],
   "source": [
    "sns.kdeplot(base_model_class.deletions_per_sample.proteins_lost)"
   ]
  },
  {
   "cell_type": "code",
   "execution_count": 9,
   "metadata": {},
   "outputs": [
    {
     "name": "stdout",
     "output_type": "stream",
     "text": [
      "Filtered dataset on reoccur local stored in 'filtered_dataset'\n"
     ]
    }
   ],
   "source": [
    "base_model_class.filter_dataset(method = 'reoccur local', percentage_reoccurence=.75)"
   ]
  },
  {
   "cell_type": "code",
   "execution_count": 10,
   "metadata": {},
   "outputs": [
    {
     "data": {
      "text/plain": [
       "<matplotlib.axes._subplots.AxesSubplot at 0x7fb1b4008cd0>"
      ]
     },
     "execution_count": 10,
     "metadata": {},
     "output_type": "execute_result"
    },
    {
     "data": {
      "image/png": "[encoded data removed]",
      "text/plain": [
       "<Figure size 432x288 with 1 Axes>"
      ]
     },
     "metadata": {
      "needs_background": "light"
     },
     "output_type": "display_data"
    }
   ],
   "source": [
    "sns.kdeplot(base_model_class.deletions_per_sample.proteins_lost)"
   ]
  },
  {
   "cell_type": "markdown",
   "metadata": {},
   "source": [
    "### Exploration"
   ]
  },
  {
   "cell_type": "code",
   "execution_count": 147,
   "metadata": {},
   "outputs": [
    {
     "name": "stdout",
     "output_type": "stream",
     "text": [
      "[83 74 63 49 48 47 28 26 26 20 18 11  4  4  4  4  1]\n",
      "['breast' 'blood' 'brain' 'ovary' '/' 'cervix' 'umbilical vein' 'colon'\n",
      " 'skin' 'kidney' 'trophoblast' 'liver' 'prostate' 'fetal kidney'\n",
      " 'fibroblast' 'lung' 'T-cell']\n"
     ]
    }
   ],
   "source": [
    "print(labels.value_counts().values)\n",
    "total = sum(labels.value_counts().values)\n",
    "print(labels.value_counts().index.values)"
   ]
  },
  {
   "cell_type": "code",
   "execution_count": 142,
   "metadata": {},
   "outputs": [
    {
     "data": {
      "text/plain": [
       "breast            16.274510\n",
       "blood             14.705882\n",
       "brain             12.352941\n",
       "ovary              9.607843\n",
       "cervix             9.215686\n",
       "umbilical vein     5.490196\n",
       "colon              5.098039\n",
       "skin               5.098039\n",
       "kidney             3.921569\n",
       "liver              2.156863\n",
       "Name: tissue_type, dtype: float64"
      ]
     },
     "execution_count": 142,
     "metadata": {},
     "output_type": "execute_result"
    }
   ],
   "source": [
    "labels.value_counts()/total *100"
   ]
  },
  {
   "cell_type": "code",
   "execution_count": 134,
   "metadata": {},
   "outputs": [
    {
     "data": {
      "text/plain": [
       "breast            83\n",
       "blood             75\n",
       "brain             63\n",
       "ovary             49\n",
       "cervix            47\n",
       "umbilical vein    28\n",
       "colon             26\n",
       "skin              26\n",
       "kidney            20\n",
       "liver             11\n",
       "Name: tissue_type, dtype: int64"
      ]
     },
     "execution_count": 134,
     "metadata": {},
     "output_type": "execute_result"
    }
   ],
   "source": [
    "labels.value_counts()"
   ]
  },
  {
   "cell_type": "code",
   "execution_count": 137,
   "metadata": {},
   "outputs": [
    {
     "data": {
      "text/plain": [
       "array([83, 75, 63, 49, 47, 28, 26, 26, 20, 11])"
      ]
     },
     "execution_count": 137,
     "metadata": {},
     "output_type": "execute_result"
    }
   ],
   "source": [
    "labels.value_counts().values"
   ]
  },
  {
   "cell_type": "code",
   "execution_count": 149,
   "metadata": {},
   "outputs": [
    {
     "data": {
      "image/png": "[encoded data removed]",
      "text/plain": [
       "<Figure size 1440x720 with 2 Axes>"
      ]
     },
     "metadata": {},
     "output_type": "display_data"
    }
   ],
   "source": [
    "fig = plt.figure(figsize=(20,10))\n",
    "plt.subplot(121)\n",
    "plt.title(\"#assays in a class\")\n",
    "fig.set_facecolor('white')\n",
    "_ = plt.pie(labels.value_counts().values, labels = labels.value_counts().index.values, colors = sns.color_palette(\"deep\", n_colors=len(labels.value_counts().values)), \n",
    "autopct= lambda p: '{:.0f}'.format(p*total/100))\n",
    "\n",
    "plt.subplot(122)\n",
    "pxd_classes = metadata.groupby('tissue_type').nunique().PXD_accession\n",
    "plt.title(r\"#projects per class\")\n",
    "_ = plt.pie(pxd_classes.values, labels = pxd_classes.index.values, colors = sns.color_palette(\"deep\", n_colors=len(labels.value_counts().values)),\n",
    "autopct = lambda p: '{:.0f}'.format(p*sum(pxd_classes.values)/100))"
   ]
  },
  {
   "cell_type": "code",
   "execution_count": 132,
   "metadata": {},
   "outputs": [
    {
     "data": {
      "text/plain": [
       "array([1, 8, 6, 9, 8, 5, 1, 1, 4, 3, 2, 3, 2, 3, 1, 2])"
      ]
     },
     "execution_count": 132,
     "metadata": {},
     "output_type": "execute_result"
    }
   ],
   "source": [
    "pxd_classes.values"
   ]
  },
  {
   "cell_type": "code",
   "execution_count": 131,
   "metadata": {},
   "outputs": [
    {
     "data": {
      "text/plain": [
       "array(['/', 'blood', 'brain', 'breast', 'cervix', 'colon', 'fetal kidney',\n",
       "       'fibroblast', 'kidney', 'liver', 'lung', 'ovary', 'prostate',\n",
       "       'skin', 'trophoblast', 'umbilical vein'], dtype=object)"
      ]
     },
     "execution_count": 131,
     "metadata": {},
     "output_type": "execute_result"
    }
   ],
   "source": [
    "pxd_classes.index.values"
   ]
  },
  {
   "cell_type": "markdown",
   "metadata": {},
   "source": [
    "---"
   ]
  },
  {
   "cell_type": "markdown",
   "metadata": {},
   "source": [
    "### Models setup"
   ]
  },
  {
   "cell_type": "code",
   "execution_count": null,
   "metadata": {},
   "outputs": [],
   "source": [
    "# Models to be used:\n",
    "\n",
    "lr = LogisticRegression()\n",
    "svc = SVC()\n",
    "rf = RandomForestClassifier()\n",
    "ada = AdaBoostClassifier()\n",
    "xgb = XGBClassifier()\n",
    "models = (lr, svc, rf, xgb)\n",
    "\n",
    "# Parameter grids\n",
    "\n",
    "lr_grid = {\"penalty\" : ['l2'],\n",
    "            \"class_weight\": [\"balanced\"],\n",
    "            \"C\": np.linspace(0.005, 5, 5)}\n",
    "\n",
    "svc_grid = {'decision_function_shape': [\"ovr\"],\n",
    "            \"kernel\": ['linear', 'poly', 'rbf'],\n",
    "            \"C\": np.linspace(0.005, 5, 5),\n",
    "            \"class_weight\": [weights]}\n",
    "\n",
    "rf_grid = {'n_estimators': np.linspace(10, 200, 4, dtype = int),\n",
    "            \"criterion\": [\"gini\", \"entropy\"], \n",
    "            \"class_weight\": [weights]}\n",
    "\n",
    "ada_grid = {'n_estimators': np.linspace(10, 150, 4, dtype = int),\n",
    "            'base_estimator': [DecisionTreeClassifier(max_depth=3, class_weight=weights)],\n",
    "            \"learning_rate\": np.linspace(0.005, 5, 5)}\n",
    "\n",
    "xgb_grid = {\"verbosity\": [0],\n",
    "            'eta': np.linspace(0.005,0.5,5),\n",
    "            'gamma': np.linspace(0.005,10,5),\n",
    "            'max_depth': [3,5,7,10]}\n",
    "\n",
    "grids = (lr_grid, svc_grid, rf_grid, xgb_grid)"
   ]
  },
  {
   "cell_type": "code",
   "execution_count": 39,
   "metadata": {},
   "outputs": [],
   "source": [
    "# Outerloop loops 10 times doing 9:1 train test split\n",
    "skf = StratifiedKFold(10) \n",
    "best_parameters = {}\n",
    "model_names = [\"lr\",\"svc\", \"rf\", \"xgb\"]\n",
    "cms = {}\n",
    "f1_scores = {}\n",
    "all_results_df = pd.DataFrame()"
   ]
  },
  {
   "cell_type": "code",
   "execution_count": 18,
   "metadata": {},
   "outputs": [
    {
     "data": {
      "text/plain": [
       "['breast',\n",
       " 'blood',\n",
       " 'brain',\n",
       " 'ovary',\n",
       " 'cervix',\n",
       " 'umbilical vein',\n",
       " 'colon',\n",
       " 'skin',\n",
       " 'kidney',\n",
       " 'trophoblast',\n",
       " 'liver']"
      ]
     },
     "execution_count": 18,
     "metadata": {},
     "output_type": "execute_result"
    }
   ],
   "source": [
    "list(weights.keys())"
   ]
  },
  {
   "cell_type": "markdown",
   "metadata": {},
   "source": [
    "## Modelling without feature selection, filtering or special train test split"
   ]
  },
  {
   "cell_type": "code",
   "execution_count": 67,
   "metadata": {},
   "outputs": [],
   "source": [
    "skf = StratifiedKFold(5)"
   ]
  },
  {
   "cell_type": "code",
   "execution_count": 71,
   "metadata": {},
   "outputs": [
    {
     "data": {
      "text/html": [
       "<div>\n",
       "<style scoped>\n",
       "    .dataframe tbody tr th:only-of-type {\n",
       "        vertical-align: middle;\n",
       "    }\n",
       "\n",
       "    .dataframe tbody tr th {\n",
       "        vertical-align: top;\n",
       "    }\n",
       "\n",
       "    .dataframe thead th {\n",
       "        text-align: right;\n",
       "    }\n",
       "</style>\n",
       "<table border=\"1\" class=\"dataframe\">\n",
       "  <thead>\n",
       "    <tr style=\"text-align: right;\">\n",
       "      <th></th>\n",
       "      <th>A0A024RBG1</th>\n",
       "      <th>A0A075B6X5</th>\n",
       "      <th>A0A096LP01</th>\n",
       "      <th>A0A096LP49</th>\n",
       "      <th>A0A0A6YYK6</th>\n",
       "      <th>A0A0B4J1V0</th>\n",
       "      <th>A0A0B4J2F0</th>\n",
       "      <th>A0A0J9YWL9</th>\n",
       "      <th>A0A0J9YX94</th>\n",
       "      <th>A0A0U1RRE5</th>\n",
       "      <th>...</th>\n",
       "      <th>Q9Y6X4</th>\n",
       "      <th>Q9Y6X5</th>\n",
       "      <th>Q9Y6X8</th>\n",
       "      <th>Q9Y6X9</th>\n",
       "      <th>Q9Y6Y0</th>\n",
       "      <th>Q9Y6Y1</th>\n",
       "      <th>Q9Y6Y8</th>\n",
       "      <th>Q9Y6Y9</th>\n",
       "      <th>Q9Y6Z7</th>\n",
       "      <th>W5XKT8</th>\n",
       "    </tr>\n",
       "  </thead>\n",
       "  <tbody>\n",
       "    <tr>\n",
       "      <th>0</th>\n",
       "      <td>0.000010</td>\n",
       "      <td>0.0</td>\n",
       "      <td>0.000000</td>\n",
       "      <td>0.0</td>\n",
       "      <td>0.0</td>\n",
       "      <td>0.000000</td>\n",
       "      <td>0.000000</td>\n",
       "      <td>0.000000</td>\n",
       "      <td>0.0</td>\n",
       "      <td>0.0</td>\n",
       "      <td>...</td>\n",
       "      <td>0.000070</td>\n",
       "      <td>0.000016</td>\n",
       "      <td>0.000028</td>\n",
       "      <td>0.000040</td>\n",
       "      <td>0.000062</td>\n",
       "      <td>0.000000</td>\n",
       "      <td>0.000088</td>\n",
       "      <td>0.000000</td>\n",
       "      <td>0.0</td>\n",
       "      <td>0.0</td>\n",
       "    </tr>\n",
       "    <tr>\n",
       "      <th>1</th>\n",
       "      <td>0.000000</td>\n",
       "      <td>0.0</td>\n",
       "      <td>0.000000</td>\n",
       "      <td>0.0</td>\n",
       "      <td>0.0</td>\n",
       "      <td>0.000000</td>\n",
       "      <td>0.000000</td>\n",
       "      <td>0.000000</td>\n",
       "      <td>0.0</td>\n",
       "      <td>0.0</td>\n",
       "      <td>...</td>\n",
       "      <td>0.000068</td>\n",
       "      <td>0.000016</td>\n",
       "      <td>0.000033</td>\n",
       "      <td>0.000042</td>\n",
       "      <td>0.000045</td>\n",
       "      <td>0.000001</td>\n",
       "      <td>0.000075</td>\n",
       "      <td>0.000000</td>\n",
       "      <td>0.0</td>\n",
       "      <td>0.0</td>\n",
       "    </tr>\n",
       "    <tr>\n",
       "      <th>2</th>\n",
       "      <td>0.000011</td>\n",
       "      <td>0.0</td>\n",
       "      <td>0.000061</td>\n",
       "      <td>0.0</td>\n",
       "      <td>0.0</td>\n",
       "      <td>0.000016</td>\n",
       "      <td>0.000000</td>\n",
       "      <td>0.000002</td>\n",
       "      <td>0.0</td>\n",
       "      <td>0.0</td>\n",
       "      <td>...</td>\n",
       "      <td>0.000000</td>\n",
       "      <td>0.000000</td>\n",
       "      <td>0.000007</td>\n",
       "      <td>0.000024</td>\n",
       "      <td>0.000045</td>\n",
       "      <td>0.000000</td>\n",
       "      <td>0.000092</td>\n",
       "      <td>0.000024</td>\n",
       "      <td>0.0</td>\n",
       "      <td>0.0</td>\n",
       "    </tr>\n",
       "    <tr>\n",
       "      <th>3</th>\n",
       "      <td>0.000011</td>\n",
       "      <td>0.0</td>\n",
       "      <td>0.000080</td>\n",
       "      <td>0.0</td>\n",
       "      <td>0.0</td>\n",
       "      <td>0.000016</td>\n",
       "      <td>0.000000</td>\n",
       "      <td>0.000002</td>\n",
       "      <td>0.0</td>\n",
       "      <td>0.0</td>\n",
       "      <td>...</td>\n",
       "      <td>0.000000</td>\n",
       "      <td>0.000000</td>\n",
       "      <td>0.000005</td>\n",
       "      <td>0.000035</td>\n",
       "      <td>0.000033</td>\n",
       "      <td>0.000000</td>\n",
       "      <td>0.000076</td>\n",
       "      <td>0.000024</td>\n",
       "      <td>0.0</td>\n",
       "      <td>0.0</td>\n",
       "    </tr>\n",
       "    <tr>\n",
       "      <th>4</th>\n",
       "      <td>0.000000</td>\n",
       "      <td>0.0</td>\n",
       "      <td>0.000000</td>\n",
       "      <td>0.0</td>\n",
       "      <td>0.0</td>\n",
       "      <td>0.000000</td>\n",
       "      <td>0.000000</td>\n",
       "      <td>0.000000</td>\n",
       "      <td>0.0</td>\n",
       "      <td>0.0</td>\n",
       "      <td>...</td>\n",
       "      <td>0.000000</td>\n",
       "      <td>0.000000</td>\n",
       "      <td>0.000000</td>\n",
       "      <td>0.000000</td>\n",
       "      <td>0.000000</td>\n",
       "      <td>0.000000</td>\n",
       "      <td>0.000350</td>\n",
       "      <td>0.000000</td>\n",
       "      <td>0.0</td>\n",
       "      <td>0.0</td>\n",
       "    </tr>\n",
       "    <tr>\n",
       "      <th>...</th>\n",
       "      <td>...</td>\n",
       "      <td>...</td>\n",
       "      <td>...</td>\n",
       "      <td>...</td>\n",
       "      <td>...</td>\n",
       "      <td>...</td>\n",
       "      <td>...</td>\n",
       "      <td>...</td>\n",
       "      <td>...</td>\n",
       "      <td>...</td>\n",
       "      <td>...</td>\n",
       "      <td>...</td>\n",
       "      <td>...</td>\n",
       "      <td>...</td>\n",
       "      <td>...</td>\n",
       "      <td>...</td>\n",
       "      <td>...</td>\n",
       "      <td>...</td>\n",
       "      <td>...</td>\n",
       "      <td>...</td>\n",
       "      <td>...</td>\n",
       "    </tr>\n",
       "    <tr>\n",
       "      <th>505</th>\n",
       "      <td>0.000000</td>\n",
       "      <td>0.0</td>\n",
       "      <td>0.000000</td>\n",
       "      <td>0.0</td>\n",
       "      <td>0.0</td>\n",
       "      <td>0.000000</td>\n",
       "      <td>0.000000</td>\n",
       "      <td>0.000000</td>\n",
       "      <td>0.0</td>\n",
       "      <td>0.0</td>\n",
       "      <td>...</td>\n",
       "      <td>0.000000</td>\n",
       "      <td>0.000018</td>\n",
       "      <td>0.000020</td>\n",
       "      <td>0.000161</td>\n",
       "      <td>0.000143</td>\n",
       "      <td>0.000000</td>\n",
       "      <td>0.000441</td>\n",
       "      <td>0.000000</td>\n",
       "      <td>0.0</td>\n",
       "      <td>0.0</td>\n",
       "    </tr>\n",
       "    <tr>\n",
       "      <th>506</th>\n",
       "      <td>0.000189</td>\n",
       "      <td>0.0</td>\n",
       "      <td>0.000000</td>\n",
       "      <td>0.0</td>\n",
       "      <td>0.0</td>\n",
       "      <td>0.000000</td>\n",
       "      <td>0.000000</td>\n",
       "      <td>0.000000</td>\n",
       "      <td>0.0</td>\n",
       "      <td>0.0</td>\n",
       "      <td>...</td>\n",
       "      <td>0.000000</td>\n",
       "      <td>0.000000</td>\n",
       "      <td>0.000000</td>\n",
       "      <td>0.000124</td>\n",
       "      <td>0.000107</td>\n",
       "      <td>0.000000</td>\n",
       "      <td>0.000291</td>\n",
       "      <td>0.000000</td>\n",
       "      <td>0.0</td>\n",
       "      <td>0.0</td>\n",
       "    </tr>\n",
       "    <tr>\n",
       "      <th>507</th>\n",
       "      <td>0.000000</td>\n",
       "      <td>0.0</td>\n",
       "      <td>0.000000</td>\n",
       "      <td>0.0</td>\n",
       "      <td>0.0</td>\n",
       "      <td>0.000000</td>\n",
       "      <td>0.000000</td>\n",
       "      <td>0.000000</td>\n",
       "      <td>0.0</td>\n",
       "      <td>0.0</td>\n",
       "      <td>...</td>\n",
       "      <td>0.000000</td>\n",
       "      <td>0.000000</td>\n",
       "      <td>0.000270</td>\n",
       "      <td>0.000279</td>\n",
       "      <td>0.000024</td>\n",
       "      <td>0.000000</td>\n",
       "      <td>0.000389</td>\n",
       "      <td>0.000000</td>\n",
       "      <td>0.0</td>\n",
       "      <td>0.0</td>\n",
       "    </tr>\n",
       "    <tr>\n",
       "      <th>508</th>\n",
       "      <td>0.000000</td>\n",
       "      <td>0.0</td>\n",
       "      <td>0.000000</td>\n",
       "      <td>0.0</td>\n",
       "      <td>0.0</td>\n",
       "      <td>0.000000</td>\n",
       "      <td>0.000169</td>\n",
       "      <td>0.000000</td>\n",
       "      <td>0.0</td>\n",
       "      <td>0.0</td>\n",
       "      <td>...</td>\n",
       "      <td>0.000000</td>\n",
       "      <td>0.000000</td>\n",
       "      <td>0.000054</td>\n",
       "      <td>0.000018</td>\n",
       "      <td>0.000000</td>\n",
       "      <td>0.000000</td>\n",
       "      <td>0.000027</td>\n",
       "      <td>0.000000</td>\n",
       "      <td>0.0</td>\n",
       "      <td>0.0</td>\n",
       "    </tr>\n",
       "    <tr>\n",
       "      <th>509</th>\n",
       "      <td>0.000000</td>\n",
       "      <td>0.0</td>\n",
       "      <td>0.000000</td>\n",
       "      <td>0.0</td>\n",
       "      <td>0.0</td>\n",
       "      <td>0.000000</td>\n",
       "      <td>0.000338</td>\n",
       "      <td>0.000000</td>\n",
       "      <td>0.0</td>\n",
       "      <td>0.0</td>\n",
       "      <td>...</td>\n",
       "      <td>0.000000</td>\n",
       "      <td>0.000000</td>\n",
       "      <td>0.000022</td>\n",
       "      <td>0.000300</td>\n",
       "      <td>0.000114</td>\n",
       "      <td>0.000000</td>\n",
       "      <td>0.000419</td>\n",
       "      <td>0.000000</td>\n",
       "      <td>0.0</td>\n",
       "      <td>0.0</td>\n",
       "    </tr>\n",
       "  </tbody>\n",
       "</table>\n",
       "<p>510 rows × 13166 columns</p>\n",
       "</div>"
      ],
      "text/plain": [
       "     A0A024RBG1  A0A075B6X5  A0A096LP01  A0A096LP49  A0A0A6YYK6  A0A0B4J1V0  \\\n",
       "0      0.000010         0.0    0.000000         0.0         0.0    0.000000   \n",
       "1      0.000000         0.0    0.000000         0.0         0.0    0.000000   \n",
       "2      0.000011         0.0    0.000061         0.0         0.0    0.000016   \n",
       "3      0.000011         0.0    0.000080         0.0         0.0    0.000016   \n",
       "4      0.000000         0.0    0.000000         0.0         0.0    0.000000   \n",
       "..          ...         ...         ...         ...         ...         ...   \n",
       "505    0.000000         0.0    0.000000         0.0         0.0    0.000000   \n",
       "506    0.000189         0.0    0.000000         0.0         0.0    0.000000   \n",
       "507    0.000000         0.0    0.000000         0.0         0.0    0.000000   \n",
       "508    0.000000         0.0    0.000000         0.0         0.0    0.000000   \n",
       "509    0.000000         0.0    0.000000         0.0         0.0    0.000000   \n",
       "\n",
       "     A0A0B4J2F0  A0A0J9YWL9  A0A0J9YX94  A0A0U1RRE5  ...    Q9Y6X4    Q9Y6X5  \\\n",
       "0      0.000000    0.000000         0.0         0.0  ...  0.000070  0.000016   \n",
       "1      0.000000    0.000000         0.0         0.0  ...  0.000068  0.000016   \n",
       "2      0.000000    0.000002         0.0         0.0  ...  0.000000  0.000000   \n",
       "3      0.000000    0.000002         0.0         0.0  ...  0.000000  0.000000   \n",
       "4      0.000000    0.000000         0.0         0.0  ...  0.000000  0.000000   \n",
       "..          ...         ...         ...         ...  ...       ...       ...   \n",
       "505    0.000000    0.000000         0.0         0.0  ...  0.000000  0.000018   \n",
       "506    0.000000    0.000000         0.0         0.0  ...  0.000000  0.000000   \n",
       "507    0.000000    0.000000         0.0         0.0  ...  0.000000  0.000000   \n",
       "508    0.000169    0.000000         0.0         0.0  ...  0.000000  0.000000   \n",
       "509    0.000338    0.000000         0.0         0.0  ...  0.000000  0.000000   \n",
       "\n",
       "       Q9Y6X8    Q9Y6X9    Q9Y6Y0    Q9Y6Y1    Q9Y6Y8    Q9Y6Y9  Q9Y6Z7  \\\n",
       "0    0.000028  0.000040  0.000062  0.000000  0.000088  0.000000     0.0   \n",
       "1    0.000033  0.000042  0.000045  0.000001  0.000075  0.000000     0.0   \n",
       "2    0.000007  0.000024  0.000045  0.000000  0.000092  0.000024     0.0   \n",
       "3    0.000005  0.000035  0.000033  0.000000  0.000076  0.000024     0.0   \n",
       "4    0.000000  0.000000  0.000000  0.000000  0.000350  0.000000     0.0   \n",
       "..        ...       ...       ...       ...       ...       ...     ...   \n",
       "505  0.000020  0.000161  0.000143  0.000000  0.000441  0.000000     0.0   \n",
       "506  0.000000  0.000124  0.000107  0.000000  0.000291  0.000000     0.0   \n",
       "507  0.000270  0.000279  0.000024  0.000000  0.000389  0.000000     0.0   \n",
       "508  0.000054  0.000018  0.000000  0.000000  0.000027  0.000000     0.0   \n",
       "509  0.000022  0.000300  0.000114  0.000000  0.000419  0.000000     0.0   \n",
       "\n",
       "     W5XKT8  \n",
       "0       0.0  \n",
       "1       0.0  \n",
       "2       0.0  \n",
       "3       0.0  \n",
       "4       0.0  \n",
       "..      ...  \n",
       "505     0.0  \n",
       "506     0.0  \n",
       "507     0.0  \n",
       "508     0.0  \n",
       "509     0.0  \n",
       "\n",
       "[510 rows x 13166 columns]"
      ]
     },
     "execution_count": 71,
     "metadata": {},
     "output_type": "execute_result"
    }
   ],
   "source": [
    "data"
   ]
  },
  {
   "cell_type": "code",
   "execution_count": 11,
   "metadata": {},
   "outputs": [
    {
     "data": {
      "text/plain": [
       "Index(['assay_id', 'tissue_type', 'PXD_accession'], dtype='object')"
      ]
     },
     "execution_count": 11,
     "metadata": {},
     "output_type": "execute_result"
    }
   ],
   "source": [
    "metadata.columns"
   ]
  },
  {
   "cell_type": "code",
   "execution_count": 61,
   "metadata": {},
   "outputs": [],
   "source": [
    "import random\n",
    "class ProjectBasedSplit():\n",
    "    def __init__(self, splits: int, metadata: pd.DataFrame, on = str):\n",
    "        \"\"\"Called when training model and splitting_procedure is set as 'project'\n",
    "        \n",
    "        metadata: the metadata table that is used to generate splits\n",
    "        \n",
    "        on: the column name that represent the labels\"\"\"\n",
    "\n",
    "        self.splits = splits\n",
    "        self.metadata = metadata\n",
    "        self.label = on\n",
    "        self.dropped_pxds = []\n",
    "\n",
    "    def split(self, dataset, metadata, groups = None):\n",
    "        \"\"\"Generate indices to split dataset into training and test set\n",
    "\n",
    "        metadata should be a dataframe containing following columns:\n",
    "            - PXD_accession\n",
    "            - assay_id (unique)\n",
    "            - label (given when initiating this splitting class)\n",
    "        \n",
    "        Splits are done with complete projects\n",
    "        \n",
    "        No unique splits are ensured.\n",
    "        \n",
    "        returns list of sets containing (train_index, test_index)\"\"\"\n",
    "        \n",
    "        metadata = self.metadata.loc[self.metadata.index.isin(dataset.index),:]\n",
    "\n",
    "        index_splits = []\n",
    "        for split in range(self.splits):\n",
    "            train_index, test_index, dropped_pxds = self.train_test_project_split(dataset, metadata=metadata)\n",
    "            index_splits.append((train_index, test_index))\n",
    "            self.dropped_pxds.append(dropped_pxds)\n",
    "\n",
    "            yield train_index, test_index\n",
    "        \n",
    "    def train_test_project_split(self, dataset, metadata: pd.DataFrame, groups = None):\n",
    "\n",
    "        self.metadata = metadata\n",
    "        pxds = metadata.PXD_accession.unique()\n",
    "        n_samples = len(dataset)\n",
    "        random.shuffle(pxds)\n",
    "        dropped_pxds = []\n",
    "        indeces = np.array([],dtype = int)\n",
    "\n",
    "        for pxd in pxds:\n",
    "            \n",
    "            pxd_indeces = np.concatenate((self.metadata.loc[self.metadata.PXD_accession == pxd,:].index.to_numpy(), indeces))\n",
    "            counter = self.metadata.iloc[~self.metadata.index.isin(pxd_indeces),:].groupby(self.label).nunique()\n",
    "            assays = len(pxd_indeces)\n",
    "\n",
    "            condition1 = (assays/n_samples) < 0.1 # Ensure no more than 10% of data in testset\n",
    "            condition2 = not False in (counter.PXD_accession > 1).unique() # Ensure at least 2 projects per class\n",
    "            condition3 = not False in (counter.assay_id > 10).unique() # Ensure > 10 samples per class for cv\n",
    "\n",
    "            if condition1 and condition2 and condition3:\n",
    "                dropped_pxds.append(pxd)\n",
    "                indeces = pxd_indeces\n",
    "\n",
    "        classes_in_test = self.metadata[self.metadata.PXD_accession.isin(dropped_pxds)][self.label].unique()\n",
    "        #if the resulting test train split contains at most 4 projects and represents at most 3 classes, try again\n",
    "        if len(dropped_pxds)<5 and len(classes_in_test) < 4:\n",
    "            return self.train_test_project_split(dataset = dataset, metadata=metadata)\n",
    "\n",
    "        train_index = dataset.iloc[~dataset.index.isin(indeces), :].index.to_numpy()\n",
    "        test_index = indeces \n",
    "\n",
    "        return train_index, test_index, dropped_pxds   \n",
    "\n",
    "    def get_n_splits(self, x, y, groups = None):\n",
    "        return self.splits"
   ]
  },
  {
   "cell_type": "code",
   "execution_count": 40,
   "metadata": {},
   "outputs": [
    {
     "name": "stderr",
     "output_type": "stream",
     "text": [
      "/home/compomics/miniconda3/envs/ionbot/lib/python3.7/site-packages/sklearn/model_selection/_split.py:680: UserWarning: The least populated class in y has only 1 members, which is less than n_splits=10.\n",
      "  UserWarning,\n"
     ]
    },
    {
     "data": {
      "text/plain": [
       "GridSearchCV(cv=StratifiedKFold(n_splits=10, random_state=None, shuffle=False),\n",
       "             estimator=LogisticRegression(),\n",
       "             param_grid={'C': array([0.005  , 1.25375, 2.5025 , 3.75125, 5.     ]),\n",
       "                         'class_weight': ['balanced'], 'penalty': ['l2']})"
      ]
     },
     "execution_count": 40,
     "metadata": {},
     "output_type": "execute_result"
    }
   ],
   "source": [
    "grid_test = GridSearchCV(LogisticRegression(),lr_grid,cv = skf)\n",
    "grid_test.fit(data, labels)"
   ]
  },
  {
   "cell_type": "code",
   "execution_count": 37,
   "metadata": {},
   "outputs": [
    {
     "name": "stdout",
     "output_type": "stream",
     "text": [
      "Start evaluation lr\n",
      "CV: 1/10\n",
      "CV: 2/10\n",
      "CV: 3/10\n",
      "CV: 4/10\n",
      "CV: 5/10\n",
      "CV: 6/10\n",
      "CV: 7/10\n",
      "CV: 8/10\n",
      "CV: 9/10\n",
      "CV: 10/10\n",
      "Start evaluation svc\n",
      "CV: 1/10\n",
      "CV: 2/10\n",
      "CV: 3/10\n",
      "CV: 4/10\n",
      "CV: 5/10\n",
      "CV: 6/10\n",
      "CV: 7/10\n",
      "CV: 8/10\n",
      "CV: 9/10\n",
      "CV: 10/10\n",
      "Start evaluation rf\n",
      "CV: 1/10\n",
      "CV: 2/10\n",
      "CV: 3/10\n",
      "CV: 4/10\n",
      "CV: 5/10\n",
      "CV: 6/10\n",
      "CV: 7/10\n",
      "CV: 8/10\n",
      "CV: 9/10\n",
      "CV: 10/10\n",
      "Start evaluation xgb\n",
      "CV: 1/10\n"
     ]
    },
    {
     "name": "stderr",
     "output_type": "stream",
     "text": [
      "/home/compomics/miniconda3/envs/ionbot/lib/python3.7/site-packages/sklearn/model_selection/_validation.py:372: FitFailedWarning: \n",
      "500 fits failed out of a total of 500.\n",
      "The score on these train-test partitions for these parameters will be set to nan.\n",
      "If these failures are not expected, you can try to debug them by setting error_score='raise'.\n",
      "\n",
      "Below are more details about the failures:\n",
      "--------------------------------------------------------------------------------\n",
      "500 fits failed with the following error:\n",
      "Traceback (most recent call last):\n",
      "  File \"/home/compomics/miniconda3/envs/ionbot/lib/python3.7/site-packages/sklearn/model_selection/_validation.py\", line 680, in _fit_and_score\n",
      "    estimator.fit(X_train, y_train, **fit_params)\n",
      "  File \"/home/compomics/miniconda3/envs/ionbot/lib/python3.7/site-packages/xgboost/core.py\", line 532, in inner_f\n",
      "    return f(**kwargs)\n",
      "  File \"/home/compomics/miniconda3/envs/ionbot/lib/python3.7/site-packages/xgboost/sklearn.py\", line 1358, in fit\n",
      "    f\"Invalid classes inferred from unique values of `y`.  \"\n",
      "ValueError: Invalid classes inferred from unique values of `y`.  Expected: [ 0  1  2  3  4  5  6  7  8  9 10], got ['blood' 'brain' 'breast' 'cervix' 'colon' 'kidney' 'liver' 'ovary' 'skin'\n",
      " 'trophoblast' 'umbilical vein']\n",
      "\n",
      "  warnings.warn(some_fits_failed_message, FitFailedWarning)\n",
      "/home/compomics/miniconda3/envs/ionbot/lib/python3.7/site-packages/sklearn/model_selection/_search.py:972: UserWarning: One or more of the test scores are non-finite: [nan nan nan nan nan nan nan nan nan nan nan nan nan nan nan nan nan nan\n",
      " nan nan nan nan nan nan nan nan nan nan nan nan nan nan nan nan nan nan\n",
      " nan nan nan nan nan nan nan nan nan nan nan nan nan nan nan nan nan nan\n",
      " nan nan nan nan nan nan nan nan nan nan nan nan nan nan nan nan nan nan\n",
      " nan nan nan nan nan nan nan nan nan nan nan nan nan nan nan nan nan nan\n",
      " nan nan nan nan nan nan nan nan nan nan]\n",
      "  category=UserWarning,\n"
     ]
    },
    {
     "ename": "ValueError",
     "evalue": "Invalid classes inferred from unique values of `y`.  Expected: [ 0  1  2  3  4  5  6  7  8  9 10], got ['blood' 'brain' 'breast' 'cervix' 'colon' 'kidney' 'liver' 'ovary' 'skin'\n 'trophoblast' 'umbilical vein']",
     "output_type": "error",
     "traceback": [
      "\u001b[0;31m---------------------------------------------------------------------------\u001b[0m",
      "\u001b[0;31mValueError\u001b[0m                                Traceback (most recent call last)",
      "\u001b[0;32m/tmp/ipykernel_89099/980317640.py\u001b[0m in \u001b[0;36m<module>\u001b[0;34m\u001b[0m\n\u001b[1;32m     24\u001b[0m         \u001b[0;31m# Gridsearch\u001b[0m\u001b[0;34m\u001b[0m\u001b[0;34m\u001b[0m\u001b[0;34m\u001b[0m\u001b[0m\n\u001b[1;32m     25\u001b[0m         \u001b[0mgridsearch\u001b[0m \u001b[0;34m=\u001b[0m \u001b[0mGridSearchCV\u001b[0m\u001b[0;34m(\u001b[0m\u001b[0mclf\u001b[0m\u001b[0;34m,\u001b[0m \u001b[0mparam_grid\u001b[0m \u001b[0;34m=\u001b[0m \u001b[0mgrid\u001b[0m\u001b[0;34m,\u001b[0m \u001b[0mscoring\u001b[0m \u001b[0;34m=\u001b[0m \u001b[0;34m'f1_weighted'\u001b[0m\u001b[0;34m,\u001b[0m \u001b[0mcv\u001b[0m \u001b[0;34m=\u001b[0m \u001b[0;36m5\u001b[0m\u001b[0;34m)\u001b[0m\u001b[0;34m\u001b[0m\u001b[0;34m\u001b[0m\u001b[0m\n\u001b[0;32m---> 26\u001b[0;31m         \u001b[0mgridsearch\u001b[0m\u001b[0;34m.\u001b[0m\u001b[0mfit\u001b[0m\u001b[0;34m(\u001b[0m\u001b[0mX_train\u001b[0m\u001b[0;34m,\u001b[0m \u001b[0mY_train\u001b[0m\u001b[0;34m)\u001b[0m\u001b[0;34m\u001b[0m\u001b[0;34m\u001b[0m\u001b[0m\n\u001b[0m\u001b[1;32m     27\u001b[0m \u001b[0;34m\u001b[0m\u001b[0m\n\u001b[1;32m     28\u001b[0m         \u001b[0mY_pred\u001b[0m \u001b[0;34m=\u001b[0m \u001b[0mgridsearch\u001b[0m\u001b[0;34m.\u001b[0m\u001b[0mpredict\u001b[0m\u001b[0;34m(\u001b[0m\u001b[0mX_test\u001b[0m\u001b[0;34m)\u001b[0m\u001b[0;34m\u001b[0m\u001b[0;34m\u001b[0m\u001b[0m\n",
      "\u001b[0;32m~/miniconda3/envs/ionbot/lib/python3.7/site-packages/sklearn/model_selection/_search.py\u001b[0m in \u001b[0;36mfit\u001b[0;34m(self, X, y, groups, **fit_params)\u001b[0m\n\u001b[1;32m    924\u001b[0m             \u001b[0mrefit_start_time\u001b[0m \u001b[0;34m=\u001b[0m \u001b[0mtime\u001b[0m\u001b[0;34m.\u001b[0m\u001b[0mtime\u001b[0m\u001b[0;34m(\u001b[0m\u001b[0;34m)\u001b[0m\u001b[0;34m\u001b[0m\u001b[0;34m\u001b[0m\u001b[0m\n\u001b[1;32m    925\u001b[0m             \u001b[0;32mif\u001b[0m \u001b[0my\u001b[0m \u001b[0;32mis\u001b[0m \u001b[0;32mnot\u001b[0m \u001b[0;32mNone\u001b[0m\u001b[0;34m:\u001b[0m\u001b[0;34m\u001b[0m\u001b[0;34m\u001b[0m\u001b[0m\n\u001b[0;32m--> 926\u001b[0;31m                 \u001b[0mself\u001b[0m\u001b[0;34m.\u001b[0m\u001b[0mbest_estimator_\u001b[0m\u001b[0;34m.\u001b[0m\u001b[0mfit\u001b[0m\u001b[0;34m(\u001b[0m\u001b[0mX\u001b[0m\u001b[0;34m,\u001b[0m \u001b[0my\u001b[0m\u001b[0;34m,\u001b[0m \u001b[0;34m**\u001b[0m\u001b[0mfit_params\u001b[0m\u001b[0;34m)\u001b[0m\u001b[0;34m\u001b[0m\u001b[0;34m\u001b[0m\u001b[0m\n\u001b[0m\u001b[1;32m    927\u001b[0m             \u001b[0;32melse\u001b[0m\u001b[0;34m:\u001b[0m\u001b[0;34m\u001b[0m\u001b[0;34m\u001b[0m\u001b[0m\n\u001b[1;32m    928\u001b[0m                 \u001b[0mself\u001b[0m\u001b[0;34m.\u001b[0m\u001b[0mbest_estimator_\u001b[0m\u001b[0;34m.\u001b[0m\u001b[0mfit\u001b[0m\u001b[0;34m(\u001b[0m\u001b[0mX\u001b[0m\u001b[0;34m,\u001b[0m \u001b[0;34m**\u001b[0m\u001b[0mfit_params\u001b[0m\u001b[0;34m)\u001b[0m\u001b[0;34m\u001b[0m\u001b[0;34m\u001b[0m\u001b[0m\n",
      "\u001b[0;32m~/miniconda3/envs/ionbot/lib/python3.7/site-packages/xgboost/core.py\u001b[0m in \u001b[0;36minner_f\u001b[0;34m(*args, **kwargs)\u001b[0m\n\u001b[1;32m    530\u001b[0m         \u001b[0;32mfor\u001b[0m \u001b[0mk\u001b[0m\u001b[0;34m,\u001b[0m \u001b[0marg\u001b[0m \u001b[0;32min\u001b[0m \u001b[0mzip\u001b[0m\u001b[0;34m(\u001b[0m\u001b[0msig\u001b[0m\u001b[0;34m.\u001b[0m\u001b[0mparameters\u001b[0m\u001b[0;34m,\u001b[0m \u001b[0margs\u001b[0m\u001b[0;34m)\u001b[0m\u001b[0;34m:\u001b[0m\u001b[0;34m\u001b[0m\u001b[0;34m\u001b[0m\u001b[0m\n\u001b[1;32m    531\u001b[0m             \u001b[0mkwargs\u001b[0m\u001b[0;34m[\u001b[0m\u001b[0mk\u001b[0m\u001b[0;34m]\u001b[0m \u001b[0;34m=\u001b[0m \u001b[0marg\u001b[0m\u001b[0;34m\u001b[0m\u001b[0;34m\u001b[0m\u001b[0m\n\u001b[0;32m--> 532\u001b[0;31m         \u001b[0;32mreturn\u001b[0m \u001b[0mf\u001b[0m\u001b[0;34m(\u001b[0m\u001b[0;34m**\u001b[0m\u001b[0mkwargs\u001b[0m\u001b[0;34m)\u001b[0m\u001b[0;34m\u001b[0m\u001b[0;34m\u001b[0m\u001b[0m\n\u001b[0m\u001b[1;32m    533\u001b[0m \u001b[0;34m\u001b[0m\u001b[0m\n\u001b[1;32m    534\u001b[0m     \u001b[0;32mreturn\u001b[0m \u001b[0minner_f\u001b[0m\u001b[0;34m\u001b[0m\u001b[0;34m\u001b[0m\u001b[0m\n",
      "\u001b[0;32m~/miniconda3/envs/ionbot/lib/python3.7/site-packages/xgboost/sklearn.py\u001b[0m in \u001b[0;36mfit\u001b[0;34m(self, X, y, sample_weight, base_margin, eval_set, eval_metric, early_stopping_rounds, verbose, xgb_model, sample_weight_eval_set, base_margin_eval_set, feature_weights, callbacks)\u001b[0m\n\u001b[1;32m   1356\u001b[0m         ):\n\u001b[1;32m   1357\u001b[0m             raise ValueError(\n\u001b[0;32m-> 1358\u001b[0;31m                 \u001b[0;34mf\"Invalid classes inferred from unique values of `y`.  \"\u001b[0m\u001b[0;34m\u001b[0m\u001b[0;34m\u001b[0m\u001b[0m\n\u001b[0m\u001b[1;32m   1359\u001b[0m                 \u001b[0;34mf\"Expected: {expected_classes}, got {self.classes_}\"\u001b[0m\u001b[0;34m\u001b[0m\u001b[0;34m\u001b[0m\u001b[0m\n\u001b[1;32m   1360\u001b[0m             )\n",
      "\u001b[0;31mValueError\u001b[0m: Invalid classes inferred from unique values of `y`.  Expected: [ 0  1  2  3  4  5  6  7  8  9 10], got ['blood' 'brain' 'breast' 'cervix' 'colon' 'kidney' 'liver' 'ovary' 'skin'\n 'trophoblast' 'umbilical vein']"
     ]
    }
   ],
   "source": [
    "# Outerloop loops 10 times doing 9:1 train test split\n",
    "skf = StratifiedKFold(10) \n",
    "flag = True\n",
    "\n",
    "for i in range(0,5):\n",
    "    \n",
    "    model_name = model_names[i]\n",
    "    \n",
    "    clf = models[i]\n",
    "    grid = grids[i]\n",
    "\n",
    "    outerloop_count = 0\n",
    "    print(f\"Start evaluation {model_name}\")\n",
    "    for train, test in skf.split(data, labels):\n",
    "        \n",
    "        outerloop_count += 1\n",
    "        print(f\"CV: {outerloop_count}/10\")\n",
    "\n",
    "        X_train = data.iloc[train,:]\n",
    "        Y_train = labels.iloc[train]\n",
    "        X_test = data.iloc[test,:]\n",
    "        Y_test = labels.iloc[test]\n",
    "        \n",
    "        # Gridsearch\n",
    "        gridsearch = GridSearchCV(clf, param_grid = grid, scoring = 'f1_weighted', cv = 5)\n",
    "        gridsearch.fit(X_train, Y_train)\n",
    "        \n",
    "        Y_pred = gridsearch.predict(X_test)\n",
    "        \n",
    "        # Store confusion matrix and f1-score after each outerloop\n",
    "        f1_score_ = f1_score(Y_test, Y_pred, average = None, labels = list(weights.keys()))\n",
    "\n",
    "        cm = confusion_matrix(Y_test, Y_pred, labels = gridsearch.classes_)\n",
    " \n",
    "        best_parameters[outerloop_count] = [gridsearch.best_params_]\n",
    "        f1_scores[outerloop_count] = [f1_score_]\n",
    "        cms[outerloop_count] = [cm]\n",
    "\n",
    "    parameter_df = pd.DataFrame(best_parameters)\n",
    "    f1_scores_df = pd.DataFrame(f1_scores)\n",
    "    cms_df = pd.DataFrame(cms)\n",
    "\n",
    "    model_results_df = pd.concat([parameter_df.rename({0:\"parameter\"}), f1_scores_df.rename({0:\"f1\"}), cms_df.rename({0:\"cms\"})]).transpose().rename(index = {x: model_name for x in range(11)})\n",
    "    all_results_df = pd.concat([model_results_df, all_results_df], axis = 0)\n",
    "    \n",
    "    all_results_df.to_csv(\"base_results.csv\",sep = \";\", index = True)\n",
    "\n"
   ]
  },
  {
   "cell_type": "code",
   "execution_count": 31,
   "metadata": {},
   "outputs": [],
   "source": [
    "test = pd.concat([parameter_df.rename({0:\"parameter\"}), f1_scores_df.rename({0:\"f1\"}), cms_df.rename({0:\"cms\"})]).transpose().rename(index = {x: \"lr\" for x in range(11)})"
   ]
  },
  {
   "cell_type": "markdown",
   "metadata": {},
   "source": [
    "---"
   ]
  },
  {
   "cell_type": "markdown",
   "metadata": {},
   "source": [
    "## drop complete project as test set"
   ]
  },
  {
   "cell_type": "markdown",
   "metadata": {},
   "source": [
    "The test set is a complete project. Because samples share more similarity within a project than between projects, this method should ensure that the test set represent a true unseen sample. "
   ]
  },
  {
   "cell_type": "code",
   "execution_count": 8,
   "metadata": {},
   "outputs": [],
   "source": [
    "import random\n",
    "\n",
    "def train_test_project_split(dataset: pd.DataFrame, metadata: pd.DataFrame, log = False):\n",
    "    \"\"\"\n",
    "    the split is done by ensuring 3 conditions:\n",
    "    - the test set is < 10 % of the dataset\n",
    "    - the train set must contain at least 2 projects\n",
    "    - each class must contain > 10 samples\n",
    "    \n",
    "    returns X_train, Y_train, X_test, Y_test\"\"\"\n",
    "    #print(metadata.tissue_type.value_counts())\n",
    "    pxds = metadata.PXD_accession.unique()\n",
    "    n_samples = len(dataset)\n",
    "    random.shuffle(pxds)\n",
    "    dropped_pxds = []\n",
    "    indeces = []\n",
    "    for pxd in pxds:\n",
    "\n",
    "        pxd_indeces = metadata.loc[metadata.PXD_accession == pxd,:].index.tolist() + indeces\n",
    "        counter =  metadata.iloc[~metadata.index.isin(pxd_indeces),:].groupby(\"tissue_type\").nunique()\n",
    "        assays = len(pxd_indeces)\n",
    "\n",
    "        condition1 = (assays/n_samples) < 0.1 # Ensure no more than 10% of data in testset\n",
    "        condition2 = not False in (counter.PXD_accession > 1).unique() # Ensure at least 2 projects per class\n",
    "        condition3 = not False in (counter.assay_id > 10).unique() # Ensure > 10 samples per class for cv\n",
    "\n",
    "        if log:\n",
    "            print(f'''condition 1: {condition1}, {assays} {n_samples}\n",
    "            condition 2: {condition2}, {(counter.PXD_accession > 1)}\n",
    "            condition 3: {condition3}, {(counter.assay_id > 10).unique()}''')\n",
    "        if condition1 and condition2 and condition3:\n",
    "            dropped_pxds.append(pxd)\n",
    "            indeces = pxd_indeces\n",
    "\n",
    "    if len(dropped_pxds)<5 and len(metadata[metadata.PXD_accession.isin(dropped_pxds)].tissue_type.unique()) < 4:\n",
    "        #if the resulting test train split contains at most 4 projects and represents at most 3 classes, try again\n",
    "        return train_test_project_split(dataset = dataset, metadata = metadata)\n",
    "\n",
    "    X_train = dataset.iloc[~dataset.index.isin(indeces), :]\n",
    "    Y_train = metadata.iloc[~metadata.index.isin(indeces), 1]\n",
    "    X_test = dataset.iloc[dataset.index.isin(indeces),:]\n",
    "    Y_test = metadata.iloc[metadata.index.isin(indeces), 1]\n",
    "\n",
    "    return X_train, Y_train, X_test, Y_test, dropped_pxds"
   ]
  },
  {
   "cell_type": "code",
   "execution_count": 9,
   "metadata": {},
   "outputs": [],
   "source": [
    "metadata = metadata.iloc[metadata.index.isin(data.index),:]"
   ]
  },
  {
   "cell_type": "code",
   "execution_count": 88,
   "metadata": {},
   "outputs": [
    {
     "name": "stdout",
     "output_type": "stream",
     "text": [
      "1 /10\n"
     ]
    },
    {
     "data": {
      "text/plain": [
       "<Figure size 720x720 with 0 Axes>"
      ]
     },
     "metadata": {},
     "output_type": "display_data"
    },
    {
     "data": {
      "image/png": "[encoded data removed]",
      "text/plain": [
       "<Figure size 432x288 with 2 Axes>"
      ]
     },
     "metadata": {
      "needs_background": "light"
     },
     "output_type": "display_data"
    },
    {
     "name": "stdout",
     "output_type": "stream",
     "text": [
      "2 /10\n"
     ]
    },
    {
     "data": {
      "text/plain": [
       "<Figure size 720x720 with 0 Axes>"
      ]
     },
     "metadata": {},
     "output_type": "display_data"
    },
    {
     "data": {
      "image/png": "[encoded data removed]",
      "text/plain": [
       "<Figure size 432x288 with 2 Axes>"
      ]
     },
     "metadata": {
      "needs_background": "light"
     },
     "output_type": "display_data"
    },
    {
     "name": "stdout",
     "output_type": "stream",
     "text": [
      "3 /10\n"
     ]
    },
    {
     "data": {
      "text/plain": [
       "<Figure size 720x720 with 0 Axes>"
      ]
     },
     "metadata": {},
     "output_type": "display_data"
    },
    {
     "data": {
      "image/png": "[encoded data removed]",
      "text/plain": [
       "<Figure size 432x288 with 2 Axes>"
      ]
     },
     "metadata": {
      "needs_background": "light"
     },
     "output_type": "display_data"
    },
    {
     "name": "stdout",
     "output_type": "stream",
     "text": [
      "4 /10\n"
     ]
    },
    {
     "data": {
      "text/plain": [
       "<Figure size 720x720 with 0 Axes>"
      ]
     },
     "metadata": {},
     "output_type": "display_data"
    },
    {
     "data": {
      "image/png": "[encoded data removed]",
      "text/plain": [
       "<Figure size 432x288 with 2 Axes>"
      ]
     },
     "metadata": {
      "needs_background": "light"
     },
     "output_type": "display_data"
    },
    {
     "name": "stdout",
     "output_type": "stream",
     "text": [
      "5 /10\n"
     ]
    },
    {
     "data": {
      "text/plain": [
       "<Figure size 720x720 with 0 Axes>"
      ]
     },
     "metadata": {},
     "output_type": "display_data"
    },
    {
     "data": {
      "image/png": "[encoded data removed]",
      "text/plain": [
       "<Figure size 432x288 with 2 Axes>"
      ]
     },
     "metadata": {
      "needs_background": "light"
     },
     "output_type": "display_data"
    },
    {
     "name": "stdout",
     "output_type": "stream",
     "text": [
      "6 /10\n"
     ]
    },
    {
     "data": {
      "text/plain": [
       "<Figure size 720x720 with 0 Axes>"
      ]
     },
     "metadata": {},
     "output_type": "display_data"
    },
    {
     "data": {
      "image/png": "[encoded data removed]",
      "text/plain": [
       "<Figure size 432x288 with 2 Axes>"
      ]
     },
     "metadata": {
      "needs_background": "light"
     },
     "output_type": "display_data"
    },
    {
     "name": "stdout",
     "output_type": "stream",
     "text": [
      "7 /10\n"
     ]
    },
    {
     "data": {
      "text/plain": [
       "<Figure size 720x720 with 0 Axes>"
      ]
     },
     "metadata": {},
     "output_type": "display_data"
    },
    {
     "data": {
      "image/png": "[encoded data removed]",
      "text/plain": [
       "<Figure size 432x288 with 2 Axes>"
      ]
     },
     "metadata": {
      "needs_background": "light"
     },
     "output_type": "display_data"
    },
    {
     "name": "stdout",
     "output_type": "stream",
     "text": [
      "8 /10\n"
     ]
    },
    {
     "data": {
      "text/plain": [
       "<Figure size 720x720 with 0 Axes>"
      ]
     },
     "metadata": {},
     "output_type": "display_data"
    },
    {
     "data": {
      "image/png": "[encoded data removed]",
      "text/plain": [
       "<Figure size 432x288 with 2 Axes>"
      ]
     },
     "metadata": {
      "needs_background": "light"
     },
     "output_type": "display_data"
    },
    {
     "name": "stdout",
     "output_type": "stream",
     "text": [
      "9 /10\n"
     ]
    },
    {
     "data": {
      "text/plain": [
       "<Figure size 720x720 with 0 Axes>"
      ]
     },
     "metadata": {},
     "output_type": "display_data"
    },
    {
     "data": {
      "image/png": "[encoded data removed]",
      "text/plain": [
       "<Figure size 432x288 with 2 Axes>"
      ]
     },
     "metadata": {
      "needs_background": "light"
     },
     "output_type": "display_data"
    },
    {
     "name": "stdout",
     "output_type": "stream",
     "text": [
      "10 /10\n"
     ]
    },
    {
     "data": {
      "text/plain": [
       "<Figure size 720x720 with 0 Axes>"
      ]
     },
     "metadata": {},
     "output_type": "display_data"
    },
    {
     "data": {
      "image/png": "[encoded data removed]",
      "text/plain": [
       "<Figure size 432x288 with 2 Axes>"
      ]
     },
     "metadata": {
      "needs_background": "light"
     },
     "output_type": "display_data"
    }
   ],
   "source": [
    "df_dropped_pxds = {}\n",
    "f1_scores_ = []\n",
    "for x in range(10):\n",
    "    \n",
    "    print(x+1,\"/10\")\n",
    "    X_train, Y_train, X_test, Y_test, dropped_pxds = train_test_project_split(data, metadata)\n",
    "    df_dropped_pxds[x] = dropped_pxds\n",
    "\n",
    "    clf = RandomForestClassifier(class_weight=weights, n_estimators=150)\n",
    "\n",
    "    gridsearch = GridSearchCV(clf, param_grid = rf_grid, scoring = 'f1_weighted', cv = 10)\n",
    "    gridsearch.fit(X_train, Y_train)\n",
    "            \n",
    "    Y_pred = gridsearch.predict(X_test)\n",
    "            \n",
    "    # Store confusion matrix and f1-score after each outerloop\n",
    "    f1_scores_.append(f1_score(Y_test, Y_pred, average = \"micro\"))\n",
    "\n",
    "    cm = confusion_matrix(Y_test, Y_pred, labels = gridsearch.classes_)\n",
    "    \n",
    "    disp = ConfusionMatrixDisplay(confusion_matrix=cm,\n",
    "                           display_labels=gridsearch.classes_)\n",
    "    \n",
    "    plt.figure(figsize = (10,10))\n",
    "    disp.plot()\n",
    "    plt.show()"
   ]
  },
  {
   "cell_type": "markdown",
   "metadata": {},
   "source": [
    "### TODO: improvement for F1-score: instead of #samples, set percentage of samples in a project that are right or wrongly predicted"
   ]
  },
  {
   "cell_type": "code",
   "execution_count": 90,
   "metadata": {},
   "outputs": [
    {
     "data": {
      "text/plain": [
       "[0.23809523809523808,\n",
       " 0.19047619047619047,\n",
       " 0.8095238095238095,\n",
       " 0.21428571428571427,\n",
       " 0.4523809523809524,\n",
       " 0.7142857142857143,\n",
       " 0.9761904761904762,\n",
       " 0.2857142857142857,\n",
       " 0.6428571428571429,\n",
       " 0.5238095238095238]"
      ]
     },
     "execution_count": 90,
     "metadata": {},
     "output_type": "execute_result"
    }
   ],
   "source": [
    "f1_scores_"
   ]
  },
  {
   "cell_type": "code",
   "execution_count": 91,
   "metadata": {},
   "outputs": [
    {
     "data": {
      "text/plain": [
       "<matplotlib.axes._subplots.AxesSubplot at 0x7f2acc08cd90>"
      ]
     },
     "execution_count": 91,
     "metadata": {},
     "output_type": "execute_result"
    },
    {
     "data": {
      "image/png": "[encoded data removed]",
      "text/plain": [
       "<Figure size 1440x504 with 2 Axes>"
      ]
     },
     "metadata": {
      "needs_background": "light"
     },
     "output_type": "display_data"
    }
   ],
   "source": [
    "# Frequency of choosing certain pxd as testset and the amount of samples in it\n",
    "pxds = []\n",
    "for list_pxd in df_dropped_pxds.values():\n",
    "    for pxd in list_pxd:\n",
    "        pxds.append(pxd)\n",
    "\n",
    "\n",
    "plt.figure(figsize = (20,7))\n",
    "plt.subplot(121)\n",
    "plt.title(\"Number of times project was dropped across 10 cvs\")\n",
    "sns.histplot(y=pxds)\n",
    "\n",
    "sample_amount = []\n",
    "for x in pxds:\n",
    "    sample_amount += metadata[metadata.PXD_accession == x].PXD_accession.tolist()\n",
    "\n",
    "plt.subplot(122)\n",
    "plt.title(\"#Samples in project\")\n",
    "sns.histplot(y = sample_amount)"
   ]
  },
  {
   "cell_type": "markdown",
   "metadata": {},
   "source": [
    "## filtering reoccuring proteins (75%) with project as test set"
   ]
  },
  {
   "cell_type": "code",
   "execution_count": 99,
   "metadata": {},
   "outputs": [],
   "source": [
    "data_75_filtered = pd.read_csv(\"filtered_75_ML_dataset.csv\") # From 'evaluation_filtering_techniques.ipynb'\n",
    "data_75_filtered.fillna(0, inplace = True)\n",
    "data_75_filtered = data_75_filtered.iloc[data_75_filtered.index.isin(data.index)]"
   ]
  },
  {
   "cell_type": "code",
   "execution_count": 100,
   "metadata": {},
   "outputs": [
    {
     "name": "stdout",
     "output_type": "stream",
     "text": [
      "(428, 7319) (428, 3)\n"
     ]
    }
   ],
   "source": [
    "print(data_75_filtered.shape, metadata.shape)"
   ]
  },
  {
   "cell_type": "code",
   "execution_count": 101,
   "metadata": {},
   "outputs": [
    {
     "data": {
      "text/html": [
       "<div>\n",
       "<style scoped>\n",
       "    .dataframe tbody tr th:only-of-type {\n",
       "        vertical-align: middle;\n",
       "    }\n",
       "\n",
       "    .dataframe tbody tr th {\n",
       "        vertical-align: top;\n",
       "    }\n",
       "\n",
       "    .dataframe thead th {\n",
       "        text-align: right;\n",
       "    }\n",
       "</style>\n",
       "<table border=\"1\" class=\"dataframe\">\n",
       "  <thead>\n",
       "    <tr style=\"text-align: right;\">\n",
       "      <th></th>\n",
       "      <th>A0A0B4J2F0</th>\n",
       "      <th>A0A0U1RRI6</th>\n",
       "      <th>A0A0U1RRL7</th>\n",
       "      <th>A0A576</th>\n",
       "      <th>A0AV96</th>\n",
       "      <th>A0AVT1</th>\n",
       "      <th>A0FGR8</th>\n",
       "      <th>A0JNW5</th>\n",
       "      <th>A0MZ66</th>\n",
       "      <th>A0PJW6</th>\n",
       "      <th>...</th>\n",
       "      <th>Q9Y6V7</th>\n",
       "      <th>Q9Y6W3</th>\n",
       "      <th>Q9Y6W5</th>\n",
       "      <th>Q9Y6X3</th>\n",
       "      <th>Q9Y6X4</th>\n",
       "      <th>Q9Y6X5</th>\n",
       "      <th>Q9Y6X8</th>\n",
       "      <th>Q9Y6X9</th>\n",
       "      <th>Q9Y6Y0</th>\n",
       "      <th>Q9Y6Y8</th>\n",
       "    </tr>\n",
       "  </thead>\n",
       "  <tbody>\n",
       "    <tr>\n",
       "      <th>0</th>\n",
       "      <td>0.0</td>\n",
       "      <td>0.0</td>\n",
       "      <td>0.0</td>\n",
       "      <td>0.0</td>\n",
       "      <td>0.000128</td>\n",
       "      <td>0.000284</td>\n",
       "      <td>0.000035</td>\n",
       "      <td>0.000027</td>\n",
       "      <td>0.000157</td>\n",
       "      <td>0.000009</td>\n",
       "      <td>...</td>\n",
       "      <td>0.000052</td>\n",
       "      <td>0.000058</td>\n",
       "      <td>0.000025</td>\n",
       "      <td>0.000038</td>\n",
       "      <td>0.0</td>\n",
       "      <td>0.0</td>\n",
       "      <td>0.0</td>\n",
       "      <td>0.000040</td>\n",
       "      <td>0.0</td>\n",
       "      <td>0.000088</td>\n",
       "    </tr>\n",
       "    <tr>\n",
       "      <th>1</th>\n",
       "      <td>0.0</td>\n",
       "      <td>0.0</td>\n",
       "      <td>0.0</td>\n",
       "      <td>0.0</td>\n",
       "      <td>0.000123</td>\n",
       "      <td>0.000267</td>\n",
       "      <td>0.000026</td>\n",
       "      <td>0.000029</td>\n",
       "      <td>0.000150</td>\n",
       "      <td>0.000018</td>\n",
       "      <td>...</td>\n",
       "      <td>0.000068</td>\n",
       "      <td>0.000065</td>\n",
       "      <td>0.000026</td>\n",
       "      <td>0.000033</td>\n",
       "      <td>0.0</td>\n",
       "      <td>0.0</td>\n",
       "      <td>0.0</td>\n",
       "      <td>0.000042</td>\n",
       "      <td>0.0</td>\n",
       "      <td>0.000075</td>\n",
       "    </tr>\n",
       "    <tr>\n",
       "      <th>2</th>\n",
       "      <td>0.0</td>\n",
       "      <td>0.0</td>\n",
       "      <td>0.0</td>\n",
       "      <td>0.0</td>\n",
       "      <td>0.000143</td>\n",
       "      <td>0.000190</td>\n",
       "      <td>0.000115</td>\n",
       "      <td>0.000024</td>\n",
       "      <td>0.000119</td>\n",
       "      <td>0.000010</td>\n",
       "      <td>...</td>\n",
       "      <td>0.000064</td>\n",
       "      <td>0.000009</td>\n",
       "      <td>0.000039</td>\n",
       "      <td>0.000019</td>\n",
       "      <td>0.0</td>\n",
       "      <td>0.0</td>\n",
       "      <td>0.0</td>\n",
       "      <td>0.000024</td>\n",
       "      <td>0.0</td>\n",
       "      <td>0.000092</td>\n",
       "    </tr>\n",
       "    <tr>\n",
       "      <th>3</th>\n",
       "      <td>0.0</td>\n",
       "      <td>0.0</td>\n",
       "      <td>0.0</td>\n",
       "      <td>0.0</td>\n",
       "      <td>0.000142</td>\n",
       "      <td>0.000200</td>\n",
       "      <td>0.000104</td>\n",
       "      <td>0.000016</td>\n",
       "      <td>0.000106</td>\n",
       "      <td>0.000009</td>\n",
       "      <td>...</td>\n",
       "      <td>0.000067</td>\n",
       "      <td>0.000009</td>\n",
       "      <td>0.000050</td>\n",
       "      <td>0.000031</td>\n",
       "      <td>0.0</td>\n",
       "      <td>0.0</td>\n",
       "      <td>0.0</td>\n",
       "      <td>0.000035</td>\n",
       "      <td>0.0</td>\n",
       "      <td>0.000076</td>\n",
       "    </tr>\n",
       "    <tr>\n",
       "      <th>4</th>\n",
       "      <td>0.0</td>\n",
       "      <td>0.0</td>\n",
       "      <td>0.0</td>\n",
       "      <td>0.0</td>\n",
       "      <td>0.000000</td>\n",
       "      <td>0.000333</td>\n",
       "      <td>0.000000</td>\n",
       "      <td>0.000000</td>\n",
       "      <td>0.000000</td>\n",
       "      <td>0.000000</td>\n",
       "      <td>...</td>\n",
       "      <td>0.000000</td>\n",
       "      <td>0.000000</td>\n",
       "      <td>0.000704</td>\n",
       "      <td>0.000000</td>\n",
       "      <td>0.0</td>\n",
       "      <td>0.0</td>\n",
       "      <td>0.0</td>\n",
       "      <td>0.000000</td>\n",
       "      <td>0.0</td>\n",
       "      <td>0.000350</td>\n",
       "    </tr>\n",
       "  </tbody>\n",
       "</table>\n",
       "<p>5 rows × 7319 columns</p>\n",
       "</div>"
      ],
      "text/plain": [
       "   A0A0B4J2F0  A0A0U1RRI6  A0A0U1RRL7  A0A576    A0AV96    A0AVT1    A0FGR8  \\\n",
       "0         0.0         0.0         0.0     0.0  0.000128  0.000284  0.000035   \n",
       "1         0.0         0.0         0.0     0.0  0.000123  0.000267  0.000026   \n",
       "2         0.0         0.0         0.0     0.0  0.000143  0.000190  0.000115   \n",
       "3         0.0         0.0         0.0     0.0  0.000142  0.000200  0.000104   \n",
       "4         0.0         0.0         0.0     0.0  0.000000  0.000333  0.000000   \n",
       "\n",
       "     A0JNW5    A0MZ66    A0PJW6  ...    Q9Y6V7    Q9Y6W3    Q9Y6W5    Q9Y6X3  \\\n",
       "0  0.000027  0.000157  0.000009  ...  0.000052  0.000058  0.000025  0.000038   \n",
       "1  0.000029  0.000150  0.000018  ...  0.000068  0.000065  0.000026  0.000033   \n",
       "2  0.000024  0.000119  0.000010  ...  0.000064  0.000009  0.000039  0.000019   \n",
       "3  0.000016  0.000106  0.000009  ...  0.000067  0.000009  0.000050  0.000031   \n",
       "4  0.000000  0.000000  0.000000  ...  0.000000  0.000000  0.000704  0.000000   \n",
       "\n",
       "   Q9Y6X4  Q9Y6X5  Q9Y6X8    Q9Y6X9  Q9Y6Y0    Q9Y6Y8  \n",
       "0     0.0     0.0     0.0  0.000040     0.0  0.000088  \n",
       "1     0.0     0.0     0.0  0.000042     0.0  0.000075  \n",
       "2     0.0     0.0     0.0  0.000024     0.0  0.000092  \n",
       "3     0.0     0.0     0.0  0.000035     0.0  0.000076  \n",
       "4     0.0     0.0     0.0  0.000000     0.0  0.000350  \n",
       "\n",
       "[5 rows x 7319 columns]"
      ]
     },
     "execution_count": 101,
     "metadata": {},
     "output_type": "execute_result"
    }
   ],
   "source": [
    "data_75_filtered.head()"
   ]
  },
  {
   "cell_type": "code",
   "execution_count": 102,
   "metadata": {},
   "outputs": [
    {
     "name": "stdout",
     "output_type": "stream",
     "text": [
      "1 /10\n"
     ]
    },
    {
     "data": {
      "text/plain": [
       "<Figure size 720x720 with 0 Axes>"
      ]
     },
     "metadata": {},
     "output_type": "display_data"
    },
    {
     "data": {
      "image/png": "[encoded data removed]",
      "text/plain": [
       "<Figure size 432x288 with 2 Axes>"
      ]
     },
     "metadata": {
      "needs_background": "light"
     },
     "output_type": "display_data"
    },
    {
     "name": "stdout",
     "output_type": "stream",
     "text": [
      "2 /10\n"
     ]
    },
    {
     "data": {
      "text/plain": [
       "<Figure size 720x720 with 0 Axes>"
      ]
     },
     "metadata": {},
     "output_type": "display_data"
    },
    {
     "data": {
      "image/png": "[encoded data removed]",
      "text/plain": [
       "<Figure size 432x288 with 2 Axes>"
      ]
     },
     "metadata": {
      "needs_background": "light"
     },
     "output_type": "display_data"
    },
    {
     "name": "stdout",
     "output_type": "stream",
     "text": [
      "3 /10\n"
     ]
    },
    {
     "data": {
      "text/plain": [
       "<Figure size 720x720 with 0 Axes>"
      ]
     },
     "metadata": {},
     "output_type": "display_data"
    },
    {
     "data": {
      "image/png": "[encoded data removed]",
      "text/plain": [
       "<Figure size 432x288 with 2 Axes>"
      ]
     },
     "metadata": {
      "needs_background": "light"
     },
     "output_type": "display_data"
    },
    {
     "name": "stdout",
     "output_type": "stream",
     "text": [
      "4 /10\n"
     ]
    },
    {
     "data": {
      "text/plain": [
       "<Figure size 720x720 with 0 Axes>"
      ]
     },
     "metadata": {},
     "output_type": "display_data"
    },
    {
     "data": {
      "image/png": "[encoded data removed]",
      "text/plain": [
       "<Figure size 432x288 with 2 Axes>"
      ]
     },
     "metadata": {
      "needs_background": "light"
     },
     "output_type": "display_data"
    },
    {
     "name": "stdout",
     "output_type": "stream",
     "text": [
      "5 /10\n"
     ]
    },
    {
     "data": {
      "text/plain": [
       "<Figure size 720x720 with 0 Axes>"
      ]
     },
     "metadata": {},
     "output_type": "display_data"
    },
    {
     "data": {
      "image/png": "[encoded data removed]",
      "text/plain": [
       "<Figure size 432x288 with 2 Axes>"
      ]
     },
     "metadata": {
      "needs_background": "light"
     },
     "output_type": "display_data"
    },
    {
     "name": "stdout",
     "output_type": "stream",
     "text": [
      "6 /10\n"
     ]
    },
    {
     "data": {
      "text/plain": [
       "<Figure size 720x720 with 0 Axes>"
      ]
     },
     "metadata": {},
     "output_type": "display_data"
    },
    {
     "data": {
      "image/png": "[encoded data removed]",
      "text/plain": [
       "<Figure size 432x288 with 2 Axes>"
      ]
     },
     "metadata": {
      "needs_background": "light"
     },
     "output_type": "display_data"
    },
    {
     "name": "stdout",
     "output_type": "stream",
     "text": [
      "7 /10\n"
     ]
    },
    {
     "data": {
      "text/plain": [
       "<Figure size 720x720 with 0 Axes>"
      ]
     },
     "metadata": {},
     "output_type": "display_data"
    },
    {
     "data": {
      "image/png": "[encoded data removed]",
      "text/plain": [
       "<Figure size 432x288 with 2 Axes>"
      ]
     },
     "metadata": {
      "needs_background": "light"
     },
     "output_type": "display_data"
    },
    {
     "name": "stdout",
     "output_type": "stream",
     "text": [
      "8 /10\n"
     ]
    },
    {
     "data": {
      "text/plain": [
       "<Figure size 720x720 with 0 Axes>"
      ]
     },
     "metadata": {},
     "output_type": "display_data"
    },
    {
     "data": {
      "image/png": "[encoded data removed]",
      "text/plain": [
       "<Figure size 432x288 with 2 Axes>"
      ]
     },
     "metadata": {
      "needs_background": "light"
     },
     "output_type": "display_data"
    },
    {
     "name": "stdout",
     "output_type": "stream",
     "text": [
      "9 /10\n"
     ]
    },
    {
     "data": {
      "text/plain": [
       "<Figure size 720x720 with 0 Axes>"
      ]
     },
     "metadata": {},
     "output_type": "display_data"
    },
    {
     "data": {
      "image/png": "[encoded data removed]",
      "text/plain": [
       "<Figure size 432x288 with 2 Axes>"
      ]
     },
     "metadata": {
      "needs_background": "light"
     },
     "output_type": "display_data"
    },
    {
     "name": "stdout",
     "output_type": "stream",
     "text": [
      "10 /10\n"
     ]
    },
    {
     "data": {
      "text/plain": [
       "<Figure size 720x720 with 0 Axes>"
      ]
     },
     "metadata": {},
     "output_type": "display_data"
    },
    {
     "data": {
      "image/png": "[encoded data removed]",
      "text/plain": [
       "<Figure size 432x288 with 2 Axes>"
      ]
     },
     "metadata": {
      "needs_background": "light"
     },
     "output_type": "display_data"
    }
   ],
   "source": [
    "df_dropped_pxds = {}\n",
    "f1_scores_filtered_ = []\n",
    "for x in range(10):\n",
    "    \n",
    "    print(x+1,\"/10\")\n",
    "    X_train, Y_train, X_test, Y_test, dropped_pxds = train_test_project_split(data_75_filtered, metadata)\n",
    "    df_dropped_pxds[x] = dropped_pxds\n",
    "\n",
    "    clf = RandomForestClassifier(class_weight=weights, n_estimators=150)\n",
    "\n",
    "    gridsearch = GridSearchCV(clf, param_grid = rf_grid, scoring = 'f1_weighted', cv = 10)\n",
    "    gridsearch.fit(X_train, Y_train)\n",
    "            \n",
    "    Y_pred = gridsearch.predict(X_test)\n",
    "            \n",
    "    # Store confusion matrix and f1-score after each outerloop\n",
    "    f1_scores_filtered_.append(f1_score(Y_test, Y_pred, average = \"micro\"))\n",
    "\n",
    "    cm = confusion_matrix(Y_test, Y_pred, labels = gridsearch.classes_)\n",
    "    \n",
    "    disp = ConfusionMatrixDisplay(confusion_matrix=cm,\n",
    "                           display_labels=gridsearch.classes_)\n",
    "    \n",
    "    plt.figure(figsize = (10,10))\n",
    "    disp.plot()\n",
    "    plt.show()"
   ]
  },
  {
   "cell_type": "code",
   "execution_count": 118,
   "metadata": {},
   "outputs": [
    {
     "data": {
      "text/plain": [
       "<matplotlib.axes._subplots.AxesSubplot at 0x7f2acbad0310>"
      ]
     },
     "execution_count": 118,
     "metadata": {},
     "output_type": "execute_result"
    },
    {
     "data": {
      "image/png": "[encoded data removed]",
      "text/plain": [
       "<Figure size 1440x504 with 2 Axes>"
      ]
     },
     "metadata": {
      "needs_background": "light"
     },
     "output_type": "display_data"
    }
   ],
   "source": [
    "# Frequency of choosing certain pxd as testset and the amount of samples in it\n",
    "pxds = []\n",
    "for list_pxd in df_dropped_pxds.values():\n",
    "    for pxd in list_pxd:\n",
    "        pxds.append(pxd)\n",
    "\n",
    "\n",
    "plt.figure(figsize = (20,7))\n",
    "plt.subplot(121)\n",
    "plt.title(\"Number of times project was dropped across 10 cvs\")\n",
    "sns.histplot(y=pxds)\n",
    "\n",
    "sample_amount = []\n",
    "for x in pxds:\n",
    "    sample_amount += metadata[metadata.PXD_accession == x].PXD_accession.tolist()\n",
    "\n",
    "plt.subplot(122)\n",
    "plt.title(\"#Samples in project\")\n",
    "sns.histplot(y = sample_amount)"
   ]
  },
  {
   "cell_type": "code",
   "execution_count": 111,
   "metadata": {},
   "outputs": [],
   "source": [
    "df_F1 = pd.concat([pd.DataFrame(data = {'f1': f1_scores_, 'type': \"base\"}), pd.DataFrame(data = {'f1': f1_scores_filtered_, 'type': \"filtered_75\"})], axis = 0)"
   ]
  },
  {
   "cell_type": "code",
   "execution_count": 113,
   "metadata": {},
   "outputs": [
    {
     "data": {
      "text/html": [
       "<div>\n",
       "<style scoped>\n",
       "    .dataframe tbody tr th:only-of-type {\n",
       "        vertical-align: middle;\n",
       "    }\n",
       "\n",
       "    .dataframe tbody tr th {\n",
       "        vertical-align: top;\n",
       "    }\n",
       "\n",
       "    .dataframe thead th {\n",
       "        text-align: right;\n",
       "    }\n",
       "</style>\n",
       "<table border=\"1\" class=\"dataframe\">\n",
       "  <thead>\n",
       "    <tr style=\"text-align: right;\">\n",
       "      <th></th>\n",
       "      <th>f1</th>\n",
       "      <th>type</th>\n",
       "    </tr>\n",
       "  </thead>\n",
       "  <tbody>\n",
       "    <tr>\n",
       "      <th>0</th>\n",
       "      <td>0.238095</td>\n",
       "      <td>base</td>\n",
       "    </tr>\n",
       "    <tr>\n",
       "      <th>1</th>\n",
       "      <td>0.190476</td>\n",
       "      <td>base</td>\n",
       "    </tr>\n",
       "    <tr>\n",
       "      <th>2</th>\n",
       "      <td>0.809524</td>\n",
       "      <td>base</td>\n",
       "    </tr>\n",
       "    <tr>\n",
       "      <th>3</th>\n",
       "      <td>0.214286</td>\n",
       "      <td>base</td>\n",
       "    </tr>\n",
       "    <tr>\n",
       "      <th>4</th>\n",
       "      <td>0.452381</td>\n",
       "      <td>base</td>\n",
       "    </tr>\n",
       "    <tr>\n",
       "      <th>5</th>\n",
       "      <td>0.714286</td>\n",
       "      <td>base</td>\n",
       "    </tr>\n",
       "    <tr>\n",
       "      <th>6</th>\n",
       "      <td>0.976190</td>\n",
       "      <td>base</td>\n",
       "    </tr>\n",
       "    <tr>\n",
       "      <th>7</th>\n",
       "      <td>0.285714</td>\n",
       "      <td>base</td>\n",
       "    </tr>\n",
       "    <tr>\n",
       "      <th>8</th>\n",
       "      <td>0.642857</td>\n",
       "      <td>base</td>\n",
       "    </tr>\n",
       "    <tr>\n",
       "      <th>9</th>\n",
       "      <td>0.523810</td>\n",
       "      <td>base</td>\n",
       "    </tr>\n",
       "    <tr>\n",
       "      <th>0</th>\n",
       "      <td>1.000000</td>\n",
       "      <td>filtered_75</td>\n",
       "    </tr>\n",
       "    <tr>\n",
       "      <th>1</th>\n",
       "      <td>0.904762</td>\n",
       "      <td>filtered_75</td>\n",
       "    </tr>\n",
       "    <tr>\n",
       "      <th>2</th>\n",
       "      <td>0.976190</td>\n",
       "      <td>filtered_75</td>\n",
       "    </tr>\n",
       "    <tr>\n",
       "      <th>3</th>\n",
       "      <td>0.928571</td>\n",
       "      <td>filtered_75</td>\n",
       "    </tr>\n",
       "    <tr>\n",
       "      <th>4</th>\n",
       "      <td>0.857143</td>\n",
       "      <td>filtered_75</td>\n",
       "    </tr>\n",
       "    <tr>\n",
       "      <th>5</th>\n",
       "      <td>0.904762</td>\n",
       "      <td>filtered_75</td>\n",
       "    </tr>\n",
       "    <tr>\n",
       "      <th>6</th>\n",
       "      <td>0.976190</td>\n",
       "      <td>filtered_75</td>\n",
       "    </tr>\n",
       "    <tr>\n",
       "      <th>7</th>\n",
       "      <td>0.976190</td>\n",
       "      <td>filtered_75</td>\n",
       "    </tr>\n",
       "    <tr>\n",
       "      <th>8</th>\n",
       "      <td>0.714286</td>\n",
       "      <td>filtered_75</td>\n",
       "    </tr>\n",
       "    <tr>\n",
       "      <th>9</th>\n",
       "      <td>0.976190</td>\n",
       "      <td>filtered_75</td>\n",
       "    </tr>\n",
       "  </tbody>\n",
       "</table>\n",
       "</div>"
      ],
      "text/plain": [
       "         f1         type\n",
       "0  0.238095         base\n",
       "1  0.190476         base\n",
       "2  0.809524         base\n",
       "3  0.214286         base\n",
       "4  0.452381         base\n",
       "5  0.714286         base\n",
       "6  0.976190         base\n",
       "7  0.285714         base\n",
       "8  0.642857         base\n",
       "9  0.523810         base\n",
       "0  1.000000  filtered_75\n",
       "1  0.904762  filtered_75\n",
       "2  0.976190  filtered_75\n",
       "3  0.928571  filtered_75\n",
       "4  0.857143  filtered_75\n",
       "5  0.904762  filtered_75\n",
       "6  0.976190  filtered_75\n",
       "7  0.976190  filtered_75\n",
       "8  0.714286  filtered_75\n",
       "9  0.976190  filtered_75"
      ]
     },
     "execution_count": 113,
     "metadata": {},
     "output_type": "execute_result"
    }
   ],
   "source": [
    "df_F1"
   ]
  },
  {
   "cell_type": "code",
   "execution_count": 117,
   "metadata": {},
   "outputs": [
    {
     "data": {
      "text/plain": [
       "<matplotlib.axes._subplots.AxesSubplot at 0x7f2acbd1b090>"
      ]
     },
     "execution_count": 117,
     "metadata": {},
     "output_type": "execute_result"
    },
    {
     "data": {
      "image/png": "[encoded data removed]",
      "text/plain": [
       "<Figure size 432x288 with 1 Axes>"
      ]
     },
     "metadata": {
      "needs_background": "light"
     },
     "output_type": "display_data"
    }
   ],
   "source": [
    "sns.boxplot(data=df_F1, x = \"type\", y = \"f1\", orient = \"vertical\")"
   ]
  },
  {
   "cell_type": "code",
   "execution_count": 34,
   "metadata": {},
   "outputs": [],
   "source": [
    "test_indices = metadata[metadata.PXD_accession == \"PXD004280\"].index.tolist()"
   ]
  },
  {
   "cell_type": "code",
   "execution_count": 41,
   "metadata": {},
   "outputs": [],
   "source": [
    "test_table=(data.iloc[test_indices, :] != 0).sum(axis = 1).sort_values(ascending = False)"
   ]
  },
  {
   "cell_type": "code",
   "execution_count": 108,
   "metadata": {},
   "outputs": [],
   "source": [
    "def _identify_global_reoccured_proteins(subset: pd.DataFrame, percentage_reoccurence):\n",
    "    '''Returns protein_ids that reoccur in >= percentage_reoccurence of the subset\n",
    "    \n",
    "    Also returns protein_ids that are filtered'''\n",
    "\n",
    "    # Get percentage of samples a protein occurs in \n",
    "    reoccuring_proteins = (subset != 0).sum() / len(subset)\n",
    "\n",
    "    # Get the proteins that do not meet the required percentage of occurence but are identified in at least 1 sample\n",
    "    deleted_proteins = reoccuring_proteins[(reoccuring_proteins < percentage_reoccurence) & (reoccuring_proteins != 0)].index.tolist()\n",
    "\n",
    "    # Get reoccuring proteins\n",
    "    result = reoccuring_proteins[(reoccuring_proteins >= percentage_reoccurence) & (reoccuring_proteins != 0)].index.tolist()\n",
    "    \n",
    "    return result, deleted_proteins\n",
    "\n",
    "def _identify_local_reoccured_proteins(subset: pd.DataFrame, percentage_reoccurence):\n",
    "    # Sort the samples according to how much proteins were identified\n",
    "    sorted_count_subset = subset.sum(axis = 1).sort_values(ascending = False)\n",
    "    #Get the indices in that order\n",
    "    indices = sorted_count_subset.index.tolist()\n",
    "\n",
    "    filter_indices = []\n",
    "    reoccuring_proteins = []\n",
    "    deleted_proteins = []\n",
    "    for index in indices:\n",
    "\n",
    "        filter_indices = filter_indices + [index]\n",
    "        \n",
    "        # Only look at the samples most identified\n",
    "        filter_subset = subset.iloc[filter_indices,:]\n",
    "        \n",
    "        # Get the proteins that are identified in the other samples that have less identifications\n",
    "        less_quantified = subset.iloc[~subset.index.isin(filter_indices),:]\n",
    "        less_quantified_proteins = (less_quantified != 0).sum(axis = 0)\n",
    "        less_quantified_proteins = less_quantified_proteins[less_quantified_proteins != 0].index\n",
    "        print(len(less_quantified_proteins))\n",
    "        \n",
    "        # Get proteins only present in the samples with most quantifications that occur in x percent or more of those samples\n",
    "        proteins_to_keep, proteins_to_ignore = _identify_global_reoccured_proteins(filter_subset.loc[:,~subset.columns.isin(less_quantified_proteins)], percentage_reoccurence=percentage_reoccurence)\n",
    "        reoccuring_proteins += proteins_to_keep\n",
    "        deleted_proteins += proteins_to_ignore\n",
    "\n",
    "        print(f\"{filter_indices}\\nreoccur: {len(proteins_to_keep)}\\ndelete: {len(proteins_to_ignore)}\")\n",
    "\n",
    "    return reoccuring_proteins, deleted_proteins"
   ]
  },
  {
   "cell_type": "code",
   "execution_count": 12,
   "metadata": {},
   "outputs": [
    {
     "data": {
      "text/plain": [
       "Index(['A0A024RBG1', 'A0A075B6X5', 'A0A096LP01', 'A0A096LP49', 'A0A0A6YYK6',\n",
       "       'A0A0B4J1V0', 'A0A0B4J2F0', 'A0A0J9YWL9', 'A0A0J9YX94', 'A0A0U1RRE5',\n",
       "       'A0A0U1RRI6', 'A0A0U1RRK4', 'A0A0U1RRL7', 'A0A1B0GTH6', 'A0A1B0GTR0'],\n",
       "      dtype='object')"
      ]
     },
     "execution_count": 12,
     "metadata": {},
     "output_type": "execute_result"
    }
   ],
   "source": [
    "data.columns[:15]"
   ]
  },
  {
   "cell_type": "code",
   "execution_count": 11,
   "metadata": {},
   "outputs": [
    {
     "data": {
      "text/plain": [
       "['A0A1B0GTY4',\n",
       " 'A0A1B0GUS4',\n",
       " 'A0A1B0GUU1',\n",
       " 'A0A1B0GUW6',\n",
       " 'A0A1B0GV03',\n",
       " 'A0A1B0GV85',\n",
       " 'A0A1B0GWB2',\n",
       " 'A0A1W2PR82',\n",
       " 'A0A2R8YFL7',\n",
       " 'A0A576',\n",
       " 'A0A5F9ZHS7',\n",
       " 'A0AUZ9',\n",
       " 'A0AV02',\n",
       " 'A0AV96',\n",
       " 'A0AVF1',\n",
       " 'A0AVI4',\n",
       " 'A0AVK6',\n",
       " 'A0AVT1',\n",
       " 'A0FGR8',\n",
       " 'A0FGR9',\n",
       " 'A0JLT2',\n",
       " 'A0JNW5',\n",
       " 'A0MZ66',\n",
       " 'A0PJE2',\n",
       " 'A0PJW6',\n",
       " 'A0PJX4',\n",
       " 'A0PJZ3',\n",
       " 'A0PK00',\n",
       " 'A1A4S6',\n",
       " 'A1A5B4',\n",
       " 'A1A5C7',\n",
       " 'A1A5D9',\n",
       " 'A1IGU5',\n",
       " 'A1KXE4',\n",
       " 'A1L020',\n",
       " 'A1L0T0',\n",
       " 'A1L167',\n",
       " 'A1L170',\n",
       " 'A1L188',\n",
       " 'A1L390',\n",
       " 'A1L4H1',\n",
       " 'A1L4K1',\n",
       " 'A1X283',\n",
       " 'A2A288',\n",
       " 'A2A2Y4',\n",
       " 'A2A2Z9',\n",
       " 'A2A3L6',\n",
       " 'A2A3N6',\n",
       " 'A2AJT9',\n",
       " 'A2RRD8',\n",
       " 'A2RRH5',\n",
       " 'A2RRP1',\n",
       " 'A2RTX5',\n",
       " 'A2RTY3',\n",
       " 'A2RU30',\n",
       " 'A2RU49',\n",
       " 'A2RU67',\n",
       " 'A2RUB1',\n",
       " 'A2RUB6',\n",
       " 'A2RUC4',\n",
       " 'A2RUH7',\n",
       " 'A2RUS2',\n",
       " 'A2VDF0',\n",
       " 'A2VDJ0',\n",
       " 'A2VEC9',\n",
       " 'A3KMH1',\n",
       " 'A3KN83',\n",
       " 'A3QJZ6',\n",
       " 'A4D0S4',\n",
       " 'A4D126',\n",
       " 'A4D161',\n",
       " 'A4D1B5',\n",
       " 'A4D1E1',\n",
       " 'A4D1E9',\n",
       " 'A4D1F6',\n",
       " 'A4D1P6',\n",
       " 'A4D1S0',\n",
       " 'A4D1S5',\n",
       " 'A4D1U4',\n",
       " 'A4D263',\n",
       " 'A4D2B0',\n",
       " 'A4D2B8',\n",
       " 'A4FU01',\n",
       " 'A4FU49',\n",
       " 'A4FU69',\n",
       " 'A4QN01',\n",
       " 'A4UGR9',\n",
       " 'A5A3E0',\n",
       " 'A5D8V6',\n",
       " 'A5D8V7',\n",
       " 'A5LHX3',\n",
       " 'A5PKW4',\n",
       " 'A5PLK6',\n",
       " 'A5PLL7',\n",
       " 'A5PLN7',\n",
       " 'A5PLN9',\n",
       " 'A5YKK6',\n",
       " 'A5YM69',\n",
       " 'A5YM72',\n",
       " 'A6NC57',\n",
       " 'A6NC97',\n",
       " 'A6NC98',\n",
       " 'A6NCI4',\n",
       " 'A6NCL7',\n",
       " 'A6NCM1',\n",
       " 'A6NCN2',\n",
       " 'A6NCQ9',\n",
       " 'A6NCS6',\n",
       " 'A6ND36',\n",
       " 'A6ND91',\n",
       " 'A6NDB9',\n",
       " 'A6NDG6',\n",
       " 'A6NDU8',\n",
       " 'A6NDX5',\n",
       " 'A6NE01',\n",
       " 'A6NE02',\n",
       " 'A6NE52',\n",
       " 'A6NEC2',\n",
       " 'A6NED2',\n",
       " 'A6NEE1',\n",
       " 'A6NEL2',\n",
       " 'A6NEQ2',\n",
       " 'A6NF01',\n",
       " 'A6NF89',\n",
       " 'A6NFI3',\n",
       " 'A6NFN9',\n",
       " 'A6NFQ2',\n",
       " 'A6NFY4',\n",
       " 'A6NFY7',\n",
       " 'A6NGC4',\n",
       " 'A6NGE7',\n",
       " 'A6NGG8',\n",
       " 'A6NGH7',\n",
       " 'A6NGN9',\n",
       " 'A6NGR9',\n",
       " 'A6NGU7',\n",
       " 'A6NH11',\n",
       " 'A6NH13',\n",
       " 'A6NHC0',\n",
       " 'A6NHJ4',\n",
       " 'A6NHL2',\n",
       " 'A6NHN0',\n",
       " 'A6NHQ2',\n",
       " 'A6NHQ4',\n",
       " 'A6NHR9',\n",
       " 'A6NHT5',\n",
       " 'A6NHX0',\n",
       " 'A6NHZ5',\n",
       " 'A6NI28',\n",
       " 'A6NI61',\n",
       " 'A6NIE9',\n",
       " 'A6NIH7',\n",
       " 'A6NIJ5',\n",
       " 'A6NIK2',\n",
       " 'A6NIN4',\n",
       " 'A6NIU2',\n",
       " 'A6NIV6',\n",
       " 'A6NIX2',\n",
       " 'A6NIZ1',\n",
       " 'A6NJ78',\n",
       " 'A6NJG2',\n",
       " 'A6NJT0',\n",
       " 'A6NK58',\n",
       " 'A6NK59',\n",
       " 'A6NKB5',\n",
       " 'A6NKC9',\n",
       " 'A6NKD9',\n",
       " 'A6NKF1',\n",
       " 'A6NKF2',\n",
       " 'A6NKG5',\n",
       " 'A6NKL6',\n",
       " 'A6NLF2',\n",
       " 'A6NLI5',\n",
       " 'A6NM28',\n",
       " 'A6NM36',\n",
       " 'A6NM62',\n",
       " 'A6NMB9',\n",
       " 'A6NMK8',\n",
       " 'A6NMY6',\n",
       " 'A6NMZ7',\n",
       " 'A6NN14',\n",
       " 'A6NN92',\n",
       " 'A6NNA2',\n",
       " 'A6NND4',\n",
       " 'A6NNH2',\n",
       " 'A6NNL5',\n",
       " 'A6NNM8',\n",
       " 'A6NNT2',\n",
       " 'A6NNY8',\n",
       " 'A6NNZ2',\n",
       " 'A6PVS8',\n",
       " 'A6QL63',\n",
       " 'A6QL64',\n",
       " 'A6ZKI3',\n",
       " 'A7E2U8',\n",
       " 'A7E2V4',\n",
       " 'A7E2Y1',\n",
       " 'A7KAX9',\n",
       " 'A7MBM2',\n",
       " 'A7MCY6',\n",
       " 'A7XYQ1',\n",
       " 'A8CG34',\n",
       " 'A8K010',\n",
       " 'A8K2U0',\n",
       " 'A8K7I4',\n",
       " 'A8K855',\n",
       " 'A8K8V0',\n",
       " 'A8K979',\n",
       " 'A8MPP1',\n",
       " 'A8MPS7',\n",
       " 'A8MPX8',\n",
       " 'A8MPY1',\n",
       " 'A8MQ27',\n",
       " 'A8MQB3',\n",
       " 'A8MT33',\n",
       " 'A8MT69',\n",
       " 'A8MTA8',\n",
       " 'A8MTB9',\n",
       " 'A8MTJ3',\n",
       " 'A8MTL9',\n",
       " 'A8MTT3',\n",
       " 'A8MU93',\n",
       " 'A8MUP2',\n",
       " 'A8MUU1',\n",
       " 'A8MUX0',\n",
       " 'A8MV65',\n",
       " 'A8MVJ9',\n",
       " 'A8MVW0',\n",
       " 'A8MVX0',\n",
       " 'A8MW92',\n",
       " 'A8MW95',\n",
       " 'A8MW99',\n",
       " 'A8MWY0',\n",
       " 'A8MXQ7',\n",
       " 'A8MXV4',\n",
       " 'A8MYA2',\n",
       " 'A8MYB1',\n",
       " 'A8MYZ0',\n",
       " 'A8MYZ6',\n",
       " 'A8MZ36',\n",
       " 'A9QM74',\n",
       " 'A9UHW6',\n",
       " 'A9Z1Z3',\n",
       " 'B0I1T2',\n",
       " 'B0YJ81',\n",
       " 'B1AJZ9',\n",
       " 'B1AK53',\n",
       " 'B1AL88',\n",
       " 'B1ANS9',\n",
       " 'B2RBV5',\n",
       " 'B2RPK0',\n",
       " 'B2RTY4',\n",
       " 'B2RXH4',\n",
       " 'B2RXH8',\n",
       " 'B3EWF7',\n",
       " 'B3EWG6',\n",
       " 'B3KS81',\n",
       " 'B4DJY2',\n",
       " 'B4DU55',\n",
       " 'B4DX44',\n",
       " 'B5MCN3',\n",
       " 'B5MCY1',\n",
       " 'B5ME19',\n",
       " 'B6SEH9',\n",
       " 'B7Z6K7',\n",
       " 'B7ZAP0',\n",
       " 'B7ZBB8',\n",
       " 'B7ZC32',\n",
       " 'B9A014',\n",
       " 'C9J069',\n",
       " 'C9J7I0',\n",
       " 'C9JH25',\n",
       " 'C9JI98',\n",
       " 'C9JLR9',\n",
       " 'C9JLW8',\n",
       " 'C9JN71',\n",
       " 'C9JQI7',\n",
       " 'C9JQL5',\n",
       " 'C9JRZ8',\n",
       " 'C9JTQ0',\n",
       " 'D6RGH6',\n",
       " 'D6RIA3',\n",
       " 'E0CX11',\n",
       " 'E5RJM6',\n",
       " 'E7ERA6',\n",
       " 'E7EW31',\n",
       " 'E9PAV3',\n",
       " 'E9PRG8',\n",
       " 'F2Z333',\n",
       " 'F5GYI3',\n",
       " 'G2XKQ0',\n",
       " 'H7BZ55',\n",
       " 'H7C350',\n",
       " 'I1YAP6',\n",
       " 'I3L0S3',\n",
       " 'I6L899',\n",
       " 'L0R6Q1',\n",
       " 'L0R819',\n",
       " 'L0R8F8',\n",
       " 'M0R2J8',\n",
       " 'M5A8F1',\n",
       " 'O00115',\n",
       " 'O00116',\n",
       " 'O00124',\n",
       " 'O00139',\n",
       " 'O00142',\n",
       " 'O00148',\n",
       " 'O00151',\n",
       " 'O00154',\n",
       " 'O00159',\n",
       " 'O00160',\n",
       " 'O00161',\n",
       " 'O00165',\n",
       " 'O00170',\n",
       " 'O00178',\n",
       " 'O00180',\n",
       " 'O00182',\n",
       " 'O00186',\n",
       " 'O00187',\n",
       " 'O00189',\n",
       " 'O00192',\n",
       " 'O00193',\n",
       " 'O00194',\n",
       " 'O00203',\n",
       " 'O00204',\n",
       " 'O00206',\n",
       " 'O00212',\n",
       " 'O00213',\n",
       " 'O00214',\n",
       " 'O00217',\n",
       " 'O00219',\n",
       " 'O00220',\n",
       " 'O00221',\n",
       " 'O00222',\n",
       " 'O00231',\n",
       " 'O00232',\n",
       " 'O00233',\n",
       " 'O00238',\n",
       " 'O00244',\n",
       " 'O00255',\n",
       " 'O00257',\n",
       " 'O00258',\n",
       " 'O00264',\n",
       " 'O00267',\n",
       " 'O00268',\n",
       " 'O00273',\n",
       " 'O00287',\n",
       " 'O00291',\n",
       " 'O00292',\n",
       " 'O00294',\n",
       " 'O00299',\n",
       " 'O00300',\n",
       " 'O00303',\n",
       " 'O00308',\n",
       " 'O00311',\n",
       " 'O00327',\n",
       " 'O00329',\n",
       " 'O00330',\n",
       " 'O00338',\n",
       " 'O00339',\n",
       " 'O00358',\n",
       " 'O00370',\n",
       " 'O00391',\n",
       " 'O00399',\n",
       " 'O00400',\n",
       " 'O00401',\n",
       " 'O00408',\n",
       " 'O00409',\n",
       " 'O00410',\n",
       " 'O00411',\n",
       " 'O00418',\n",
       " 'O00422',\n",
       " 'O00423',\n",
       " 'O00425',\n",
       " 'O00429',\n",
       " 'O00442',\n",
       " 'O00443',\n",
       " 'O00445',\n",
       " 'O00451',\n",
       " 'O00458',\n",
       " 'O00459',\n",
       " 'O00461',\n",
       " 'O00462',\n",
       " 'O00463',\n",
       " 'O00468',\n",
       " 'O00469',\n",
       " 'O00471',\n",
       " 'O00472',\n",
       " 'O00478',\n",
       " 'O00479',\n",
       " 'O00481',\n",
       " 'O00483',\n",
       " 'O00487',\n",
       " 'O00488',\n",
       " 'O00499',\n",
       " 'O00505',\n",
       " 'O00506',\n",
       " 'O00507',\n",
       " 'O00512',\n",
       " 'O00515',\n",
       " 'O00519',\n",
       " 'O00522',\n",
       " 'O00526',\n",
       " 'O00534',\n",
       " 'O00541',\n",
       " 'O00548',\n",
       " 'O00555',\n",
       " 'O00559',\n",
       " 'O00560',\n",
       " 'O00562',\n",
       " 'O00566',\n",
       " 'O00567',\n",
       " 'O00571',\n",
       " 'O00584',\n",
       " 'O00592',\n",
       " 'O00622',\n",
       " 'O00623',\n",
       " 'O00625',\n",
       " 'O00628',\n",
       " 'O00629',\n",
       " 'O00634',\n",
       " 'O00635',\n",
       " 'O00712',\n",
       " 'O00716',\n",
       " 'O00743',\n",
       " 'O00746',\n",
       " 'O00748',\n",
       " 'O00750',\n",
       " 'O00754',\n",
       " 'O00755',\n",
       " 'O00757',\n",
       " 'O00762',\n",
       " 'O00763',\n",
       " 'O00764',\n",
       " 'O00767',\n",
       " 'O14492',\n",
       " 'O14493',\n",
       " 'O14494',\n",
       " 'O14495',\n",
       " 'O14497',\n",
       " 'O14498',\n",
       " 'O14503',\n",
       " 'O14508',\n",
       " 'O14513',\n",
       " 'O14519',\n",
       " 'O14521',\n",
       " 'O14523',\n",
       " 'O14524',\n",
       " 'O14526',\n",
       " 'O14529',\n",
       " 'O14530',\n",
       " 'O14531',\n",
       " 'O14543',\n",
       " 'O14544',\n",
       " 'O14545',\n",
       " 'O14548',\n",
       " 'O14556',\n",
       " 'O14558',\n",
       " 'O14561',\n",
       " 'O14562',\n",
       " 'O14569',\n",
       " 'O14578',\n",
       " 'O14579',\n",
       " 'O14593',\n",
       " 'O14594',\n",
       " 'O14602',\n",
       " 'O14604',\n",
       " 'O14613',\n",
       " 'O14617',\n",
       " 'O14618',\n",
       " 'O14625',\n",
       " 'O14638',\n",
       " 'O14639',\n",
       " 'O14641',\n",
       " 'O14645',\n",
       " 'O14646',\n",
       " 'O14647',\n",
       " 'O14653',\n",
       " 'O14654',\n",
       " 'O14656',\n",
       " 'O14657',\n",
       " 'O14662',\n",
       " 'O14672',\n",
       " 'O14678',\n",
       " 'O14681',\n",
       " 'O14682',\n",
       " 'O14683',\n",
       " 'O14684',\n",
       " 'O14686',\n",
       " 'O14709',\n",
       " 'O14713',\n",
       " 'O14717',\n",
       " 'O14727',\n",
       " 'O14730',\n",
       " 'O14732',\n",
       " 'O14733',\n",
       " 'O14734',\n",
       " 'O14735',\n",
       " 'O14737',\n",
       " 'O14744',\n",
       " 'O14745',\n",
       " 'O14746',\n",
       " 'O14757',\n",
       " 'O14763',\n",
       " 'O14770',\n",
       " 'O14772',\n",
       " 'O14773',\n",
       " 'O14775',\n",
       " 'O14776',\n",
       " 'O14777',\n",
       " 'O14782',\n",
       " 'O14786',\n",
       " 'O14787',\n",
       " 'O14791',\n",
       " 'O14793',\n",
       " 'O14795',\n",
       " 'O14796',\n",
       " 'O14802',\n",
       " 'O14804',\n",
       " 'O14807',\n",
       " 'O14810',\n",
       " 'O14813',\n",
       " 'O14815',\n",
       " 'O14817',\n",
       " 'O14818',\n",
       " 'O14828',\n",
       " 'O14829',\n",
       " 'O14830',\n",
       " 'O14832',\n",
       " 'O14841',\n",
       " 'O14862',\n",
       " 'O14867',\n",
       " 'O14874',\n",
       " 'O14879',\n",
       " 'O14880',\n",
       " 'O14893',\n",
       " 'O14896',\n",
       " 'O14901',\n",
       " 'O14907',\n",
       " 'O14908',\n",
       " 'O14910',\n",
       " 'O14917',\n",
       " 'O14920',\n",
       " 'O14924',\n",
       " 'O14925',\n",
       " 'O14929',\n",
       " 'O14933',\n",
       " 'O14936',\n",
       " 'O14939',\n",
       " 'O14949',\n",
       " 'O14957',\n",
       " 'O14964',\n",
       " 'O14965',\n",
       " 'O14966',\n",
       " 'O14967',\n",
       " 'O14972',\n",
       " 'O14974',\n",
       " 'O14975',\n",
       " 'O14976',\n",
       " 'O14977',\n",
       " 'O14978',\n",
       " 'O14979',\n",
       " 'O14980',\n",
       " 'O14981',\n",
       " 'O14983',\n",
       " 'O14986',\n",
       " 'O14994',\n",
       " 'O15013',\n",
       " 'O15014',\n",
       " 'O15015',\n",
       " 'O15018',\n",
       " 'O15020',\n",
       " 'O15021',\n",
       " 'O15027',\n",
       " 'O15031',\n",
       " 'O15033',\n",
       " 'O15037',\n",
       " 'O15040',\n",
       " 'O15042',\n",
       " 'O15047',\n",
       " 'O15049',\n",
       " 'O15050',\n",
       " 'O15054',\n",
       " 'O15055',\n",
       " 'O15056',\n",
       " 'O15060',\n",
       " 'O15061',\n",
       " 'O15062',\n",
       " 'O15063',\n",
       " 'O15066',\n",
       " 'O15067',\n",
       " 'O15068',\n",
       " 'O15069',\n",
       " 'O15072',\n",
       " 'O15075',\n",
       " 'O15078',\n",
       " 'O15083',\n",
       " 'O15084',\n",
       " 'O15085',\n",
       " 'O15090',\n",
       " 'O15091',\n",
       " 'O15111',\n",
       " 'O15116',\n",
       " 'O15117',\n",
       " 'O15118',\n",
       " 'O15119',\n",
       " 'O15120',\n",
       " 'O15121',\n",
       " 'O15126',\n",
       " 'O15127',\n",
       " 'O15131',\n",
       " 'O15143',\n",
       " 'O15144',\n",
       " 'O15145',\n",
       " 'O15155',\n",
       " 'O15156',\n",
       " 'O15160',\n",
       " 'O15162',\n",
       " 'O15164',\n",
       " 'O15169',\n",
       " 'O15173',\n",
       " 'O15182',\n",
       " 'O15194',\n",
       " 'O15195',\n",
       " 'O15197',\n",
       " 'O15198',\n",
       " 'O15211',\n",
       " 'O15212',\n",
       " 'O15213',\n",
       " 'O15217',\n",
       " 'O15226',\n",
       " 'O15228',\n",
       " 'O15229',\n",
       " 'O15230',\n",
       " 'O15231',\n",
       " 'O15232',\n",
       " 'O15234',\n",
       " 'O15235',\n",
       " 'O15239',\n",
       " 'O15240',\n",
       " 'O15247',\n",
       " 'O15254',\n",
       " 'O15258',\n",
       " 'O15260',\n",
       " 'O15264',\n",
       " 'O15265',\n",
       " 'O15269',\n",
       " 'O15270',\n",
       " 'O15287',\n",
       " 'O15294',\n",
       " 'O15296',\n",
       " 'O15297',\n",
       " 'O15303',\n",
       " 'O15304',\n",
       " 'O15305',\n",
       " 'O15315',\n",
       " 'O15318',\n",
       " 'O15321',\n",
       " 'O15327',\n",
       " 'O15335',\n",
       " 'O15344',\n",
       " 'O15347',\n",
       " 'O15350',\n",
       " 'O15354',\n",
       " 'O15355',\n",
       " 'O15357',\n",
       " 'O15360',\n",
       " 'O15370',\n",
       " 'O15371',\n",
       " 'O15372',\n",
       " 'O15374',\n",
       " 'O15375',\n",
       " 'O15379',\n",
       " 'O15381',\n",
       " 'O15382',\n",
       " 'O15391',\n",
       " 'O15392',\n",
       " 'O15394',\n",
       " 'O15397',\n",
       " 'O15399',\n",
       " 'O15400',\n",
       " 'O15417',\n",
       " 'O15427',\n",
       " 'O15431',\n",
       " 'O15438',\n",
       " 'O15439',\n",
       " 'O15440',\n",
       " 'O15446',\n",
       " 'O15455',\n",
       " 'O15457',\n",
       " 'O15460',\n",
       " 'O15479',\n",
       " 'O15481',\n",
       " 'O15482',\n",
       " 'O15484',\n",
       " 'O15488',\n",
       " 'O15492',\n",
       " 'O15498',\n",
       " 'O15504',\n",
       " 'O15511',\n",
       " 'O15514',\n",
       " 'O15516',\n",
       " 'O15523',\n",
       " 'O15525',\n",
       " 'O15528',\n",
       " 'O15530',\n",
       " 'O15533',\n",
       " 'O15534',\n",
       " 'O15540',\n",
       " 'O15541',\n",
       " 'O15550',\n",
       " 'O15551',\n",
       " 'O15554',\n",
       " 'O43143',\n",
       " 'O43147',\n",
       " 'O43148',\n",
       " 'O43149',\n",
       " 'O43150',\n",
       " 'O43155',\n",
       " 'O43156',\n",
       " 'O43157',\n",
       " 'O43159',\n",
       " 'O43164',\n",
       " 'O43166',\n",
       " 'O43167',\n",
       " 'O43169',\n",
       " 'O43172',\n",
       " 'O43173',\n",
       " 'O43174',\n",
       " 'O43175',\n",
       " 'O43181',\n",
       " 'O43182',\n",
       " 'O43184',\n",
       " 'O43187',\n",
       " 'O43189',\n",
       " 'O43194',\n",
       " 'O43196',\n",
       " 'O43237',\n",
       " 'O43240',\n",
       " 'O43242',\n",
       " 'O43251',\n",
       " 'O43252',\n",
       " 'O43255',\n",
       " 'O43257',\n",
       " 'O43264',\n",
       " 'O43272',\n",
       " 'O43278',\n",
       " 'O43281',\n",
       " 'O43283',\n",
       " 'O43286',\n",
       " 'O43290',\n",
       " 'O43291',\n",
       " 'O43292',\n",
       " 'O43293',\n",
       " 'O43294',\n",
       " 'O43295',\n",
       " 'O43296',\n",
       " 'O43298',\n",
       " 'O43299',\n",
       " 'O43300',\n",
       " 'O43301',\n",
       " 'O43303',\n",
       " 'O43304',\n",
       " 'O43306',\n",
       " 'O43309',\n",
       " 'O43310',\n",
       " 'O43312',\n",
       " 'O43313',\n",
       " 'O43314',\n",
       " 'O43318',\n",
       " 'O43323',\n",
       " 'O43324',\n",
       " 'O43325',\n",
       " 'O43347',\n",
       " 'O43353',\n",
       " 'O43361',\n",
       " 'O43364',\n",
       " 'O43379',\n",
       " 'O43390',\n",
       " 'O43395',\n",
       " 'O43396',\n",
       " 'O43399',\n",
       " 'O43402',\n",
       " 'O43405',\n",
       " 'O43414',\n",
       " 'O43422',\n",
       " 'O43423',\n",
       " 'O43426',\n",
       " 'O43427',\n",
       " 'O43432',\n",
       " 'O43439',\n",
       " 'O43447',\n",
       " 'O43462',\n",
       " 'O43463',\n",
       " 'O43464',\n",
       " 'O43474',\n",
       " 'O43482',\n",
       " 'O43488',\n",
       " 'O43490',\n",
       " 'O43491',\n",
       " 'O43493',\n",
       " 'O43497',\n",
       " 'O43502',\n",
       " 'O43504',\n",
       " 'O43505',\n",
       " 'O43511',\n",
       " 'O43513',\n",
       " 'O43516',\n",
       " 'O43520',\n",
       " 'O43521',\n",
       " 'O43524',\n",
       " 'O43529',\n",
       " 'O43541',\n",
       " 'O43542',\n",
       " 'O43543',\n",
       " 'O43556',\n",
       " 'O43566',\n",
       " 'O43567',\n",
       " 'O43570',\n",
       " 'O43572',\n",
       " 'O43581',\n",
       " 'O43583',\n",
       " 'O43592',\n",
       " 'O43593',\n",
       " 'O43597',\n",
       " 'O43598',\n",
       " 'O43602',\n",
       " 'O43610',\n",
       " 'O43615',\n",
       " 'O43617',\n",
       " 'O43623',\n",
       " 'O43633',\n",
       " 'O43639',\n",
       " 'O43657',\n",
       " 'O43660',\n",
       " 'O43663',\n",
       " 'O43665',\n",
       " 'O43670',\n",
       " 'O43674',\n",
       " 'O43676',\n",
       " 'O43677',\n",
       " 'O43678',\n",
       " 'O43681',\n",
       " 'O43683',\n",
       " 'O43684',\n",
       " 'O43688',\n",
       " 'O43692',\n",
       " 'O43699',\n",
       " 'O43704',\n",
       " 'O43707',\n",
       " 'O43708',\n",
       " 'O43709',\n",
       " 'O43715',\n",
       " 'O43716',\n",
       " 'O43719',\n",
       " 'O43731',\n",
       " 'O43734',\n",
       " 'O43736',\n",
       " 'O43739',\n",
       " 'O43741',\n",
       " 'O43745',\n",
       " 'O43747',\n",
       " 'O43752',\n",
       " 'O43759',\n",
       " 'O43760',\n",
       " 'O43765',\n",
       " 'O43766',\n",
       " 'O43768',\n",
       " 'O43772',\n",
       " 'O43776',\n",
       " 'O43781',\n",
       " 'O43791',\n",
       " 'O43795',\n",
       " 'O43805',\n",
       " 'O43808',\n",
       " 'O43809',\n",
       " 'O43813',\n",
       " 'O43815',\n",
       " 'O43818',\n",
       " 'O43819',\n",
       " 'O43820',\n",
       " 'O43822',\n",
       " 'O43823',\n",
       " 'O43824',\n",
       " 'O43825',\n",
       " 'O43826',\n",
       " 'O43829',\n",
       " 'O43837',\n",
       " 'O43847',\n",
       " 'O43852',\n",
       " 'O43854',\n",
       " 'O43861',\n",
       " 'O43865',\n",
       " 'O43866',\n",
       " 'O43889',\n",
       " 'O43895',\n",
       " 'O43896',\n",
       " 'O43897',\n",
       " 'O43903',\n",
       " 'O43909',\n",
       " 'O43913',\n",
       " 'O43915',\n",
       " 'O43920',\n",
       " 'O43924',\n",
       " 'O43929',\n",
       " 'O43933',\n",
       " 'O60216',\n",
       " 'O60218',\n",
       " 'O60220',\n",
       " 'O60229',\n",
       " 'O60231',\n",
       " 'O60232',\n",
       " 'O60234',\n",
       " 'O60237',\n",
       " 'O60239',\n",
       " 'O60242',\n",
       " 'O60243',\n",
       " 'O60244',\n",
       " 'O60245',\n",
       " 'O60248',\n",
       " 'O60256',\n",
       " 'O60262',\n",
       " 'O60264',\n",
       " 'O60268',\n",
       " 'O60269',\n",
       " 'O60271',\n",
       " 'O60279',\n",
       " 'O60281',\n",
       " 'O60282',\n",
       " 'O60284',\n",
       " 'O60285',\n",
       " 'O60287',\n",
       " 'O60290',\n",
       " 'O60291',\n",
       " 'O60292',\n",
       " 'O60293',\n",
       " 'O60294',\n",
       " 'O60296',\n",
       " 'O60299',\n",
       " 'O60303',\n",
       " 'O60304',\n",
       " 'O60306',\n",
       " 'O60307',\n",
       " 'O60308',\n",
       " 'O60313',\n",
       " 'O60315',\n",
       " 'O60318',\n",
       " 'O60331',\n",
       " 'O60333',\n",
       " 'O60336',\n",
       " 'O60337',\n",
       " 'O60341',\n",
       " 'O60343',\n",
       " 'O60346',\n",
       " 'O60347',\n",
       " 'O60353',\n",
       " 'O60361',\n",
       " 'O60381',\n",
       " 'O60391',\n",
       " 'O60397',\n",
       " 'O60422',\n",
       " 'O60423',\n",
       " 'O60427',\n",
       " 'O60437',\n",
       " 'O60443',\n",
       " 'O60447',\n",
       " 'O60449',\n",
       " 'O60462',\n",
       " 'O60469',\n",
       " 'O60476',\n",
       " 'O60477',\n",
       " 'O60481',\n",
       " 'O60486',\n",
       " 'O60487',\n",
       " 'O60488',\n",
       " 'O60493',\n",
       " 'O60494',\n",
       " 'O60496',\n",
       " 'O60499',\n",
       " 'O60500',\n",
       " 'O60502',\n",
       " 'O60503',\n",
       " 'O60504',\n",
       " 'O60506',\n",
       " 'O60507',\n",
       " 'O60508',\n",
       " 'O60512',\n",
       " 'O60513',\n",
       " 'O60516',\n",
       " 'O60518',\n",
       " 'O60522',\n",
       " 'O60524',\n",
       " 'O60543',\n",
       " 'O60547',\n",
       " 'O60548',\n",
       " 'O60551',\n",
       " 'O60563',\n",
       " 'O60565',\n",
       " 'O60566',\n",
       " 'O60568',\n",
       " ...]"
      ]
     },
     "execution_count": 11,
     "metadata": {},
     "output_type": "execute_result"
    }
   ],
   "source": [
    "[x for x  in data.columns if x not in data.columns[:15]]"
   ]
  },
  {
   "cell_type": "code",
   "execution_count": 113,
   "metadata": {},
   "outputs": [
    {
     "data": {
      "text/plain": [
       "0      8127\n",
       "1      8111\n",
       "2      8065\n",
       "3      8001\n",
       "4      1320\n",
       "       ... \n",
       "505    3345\n",
       "506    3767\n",
       "507    3472\n",
       "508    3014\n",
       "509    2148\n",
       "Length: 428, dtype: int64"
      ]
     },
     "execution_count": 113,
     "metadata": {},
     "output_type": "execute_result"
    }
   ],
   "source": [
    "(data != 0).sum(axis = 1)"
   ]
  },
  {
   "cell_type": "code",
   "execution_count": 135,
   "metadata": {},
   "outputs": [
    {
     "name": "stdout",
     "output_type": "stream",
     "text": [
      "9667\n",
      "[0]\n",
      "reoccur: 371\n",
      "delete: 0\n",
      "9305\n",
      "[0, 2]\n",
      "reoccur: 48\n",
      "delete: 685\n",
      "8061\n",
      "[0, 2, 1]\n",
      "reoccur: 199\n",
      "delete: 1778\n",
      "1320\n",
      "[0, 2, 1, 3]\n",
      "reoccur: 5947\n",
      "delete: 2771\n",
      "0\n",
      "[0, 2, 1, 3, 4]\n",
      "reoccur: 6455\n",
      "delete: 3583\n"
     ]
    }
   ],
   "source": [
    "reoccur, deleted = _identify_local_reoccured_proteins(data.iloc[list(range(5)),:], .75) "
   ]
  },
  {
   "cell_type": "code",
   "execution_count": 133,
   "metadata": {},
   "outputs": [
    {
     "data": {
      "text/html": [
       "<div>\n",
       "<style scoped>\n",
       "    .dataframe tbody tr th:only-of-type {\n",
       "        vertical-align: middle;\n",
       "    }\n",
       "\n",
       "    .dataframe tbody tr th {\n",
       "        vertical-align: top;\n",
       "    }\n",
       "\n",
       "    .dataframe thead th {\n",
       "        text-align: right;\n",
       "    }\n",
       "</style>\n",
       "<table border=\"1\" class=\"dataframe\">\n",
       "  <thead>\n",
       "    <tr style=\"text-align: right;\">\n",
       "      <th></th>\n",
       "      <th>assay_id</th>\n",
       "      <th>tissue_type</th>\n",
       "      <th>PXD_accession</th>\n",
       "    </tr>\n",
       "  </thead>\n",
       "  <tbody>\n",
       "  </tbody>\n",
       "</table>\n",
       "</div>"
      ],
      "text/plain": [
       "Empty DataFrame\n",
       "Columns: [assay_id, tissue_type, PXD_accession]\n",
       "Index: []"
      ]
     },
     "execution_count": 133,
     "metadata": {},
     "output_type": "execute_result"
    }
   ],
   "source": [
    "metadata[metadata.assay_id == 31355]"
   ]
  },
  {
   "cell_type": "code",
   "execution_count": 136,
   "metadata": {},
   "outputs": [
    {
     "data": {
      "text/plain": [
       "7613"
      ]
     },
     "execution_count": 136,
     "metadata": {},
     "output_type": "execute_result"
    }
   ],
   "source": [
    "len(set(reoccur))"
   ]
  },
  {
   "cell_type": "code",
   "execution_count": 118,
   "metadata": {},
   "outputs": [
    {
     "data": {
      "text/plain": [
       "A0A024RBG1    3\n",
       "A0A096LP01    2\n",
       "A0A0B4J1V0    2\n",
       "A0A0J9YWL9    2\n",
       "A0A0U1RRI6    1\n",
       "             ..\n",
       "Q9Y6X9        4\n",
       "Q9Y6Y0        4\n",
       "Q9Y6Y1        1\n",
       "Q9Y6Y8        4\n",
       "Q9Y6Y9        2\n",
       "Length: 10003, dtype: int64"
      ]
     },
     "execution_count": 118,
     "metadata": {},
     "output_type": "execute_result"
    }
   ],
   "source": [
    "(data.iloc[list(range(4)),:] != 0).sum(axis = 0)[(data.iloc[list(range(4)),:] != 0).sum(axis = 0) != 0]"
   ]
  },
  {
   "cell_type": "code",
   "execution_count": 137,
   "metadata": {},
   "outputs": [
    {
     "data": {
      "text/plain": [
       "3583"
      ]
     },
     "execution_count": 137,
     "metadata": {},
     "output_type": "execute_result"
    }
   ],
   "source": [
    "len(set(deleted))"
   ]
  },
  {
   "cell_type": "code",
   "execution_count": 119,
   "metadata": {},
   "outputs": [],
   "source": [
    "count = 0\n",
    "for x in set(deleted):\n",
    "    if x in set(reoccur):\n",
    "        count += 1"
   ]
  },
  {
   "cell_type": "code",
   "execution_count": 120,
   "metadata": {},
   "outputs": [
    {
     "data": {
      "text/plain": [
       "625"
      ]
     },
     "execution_count": 120,
     "metadata": {},
     "output_type": "execute_result"
    }
   ],
   "source": [
    "count"
   ]
  },
  {
   "cell_type": "code",
   "execution_count": 78,
   "metadata": {},
   "outputs": [
    {
     "data": {
      "text/plain": [
       "0      8127\n",
       "1      8111\n",
       "2      8065\n",
       "3      8001\n",
       "4      1320\n",
       "       ... \n",
       "505    3345\n",
       "506    3767\n",
       "507    3472\n",
       "508    3014\n",
       "509    2148\n",
       "Length: 428, dtype: int64"
      ]
     },
     "execution_count": 78,
     "metadata": {},
     "output_type": "execute_result"
    }
   ],
   "source": [
    "(data != 0).sum(axis = 1)"
   ]
  },
  {
   "cell_type": "code",
   "execution_count": 81,
   "metadata": {},
   "outputs": [
    {
     "data": {
      "text/plain": [
       "24565"
      ]
     },
     "execution_count": 81,
     "metadata": {},
     "output_type": "execute_result"
    }
   ],
   "source": [
    "len(deleted)"
   ]
  },
  {
   "cell_type": "code",
   "execution_count": 48,
   "metadata": {},
   "outputs": [
    {
     "name": "stdout",
     "output_type": "stream",
     "text": [
      "20 1539\n",
      "18 1535\n",
      "24 1520\n",
      "21 1505\n",
      "33 1502\n",
      "32 1495\n",
      "19 1488\n",
      "15 1484\n",
      "9 1449\n",
      "38 1448\n",
      "22 1425\n",
      "8 1421\n",
      "25 1419\n",
      "11 1417\n",
      "7 1416\n",
      "16 1410\n",
      "14 1409\n",
      "31 1409\n",
      "6 1408\n",
      "34 1399\n",
      "17 1399\n",
      "23 1397\n",
      "10 1386\n",
      "13 1376\n",
      "30 1376\n",
      "5 1361\n",
      "39 1340\n",
      "4 1320\n",
      "12 1310\n",
      "43 1301\n",
      "35 1294\n",
      "37 1259\n",
      "26 1255\n",
      "27 1252\n",
      "36 1242\n",
      "40 1201\n",
      "41 1187\n",
      "28 1185\n",
      "44 1156\n",
      "29 1148\n",
      "45 1105\n",
      "42 950\n"
     ]
    }
   ],
   "source": [
    "for index, amount in zip(test_table.index, test_table):\n",
    "    print(index, amount)"
   ]
  },
  {
   "cell_type": "code",
   "execution_count": 123,
   "metadata": {},
   "outputs": [
    {
     "data": {
      "text/plain": [
       "RandomForestClassifier(class_weight={'blood': 4.706666666666667,\n",
       "                                     'brain': 5.7936507936507935,\n",
       "                                     'breast': 4.156626506024097,\n",
       "                                     'cervix': 8.106382978723405,\n",
       "                                     'colon': 15.461538461538462,\n",
       "                                     'kidney': 20.4, 'liver': 37.90909090909091,\n",
       "                                     'ovary': 7.73469387755102,\n",
       "                                     'skin': 15.461538461538462,\n",
       "                                     'umbilical vein': 14.285714285714286},\n",
       "                       n_estimators=150)"
      ]
     },
     "execution_count": 123,
     "metadata": {},
     "output_type": "execute_result"
    }
   ],
   "source": [
    "test_clf = RandomForestClassifier(class_weight=weights, n_estimators=150)\n",
    "test_clf.fit(data_75_filtered, metadata.tissue_type)"
   ]
  }
 ],
 "metadata": {
  "kernelspec": {
   "display_name": "Python 3.7.7 ('ionbot')",
   "language": "python",
   "name": "python3"
  },
  "language_info": {
   "codemirror_mode": {
    "name": "ipython",
    "version": 3
   },
   "file_extension": ".py",
   "mimetype": "text/x-python",
   "name": "python",
   "nbconvert_exporter": "python",
   "pygments_lexer": "ipython3",
   "version": "3.7.7"
  },
  "orig_nbformat": 4,
  "vscode": {
   "interpreter": {
    "hash": "db8b8ce622d6c99bf71358dbacc49720c17f6ed359743e9dd314dcdbdb145bdd"
   }
  }
 },
 "nbformat": 4,
 "nbformat_minor": 2
}
