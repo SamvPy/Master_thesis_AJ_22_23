{
 "cells": [
  {
   "cell_type": "code",
   "execution_count": 1,
   "metadata": {
    "collapsed": true
   },
   "outputs": [],
   "source": [
    "import pandas as pd\n",
    "from collections import defaultdict\n",
    "import mysql.connector\n",
    "import glob\n",
    "import os\n",
    "pd.set_option('display.max_columns', 10)"
   ]
  },
  {
   "cell_type": "code",
   "execution_count": 2,
   "metadata": {
    "collapsed": false,
    "pycharm": {
     "name": "#%%\n"
    }
   },
   "outputs": [
    {
     "name": "stdout",
     "output_type": "stream",
     "text": [
      "connection succesfull\n"
     ]
    }
   ],
   "source": [
    "conn = mysql.connector.connect(user='root', password='password', host='127.0.0.1', port='3306',\n",
    "                               database='expression_atlas_shotgun')\n",
    "mycursor = conn.cursor()\n",
    "\n",
    "# check the connection\n",
    "if conn.is_connected():\n",
    "    print(\"connection succesfull\")\n",
    "else:\n",
    "    print(\"no connection\")"
   ]
  },
  {
   "cell_type": "markdown",
   "metadata": {
    "collapsed": false,
    "pycharm": {
     "name": "#%% md\n"
    }
   },
   "source": [
    "In the downloadable links from the human protein atlas, normal_tissue.tsv was selected.\n",
    "This file contains expression profiles for proteins in human tissues based on immunohistochemisty using tissue micro arrays.\n",
    "The tab-separated file includes Ensembl gene identifier (\"Gene\"), tissue name (\"Tissue\"), annotated cell type (\"Cell type\"),\n",
    "expression value (\"Level\"), and the gene reliability of the expression value (\"Reliability\").\n",
    "The data is based on The Human Protein Atlas version 20.0 and Ensembl version 92.38.\n",
    "Expression values are not detected, low, medium and high, ordinal values which will be replaced with 0, 1, 2 and 3\n",
    "Levels that were N/A or Not representative were removed\n",
    "Uniprot gene namedss needed to be mapped to UniProt ID's"
   ]
  },
  {
   "cell_type": "code",
   "execution_count": 2,
   "metadata": {
    "collapsed": false,
    "pycharm": {
     "name": "#%%\n"
    }
   },
   "outputs": [
    {
     "ename": "FileNotFoundError",
     "evalue": "[Errno 2] File /home/compomics/git/tissue-prediction/Tables/normal_tissue.tsv does not exist: '/home/compomics/git/tissue-prediction/Tables/normal_tissue.tsv'",
     "output_type": "error",
     "traceback": [
      "\u001b[0;31m---------------------------------------------------------------------------\u001b[0m",
      "\u001b[0;31mFileNotFoundError\u001b[0m                         Traceback (most recent call last)",
      "\u001b[0;32m<ipython-input-2-57604f61d23f>\u001b[0m in \u001b[0;36m<module>\u001b[0;34m\u001b[0m\n\u001b[0;32m----> 1\u001b[0;31m \u001b[0mhpa\u001b[0m \u001b[0;34m=\u001b[0m \u001b[0mpd\u001b[0m\u001b[0;34m.\u001b[0m\u001b[0mread_csv\u001b[0m\u001b[0;34m(\u001b[0m\u001b[0;34m'/home/compomics/git/tissue-prediction/Tables/normal_tissue.tsv'\u001b[0m\u001b[0;34m,\u001b[0m \u001b[0msep\u001b[0m\u001b[0;34m=\u001b[0m\u001b[0;34m'\\t'\u001b[0m\u001b[0;34m)\u001b[0m\u001b[0;34m\u001b[0m\u001b[0;34m\u001b[0m\u001b[0m\n\u001b[0m\u001b[1;32m      2\u001b[0m \u001b[0mhpa\u001b[0m\u001b[0;34m.\u001b[0m\u001b[0mhead\u001b[0m\u001b[0;34m(\u001b[0m\u001b[0;34m)\u001b[0m\u001b[0;34m\u001b[0m\u001b[0;34m\u001b[0m\u001b[0m\n",
      "\u001b[0;32m~/miniconda3/lib/python3.7/site-packages/pandas/io/parsers.py\u001b[0m in \u001b[0;36mparser_f\u001b[0;34m(filepath_or_buffer, sep, delimiter, header, names, index_col, usecols, squeeze, prefix, mangle_dupe_cols, dtype, engine, converters, true_values, false_values, skipinitialspace, skiprows, skipfooter, nrows, na_values, keep_default_na, na_filter, verbose, skip_blank_lines, parse_dates, infer_datetime_format, keep_date_col, date_parser, dayfirst, cache_dates, iterator, chunksize, compression, thousands, decimal, lineterminator, quotechar, quoting, doublequote, escapechar, comment, encoding, dialect, error_bad_lines, warn_bad_lines, delim_whitespace, low_memory, memory_map, float_precision)\u001b[0m\n\u001b[1;32m    674\u001b[0m         )\n\u001b[1;32m    675\u001b[0m \u001b[0;34m\u001b[0m\u001b[0m\n\u001b[0;32m--> 676\u001b[0;31m         \u001b[0;32mreturn\u001b[0m \u001b[0m_read\u001b[0m\u001b[0;34m(\u001b[0m\u001b[0mfilepath_or_buffer\u001b[0m\u001b[0;34m,\u001b[0m \u001b[0mkwds\u001b[0m\u001b[0;34m)\u001b[0m\u001b[0;34m\u001b[0m\u001b[0;34m\u001b[0m\u001b[0m\n\u001b[0m\u001b[1;32m    677\u001b[0m \u001b[0;34m\u001b[0m\u001b[0m\n\u001b[1;32m    678\u001b[0m     \u001b[0mparser_f\u001b[0m\u001b[0;34m.\u001b[0m\u001b[0m__name__\u001b[0m \u001b[0;34m=\u001b[0m \u001b[0mname\u001b[0m\u001b[0;34m\u001b[0m\u001b[0;34m\u001b[0m\u001b[0m\n",
      "\u001b[0;32m~/miniconda3/lib/python3.7/site-packages/pandas/io/parsers.py\u001b[0m in \u001b[0;36m_read\u001b[0;34m(filepath_or_buffer, kwds)\u001b[0m\n\u001b[1;32m    446\u001b[0m \u001b[0;34m\u001b[0m\u001b[0m\n\u001b[1;32m    447\u001b[0m     \u001b[0;31m# Create the parser.\u001b[0m\u001b[0;34m\u001b[0m\u001b[0;34m\u001b[0m\u001b[0;34m\u001b[0m\u001b[0m\n\u001b[0;32m--> 448\u001b[0;31m     \u001b[0mparser\u001b[0m \u001b[0;34m=\u001b[0m \u001b[0mTextFileReader\u001b[0m\u001b[0;34m(\u001b[0m\u001b[0mfp_or_buf\u001b[0m\u001b[0;34m,\u001b[0m \u001b[0;34m**\u001b[0m\u001b[0mkwds\u001b[0m\u001b[0;34m)\u001b[0m\u001b[0;34m\u001b[0m\u001b[0;34m\u001b[0m\u001b[0m\n\u001b[0m\u001b[1;32m    449\u001b[0m \u001b[0;34m\u001b[0m\u001b[0m\n\u001b[1;32m    450\u001b[0m     \u001b[0;32mif\u001b[0m \u001b[0mchunksize\u001b[0m \u001b[0;32mor\u001b[0m \u001b[0miterator\u001b[0m\u001b[0;34m:\u001b[0m\u001b[0;34m\u001b[0m\u001b[0;34m\u001b[0m\u001b[0m\n",
      "\u001b[0;32m~/miniconda3/lib/python3.7/site-packages/pandas/io/parsers.py\u001b[0m in \u001b[0;36m__init__\u001b[0;34m(self, f, engine, **kwds)\u001b[0m\n\u001b[1;32m    878\u001b[0m             \u001b[0mself\u001b[0m\u001b[0;34m.\u001b[0m\u001b[0moptions\u001b[0m\u001b[0;34m[\u001b[0m\u001b[0;34m\"has_index_names\"\u001b[0m\u001b[0;34m]\u001b[0m \u001b[0;34m=\u001b[0m \u001b[0mkwds\u001b[0m\u001b[0;34m[\u001b[0m\u001b[0;34m\"has_index_names\"\u001b[0m\u001b[0;34m]\u001b[0m\u001b[0;34m\u001b[0m\u001b[0;34m\u001b[0m\u001b[0m\n\u001b[1;32m    879\u001b[0m \u001b[0;34m\u001b[0m\u001b[0m\n\u001b[0;32m--> 880\u001b[0;31m         \u001b[0mself\u001b[0m\u001b[0;34m.\u001b[0m\u001b[0m_make_engine\u001b[0m\u001b[0;34m(\u001b[0m\u001b[0mself\u001b[0m\u001b[0;34m.\u001b[0m\u001b[0mengine\u001b[0m\u001b[0;34m)\u001b[0m\u001b[0;34m\u001b[0m\u001b[0;34m\u001b[0m\u001b[0m\n\u001b[0m\u001b[1;32m    881\u001b[0m \u001b[0;34m\u001b[0m\u001b[0m\n\u001b[1;32m    882\u001b[0m     \u001b[0;32mdef\u001b[0m \u001b[0mclose\u001b[0m\u001b[0;34m(\u001b[0m\u001b[0mself\u001b[0m\u001b[0;34m)\u001b[0m\u001b[0;34m:\u001b[0m\u001b[0;34m\u001b[0m\u001b[0;34m\u001b[0m\u001b[0m\n",
      "\u001b[0;32m~/miniconda3/lib/python3.7/site-packages/pandas/io/parsers.py\u001b[0m in \u001b[0;36m_make_engine\u001b[0;34m(self, engine)\u001b[0m\n\u001b[1;32m   1112\u001b[0m     \u001b[0;32mdef\u001b[0m \u001b[0m_make_engine\u001b[0m\u001b[0;34m(\u001b[0m\u001b[0mself\u001b[0m\u001b[0;34m,\u001b[0m \u001b[0mengine\u001b[0m\u001b[0;34m=\u001b[0m\u001b[0;34m\"c\"\u001b[0m\u001b[0;34m)\u001b[0m\u001b[0;34m:\u001b[0m\u001b[0;34m\u001b[0m\u001b[0;34m\u001b[0m\u001b[0m\n\u001b[1;32m   1113\u001b[0m         \u001b[0;32mif\u001b[0m \u001b[0mengine\u001b[0m \u001b[0;34m==\u001b[0m \u001b[0;34m\"c\"\u001b[0m\u001b[0;34m:\u001b[0m\u001b[0;34m\u001b[0m\u001b[0;34m\u001b[0m\u001b[0m\n\u001b[0;32m-> 1114\u001b[0;31m             \u001b[0mself\u001b[0m\u001b[0;34m.\u001b[0m\u001b[0m_engine\u001b[0m \u001b[0;34m=\u001b[0m \u001b[0mCParserWrapper\u001b[0m\u001b[0;34m(\u001b[0m\u001b[0mself\u001b[0m\u001b[0;34m.\u001b[0m\u001b[0mf\u001b[0m\u001b[0;34m,\u001b[0m \u001b[0;34m**\u001b[0m\u001b[0mself\u001b[0m\u001b[0;34m.\u001b[0m\u001b[0moptions\u001b[0m\u001b[0;34m)\u001b[0m\u001b[0;34m\u001b[0m\u001b[0;34m\u001b[0m\u001b[0m\n\u001b[0m\u001b[1;32m   1115\u001b[0m         \u001b[0;32melse\u001b[0m\u001b[0;34m:\u001b[0m\u001b[0;34m\u001b[0m\u001b[0;34m\u001b[0m\u001b[0m\n\u001b[1;32m   1116\u001b[0m             \u001b[0;32mif\u001b[0m \u001b[0mengine\u001b[0m \u001b[0;34m==\u001b[0m \u001b[0;34m\"python\"\u001b[0m\u001b[0;34m:\u001b[0m\u001b[0;34m\u001b[0m\u001b[0;34m\u001b[0m\u001b[0m\n",
      "\u001b[0;32m~/miniconda3/lib/python3.7/site-packages/pandas/io/parsers.py\u001b[0m in \u001b[0;36m__init__\u001b[0;34m(self, src, **kwds)\u001b[0m\n\u001b[1;32m   1889\u001b[0m         \u001b[0mkwds\u001b[0m\u001b[0;34m[\u001b[0m\u001b[0;34m\"usecols\"\u001b[0m\u001b[0;34m]\u001b[0m \u001b[0;34m=\u001b[0m \u001b[0mself\u001b[0m\u001b[0;34m.\u001b[0m\u001b[0musecols\u001b[0m\u001b[0;34m\u001b[0m\u001b[0;34m\u001b[0m\u001b[0m\n\u001b[1;32m   1890\u001b[0m \u001b[0;34m\u001b[0m\u001b[0m\n\u001b[0;32m-> 1891\u001b[0;31m         \u001b[0mself\u001b[0m\u001b[0;34m.\u001b[0m\u001b[0m_reader\u001b[0m \u001b[0;34m=\u001b[0m \u001b[0mparsers\u001b[0m\u001b[0;34m.\u001b[0m\u001b[0mTextReader\u001b[0m\u001b[0;34m(\u001b[0m\u001b[0msrc\u001b[0m\u001b[0;34m,\u001b[0m \u001b[0;34m**\u001b[0m\u001b[0mkwds\u001b[0m\u001b[0;34m)\u001b[0m\u001b[0;34m\u001b[0m\u001b[0;34m\u001b[0m\u001b[0m\n\u001b[0m\u001b[1;32m   1892\u001b[0m         \u001b[0mself\u001b[0m\u001b[0;34m.\u001b[0m\u001b[0munnamed_cols\u001b[0m \u001b[0;34m=\u001b[0m \u001b[0mself\u001b[0m\u001b[0;34m.\u001b[0m\u001b[0m_reader\u001b[0m\u001b[0;34m.\u001b[0m\u001b[0munnamed_cols\u001b[0m\u001b[0;34m\u001b[0m\u001b[0;34m\u001b[0m\u001b[0m\n\u001b[1;32m   1893\u001b[0m \u001b[0;34m\u001b[0m\u001b[0m\n",
      "\u001b[0;32mpandas/_libs/parsers.pyx\u001b[0m in \u001b[0;36mpandas._libs.parsers.TextReader.__cinit__\u001b[0;34m()\u001b[0m\n",
      "\u001b[0;32mpandas/_libs/parsers.pyx\u001b[0m in \u001b[0;36mpandas._libs.parsers.TextReader._setup_parser_source\u001b[0;34m()\u001b[0m\n",
      "\u001b[0;31mFileNotFoundError\u001b[0m: [Errno 2] File /home/compomics/git/tissue-prediction/Tables/normal_tissue.tsv does not exist: '/home/compomics/git/tissue-prediction/Tables/normal_tissue.tsv'"
     ]
    }
   ],
   "source": [
    "hpa = pd.read_csv('/home/compomics/git/tissue-prediction/Tables/normal_tissue.tsv', sep='\\t')\n",
    "hpa.head()"
   ]
  },
  {
   "cell_type": "code",
   "execution_count": 30,
   "metadata": {
    "collapsed": false,
    "pycharm": {
     "name": "#%%\n"
    }
   },
   "outputs": [
    {
     "data": {
      "text/plain": [
       "array(['Not detected', 'Medium', 'High', 'Low', nan, 'Not representative'],\n",
       "      dtype=object)"
      ]
     },
     "execution_count": 30,
     "metadata": {},
     "output_type": "execute_result"
    }
   ],
   "source": [
    "hpa['Level'].unique()"
   ]
  },
  {
   "cell_type": "code",
   "execution_count": 31,
   "metadata": {
    "collapsed": false,
    "pycharm": {
     "name": "#%%\n"
    }
   },
   "outputs": [],
   "source": [
    "levels = ['Not detected', 'Low', 'Medium', 'High']\n",
    "indexlevels = hpa[hpa['Level'] == 'Not representative'].index\n",
    "hpa.drop(indexlevels, inplace=True)\n",
    "hpa.dropna(subset=['Level'], inplace=True)"
   ]
  },
  {
   "cell_type": "code",
   "execution_count": 32,
   "metadata": {
    "collapsed": false,
    "pycharm": {
     "name": "#%%\n"
    }
   },
   "outputs": [
    {
     "data": {
      "text/plain": [
       "array(['Not detected', 'Medium', 'High', 'Low'], dtype=object)"
      ]
     },
     "execution_count": 32,
     "metadata": {},
     "output_type": "execute_result"
    }
   ],
   "source": [
    "hpa['Level'].unique()"
   ]
  },
  {
   "cell_type": "code",
   "execution_count": 33,
   "metadata": {
    "collapsed": false,
    "pycharm": {
     "name": "#%%\n"
    }
   },
   "outputs": [
    {
     "data": {
      "text/plain": [
       "array([0, 2, 3, 1])"
      ]
     },
     "execution_count": 33,
     "metadata": {},
     "output_type": "execute_result"
    }
   ],
   "source": [
    "# replace ordinal values by integers\n",
    "hpa['Level'].replace({'Not detected': 0, 'Low': 1, 'Medium': 2, 'High': 3}, inplace=True)\n",
    "hpa['Level'].unique()"
   ]
  },
  {
   "cell_type": "code",
   "execution_count": 34,
   "metadata": {
    "collapsed": false,
    "pycharm": {
     "name": "#%%\n"
    }
   },
   "outputs": [],
   "source": [
    "hpa.to_csv('hpa.csv', index=False)\n"
   ]
  },
  {
   "cell_type": "markdown",
   "metadata": {
    "collapsed": false,
    "pycharm": {
     "name": "#%% md\n"
    }
   },
   "source": [
    "Replace Uniprot Gene Names by Uniprot IDs"
   ]
  },
  {
   "cell_type": "code",
   "execution_count": 43,
   "metadata": {
    "collapsed": false,
    "pycharm": {
     "name": "#%%\n"
    }
   },
   "outputs": [],
   "source": [
    "gene_names = hpa['Gene name'].tolist()\n",
    "gene_names = list(dict.fromkeys(gene_names))\n",
    "gene_names_str = ' '.join(gene_names)\n",
    "file = open('gene_names_file.txt', 'w')\n",
    "n = file.write(gene_names_str)\n",
    "file.close()\n",
    "\n"
   ]
  },
  {
   "cell_type": "markdown",
   "metadata": {
    "collapsed": false,
    "pycharm": {
     "name": "#%% md\n"
    }
   },
   "source": [
    "Retrieve ID mapping tool from Uniprot was used. Gene names txt file was uploaded, filtered on Homo Sapiens\n",
    "and swissprot entries (reviewed).\n",
    "The results was downloaded as uniprot-yourlist.tab\n"
   ]
  },
  {
   "cell_type": "code",
   "execution_count": 56,
   "metadata": {
    "collapsed": false,
    "pycharm": {
     "name": "#%%A\n"
    }
   },
   "outputs": [
    {
     "data": {
      "text/html": [
       "<div>\n",
       "<style scoped>\n",
       "    .dataframe tbody tr th:only-of-type {\n",
       "        vertical-align: middle;\n",
       "    }\n",
       "\n",
       "    .dataframe tbody tr th {\n",
       "        vertical-align: top;\n",
       "    }\n",
       "\n",
       "    .dataframe thead th {\n",
       "        text-align: right;\n",
       "    }\n",
       "</style>\n",
       "<table border=\"1\" class=\"dataframe\">\n",
       "  <thead>\n",
       "    <tr style=\"text-align: right;\">\n",
       "      <th></th>\n",
       "      <th>Entry</th>\n",
       "      <th>Gene name</th>\n",
       "    </tr>\n",
       "  </thead>\n",
       "  <tbody>\n",
       "    <tr>\n",
       "      <th>0</th>\n",
       "      <td>O43657</td>\n",
       "      <td>TSPAN6</td>\n",
       "    </tr>\n",
       "    <tr>\n",
       "      <th>1</th>\n",
       "      <td>O60762</td>\n",
       "      <td>DPM1</td>\n",
       "    </tr>\n",
       "    <tr>\n",
       "      <th>2</th>\n",
       "      <td>Q8IZE3</td>\n",
       "      <td>SCYL3</td>\n",
       "    </tr>\n",
       "    <tr>\n",
       "      <th>3</th>\n",
       "      <td>Q9NSG2</td>\n",
       "      <td>C1orf112</td>\n",
       "    </tr>\n",
       "    <tr>\n",
       "      <th>4</th>\n",
       "      <td>P09769</td>\n",
       "      <td>FGR</td>\n",
       "    </tr>\n",
       "  </tbody>\n",
       "</table>\n",
       "</div>"
      ],
      "text/plain": [
       "    Entry Gene name\n",
       "0  O43657    TSPAN6\n",
       "1  O60762      DPM1\n",
       "2  Q8IZE3     SCYL3\n",
       "3  Q9NSG2  C1orf112\n",
       "4  P09769       FGR"
      ]
     },
     "execution_count": 56,
     "metadata": {},
     "output_type": "execute_result"
    }
   ],
   "source": [
    "uni_map = pd.read_csv('uniprot-yourlist.tab', sep='\\t')\n",
    "uni_map = uni_map.rename(columns={'yourlist:M20201127A94466D2655679D1FD8953E075198DA818A0DAG': 'Gene name'})\n",
    "uni_map.head()"
   ]
  },
  {
   "cell_type": "code",
   "execution_count": 57,
   "metadata": {
    "collapsed": false,
    "pycharm": {
     "name": "#%%\n"
    }
   },
   "outputs": [
    {
     "data": {
      "text/html": [
       "<div>\n",
       "<style scoped>\n",
       "    .dataframe tbody tr th:only-of-type {\n",
       "        vertical-align: middle;\n",
       "    }\n",
       "\n",
       "    .dataframe tbody tr th {\n",
       "        vertical-align: top;\n",
       "    }\n",
       "\n",
       "    .dataframe thead th {\n",
       "        text-align: right;\n",
       "    }\n",
       "</style>\n",
       "<table border=\"1\" class=\"dataframe\">\n",
       "  <thead>\n",
       "    <tr style=\"text-align: right;\">\n",
       "      <th></th>\n",
       "      <th>Tissue</th>\n",
       "      <th>Cell type</th>\n",
       "      <th>Level</th>\n",
       "      <th>Entry</th>\n",
       "    </tr>\n",
       "  </thead>\n",
       "  <tbody>\n",
       "    <tr>\n",
       "      <th>0</th>\n",
       "      <td>adipose tissue</td>\n",
       "      <td>adipocytes</td>\n",
       "      <td>0</td>\n",
       "      <td>O43657</td>\n",
       "    </tr>\n",
       "    <tr>\n",
       "      <th>1</th>\n",
       "      <td>adrenal gland</td>\n",
       "      <td>glandular cells</td>\n",
       "      <td>0</td>\n",
       "      <td>O43657</td>\n",
       "    </tr>\n",
       "    <tr>\n",
       "      <th>2</th>\n",
       "      <td>appendix</td>\n",
       "      <td>glandular cells</td>\n",
       "      <td>2</td>\n",
       "      <td>O43657</td>\n",
       "    </tr>\n",
       "    <tr>\n",
       "      <th>3</th>\n",
       "      <td>appendix</td>\n",
       "      <td>lymphoid tissue</td>\n",
       "      <td>0</td>\n",
       "      <td>O43657</td>\n",
       "    </tr>\n",
       "    <tr>\n",
       "      <th>4</th>\n",
       "      <td>bone marrow</td>\n",
       "      <td>hematopoietic cells</td>\n",
       "      <td>0</td>\n",
       "      <td>O43657</td>\n",
       "    </tr>\n",
       "  </tbody>\n",
       "</table>\n",
       "</div>"
      ],
      "text/plain": [
       "           Tissue            Cell type  Level   Entry\n",
       "0  adipose tissue           adipocytes      0  O43657\n",
       "1   adrenal gland      glandular cells      0  O43657\n",
       "2        appendix      glandular cells      2  O43657\n",
       "3        appendix      lymphoid tissue      0  O43657\n",
       "4     bone marrow  hematopoietic cells      0  O43657"
      ]
     },
     "execution_count": 57,
     "metadata": {},
     "output_type": "execute_result"
    }
   ],
   "source": [
    "protein_to_tissue = pd.merge(hpa, uni_map, on='Gene name')\n",
    "protein_to_tissue = protein_to_tissue.drop(columns=['Gene', 'Gene name', 'Reliability'])\n",
    "protein_to_tissue.head()\n"
   ]
  },
  {
   "cell_type": "code",
   "execution_count": 58,
   "metadata": {
    "collapsed": false,
    "pycharm": {
     "name": "#%%\n"
    }
   },
   "outputs": [
    {
     "data": {
      "text/html": [
       "<div>\n",
       "<style scoped>\n",
       "    .dataframe tbody tr th:only-of-type {\n",
       "        vertical-align: middle;\n",
       "    }\n",
       "\n",
       "    .dataframe tbody tr th {\n",
       "        vertical-align: top;\n",
       "    }\n",
       "\n",
       "    .dataframe thead th {\n",
       "        text-align: right;\n",
       "    }\n",
       "</style>\n",
       "<table border=\"1\" class=\"dataframe\">\n",
       "  <thead>\n",
       "    <tr style=\"text-align: right;\">\n",
       "      <th></th>\n",
       "      <th>uniprot_id</th>\n",
       "      <th>Tissue</th>\n",
       "      <th>Cell type</th>\n",
       "      <th>Level</th>\n",
       "    </tr>\n",
       "  </thead>\n",
       "  <tbody>\n",
       "    <tr>\n",
       "      <th>0</th>\n",
       "      <td>O43657</td>\n",
       "      <td>adipose tissue</td>\n",
       "      <td>adipocytes</td>\n",
       "      <td>0</td>\n",
       "    </tr>\n",
       "    <tr>\n",
       "      <th>1</th>\n",
       "      <td>O43657</td>\n",
       "      <td>adrenal gland</td>\n",
       "      <td>glandular cells</td>\n",
       "      <td>0</td>\n",
       "    </tr>\n",
       "    <tr>\n",
       "      <th>2</th>\n",
       "      <td>O43657</td>\n",
       "      <td>appendix</td>\n",
       "      <td>glandular cells</td>\n",
       "      <td>2</td>\n",
       "    </tr>\n",
       "    <tr>\n",
       "      <th>3</th>\n",
       "      <td>O43657</td>\n",
       "      <td>appendix</td>\n",
       "      <td>lymphoid tissue</td>\n",
       "      <td>0</td>\n",
       "    </tr>\n",
       "    <tr>\n",
       "      <th>4</th>\n",
       "      <td>O43657</td>\n",
       "      <td>bone marrow</td>\n",
       "      <td>hematopoietic cells</td>\n",
       "      <td>0</td>\n",
       "    </tr>\n",
       "    <tr>\n",
       "      <th>5</th>\n",
       "      <td>O43657</td>\n",
       "      <td>breast</td>\n",
       "      <td>adipocytes</td>\n",
       "      <td>0</td>\n",
       "    </tr>\n",
       "    <tr>\n",
       "      <th>6</th>\n",
       "      <td>O43657</td>\n",
       "      <td>breast</td>\n",
       "      <td>glandular cells</td>\n",
       "      <td>3</td>\n",
       "    </tr>\n",
       "    <tr>\n",
       "      <th>7</th>\n",
       "      <td>O43657</td>\n",
       "      <td>breast</td>\n",
       "      <td>myoepithelial cells</td>\n",
       "      <td>0</td>\n",
       "    </tr>\n",
       "    <tr>\n",
       "      <th>8</th>\n",
       "      <td>O43657</td>\n",
       "      <td>bronchus</td>\n",
       "      <td>respiratory epithelial cells</td>\n",
       "      <td>3</td>\n",
       "    </tr>\n",
       "    <tr>\n",
       "      <th>9</th>\n",
       "      <td>O43657</td>\n",
       "      <td>caudate</td>\n",
       "      <td>glial cells</td>\n",
       "      <td>0</td>\n",
       "    </tr>\n",
       "    <tr>\n",
       "      <th>10</th>\n",
       "      <td>O43657</td>\n",
       "      <td>caudate</td>\n",
       "      <td>neuronal cells</td>\n",
       "      <td>0</td>\n",
       "    </tr>\n",
       "    <tr>\n",
       "      <th>11</th>\n",
       "      <td>O43657</td>\n",
       "      <td>cerebellum</td>\n",
       "      <td>cells in granular layer</td>\n",
       "      <td>0</td>\n",
       "    </tr>\n",
       "    <tr>\n",
       "      <th>12</th>\n",
       "      <td>O43657</td>\n",
       "      <td>cerebellum</td>\n",
       "      <td>cells in molecular layer</td>\n",
       "      <td>0</td>\n",
       "    </tr>\n",
       "    <tr>\n",
       "      <th>13</th>\n",
       "      <td>O43657</td>\n",
       "      <td>cerebellum</td>\n",
       "      <td>Purkinje cells</td>\n",
       "      <td>0</td>\n",
       "    </tr>\n",
       "    <tr>\n",
       "      <th>14</th>\n",
       "      <td>O43657</td>\n",
       "      <td>cerebral cortex</td>\n",
       "      <td>endothelial cells</td>\n",
       "      <td>0</td>\n",
       "    </tr>\n",
       "    <tr>\n",
       "      <th>15</th>\n",
       "      <td>O43657</td>\n",
       "      <td>cerebral cortex</td>\n",
       "      <td>glial cells</td>\n",
       "      <td>0</td>\n",
       "    </tr>\n",
       "    <tr>\n",
       "      <th>16</th>\n",
       "      <td>O43657</td>\n",
       "      <td>cerebral cortex</td>\n",
       "      <td>neuronal cells</td>\n",
       "      <td>2</td>\n",
       "    </tr>\n",
       "    <tr>\n",
       "      <th>17</th>\n",
       "      <td>O43657</td>\n",
       "      <td>cerebral cortex</td>\n",
       "      <td>neuropil</td>\n",
       "      <td>0</td>\n",
       "    </tr>\n",
       "    <tr>\n",
       "      <th>18</th>\n",
       "      <td>O43657</td>\n",
       "      <td>cervix, uterine</td>\n",
       "      <td>glandular cells</td>\n",
       "      <td>3</td>\n",
       "    </tr>\n",
       "    <tr>\n",
       "      <th>19</th>\n",
       "      <td>O43657</td>\n",
       "      <td>cervix, uterine</td>\n",
       "      <td>squamous epithelial cells</td>\n",
       "      <td>3</td>\n",
       "    </tr>\n",
       "    <tr>\n",
       "      <th>20</th>\n",
       "      <td>O43657</td>\n",
       "      <td>colon</td>\n",
       "      <td>endothelial cells</td>\n",
       "      <td>0</td>\n",
       "    </tr>\n",
       "    <tr>\n",
       "      <th>21</th>\n",
       "      <td>O43657</td>\n",
       "      <td>colon</td>\n",
       "      <td>glandular cells</td>\n",
       "      <td>2</td>\n",
       "    </tr>\n",
       "    <tr>\n",
       "      <th>22</th>\n",
       "      <td>O43657</td>\n",
       "      <td>colon</td>\n",
       "      <td>peripheral nerve/ganglion</td>\n",
       "      <td>0</td>\n",
       "    </tr>\n",
       "    <tr>\n",
       "      <th>23</th>\n",
       "      <td>O43657</td>\n",
       "      <td>duodenum</td>\n",
       "      <td>glandular cells</td>\n",
       "      <td>1</td>\n",
       "    </tr>\n",
       "    <tr>\n",
       "      <th>24</th>\n",
       "      <td>O43657</td>\n",
       "      <td>endometrium 1</td>\n",
       "      <td>cells in endometrial stroma</td>\n",
       "      <td>0</td>\n",
       "    </tr>\n",
       "    <tr>\n",
       "      <th>25</th>\n",
       "      <td>O43657</td>\n",
       "      <td>endometrium 1</td>\n",
       "      <td>glandular cells</td>\n",
       "      <td>3</td>\n",
       "    </tr>\n",
       "    <tr>\n",
       "      <th>26</th>\n",
       "      <td>O43657</td>\n",
       "      <td>endometrium 2</td>\n",
       "      <td>cells in endometrial stroma</td>\n",
       "      <td>0</td>\n",
       "    </tr>\n",
       "    <tr>\n",
       "      <th>27</th>\n",
       "      <td>O43657</td>\n",
       "      <td>endometrium 2</td>\n",
       "      <td>glandular cells</td>\n",
       "      <td>3</td>\n",
       "    </tr>\n",
       "    <tr>\n",
       "      <th>28</th>\n",
       "      <td>O43657</td>\n",
       "      <td>epididymis</td>\n",
       "      <td>glandular cells</td>\n",
       "      <td>2</td>\n",
       "    </tr>\n",
       "    <tr>\n",
       "      <th>29</th>\n",
       "      <td>O43657</td>\n",
       "      <td>esophagus</td>\n",
       "      <td>squamous epithelial cells</td>\n",
       "      <td>3</td>\n",
       "    </tr>\n",
       "    <tr>\n",
       "      <th>30</th>\n",
       "      <td>O43657</td>\n",
       "      <td>fallopian tube</td>\n",
       "      <td>glandular cells</td>\n",
       "      <td>3</td>\n",
       "    </tr>\n",
       "    <tr>\n",
       "      <th>31</th>\n",
       "      <td>O43657</td>\n",
       "      <td>gallbladder</td>\n",
       "      <td>glandular cells</td>\n",
       "      <td>2</td>\n",
       "    </tr>\n",
       "    <tr>\n",
       "      <th>32</th>\n",
       "      <td>O43657</td>\n",
       "      <td>heart muscle</td>\n",
       "      <td>cardiomyocytes</td>\n",
       "      <td>0</td>\n",
       "    </tr>\n",
       "    <tr>\n",
       "      <th>33</th>\n",
       "      <td>O43657</td>\n",
       "      <td>hippocampus</td>\n",
       "      <td>glial cells</td>\n",
       "      <td>0</td>\n",
       "    </tr>\n",
       "    <tr>\n",
       "      <th>34</th>\n",
       "      <td>O43657</td>\n",
       "      <td>hippocampus</td>\n",
       "      <td>neuronal cells</td>\n",
       "      <td>0</td>\n",
       "    </tr>\n",
       "  </tbody>\n",
       "</table>\n",
       "</div>"
      ],
      "text/plain": [
       "   uniprot_id           Tissue                     Cell type  Level\n",
       "0      O43657   adipose tissue                    adipocytes      0\n",
       "1      O43657    adrenal gland               glandular cells      0\n",
       "2      O43657         appendix               glandular cells      2\n",
       "3      O43657         appendix               lymphoid tissue      0\n",
       "4      O43657      bone marrow           hematopoietic cells      0\n",
       "5      O43657           breast                    adipocytes      0\n",
       "6      O43657           breast               glandular cells      3\n",
       "7      O43657           breast           myoepithelial cells      0\n",
       "8      O43657         bronchus  respiratory epithelial cells      3\n",
       "9      O43657          caudate                   glial cells      0\n",
       "10     O43657          caudate                neuronal cells      0\n",
       "11     O43657       cerebellum       cells in granular layer      0\n",
       "12     O43657       cerebellum      cells in molecular layer      0\n",
       "13     O43657       cerebellum                Purkinje cells      0\n",
       "14     O43657  cerebral cortex             endothelial cells      0\n",
       "15     O43657  cerebral cortex                   glial cells      0\n",
       "16     O43657  cerebral cortex                neuronal cells      2\n",
       "17     O43657  cerebral cortex                      neuropil      0\n",
       "18     O43657  cervix, uterine               glandular cells      3\n",
       "19     O43657  cervix, uterine     squamous epithelial cells      3\n",
       "20     O43657            colon             endothelial cells      0\n",
       "21     O43657            colon               glandular cells      2\n",
       "22     O43657            colon     peripheral nerve/ganglion      0\n",
       "23     O43657         duodenum               glandular cells      1\n",
       "24     O43657    endometrium 1   cells in endometrial stroma      0\n",
       "25     O43657    endometrium 1               glandular cells      3\n",
       "26     O43657    endometrium 2   cells in endometrial stroma      0\n",
       "27     O43657    endometrium 2               glandular cells      3\n",
       "28     O43657       epididymis               glandular cells      2\n",
       "29     O43657        esophagus     squamous epithelial cells      3\n",
       "30     O43657   fallopian tube               glandular cells      3\n",
       "31     O43657      gallbladder               glandular cells      2\n",
       "32     O43657     heart muscle                cardiomyocytes      0\n",
       "33     O43657      hippocampus                   glial cells      0\n",
       "34     O43657      hippocampus                neuronal cells      0"
      ]
     },
     "execution_count": 58,
     "metadata": {},
     "output_type": "execute_result"
    }
   ],
   "source": [
    "protein_to_tissue = protein_to_tissue[['Entry', 'Tissue', 'Cell type', 'Level' ]]\n",
    "protein_to_tissue = protein_to_tissue.rename(columns={'Entry': 'uniprot_id'})\n",
    "protein_to_tissue.head(35)"
   ]
  },
  {
   "cell_type": "code",
   "execution_count": 64,
   "metadata": {
    "collapsed": false,
    "pycharm": {
     "name": "#%%\n"
    }
   },
   "outputs": [],
   "source": [
    "# one protein can be multiple times present in the same tissue, but in different cell types\n",
    "# there are dupliacte entries endometrium 1 and 2, skin 1 and 2, soft tissue and stomach\n",
    "duplicates = ['endometrium 2', 'skin 2', 'soft tissue 2', 'stomach 2']\n",
    "indextissues = protein_to_tissue[protein_to_tissue['Tissue'].isin(duplicates)].index\n",
    "protein_to_tissue.drop(indextissues, inplace=True)"
   ]
  },
  {
   "cell_type": "code",
   "execution_count": 66,
   "metadata": {
    "collapsed": false,
    "pycharm": {
     "name": "#%%\n"
    }
   },
   "outputs": [],
   "source": [
    "protein_to_tissue['Tissue'].replace({'endometrium 1': 'endometrium',  'skin 2': 'skin', 'soft tissue 2': 'soft tissue', 'stomach 2': 'stomach'}, inplace=True)"
   ]
  },
  {
   "cell_type": "code",
   "execution_count": 68,
   "metadata": {
    "collapsed": false,
    "pycharm": {
     "name": "#%%\n"
    }
   },
   "outputs": [],
   "source": [
    "protein_to_tissue.to_csv('tissue_to_protein.csv', index=False)\n"
   ]
  },
  {
   "cell_type": "markdown",
   "metadata": {
    "collapsed": false,
    "pycharm": {
     "name": "#%%\n"
    }
   },
   "source": [
    "### Based on the tissue, an organ_id was added. A dictionary containing the tissue and its organ id can be found in tissue_to_organ_dict.txt\n",
    "\n",
    "This organid was manually added added to the tissue_to_protein file (tissue_to_protein_organupdate.csv) and will also be added to the tissue table in the database"
   ]
  },
  {
   "cell_type": "code",
   "execution_count": 12,
   "metadata": {},
   "outputs": [],
   "source": [
    "import ast \n",
    "with open('tissue_to_organ_dict.txt') as f:\n",
    "    organ_dict = f.readlines()\n",
    "    organ_dict = organ_dict[0]\n",
    "    organ_dict = ast.literal_eval(organ_dict)"
   ]
  },
  {
   "cell_type": "code",
   "execution_count": 15,
   "metadata": {},
   "outputs": [
    {
     "data": {
      "text/html": [
       "<div>\n",
       "<style scoped>\n",
       "    .dataframe tbody tr th:only-of-type {\n",
       "        vertical-align: middle;\n",
       "    }\n",
       "\n",
       "    .dataframe tbody tr th {\n",
       "        vertical-align: top;\n",
       "    }\n",
       "\n",
       "    .dataframe thead th {\n",
       "        text-align: right;\n",
       "    }\n",
       "</style>\n",
       "<table border=\"1\" class=\"dataframe\">\n",
       "  <thead>\n",
       "    <tr style=\"text-align: right;\">\n",
       "      <th></th>\n",
       "      <th>tissue_id</th>\n",
       "      <th>tissue_name</th>\n",
       "      <th>cell_type</th>\n",
       "      <th>disease_status</th>\n",
       "      <th>organ_id</th>\n",
       "      <th>fluid</th>\n",
       "    </tr>\n",
       "  </thead>\n",
       "  <tbody>\n",
       "    <tr>\n",
       "      <th>0</th>\n",
       "      <td>557</td>\n",
       "      <td>Urine</td>\n",
       "      <td>Urine</td>\n",
       "      <td>Extracellular vesicles of the tissue were isol...</td>\n",
       "      <td>NaN</td>\n",
       "      <td>1</td>\n",
       "    </tr>\n",
       "    <tr>\n",
       "      <th>1</th>\n",
       "      <td>559</td>\n",
       "      <td>Urine</td>\n",
       "      <td>Urine</td>\n",
       "      <td>Diseased</td>\n",
       "      <td>NaN</td>\n",
       "      <td>1</td>\n",
       "    </tr>\n",
       "    <tr>\n",
       "      <th>2</th>\n",
       "      <td>589</td>\n",
       "      <td>Urine</td>\n",
       "      <td>Urine</td>\n",
       "      <td>No distinct annotation</td>\n",
       "      <td>NaN</td>\n",
       "      <td>1</td>\n",
       "    </tr>\n",
       "    <tr>\n",
       "      <th>3</th>\n",
       "      <td>599</td>\n",
       "      <td>Urine</td>\n",
       "      <td>Urine</td>\n",
       "      <td>Cancer</td>\n",
       "      <td>NaN</td>\n",
       "      <td>1</td>\n",
       "    </tr>\n",
       "    <tr>\n",
       "      <th>4</th>\n",
       "      <td>499</td>\n",
       "      <td>Urine</td>\n",
       "      <td>Urine</td>\n",
       "      <td>Healthy</td>\n",
       "      <td>NaN</td>\n",
       "      <td>1</td>\n",
       "    </tr>\n",
       "  </tbody>\n",
       "</table>\n",
       "</div>"
      ],
      "text/plain": [
       "   tissue_id tissue_name cell_type  \\\n",
       "0        557       Urine     Urine   \n",
       "1        559       Urine     Urine   \n",
       "2        589       Urine     Urine   \n",
       "3        599       Urine     Urine   \n",
       "4        499       Urine     Urine   \n",
       "\n",
       "                                      disease_status  organ_id  fluid  \n",
       "0  Extracellular vesicles of the tissue were isol...       NaN      1  \n",
       "1                                           Diseased       NaN      1  \n",
       "2                             No distinct annotation       NaN      1  \n",
       "3                                             Cancer       NaN      1  \n",
       "4                                            Healthy       NaN      1  "
      ]
     },
     "execution_count": 15,
     "metadata": {},
     "output_type": "execute_result"
    }
   ],
   "source": [
    "export = pd.read_csv('/home/compomics/git/Tissue_specific/Shotgun_atlas/tissue_export.csv', sep=',')\n",
    "export.head()"
   ]
  },
  {
   "cell_type": "code",
   "execution_count": 16,
   "metadata": {},
   "outputs": [
    {
     "name": "stdout",
     "output_type": "stream",
     "text": [
      "['Adipose tissue' 'Adrenal gland' 'Ascites' 'B-cells' 'Blood' 'Bone'\n",
      " 'Brain' 'Breast' 'Bronchoalveolar lavage' 'Cartilage'\n",
      " 'Cerebrospinal fluid' 'Cervix' 'Colon' 'Dental plaque' 'Esophagus' 'Eye'\n",
      " 'Follicular fluid' 'Gall bladder' 'Heart' 'Hela' 'Kidney' 'Liver' 'Lung'\n",
      " 'Lymph node' 'Monocytes' 'NK-cells' 'Nasal polyps' 'Ovary' 'PBMC'\n",
      " 'Palatine tonsils' 'Pancreas' 'Parotid gland' 'Peritoneal dialysis fluid'\n",
      " 'Placenta' 'Prostate' 'Rectum' 'Retina' 'Saliva' 'Skeletal muscle' 'Skin'\n",
      " 'Small intestine' 'Spinal cord' 'Sputum' 'Stomach' 'Synovial tissue'\n",
      " 'T-cells' 'Testis' 'Tooth' 'Trophoblast' 'Umbilical cord' 'Unknown'\n",
      " 'Ureter' 'Urinary bladder' 'Urine']\n"
     ]
    }
   ],
   "source": [
    "import numpy as np\n",
    "print(np.unique(export['tissue_name']))"
   ]
  },
  {
   "cell_type": "code",
   "execution_count": 17,
   "metadata": {},
   "outputs": [],
   "source": [
    "export['organ_id'] = export.apply(lambda row: organ_dict[row.tissue_name], axis=1)"
   ]
  },
  {
   "cell_type": "code",
   "execution_count": 18,
   "metadata": {},
   "outputs": [
    {
     "data": {
      "text/html": [
       "<div>\n",
       "<style scoped>\n",
       "    .dataframe tbody tr th:only-of-type {\n",
       "        vertical-align: middle;\n",
       "    }\n",
       "\n",
       "    .dataframe tbody tr th {\n",
       "        vertical-align: top;\n",
       "    }\n",
       "\n",
       "    .dataframe thead th {\n",
       "        text-align: right;\n",
       "    }\n",
       "</style>\n",
       "<table border=\"1\" class=\"dataframe\">\n",
       "  <thead>\n",
       "    <tr style=\"text-align: right;\">\n",
       "      <th></th>\n",
       "      <th>tissue_id</th>\n",
       "      <th>tissue_name</th>\n",
       "      <th>cell_type</th>\n",
       "      <th>disease_status</th>\n",
       "      <th>organ_id</th>\n",
       "      <th>fluid</th>\n",
       "    </tr>\n",
       "  </thead>\n",
       "  <tbody>\n",
       "    <tr>\n",
       "      <th>0</th>\n",
       "      <td>557</td>\n",
       "      <td>Urine</td>\n",
       "      <td>Urine</td>\n",
       "      <td>Extracellular vesicles of the tissue were isol...</td>\n",
       "      <td>64</td>\n",
       "      <td>1</td>\n",
       "    </tr>\n",
       "    <tr>\n",
       "      <th>1</th>\n",
       "      <td>559</td>\n",
       "      <td>Urine</td>\n",
       "      <td>Urine</td>\n",
       "      <td>Diseased</td>\n",
       "      <td>64</td>\n",
       "      <td>1</td>\n",
       "    </tr>\n",
       "    <tr>\n",
       "      <th>2</th>\n",
       "      <td>589</td>\n",
       "      <td>Urine</td>\n",
       "      <td>Urine</td>\n",
       "      <td>No distinct annotation</td>\n",
       "      <td>64</td>\n",
       "      <td>1</td>\n",
       "    </tr>\n",
       "    <tr>\n",
       "      <th>3</th>\n",
       "      <td>599</td>\n",
       "      <td>Urine</td>\n",
       "      <td>Urine</td>\n",
       "      <td>Cancer</td>\n",
       "      <td>64</td>\n",
       "      <td>1</td>\n",
       "    </tr>\n",
       "    <tr>\n",
       "      <th>4</th>\n",
       "      <td>499</td>\n",
       "      <td>Urine</td>\n",
       "      <td>Urine</td>\n",
       "      <td>Healthy</td>\n",
       "      <td>64</td>\n",
       "      <td>1</td>\n",
       "    </tr>\n",
       "    <tr>\n",
       "      <th>...</th>\n",
       "      <td>...</td>\n",
       "      <td>...</td>\n",
       "      <td>...</td>\n",
       "      <td>...</td>\n",
       "      <td>...</td>\n",
       "      <td>...</td>\n",
       "    </tr>\n",
       "    <tr>\n",
       "      <th>147</th>\n",
       "      <td>518</td>\n",
       "      <td>B-cells</td>\n",
       "      <td>B-cells</td>\n",
       "      <td>Healthy</td>\n",
       "      <td>4</td>\n",
       "      <td>0</td>\n",
       "    </tr>\n",
       "    <tr>\n",
       "      <th>148</th>\n",
       "      <td>459</td>\n",
       "      <td>B-cells</td>\n",
       "      <td>B-cell</td>\n",
       "      <td>Healthy</td>\n",
       "      <td>4</td>\n",
       "      <td>0</td>\n",
       "    </tr>\n",
       "    <tr>\n",
       "      <th>149</th>\n",
       "      <td>600</td>\n",
       "      <td>Ascites</td>\n",
       "      <td>Ascites</td>\n",
       "      <td>Cancer</td>\n",
       "      <td>65</td>\n",
       "      <td>1</td>\n",
       "    </tr>\n",
       "    <tr>\n",
       "      <th>150</th>\n",
       "      <td>458</td>\n",
       "      <td>Adrenal gland</td>\n",
       "      <td>Adrenalgland</td>\n",
       "      <td>Healthy</td>\n",
       "      <td>2</td>\n",
       "      <td>0</td>\n",
       "    </tr>\n",
       "    <tr>\n",
       "      <th>151</th>\n",
       "      <td>562</td>\n",
       "      <td>Adipose tissue</td>\n",
       "      <td>Adipose tissue</td>\n",
       "      <td>Healthy</td>\n",
       "      <td>1</td>\n",
       "      <td>0</td>\n",
       "    </tr>\n",
       "  </tbody>\n",
       "</table>\n",
       "<p>152 rows × 6 columns</p>\n",
       "</div>"
      ],
      "text/plain": [
       "     tissue_id     tissue_name       cell_type  \\\n",
       "0          557           Urine           Urine   \n",
       "1          559           Urine           Urine   \n",
       "2          589           Urine           Urine   \n",
       "3          599           Urine           Urine   \n",
       "4          499           Urine           Urine   \n",
       "..         ...             ...             ...   \n",
       "147        518         B-cells         B-cells   \n",
       "148        459         B-cells          B-cell   \n",
       "149        600         Ascites         Ascites   \n",
       "150        458   Adrenal gland    Adrenalgland   \n",
       "151        562  Adipose tissue  Adipose tissue   \n",
       "\n",
       "                                        disease_status  organ_id  fluid  \n",
       "0    Extracellular vesicles of the tissue were isol...        64      1  \n",
       "1                                             Diseased        64      1  \n",
       "2                               No distinct annotation        64      1  \n",
       "3                                               Cancer        64      1  \n",
       "4                                              Healthy        64      1  \n",
       "..                                                 ...       ...    ...  \n",
       "147                                            Healthy         4      0  \n",
       "148                                            Healthy         4      0  \n",
       "149                                             Cancer        65      1  \n",
       "150                                            Healthy         2      0  \n",
       "151                                            Healthy         1      0  \n",
       "\n",
       "[152 rows x 6 columns]"
      ]
     },
     "execution_count": 18,
     "metadata": {},
     "output_type": "execute_result"
    }
   ],
   "source": [
    "export"
   ]
  },
  {
   "cell_type": "code",
   "execution_count": 20,
   "metadata": {},
   "outputs": [],
   "source": [
    "export.to_csv('tissue_export_organupdate.csv', index=False, header=False, sep=',')"
   ]
  },
  {
   "cell_type": "code",
   "execution_count": 6,
   "metadata": {},
   "outputs": [
    {
     "data": {
      "text/html": [
       "<div>\n",
       "<style scoped>\n",
       "    .dataframe tbody tr th:only-of-type {\n",
       "        vertical-align: middle;\n",
       "    }\n",
       "\n",
       "    .dataframe tbody tr th {\n",
       "        vertical-align: top;\n",
       "    }\n",
       "\n",
       "    .dataframe thead th {\n",
       "        text-align: right;\n",
       "    }\n",
       "</style>\n",
       "<table border=\"1\" class=\"dataframe\">\n",
       "  <thead>\n",
       "    <tr style=\"text-align: right;\">\n",
       "      <th></th>\n",
       "      <th>557</th>\n",
       "      <th>Urine</th>\n",
       "      <th>Urine.1</th>\n",
       "      <th>Extracellular vesicles of the tissue were isolated</th>\n",
       "      <th>64</th>\n",
       "      <th>1</th>\n",
       "    </tr>\n",
       "  </thead>\n",
       "  <tbody>\n",
       "    <tr>\n",
       "      <th>0</th>\n",
       "      <td>559</td>\n",
       "      <td>Urine</td>\n",
       "      <td>Urine</td>\n",
       "      <td>Diseased</td>\n",
       "      <td>64</td>\n",
       "      <td>1</td>\n",
       "    </tr>\n",
       "    <tr>\n",
       "      <th>1</th>\n",
       "      <td>589</td>\n",
       "      <td>Urine</td>\n",
       "      <td>Urine</td>\n",
       "      <td>No distinct annotation</td>\n",
       "      <td>64</td>\n",
       "      <td>1</td>\n",
       "    </tr>\n",
       "    <tr>\n",
       "      <th>2</th>\n",
       "      <td>599</td>\n",
       "      <td>Urine</td>\n",
       "      <td>Urine</td>\n",
       "      <td>Cancer</td>\n",
       "      <td>64</td>\n",
       "      <td>1</td>\n",
       "    </tr>\n",
       "    <tr>\n",
       "      <th>3</th>\n",
       "      <td>499</td>\n",
       "      <td>Urine</td>\n",
       "      <td>Urine</td>\n",
       "      <td>Healthy</td>\n",
       "      <td>64</td>\n",
       "      <td>1</td>\n",
       "    </tr>\n",
       "    <tr>\n",
       "      <th>4</th>\n",
       "      <td>520</td>\n",
       "      <td>Urinary bladder</td>\n",
       "      <td>Urinary bladder</td>\n",
       "      <td>Cancer</td>\n",
       "      <td>63</td>\n",
       "      <td>0</td>\n",
       "    </tr>\n",
       "    <tr>\n",
       "      <th>...</th>\n",
       "      <td>...</td>\n",
       "      <td>...</td>\n",
       "      <td>...</td>\n",
       "      <td>...</td>\n",
       "      <td>...</td>\n",
       "      <td>...</td>\n",
       "    </tr>\n",
       "    <tr>\n",
       "      <th>146</th>\n",
       "      <td>518</td>\n",
       "      <td>B-cells</td>\n",
       "      <td>B-cells</td>\n",
       "      <td>Healthy</td>\n",
       "      <td>4</td>\n",
       "      <td>0</td>\n",
       "    </tr>\n",
       "    <tr>\n",
       "      <th>147</th>\n",
       "      <td>459</td>\n",
       "      <td>B-cells</td>\n",
       "      <td>B-cell</td>\n",
       "      <td>Healthy</td>\n",
       "      <td>4</td>\n",
       "      <td>0</td>\n",
       "    </tr>\n",
       "    <tr>\n",
       "      <th>148</th>\n",
       "      <td>600</td>\n",
       "      <td>Ascites</td>\n",
       "      <td>Ascites</td>\n",
       "      <td>Cancer</td>\n",
       "      <td>65</td>\n",
       "      <td>1</td>\n",
       "    </tr>\n",
       "    <tr>\n",
       "      <th>149</th>\n",
       "      <td>458</td>\n",
       "      <td>Adrenal gland</td>\n",
       "      <td>Adrenalgland</td>\n",
       "      <td>Healthy</td>\n",
       "      <td>2</td>\n",
       "      <td>0</td>\n",
       "    </tr>\n",
       "    <tr>\n",
       "      <th>150</th>\n",
       "      <td>562</td>\n",
       "      <td>Adipose tissue</td>\n",
       "      <td>Adipose tissue</td>\n",
       "      <td>Healthy</td>\n",
       "      <td>1</td>\n",
       "      <td>0</td>\n",
       "    </tr>\n",
       "  </tbody>\n",
       "</table>\n",
       "<p>151 rows × 6 columns</p>\n",
       "</div>"
      ],
      "text/plain": [
       "     557            Urine          Urine.1  \\\n",
       "0    559            Urine            Urine   \n",
       "1    589            Urine            Urine   \n",
       "2    599            Urine            Urine   \n",
       "3    499            Urine            Urine   \n",
       "4    520  Urinary bladder  Urinary bladder   \n",
       "..   ...              ...              ...   \n",
       "146  518          B-cells          B-cells   \n",
       "147  459          B-cells           B-cell   \n",
       "148  600          Ascites          Ascites   \n",
       "149  458    Adrenal gland     Adrenalgland   \n",
       "150  562   Adipose tissue   Adipose tissue   \n",
       "\n",
       "    Extracellular vesicles of the tissue were isolated  64  1  \n",
       "0                                             Diseased  64  1  \n",
       "1                               No distinct annotation  64  1  \n",
       "2                                               Cancer  64  1  \n",
       "3                                              Healthy  64  1  \n",
       "4                                               Cancer  63  0  \n",
       "..                                                 ...  .. ..  \n",
       "146                                            Healthy   4  0  \n",
       "147                                            Healthy   4  0  \n",
       "148                                             Cancer  65  1  \n",
       "149                                            Healthy   2  0  \n",
       "150                                            Healthy   1  0  \n",
       "\n",
       "[151 rows x 6 columns]"
      ]
     },
     "execution_count": 6,
     "metadata": {},
     "output_type": "execute_result"
    }
   ],
   "source": [
    "pd.read_csv('tissue_export_organupdate.csv')"
   ]
  },
  {
   "cell_type": "code",
   "execution_count": 7,
   "metadata": {},
   "outputs": [
    {
     "name": "stdout",
     "output_type": "stream",
     "text": [
      "Done\n"
     ]
    }
   ],
   "source": [
    "import csv\n",
    "tissue_organ_csv = csv.reader(open('tissue_export_organupdate.csv'), delimiter=',') #MANUALLY REMOVE HEADER\n",
    "for row in tissue_organ_csv:\n",
    "    tissue_organ_insert = \"INSERT INTO tissue(tissue_id, tissue_name, cell_type, disease_status, organ_id, fluid) VALUES(%s,%s,%s,%s,%s,%s) ON DUPLICATE KEY UPDATE tissue_id=tissue_id, tissue_name=tissue_name, cell_type=cell_type, disease_status=disease_status, organ_id=organ_id, fluid=fluid\"\n",
    "    mycursor.execute(tissue_organ_insert, row) \n",
    "    conn.commit()\n",
    "print('Done')"
   ]
  },
  {
   "cell_type": "code",
   "execution_count": null,
   "metadata": {},
   "outputs": [],
   "source": []
  },
  {
   "cell_type": "code",
   "execution_count": 3,
   "metadata": {},
   "outputs": [
    {
     "name": "stdout",
     "output_type": "stream",
     "text": [
      "Done\n"
     ]
    }
   ],
   "source": [
    "import csv\n",
    "tissue_protein_csv = csv.reader(open('/home/compomics/git/Tissue_specific/Tables/tissue_to_protein_organupdate.csv'), delimiter=';') #MANUALLY REMOVE HEADER\n",
    "for row in tissue_protein_csv:\n",
    "    disable = \"SET FOREIGN_KEY_CHECKS=0\"\n",
    "    mycursor.execute(disable) \n",
    "    tissue_protein_insert = \"INSERT INTO tissue_to_protein(uniprot_id, tissue, cell_type, level, organ_id) VALUES(%s,%s,%s,%s,%s) ON DUPLICATE KEY UPDATE uniprot_id = uniprot_id, organ_id=organ_id, tissue=tissue, cell_type=cell_type, level=level\"\n",
    "    mycursor.execute(tissue_protein_insert, row) \n",
    "    conn.commit()\n",
    "print('Done')"
   ]
  },
  {
   "cell_type": "code",
   "execution_count": null,
   "metadata": {},
   "outputs": [],
   "source": []
  }
 ],
 "metadata": {
  "interpreter": {
   "hash": "26aff48bbd2e903738c4a95289dc9f6861d7c456d77b24504d90c24e131deb55"
  },
  "kernelspec": {
   "display_name": "Python 3.6.13 64-bit ('tissuespecific': conda)",
   "name": "python3"
  },
  "language_info": {
   "codemirror_mode": {
    "name": "ipython",
    "version": 3
   },
   "file_extension": ".py",
   "mimetype": "text/x-python",
   "name": "python",
   "nbconvert_exporter": "python",
   "pygments_lexer": "ipython3",
   "version": "3.7.7"
  }
 },
 "nbformat": 4,
 "nbformat_minor": 2
}
