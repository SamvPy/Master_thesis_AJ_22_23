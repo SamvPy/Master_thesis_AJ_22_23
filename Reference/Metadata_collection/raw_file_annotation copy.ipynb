{
 "metadata": {
  "language_info": {
   "name": "python",
   "version": "3.6.13",
   "mimetype": "text/x-python",
   "codemirror_mode": {
    "name": "ipython",
    "version": 3
   },
   "pygments_lexer": "ipython3",
   "nbconvert_exporter": "python",
   "file_extension": ".py"
  },
  "orig_nbformat": 2,
  "kernelspec": {
   "name": "python3",
   "display_name": "Python 3.6.13 64-bit ('tissuespecific': conda)"
  },
  "interpreter": {
   "hash": "26aff48bbd2e903738c4a95289dc9f6861d7c456d77b24504d90c24e131deb55"
  }
 },
 "nbformat": 4,
 "nbformat_minor": 2,
 "cells": [
  {
   "cell_type": "markdown",
   "source": [
    "lets make a list of all the PXDs and their assays\n",
    "Selected PXDs and their tissues can be found in **selected_projects_tissues.csv**\n"
   ],
   "metadata": {}
  },
  {
   "cell_type": "code",
   "execution_count": 1,
   "source": [
    "import pandas as pd\n",
    "import glob\n",
    "import os\n",
    "import numpy as np"
   ],
   "outputs": [],
   "metadata": {}
  },
  {
   "cell_type": "code",
   "execution_count": 2,
   "source": [
    "def insert_row(df, my_row):\n",
    "    df.loc[len(df)] = my_row"
   ],
   "outputs": [],
   "metadata": {}
  },
  {
   "cell_type": "code",
   "execution_count": 3,
   "source": [
    "projects = pd.read_csv('selected_projects_0921', sep='\\t')\n",
    "projects.columns"
   ],
   "outputs": [
    {
     "output_type": "execute_result",
     "data": {
      "text/plain": [
       "Index(['accession', 'species_x', 'tissues_x', 'ptmNames', 'url', 'title',\n",
       "       'projectDescription', 'species_y', 'tissues_y', 'ptms',\n",
       "       'instrumentNames', 'projectTags', 'experimentTypes',\n",
       "       'quantificationMethods', 'keywords', 'dataProcessingProtocol',\n",
       "       'submissionDate', 'references'],\n",
       "      dtype='object')"
      ]
     },
     "metadata": {},
     "execution_count": 3
    }
   ],
   "metadata": {}
  },
  {
   "cell_type": "code",
   "execution_count": 3,
   "source": [
    "projects = pd.read_csv('selected_projects_tissues.csv',sep='\t')\n",
    "projects.columns"
   ],
   "outputs": [
    {
     "output_type": "execute_result",
     "data": {
      "text/plain": [
       "Index(['accession', 'tissues'], dtype='object')"
      ]
     },
     "metadata": {},
     "execution_count": 3
    }
   ],
   "metadata": {}
  },
  {
   "cell_type": "code",
   "execution_count": 7,
   "source": [
    "projects.head(12)"
   ],
   "outputs": [
    {
     "output_type": "execute_result",
     "data": {
      "text/html": [
       "<div>\n",
       "<style scoped>\n",
       "    .dataframe tbody tr th:only-of-type {\n",
       "        vertical-align: middle;\n",
       "    }\n",
       "\n",
       "    .dataframe tbody tr th {\n",
       "        vertical-align: top;\n",
       "    }\n",
       "\n",
       "    .dataframe thead th {\n",
       "        text-align: right;\n",
       "    }\n",
       "</style>\n",
       "<table border=\"1\" class=\"dataframe\">\n",
       "  <thead>\n",
       "    <tr style=\"text-align: right;\">\n",
       "      <th></th>\n",
       "      <th>accession</th>\n",
       "      <th>tissues</th>\n",
       "    </tr>\n",
       "  </thead>\n",
       "  <tbody>\n",
       "    <tr>\n",
       "      <th>0</th>\n",
       "      <td>PXD000004</td>\n",
       "      <td>['brain']</td>\n",
       "    </tr>\n",
       "    <tr>\n",
       "      <th>1</th>\n",
       "      <td>PXD000072</td>\n",
       "      <td>['blood platelet']</td>\n",
       "    </tr>\n",
       "    <tr>\n",
       "      <th>2</th>\n",
       "      <td>PXD000228</td>\n",
       "      <td>['blood']</td>\n",
       "    </tr>\n",
       "    <tr>\n",
       "      <th>3</th>\n",
       "      <td>PXD000440</td>\n",
       "      <td>['blood']</td>\n",
       "    </tr>\n",
       "    <tr>\n",
       "      <th>4</th>\n",
       "      <td>PXD000445</td>\n",
       "      <td>['colon']</td>\n",
       "    </tr>\n",
       "    <tr>\n",
       "      <th>5</th>\n",
       "      <td>PXD000529</td>\n",
       "      <td>['liver']</td>\n",
       "    </tr>\n",
       "    <tr>\n",
       "      <th>6</th>\n",
       "      <td>PXD000533</td>\n",
       "      <td>['liver']</td>\n",
       "    </tr>\n",
       "    <tr>\n",
       "      <th>7</th>\n",
       "      <td>PXD000561</td>\n",
       "      <td>['prostate gland', 'gut', 'testis', 'helper T-...</td>\n",
       "    </tr>\n",
       "    <tr>\n",
       "      <th>8</th>\n",
       "      <td>PXD000605</td>\n",
       "      <td>['blood plasma']</td>\n",
       "    </tr>\n",
       "    <tr>\n",
       "      <th>9</th>\n",
       "      <td>PXD001324</td>\n",
       "      <td>['breast']</td>\n",
       "    </tr>\n",
       "    <tr>\n",
       "      <th>10</th>\n",
       "      <td>PXD001325</td>\n",
       "      <td>['breast']</td>\n",
       "    </tr>\n",
       "    <tr>\n",
       "      <th>11</th>\n",
       "      <td>PXD001326</td>\n",
       "      <td>['breast']</td>\n",
       "    </tr>\n",
       "  </tbody>\n",
       "</table>\n",
       "</div>"
      ],
      "text/plain": [
       "    accession                                            tissues\n",
       "0   PXD000004                                          ['brain']\n",
       "1   PXD000072                                 ['blood platelet']\n",
       "2   PXD000228                                          ['blood']\n",
       "3   PXD000440                                          ['blood']\n",
       "4   PXD000445                                          ['colon']\n",
       "5   PXD000529                                          ['liver']\n",
       "6   PXD000533                                          ['liver']\n",
       "7   PXD000561  ['prostate gland', 'gut', 'testis', 'helper T-...\n",
       "8   PXD000605                                   ['blood plasma']\n",
       "9   PXD001324                                         ['breast']\n",
       "10  PXD001325                                         ['breast']\n",
       "11  PXD001326                                         ['breast']"
      ]
     },
     "metadata": {},
     "execution_count": 7
    }
   ],
   "metadata": {}
  },
  {
   "cell_type": "code",
   "execution_count": 8,
   "source": [
    "project_tup = [tuple(x) for x in projects.values]"
   ],
   "outputs": [],
   "metadata": {}
  },
  {
   "cell_type": "code",
   "execution_count": 11,
   "source": [
    "pxd_assay = pd.DataFrame(columns=['accession', 'tissues', 'assay_name'])\n",
    "for i in project_tup:\n",
    "    p = i[0]\n",
    "    t = i[1]\n",
    "    path53 = '/home/compomics/conode53_pride/PRIDE_DATA/' + str(p) + '/IONBOT_v0.6.2/*.mgf.ionbot.csv'\n",
    "    path54 = '/home/compomics/conode54_pride/PRIDE_DATA/' + str(p) + '/IONBOT_v0.6.2/*.mgf.ionbot.csv'\n",
    "    path55 = '/home/compomics/conode55_pride/PRIDE_DATA/' + str(p) + '/IONBOT_v0.6.3/*.mgf.ionbot.csv'\n",
    "    for file in glob.glob(path53):\n",
    "        if os.path.getsize(file) != 0: #if this file exists in conode 53 and is thus reprocessed by ionbot\n",
    "            assay_name = (str(file).split('/')[-1]).split('.')[0] # split so you just get filename and not the path\n",
    "            insert_row(pxd_assay, [p,t,assay_name])\n",
    "    for file in glob.glob(path54):\n",
    "        if os.path.getsize(file) != 0: #if this file exists in conode 53 and is thus reprocessed by ionbot\n",
    "            assay_name = (str(file).split('/')[-1]).split('.')[0]\n",
    "            insert_row(pxd_assay, [p,t,assay_name])"
   ],
   "outputs": [],
   "metadata": {}
  },
  {
   "cell_type": "code",
   "execution_count": 16,
   "source": [
    "pxd_assay.shape"
   ],
   "outputs": [
    {
     "output_type": "execute_result",
     "data": {
      "text/plain": [
       "(13516, 3)"
      ]
     },
     "metadata": {},
     "execution_count": 16
    }
   ],
   "metadata": {}
  },
  {
   "cell_type": "code",
   "execution_count": 19,
   "source": [
    "pxd_assay.to_csv('PXD_tissue_assay_mapping.csv', sep='\\t', index=False)"
   ],
   "outputs": [],
   "metadata": {}
  },
  {
   "cell_type": "markdown",
   "source": [
    "Manual tissue annotation was performed and the results can be found in manual_tissue_annotation.csv <br>\n",
    "The pride tissue, detailed tissue (partial) and the organ was added. Several organs (compared to HPA) are still missing, these are: <br>\n",
    "Amygdala<br>\n",
    "Basal ganglia<br>\n",
    "Cerebellum<br>\n",
    "Cerebral cortex<br>\n",
    "Corpus callosum<br>\n",
    "Ductus deferens<br>\n",
    "Duodenum<br>\n",
    "Granulocytes<br>\n",
    "Hippocampal formation<br>\n",
    "Hypothalamus<br>\n",
    "Midbrain<br>\n",
    "Olfactory region<br>\n",
    "Pituitary gland<br>\n",
    "Pons and medulla<br>\n",
    "Salivary gland<br>\n",
    "Seminal vesicle<br>\n",
    "Smooth muscle<br>\n",
    "Spleen<br>\n",
    "Vagina"
   ],
   "metadata": {}
  },
  {
   "cell_type": "code",
   "execution_count": 8,
   "source": [
    "m = pd.read_csv('manual_tissue_annotation.csv', sep='\t')"
   ],
   "outputs": [],
   "metadata": {}
  },
  {
   "cell_type": "code",
   "execution_count": 9,
   "source": [
    "m.head()"
   ],
   "outputs": [
    {
     "output_type": "execute_result",
     "data": {
      "text/html": [
       "<div>\n",
       "<style scoped>\n",
       "    .dataframe tbody tr th:only-of-type {\n",
       "        vertical-align: middle;\n",
       "    }\n",
       "\n",
       "    .dataframe tbody tr th {\n",
       "        vertical-align: top;\n",
       "    }\n",
       "\n",
       "    .dataframe thead th {\n",
       "        text-align: right;\n",
       "    }\n",
       "</style>\n",
       "<table border=\"1\" class=\"dataframe\">\n",
       "  <thead>\n",
       "    <tr style=\"text-align: right;\">\n",
       "      <th></th>\n",
       "      <th>accession</th>\n",
       "      <th>assay_name</th>\n",
       "      <th>pride_tissue</th>\n",
       "      <th>cell_type</th>\n",
       "      <th>tissue</th>\n",
       "      <th>status</th>\n",
       "    </tr>\n",
       "  </thead>\n",
       "  <tbody>\n",
       "    <tr>\n",
       "      <th>0</th>\n",
       "      <td>PXD000004</td>\n",
       "      <td>HSE3</td>\n",
       "      <td>['brain']</td>\n",
       "      <td>Brain</td>\n",
       "      <td>Brain</td>\n",
       "      <td>Healthy</td>\n",
       "    </tr>\n",
       "    <tr>\n",
       "      <th>1</th>\n",
       "      <td>PXD000004</td>\n",
       "      <td>HSA</td>\n",
       "      <td>['brain']</td>\n",
       "      <td>Brain</td>\n",
       "      <td>Brain</td>\n",
       "      <td>Healthy</td>\n",
       "    </tr>\n",
       "    <tr>\n",
       "      <th>2</th>\n",
       "      <td>PXD000004</td>\n",
       "      <td>HSA3</td>\n",
       "      <td>['brain']</td>\n",
       "      <td>Brain</td>\n",
       "      <td>Brain</td>\n",
       "      <td>Healthy</td>\n",
       "    </tr>\n",
       "    <tr>\n",
       "      <th>3</th>\n",
       "      <td>PXD000004</td>\n",
       "      <td>HSE</td>\n",
       "      <td>['brain']</td>\n",
       "      <td>Brain</td>\n",
       "      <td>Brain</td>\n",
       "      <td>Healthy</td>\n",
       "    </tr>\n",
       "    <tr>\n",
       "      <th>4</th>\n",
       "      <td>PXD000004</td>\n",
       "      <td>HSB3</td>\n",
       "      <td>['brain']</td>\n",
       "      <td>Brain</td>\n",
       "      <td>Brain</td>\n",
       "      <td>Healthy</td>\n",
       "    </tr>\n",
       "  </tbody>\n",
       "</table>\n",
       "</div>"
      ],
      "text/plain": [
       "   accession assay_name pride_tissue cell_type tissue   status\n",
       "0  PXD000004       HSE3    ['brain']     Brain  Brain  Healthy\n",
       "1  PXD000004        HSA    ['brain']     Brain  Brain  Healthy\n",
       "2  PXD000004       HSA3    ['brain']     Brain  Brain  Healthy\n",
       "3  PXD000004        HSE    ['brain']     Brain  Brain  Healthy\n",
       "4  PXD000004       HSB3    ['brain']     Brain  Brain  Healthy"
      ]
     },
     "metadata": {},
     "execution_count": 9
    }
   ],
   "metadata": {}
  },
  {
   "cell_type": "code",
   "execution_count": null,
   "source": [],
   "outputs": [],
   "metadata": {}
  },
  {
   "cell_type": "code",
   "execution_count": 10,
   "source": [
    "print('there are {} different projects'.format(len(m['accession'].unique())))\n",
    "print('there are {} different tissues'.format(len(m['tissue'].unique())))\n",
    "print('there are {} different cell types'.format(len(m['cell_type'].unique())))"
   ],
   "outputs": [
    {
     "output_type": "stream",
     "name": "stdout",
     "text": [
      "there are 216 different projects\n",
      "there are 56 different tissues\n",
      "there are 90 different cell types\n"
     ]
    }
   ],
   "metadata": {}
  },
  {
   "cell_type": "code",
   "execution_count": 15,
   "source": [
    "map55 = pd.read_csv('PXD_tissue_assay_mapping_conode55.csv', sep='\\t')\n",
    "print(map55.shape)\n",
    "map55.tail(12)"
   ],
   "outputs": [
    {
     "output_type": "stream",
     "name": "stdout",
     "text": [
      "(3673, 3)\n"
     ]
    },
    {
     "output_type": "execute_result",
     "data": {
      "text/html": [
       "<div>\n",
       "<style scoped>\n",
       "    .dataframe tbody tr th:only-of-type {\n",
       "        vertical-align: middle;\n",
       "    }\n",
       "\n",
       "    .dataframe tbody tr th {\n",
       "        vertical-align: top;\n",
       "    }\n",
       "\n",
       "    .dataframe thead th {\n",
       "        text-align: right;\n",
       "    }\n",
       "</style>\n",
       "<table border=\"1\" class=\"dataframe\">\n",
       "  <thead>\n",
       "    <tr style=\"text-align: right;\">\n",
       "      <th></th>\n",
       "      <th>accession</th>\n",
       "      <th>tissues</th>\n",
       "      <th>assay_name</th>\n",
       "    </tr>\n",
       "  </thead>\n",
       "  <tbody>\n",
       "    <tr>\n",
       "      <th>3661</th>\n",
       "      <td>PXD008299</td>\n",
       "      <td>['cell culture']</td>\n",
       "      <td>Animal_20170609_ASK_BH_FE-T-A</td>\n",
       "    </tr>\n",
       "    <tr>\n",
       "      <th>3662</th>\n",
       "      <td>PXD008299</td>\n",
       "      <td>['cell culture']</td>\n",
       "      <td>Animal_20170609_ASK_BH_U4-UT-B</td>\n",
       "    </tr>\n",
       "    <tr>\n",
       "      <th>3663</th>\n",
       "      <td>PXD008299</td>\n",
       "      <td>['cell culture']</td>\n",
       "      <td>Animal_20170609_ASK_BH_U4-T-C</td>\n",
       "    </tr>\n",
       "    <tr>\n",
       "      <th>3664</th>\n",
       "      <td>PXD008299</td>\n",
       "      <td>['cell culture']</td>\n",
       "      <td>Animal_20170609_ASK_BH_U4-T-B</td>\n",
       "    </tr>\n",
       "    <tr>\n",
       "      <th>3665</th>\n",
       "      <td>PXD008299</td>\n",
       "      <td>['cell culture']</td>\n",
       "      <td>Animal_20170609_ASK_BH_D-UT-A</td>\n",
       "    </tr>\n",
       "    <tr>\n",
       "      <th>3666</th>\n",
       "      <td>PXD008299</td>\n",
       "      <td>['cell culture']</td>\n",
       "      <td>Animal_20170609_ASK_BH_FE-UT-C</td>\n",
       "    </tr>\n",
       "    <tr>\n",
       "      <th>3667</th>\n",
       "      <td>PXD008299</td>\n",
       "      <td>['cell culture']</td>\n",
       "      <td>Animal_20170609_ASK_BH_FE-UT-B</td>\n",
       "    </tr>\n",
       "    <tr>\n",
       "      <th>3668</th>\n",
       "      <td>PXD008299</td>\n",
       "      <td>['cell culture']</td>\n",
       "      <td>Animal_20170609_ASK_BH_FE-T-C</td>\n",
       "    </tr>\n",
       "    <tr>\n",
       "      <th>3669</th>\n",
       "      <td>PXD017642</td>\n",
       "      <td>['HEK-293T cell']</td>\n",
       "      <td>Fusion_MP009_293A</td>\n",
       "    </tr>\n",
       "    <tr>\n",
       "      <th>3670</th>\n",
       "      <td>PXD017642</td>\n",
       "      <td>['HEK-293T cell']</td>\n",
       "      <td>Fusion_MP012_293A</td>\n",
       "    </tr>\n",
       "    <tr>\n",
       "      <th>3671</th>\n",
       "      <td>PXD017642</td>\n",
       "      <td>['HEK-293T cell']</td>\n",
       "      <td>Fusion_MP009_293WT</td>\n",
       "    </tr>\n",
       "    <tr>\n",
       "      <th>3672</th>\n",
       "      <td>PXD017642</td>\n",
       "      <td>['HEK-293T cell']</td>\n",
       "      <td>Fusion_MP012_293WT</td>\n",
       "    </tr>\n",
       "  </tbody>\n",
       "</table>\n",
       "</div>"
      ],
      "text/plain": [
       "      accession            tissues                      assay_name\n",
       "3661  PXD008299   ['cell culture']   Animal_20170609_ASK_BH_FE-T-A\n",
       "3662  PXD008299   ['cell culture']  Animal_20170609_ASK_BH_U4-UT-B\n",
       "3663  PXD008299   ['cell culture']   Animal_20170609_ASK_BH_U4-T-C\n",
       "3664  PXD008299   ['cell culture']   Animal_20170609_ASK_BH_U4-T-B\n",
       "3665  PXD008299   ['cell culture']   Animal_20170609_ASK_BH_D-UT-A\n",
       "3666  PXD008299   ['cell culture']  Animal_20170609_ASK_BH_FE-UT-C\n",
       "3667  PXD008299   ['cell culture']  Animal_20170609_ASK_BH_FE-UT-B\n",
       "3668  PXD008299   ['cell culture']   Animal_20170609_ASK_BH_FE-T-C\n",
       "3669  PXD017642  ['HEK-293T cell']               Fusion_MP009_293A\n",
       "3670  PXD017642  ['HEK-293T cell']               Fusion_MP012_293A\n",
       "3671  PXD017642  ['HEK-293T cell']              Fusion_MP009_293WT\n",
       "3672  PXD017642  ['HEK-293T cell']              Fusion_MP012_293WT"
      ]
     },
     "metadata": {},
     "execution_count": 15
    }
   ],
   "metadata": {}
  },
  {
   "cell_type": "code",
   "execution_count": 13,
   "source": [
    "print('there are {} different projects'.format(len(map55['accession'].unique())))"
   ],
   "outputs": [
    {
     "output_type": "stream",
     "name": "stdout",
     "text": [
      "there are 81 different projects\n"
     ]
    }
   ],
   "metadata": {}
  },
  {
   "cell_type": "code",
   "execution_count": null,
   "source": [],
   "outputs": [],
   "metadata": {}
  }
 ]
}