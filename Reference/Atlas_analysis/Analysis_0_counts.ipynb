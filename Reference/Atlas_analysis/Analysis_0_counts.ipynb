{
 "cells": [
  {
   "cell_type": "code",
   "execution_count": 1,
   "metadata": {},
   "outputs": [],
   "source": [
    "from __future__ import division\n",
    "import pandas as pd\n",
    "import numpy as np\n",
    "import sqlite3\n",
    "import mysql.connector"
   ]
  },
  {
   "cell_type": "code",
   "execution_count": 2,
   "metadata": {},
   "outputs": [
    {
     "name": "stdout",
     "output_type": "stream",
     "text": [
      "connection succesfull\n"
     ]
    }
   ],
   "source": [
    "conn = mysql.connector.connect(user='root', password='password', host='127.0.0.1', port='3306',database='expression_atlas_shotgun', auth_plugin='mysql_native_password')\n",
    "mycursor = conn.cursor()\n",
    "\n",
    "# check the connection\n",
    "if conn.is_connected():\n",
    "    print(\"connection succesfull\")\n",
    "else:\n",
    "    print(\"no connection\")\n"
   ]
  },
  {
   "cell_type": "markdown",
   "metadata": {},
   "source": [
    "1. Count number of proteins per tissue <br>\n",
    "2. Number of assays per tissue <br>\n",
    "3. number of unique peptides in the database <br>\n",
    "4. number of proteotypic peptides in the database <br>\n",
    "5. percentage of proteotypic peptides in the database <br>\n",
    "6. amount of proteotypic peptides mapped to protein with at least three proteotypic peptides <br>\n",
    "7. Percentage of proteotypic peptides used for the atlas <br>"
   ]
  },
  {
   "cell_type": "code",
   "execution_count": 3,
   "metadata": {},
   "outputs": [
    {
     "name": "stdout",
     "output_type": "stream",
     "text": [
      "There are 217 projects gathered in the database that do not contain Affinity purification data\n",
      "These projects contain a total of 11860 different raw files\n",
      "There are 54 different tissues and 84 different cell types found, all of them were manually annotated\n",
      "From all the different samples (total of 152), 75 of them contained healthy tissue and 77 contained diseased/cancerous/cell culture/organoid tissue\n"
     ]
    }
   ],
   "source": [
    "## Number of projects\n",
    "mycursor.execute(\"SELECT DISTINCT PXD_accession from project\")\n",
    "output_project = mycursor.fetchall()\n",
    "output_project = list(sum(output_project, ()))\n",
    "print('There are {} projects gathered in the database that do not contain Affinity purification data' .format(len(output_project)))\n",
    "## Number of raw files\n",
    "mycursor.execute(\"SELECT DISTINCT assay_id FROM assay\")\n",
    "output_assay = len(list(sum(mycursor.fetchall(), ())))\n",
    "print('These projects contain a total of {} different raw files'.format(output_assay))\n",
    "## Number of tissues and cell types\n",
    "mycursor.execute(\"SELECT DISTINCT tissue_name FROM tissue\")\n",
    "output_tissue = len(list(sum(mycursor.fetchall(), ())))\n",
    "mycursor.execute(\"SELECT DISTINCT cell_type FROM tissue\")\n",
    "output_cell = len(list(sum(mycursor.fetchall(), ())))\n",
    "print('There are {} different tissues and {} different cell types found, all of them were manually annotated'.format(output_tissue, output_cell))\n",
    "## Distribution diseased vs healthy\n",
    "x = \"SELECT * FROM tissue\"\n",
    "status = pd.read_sql_query(x, conn)\n",
    "all_ = status.shape[0]\n",
    "healthy = status[status['disease_status']=='Healthy']\n",
    "healthy = healthy.shape[0]\n",
    "diseased = all_ - healthy\n",
    "print('From all the different samples (total of {}), {} of them contained healthy tissue and {} contained diseased/cancerous/cell culture/organoid tissue'.format(all_, healthy, diseased))"
   ]
  },
  {
   "cell_type": "code",
   "execution_count": 4,
   "metadata": {},
   "outputs": [
    {
     "data": {
      "text/html": [
       "<div>\n",
       "<style scoped>\n",
       "    .dataframe tbody tr th:only-of-type {\n",
       "        vertical-align: middle;\n",
       "    }\n",
       "\n",
       "    .dataframe tbody tr th {\n",
       "        vertical-align: top;\n",
       "    }\n",
       "\n",
       "    .dataframe thead th {\n",
       "        text-align: right;\n",
       "    }\n",
       "</style>\n",
       "<table border=\"1\" class=\"dataframe\">\n",
       "  <thead>\n",
       "    <tr style=\"text-align: right;\">\n",
       "      <th></th>\n",
       "      <th>assay_id</th>\n",
       "      <th>project_id</th>\n",
       "      <th>filename</th>\n",
       "    </tr>\n",
       "  </thead>\n",
       "  <tbody>\n",
       "    <tr>\n",
       "      <th>0</th>\n",
       "      <td>27704</td>\n",
       "      <td>1756</td>\n",
       "      <td>HSE3</td>\n",
       "    </tr>\n",
       "    <tr>\n",
       "      <th>1</th>\n",
       "      <td>27705</td>\n",
       "      <td>1756</td>\n",
       "      <td>HSA</td>\n",
       "    </tr>\n",
       "    <tr>\n",
       "      <th>2</th>\n",
       "      <td>27706</td>\n",
       "      <td>1756</td>\n",
       "      <td>HSA3</td>\n",
       "    </tr>\n",
       "    <tr>\n",
       "      <th>3</th>\n",
       "      <td>27707</td>\n",
       "      <td>1756</td>\n",
       "      <td>HSE</td>\n",
       "    </tr>\n",
       "    <tr>\n",
       "      <th>4</th>\n",
       "      <td>27708</td>\n",
       "      <td>1756</td>\n",
       "      <td>HSB3</td>\n",
       "    </tr>\n",
       "  </tbody>\n",
       "</table>\n",
       "</div>"
      ],
      "text/plain": [
       "   assay_id  project_id filename\n",
       "0     27704        1756     HSE3\n",
       "1     27705        1756      HSA\n",
       "2     27706        1756     HSA3\n",
       "3     27707        1756      HSE\n",
       "4     27708        1756     HSB3"
      ]
     },
     "execution_count": 4,
     "metadata": {},
     "output_type": "execute_result"
    }
   ],
   "source": [
    "assayprojectsql = \"SELECT * FROM assay\"\n",
    "assayprojectData = pd.read_sql_query(assayprojectsql, conn)\n",
    "assayprojectData.head()"
   ]
  },
  {
   "cell_type": "code",
   "execution_count": 5,
   "metadata": {},
   "outputs": [
    {
     "data": {
      "text/html": [
       "<div>\n",
       "<style scoped>\n",
       "    .dataframe tbody tr th:only-of-type {\n",
       "        vertical-align: middle;\n",
       "    }\n",
       "\n",
       "    .dataframe tbody tr th {\n",
       "        vertical-align: top;\n",
       "    }\n",
       "\n",
       "    .dataframe thead th {\n",
       "        text-align: right;\n",
       "    }\n",
       "</style>\n",
       "<table border=\"1\" class=\"dataframe\">\n",
       "  <thead>\n",
       "    <tr style=\"text-align: right;\">\n",
       "      <th></th>\n",
       "      <th>assay_id</th>\n",
       "      <th>tissue_id</th>\n",
       "    </tr>\n",
       "  </thead>\n",
       "  <tbody>\n",
       "    <tr>\n",
       "      <th>0</th>\n",
       "      <td>27704</td>\n",
       "      <td>452</td>\n",
       "    </tr>\n",
       "    <tr>\n",
       "      <th>1</th>\n",
       "      <td>27705</td>\n",
       "      <td>452</td>\n",
       "    </tr>\n",
       "    <tr>\n",
       "      <th>2</th>\n",
       "      <td>27706</td>\n",
       "      <td>452</td>\n",
       "    </tr>\n",
       "    <tr>\n",
       "      <th>3</th>\n",
       "      <td>27707</td>\n",
       "      <td>452</td>\n",
       "    </tr>\n",
       "    <tr>\n",
       "      <th>4</th>\n",
       "      <td>27708</td>\n",
       "      <td>452</td>\n",
       "    </tr>\n",
       "  </tbody>\n",
       "</table>\n",
       "</div>"
      ],
      "text/plain": [
       "   assay_id  tissue_id\n",
       "0     27704        452\n",
       "1     27705        452\n",
       "2     27706        452\n",
       "3     27707        452\n",
       "4     27708        452"
      ]
     },
     "execution_count": 5,
     "metadata": {},
     "output_type": "execute_result"
    }
   ],
   "source": [
    "#2 number of assays per tissue\n",
    "tissueassay = \"SELECT * FROM tissue_to_assay\"\n",
    "tissueData = pd.read_sql_query(tissueassay, conn)\n",
    "tissueData.head()"
   ]
  },
  {
   "cell_type": "code",
   "execution_count": 6,
   "metadata": {},
   "outputs": [
    {
     "name": "stdout",
     "output_type": "stream",
     "text": [
      "(11860, 2)\n",
      "(11860, 3)\n",
      "(11860, 2)\n"
     ]
    }
   ],
   "source": [
    "tissueData_updated = pd.merge(tissueData, assayprojectData, on='assay_id', how='left')\n",
    "tissueData_updated = tissueData_updated[['assay_id', 'tissue_id']]\n",
    "print(tissueData.shape)\n",
    "print(assayprojectData.shape)\n",
    "print(tissueData_updated.shape)"
   ]
  },
  {
   "cell_type": "code",
   "execution_count": 7,
   "metadata": {},
   "outputs": [],
   "source": [
    "assaycount = tissueData_updated.groupby(['tissue_id']).size()\n",
    "assaycount = assaycount.to_frame()\n",
    "assaycount = assaycount.rename(columns={0: 'assay_count'})"
   ]
  },
  {
   "cell_type": "code",
   "execution_count": 8,
   "metadata": {},
   "outputs": [
    {
     "data": {
      "text/plain": [
       "(152, 2)"
      ]
     },
     "execution_count": 8,
     "metadata": {},
     "output_type": "execute_result"
    }
   ],
   "source": [
    "tissue_ids = \"SELECT tissue_id, cell_type FROM tissue\"\n",
    "tissue_id_Data = pd.read_sql_query(tissue_ids, conn)\n",
    "tissue_id_Data.shape"
   ]
  },
  {
   "cell_type": "code",
   "execution_count": 9,
   "metadata": {},
   "outputs": [],
   "source": [
    "final = pd.merge(assaycount, tissue_id_Data, on='tissue_id')"
   ]
  },
  {
   "cell_type": "code",
   "execution_count": 10,
   "metadata": {},
   "outputs": [
    {
     "data": {
      "text/html": [
       "<div>\n",
       "<style scoped>\n",
       "    .dataframe tbody tr th:only-of-type {\n",
       "        vertical-align: middle;\n",
       "    }\n",
       "\n",
       "    .dataframe tbody tr th {\n",
       "        vertical-align: top;\n",
       "    }\n",
       "\n",
       "    .dataframe thead th {\n",
       "        text-align: right;\n",
       "    }\n",
       "</style>\n",
       "<table border=\"1\" class=\"dataframe\">\n",
       "  <thead>\n",
       "    <tr style=\"text-align: right;\">\n",
       "      <th></th>\n",
       "      <th>assay_count</th>\n",
       "    </tr>\n",
       "    <tr>\n",
       "      <th>cell_type</th>\n",
       "      <th></th>\n",
       "    </tr>\n",
       "  </thead>\n",
       "  <tbody>\n",
       "    <tr>\n",
       "      <th>Adipose tissue</th>\n",
       "      <td>14</td>\n",
       "    </tr>\n",
       "    <tr>\n",
       "      <th>Adrenalgland</th>\n",
       "      <td>3</td>\n",
       "    </tr>\n",
       "    <tr>\n",
       "      <th>Anterior chamber of the eye</th>\n",
       "      <td>80</td>\n",
       "    </tr>\n",
       "    <tr>\n",
       "      <th>Ascites</th>\n",
       "      <td>82</td>\n",
       "    </tr>\n",
       "    <tr>\n",
       "      <th>B-cells</th>\n",
       "      <td>27</td>\n",
       "    </tr>\n",
       "    <tr>\n",
       "      <th>Blood</th>\n",
       "      <td>604</td>\n",
       "    </tr>\n",
       "    <tr>\n",
       "      <th>Blood plasma</th>\n",
       "      <td>1932</td>\n",
       "    </tr>\n",
       "    <tr>\n",
       "      <th>Blood plasma (EDTA)</th>\n",
       "      <td>20</td>\n",
       "    </tr>\n",
       "    <tr>\n",
       "      <th>Blood plasma (with heparin added)</th>\n",
       "      <td>8</td>\n",
       "    </tr>\n",
       "    <tr>\n",
       "      <th>Blood platelet</th>\n",
       "      <td>74</td>\n",
       "    </tr>\n",
       "    <tr>\n",
       "      <th>Blood platelets</th>\n",
       "      <td>133</td>\n",
       "    </tr>\n",
       "    <tr>\n",
       "      <th>Blood serum</th>\n",
       "      <td>338</td>\n",
       "    </tr>\n",
       "  </tbody>\n",
       "</table>\n",
       "</div>"
      ],
      "text/plain": [
       "                                   assay_count\n",
       "cell_type                                     \n",
       "Adipose tissue                              14\n",
       "Adrenalgland                                 3\n",
       "Anterior chamber of the eye                 80\n",
       "Ascites                                     82\n",
       "B-cells                                     27\n",
       "Blood                                      604\n",
       "Blood plasma                              1932\n",
       "Blood plasma (EDTA)                         20\n",
       "Blood plasma (with heparin added)            8\n",
       "Blood platelet                              74\n",
       "Blood platelets                            133\n",
       "Blood serum                                338"
      ]
     },
     "execution_count": 10,
     "metadata": {},
     "output_type": "execute_result"
    }
   ],
   "source": [
    "final = final.drop(columns=['tissue_id'])\n",
    "final = final.groupby(['cell_type']).sum()\n",
    "final.head(12)"
   ]
  },
  {
   "cell_type": "code",
   "execution_count": 13,
   "metadata": {},
   "outputs": [],
   "source": [
    "final.to_csv('assay_count_cells_shotgun.csv')"
   ]
  },
  {
   "cell_type": "code",
   "execution_count": 11,
   "metadata": {},
   "outputs": [
    {
     "name": "stdout",
     "output_type": "stream",
     "text": [
      "234610\n"
     ]
    }
   ],
   "source": [
    "#3 number of unique peptides in the database\n",
    "mycursor.execute(\"SELECT COUNT(DISTINCT(peptide_sequence)) FROM peptide\")\n",
    "unique_peptides = mycursor.fetchall()\n",
    "x = unique_peptides[0]\n",
    "total_unique_peptides = x[0]\n",
    "print(total_unique_peptides)"
   ]
  },
  {
   "cell_type": "code",
   "execution_count": 12,
   "metadata": {},
   "outputs": [
    {
     "name": "stdout",
     "output_type": "stream",
     "text": [
      "(234610, 2)\n",
      "(234610, 2)\n",
      "(229560, 2)\n"
     ]
    }
   ],
   "source": [
    "# 4. number of proteotypic peptides in the database\n",
    "pepsql = \"SELECT peptide_to_protein.peptide_id, peptide_to_protein.uniprot_id FROM peptide_to_protein\"\n",
    "pepData = pd.read_sql_query(pepsql, conn)\n",
    "print(pepData.shape)\n",
    "proteotypicData = pepData.groupby(\"peptide_id\").filter(lambda x: len(x) == 1) #only retain peptides that are uniquely linked to one protein\n",
    "print(proteotypicData.shape)\n",
    "proteins = proteotypicData.groupby(\"uniprot_id\").filter(lambda x: len(x) > 2) #only retain proteins that have at least three of those peptides\n",
    "print(proteins.shape)"
   ]
  },
  {
   "cell_type": "code",
   "execution_count": 16,
   "metadata": {},
   "outputs": [
    {
     "data": {
      "text/plain": [
       "229560"
      ]
     },
     "execution_count": 16,
     "metadata": {},
     "output_type": "execute_result"
    }
   ],
   "source": [
    "proteotypic_peptides = len(proteins['peptide_id'].unique())\n",
    "proteotypic_peptides"
   ]
  },
  {
   "cell_type": "code",
   "execution_count": 17,
   "metadata": {},
   "outputs": [
    {
     "data": {
      "text/plain": [
       "97.84749158177401"
      ]
     },
     "execution_count": 17,
     "metadata": {},
     "output_type": "execute_result"
    }
   ],
   "source": [
    "# percentage of proteotypic peptides in the database\n",
    "percentage_proteotypic = (proteotypic_peptides/total_unique_peptides)*100\n",
    "percentage_proteotypic"
   ]
  },
  {
   "cell_type": "code",
   "execution_count": 16,
   "metadata": {},
   "outputs": [
    {
     "name": "stdout",
     "output_type": "stream",
     "text": [
      "Before filtering: 14779 proteins found\n",
      "After filtering: 11259 proteins found\n"
     ]
    }
   ],
   "source": [
    "print('Before filtering: {} proteins found'.format(len(set(pepData['uniprot_id'].tolist()))))\n",
    "print('After filtering: {} proteins found'.format(len(set(proteins['uniprot_id'].tolist()))))"
   ]
  },
  {
   "cell_type": "code",
   "execution_count": 15,
   "metadata": {},
   "outputs": [
    {
     "data": {
      "text/html": [
       "<div>\n",
       "<style scoped>\n",
       "    .dataframe tbody tr th:only-of-type {\n",
       "        vertical-align: middle;\n",
       "    }\n",
       "\n",
       "    .dataframe tbody tr th {\n",
       "        vertical-align: top;\n",
       "    }\n",
       "\n",
       "    .dataframe thead th {\n",
       "        text-align: right;\n",
       "    }\n",
       "</style>\n",
       "<table border=\"1\" class=\"dataframe\">\n",
       "  <thead>\n",
       "    <tr style=\"text-align: right;\">\n",
       "      <th></th>\n",
       "      <th>peptide_id</th>\n",
       "      <th>uniprot_id</th>\n",
       "    </tr>\n",
       "  </thead>\n",
       "  <tbody>\n",
       "    <tr>\n",
       "      <th>0</th>\n",
       "      <td>104622959</td>\n",
       "      <td>A0A024RBG1</td>\n",
       "    </tr>\n",
       "    <tr>\n",
       "      <th>1</th>\n",
       "      <td>105049495</td>\n",
       "      <td>A0A024RBG1</td>\n",
       "    </tr>\n",
       "    <tr>\n",
       "      <th>2</th>\n",
       "      <td>112818635</td>\n",
       "      <td>A0A024RBG1</td>\n",
       "    </tr>\n",
       "    <tr>\n",
       "      <th>3</th>\n",
       "      <td>105134601</td>\n",
       "      <td>A0A075B6H7</td>\n",
       "    </tr>\n",
       "    <tr>\n",
       "      <th>4</th>\n",
       "      <td>106273419</td>\n",
       "      <td>A0A075B6H7</td>\n",
       "    </tr>\n",
       "    <tr>\n",
       "      <th>...</th>\n",
       "      <td>...</td>\n",
       "      <td>...</td>\n",
       "    </tr>\n",
       "    <tr>\n",
       "      <th>234605</th>\n",
       "      <td>114274287</td>\n",
       "      <td>U3KPV4</td>\n",
       "    </tr>\n",
       "    <tr>\n",
       "      <th>234606</th>\n",
       "      <td>117706632</td>\n",
       "      <td>U3KPV4</td>\n",
       "    </tr>\n",
       "    <tr>\n",
       "      <th>234607</th>\n",
       "      <td>106731462</td>\n",
       "      <td>W5XKT8</td>\n",
       "    </tr>\n",
       "    <tr>\n",
       "      <th>234608</th>\n",
       "      <td>118402190</td>\n",
       "      <td>W5XKT8</td>\n",
       "    </tr>\n",
       "    <tr>\n",
       "      <th>234609</th>\n",
       "      <td>126973627</td>\n",
       "      <td>W5XKT8</td>\n",
       "    </tr>\n",
       "  </tbody>\n",
       "</table>\n",
       "<p>234610 rows × 2 columns</p>\n",
       "</div>"
      ],
      "text/plain": [
       "        peptide_id  uniprot_id\n",
       "0        104622959  A0A024RBG1\n",
       "1        105049495  A0A024RBG1\n",
       "2        112818635  A0A024RBG1\n",
       "3        105134601  A0A075B6H7\n",
       "4        106273419  A0A075B6H7\n",
       "...            ...         ...\n",
       "234605   114274287      U3KPV4\n",
       "234606   117706632      U3KPV4\n",
       "234607   106731462      W5XKT8\n",
       "234608   118402190      W5XKT8\n",
       "234609   126973627      W5XKT8\n",
       "\n",
       "[234610 rows x 2 columns]"
      ]
     },
     "execution_count": 15,
     "metadata": {},
     "output_type": "execute_result"
    }
   ],
   "source": []
  },
  {
   "cell_type": "code",
   "execution_count": null,
   "metadata": {},
   "outputs": [],
   "source": []
  }
 ],
 "metadata": {
  "interpreter": {
   "hash": "59057a64ae204f2fdb51e9e1b433726989fd2ce2c53f4ab90fe5cecdfcc3bed6"
  },
  "kernelspec": {
   "display_name": "Python 3.6.13 64-bit ('tissuespecific': conda)",
   "name": "python3"
  },
  "language_info": {
   "codemirror_mode": {
    "name": "ipython",
    "version": 3
   },
   "file_extension": ".py",
   "mimetype": "text/x-python",
   "name": "python",
   "nbconvert_exporter": "python",
   "pygments_lexer": "ipython3",
   "version": "3.6.13"
  },
  "metadata": {
   "interpreter": {
    "hash": "63fd5069d213b44bf678585dea6b12cceca9941eaf7f819626cde1f2670de90d"
   }
  },
  "orig_nbformat": 2
 },
 "nbformat": 4,
 "nbformat_minor": 2
}
