{
 "cells": [
  {
   "cell_type": "code",
   "execution_count": 1,
   "metadata": {},
   "outputs": [],
   "source": [
    "import pandas as pd\n",
    "import numpy as np\n",
    "from collections import Counter\n",
    "import matplotlib.pyplot as plt\n",
    "from matplotlib.pyplot import figure\n",
    "from sklearn.preprocessing import LabelEncoder\n",
    "import operator\n",
    "import imblearn\n",
    "from imblearn.under_sampling import NearMiss\n",
    "\n",
    "import mysql.connector\n",
    "import pandas as pd\n",
    "import numpy as np\n",
    "from sklearn.feature_selection import SelectFromModel\n",
    "from sklearn.metrics import accuracy_score\n",
    "from sklearn import metrics\n",
    "from sklearn.preprocessing import StandardScaler\n",
    "from sklearn.ensemble import RandomForestClassifier\n",
    "from sklearn.model_selection import GridSearchCV, RandomizedSearchCV\n",
    "from sklearn.metrics import auc, make_scorer\n",
    "acc = make_scorer(accuracy_score)\n",
    "from sklearn.model_selection import StratifiedKFold\n",
    "from sklearn import model_selection\n",
    "import matplotlib.pyplot as plt\n",
    "from sklearn.preprocessing import StandardScaler\n",
    "from sklearn.decomposition import PCA\n",
    "\n",
    "from sklearn.metrics import f1_score, roc_auc_score, accuracy_score\n",
    "import seaborn as sns"
   ]
  },
  {
   "cell_type": "code",
   "execution_count": 2,
   "metadata": {},
   "outputs": [],
   "source": [
    "import random\n",
    "\n",
    "def sampleData(DataFrame, ratio):\n",
    "    df_size = len(DataFrame.index)\n",
    "    sample_size = int(round(ratio * df_size))\n",
    "    if sample_size == df_size:\n",
    "        sample_size = sample_size - 1\n",
    "        indexes = random.sample(range(df_size), sample_size)\n",
    "        sample = DataFrame.iloc[indexes, : ]\n",
    "        return sample\n",
    "\n",
    "    elif sample_size == 0:\n",
    "        sample_size = 1\n",
    "        indexes = random.sample(range(df_size), sample_size)\n",
    "        sample = DataFrame.iloc[indexes, : ]\n",
    "        return sample\n",
    "\n",
    "    else:\n",
    "        indexes = random.sample(range(df_size), sample_size)\n",
    "        sample = DataFrame.iloc[indexes, : ]\n",
    "        return sample"
   ]
  },
  {
   "cell_type": "markdown",
   "metadata": {},
   "source": [
    "When looking at the number of assays for each tissue, there is a strong imbalance in the classes. \n",
    "\n",
    "https://machinelearningmastery.com/tactics-to-combat-imbalanced-classes-in-your-machine-learning-dataset/\n",
    "\n",
    "https://machinelearningmastery.com/classification-accuracy-is-not-enough-more-performance-measures-you-can-use/"
   ]
  },
  {
   "cell_type": "markdown",
   "metadata": {},
   "source": [
    "How will we deal with this class imbalance?\n",
    "\n",
    "https://machinelearningmastery.com/undersampling-algorithms-for-imbalanced-classification/\n",
    "\n",
    "https://machinelearningmastery.com/multi-class-imbalanced-classification/"
   ]
  },
  {
   "cell_type": "code",
   "execution_count": 3,
   "metadata": {},
   "outputs": [
    {
     "data": {
      "text/html": [
       "<div>\n",
       "<style scoped>\n",
       "    .dataframe tbody tr th:only-of-type {\n",
       "        vertical-align: middle;\n",
       "    }\n",
       "\n",
       "    .dataframe tbody tr th {\n",
       "        vertical-align: top;\n",
       "    }\n",
       "\n",
       "    .dataframe thead th {\n",
       "        text-align: right;\n",
       "    }\n",
       "</style>\n",
       "<table border=\"1\" class=\"dataframe\">\n",
       "  <thead>\n",
       "    <tr style=\"text-align: right;\">\n",
       "      <th></th>\n",
       "      <th>A0A075B6H7</th>\n",
       "      <th>A0A075B6H8</th>\n",
       "      <th>A0A075B6H9</th>\n",
       "      <th>A0A075B6I0</th>\n",
       "      <th>A0A075B6I1</th>\n",
       "      <th>A0A075B6K4</th>\n",
       "      <th>A0A075B6Q5</th>\n",
       "      <th>A0A087WSY6</th>\n",
       "      <th>A0A0A0MRZ7</th>\n",
       "      <th>A0A0A0MS14</th>\n",
       "      <th>...</th>\n",
       "      <th>Q9Y6U3</th>\n",
       "      <th>Q9Y6V0</th>\n",
       "      <th>Q9Y6W3</th>\n",
       "      <th>Q9Y6W5</th>\n",
       "      <th>Q9Y6X5</th>\n",
       "      <th>Q9Y6X8</th>\n",
       "      <th>Q9Y6X9</th>\n",
       "      <th>Q9Y6Y0</th>\n",
       "      <th>Q9Y6Y8</th>\n",
       "      <th>tissue_name</th>\n",
       "    </tr>\n",
       "  </thead>\n",
       "  <tbody>\n",
       "    <tr>\n",
       "      <th>0</th>\n",
       "      <td>0.0</td>\n",
       "      <td>0.0</td>\n",
       "      <td>0.0</td>\n",
       "      <td>0.0</td>\n",
       "      <td>0.0</td>\n",
       "      <td>0.0</td>\n",
       "      <td>0.0</td>\n",
       "      <td>0.0</td>\n",
       "      <td>0.0</td>\n",
       "      <td>0.0</td>\n",
       "      <td>...</td>\n",
       "      <td>0.0</td>\n",
       "      <td>0.0</td>\n",
       "      <td>0.0</td>\n",
       "      <td>0.0</td>\n",
       "      <td>0.0</td>\n",
       "      <td>0.0</td>\n",
       "      <td>0.0</td>\n",
       "      <td>0.0</td>\n",
       "      <td>0.0</td>\n",
       "      <td>Brain</td>\n",
       "    </tr>\n",
       "    <tr>\n",
       "      <th>1</th>\n",
       "      <td>0.0</td>\n",
       "      <td>0.0</td>\n",
       "      <td>0.0</td>\n",
       "      <td>0.0</td>\n",
       "      <td>0.0</td>\n",
       "      <td>0.0</td>\n",
       "      <td>0.0</td>\n",
       "      <td>0.0</td>\n",
       "      <td>0.0</td>\n",
       "      <td>0.0</td>\n",
       "      <td>...</td>\n",
       "      <td>0.0</td>\n",
       "      <td>0.0</td>\n",
       "      <td>0.0</td>\n",
       "      <td>0.0</td>\n",
       "      <td>0.0</td>\n",
       "      <td>0.0</td>\n",
       "      <td>0.0</td>\n",
       "      <td>0.0</td>\n",
       "      <td>0.0</td>\n",
       "      <td>Brain</td>\n",
       "    </tr>\n",
       "    <tr>\n",
       "      <th>2</th>\n",
       "      <td>0.0</td>\n",
       "      <td>0.0</td>\n",
       "      <td>0.0</td>\n",
       "      <td>0.0</td>\n",
       "      <td>0.0</td>\n",
       "      <td>0.0</td>\n",
       "      <td>0.0</td>\n",
       "      <td>0.0</td>\n",
       "      <td>0.0</td>\n",
       "      <td>0.0</td>\n",
       "      <td>...</td>\n",
       "      <td>0.0</td>\n",
       "      <td>0.0</td>\n",
       "      <td>0.0</td>\n",
       "      <td>0.0</td>\n",
       "      <td>0.0</td>\n",
       "      <td>0.0</td>\n",
       "      <td>0.0</td>\n",
       "      <td>0.0</td>\n",
       "      <td>0.0</td>\n",
       "      <td>Brain</td>\n",
       "    </tr>\n",
       "    <tr>\n",
       "      <th>3</th>\n",
       "      <td>0.0</td>\n",
       "      <td>0.0</td>\n",
       "      <td>0.0</td>\n",
       "      <td>0.0</td>\n",
       "      <td>0.0</td>\n",
       "      <td>0.0</td>\n",
       "      <td>0.0</td>\n",
       "      <td>0.0</td>\n",
       "      <td>0.0</td>\n",
       "      <td>0.0</td>\n",
       "      <td>...</td>\n",
       "      <td>0.0</td>\n",
       "      <td>0.0</td>\n",
       "      <td>0.0</td>\n",
       "      <td>0.0</td>\n",
       "      <td>0.0</td>\n",
       "      <td>0.0</td>\n",
       "      <td>0.0</td>\n",
       "      <td>0.0</td>\n",
       "      <td>0.0</td>\n",
       "      <td>Brain</td>\n",
       "    </tr>\n",
       "    <tr>\n",
       "      <th>4</th>\n",
       "      <td>0.0</td>\n",
       "      <td>0.0</td>\n",
       "      <td>0.0</td>\n",
       "      <td>0.0</td>\n",
       "      <td>0.0</td>\n",
       "      <td>0.0</td>\n",
       "      <td>0.0</td>\n",
       "      <td>0.0</td>\n",
       "      <td>0.0</td>\n",
       "      <td>0.0</td>\n",
       "      <td>...</td>\n",
       "      <td>0.0</td>\n",
       "      <td>0.0</td>\n",
       "      <td>0.0</td>\n",
       "      <td>0.0</td>\n",
       "      <td>0.0</td>\n",
       "      <td>0.0</td>\n",
       "      <td>0.0</td>\n",
       "      <td>0.0</td>\n",
       "      <td>0.0</td>\n",
       "      <td>Brain</td>\n",
       "    </tr>\n",
       "  </tbody>\n",
       "</table>\n",
       "<p>5 rows × 4982 columns</p>\n",
       "</div>"
      ],
      "text/plain": [
       "   A0A075B6H7  A0A075B6H8  A0A075B6H9  A0A075B6I0  A0A075B6I1  A0A075B6K4  \\\n",
       "0         0.0         0.0         0.0         0.0         0.0         0.0   \n",
       "1         0.0         0.0         0.0         0.0         0.0         0.0   \n",
       "2         0.0         0.0         0.0         0.0         0.0         0.0   \n",
       "3         0.0         0.0         0.0         0.0         0.0         0.0   \n",
       "4         0.0         0.0         0.0         0.0         0.0         0.0   \n",
       "\n",
       "   A0A075B6Q5  A0A087WSY6  A0A0A0MRZ7  A0A0A0MS14  ...  Q9Y6U3  Q9Y6V0  \\\n",
       "0         0.0         0.0         0.0         0.0  ...     0.0     0.0   \n",
       "1         0.0         0.0         0.0         0.0  ...     0.0     0.0   \n",
       "2         0.0         0.0         0.0         0.0  ...     0.0     0.0   \n",
       "3         0.0         0.0         0.0         0.0  ...     0.0     0.0   \n",
       "4         0.0         0.0         0.0         0.0  ...     0.0     0.0   \n",
       "\n",
       "   Q9Y6W3  Q9Y6W5  Q9Y6X5  Q9Y6X8  Q9Y6X9  Q9Y6Y0  Q9Y6Y8  tissue_name  \n",
       "0     0.0     0.0     0.0     0.0     0.0     0.0     0.0        Brain  \n",
       "1     0.0     0.0     0.0     0.0     0.0     0.0     0.0        Brain  \n",
       "2     0.0     0.0     0.0     0.0     0.0     0.0     0.0        Brain  \n",
       "3     0.0     0.0     0.0     0.0     0.0     0.0     0.0        Brain  \n",
       "4     0.0     0.0     0.0     0.0     0.0     0.0     0.0        Brain  \n",
       "\n",
       "[5 rows x 4982 columns]"
      ]
     },
     "execution_count": 3,
     "metadata": {},
     "output_type": "execute_result"
    }
   ],
   "source": [
    "atlas = pd.read_csv('filtered_90_tissue_predictor_healthy_atlas_shotgun_nofluid.csv', sep=\",\")\n",
    "atlas.head()"
   ]
  },
  {
   "cell_type": "markdown",
   "metadata": {},
   "source": [
    "Lets check the number of samples for each tissue (the number of rows in the atlas corresponding to a tissue). This number impacts the predictor"
   ]
  },
  {
   "cell_type": "code",
   "execution_count": 4,
   "metadata": {},
   "outputs": [],
   "source": [
    "tissue_counts = atlas['tissue_name'].value_counts()"
   ]
  },
  {
   "cell_type": "code",
   "execution_count": 5,
   "metadata": {},
   "outputs": [
    {
     "data": {
      "text/plain": [
       "PBMC                162\n",
       "Testis              133\n",
       "Eye                 124\n",
       "Dental plaque       116\n",
       "Monocytes           103\n",
       "Skin                100\n",
       "Kidney               83\n",
       "Pancreas             66\n",
       "Liver                59\n",
       "NK-cells             48\n",
       "Cartilage            35\n",
       "Brain                32\n",
       "Tooth                31\n",
       "B-cells              27\n",
       "Parotid gland        20\n",
       "Ovary                20\n",
       "Palatine tonsils     20\n",
       "Nasal polyps         20\n",
       "Adipose tissue       14\n",
       "Colon                14\n",
       "Umbilical cord       14\n",
       "Cervix               13\n",
       "T-cells              12\n",
       "Ureter               12\n",
       "Skeletal muscle      12\n",
       "Bone                 10\n",
       "Heart                10\n",
       "Esophagus             3\n",
       "Lung                  3\n",
       "Retina                3\n",
       "Urinary bladder       3\n",
       "Adrenal gland         3\n",
       "Small intestine       3\n",
       "Gall bladder          2\n",
       "Placenta              2\n",
       "Rectum                2\n",
       "Prostate              2\n",
       "Spinal cord           2\n",
       "Name: tissue_name, dtype: int64"
      ]
     },
     "execution_count": 5,
     "metadata": {},
     "output_type": "execute_result"
    }
   ],
   "source": [
    "tissue_counts"
   ]
  },
  {
   "cell_type": "code",
   "execution_count": 6,
   "metadata": {},
   "outputs": [
    {
     "data": {
      "text/plain": [
       "35.21052631578947"
      ]
     },
     "execution_count": 6,
     "metadata": {},
     "output_type": "execute_result"
    }
   ],
   "source": [
    "tissue_counts.mean()"
   ]
  },
  {
   "cell_type": "code",
   "execution_count": 7,
   "metadata": {},
   "outputs": [
    {
     "data": {
      "text/plain": [
       "<matplotlib.axes._subplots.AxesSubplot at 0x7fc97ca00668>"
      ]
     },
     "execution_count": 7,
     "metadata": {},
     "output_type": "execute_result"
    },
    {
     "data": {
      "image/png": "[encoded data removed]",
      "text/plain": [
       "<Figure size 1080x432 with 1 Axes>"
      ]
     },
     "metadata": {
      "needs_background": "light"
     },
     "output_type": "display_data"
    }
   ],
   "source": [
    " figure(figsize=(15,6))\n",
    " atlas['tissue_name'].value_counts().plot(kind='bar')"
   ]
  },
  {
   "cell_type": "markdown",
   "metadata": {},
   "source": [
    "# Undersampling of the majority class"
   ]
  },
  {
   "cell_type": "markdown",
   "metadata": {},
   "source": [
    "## Imblearn RandomUnderSamples\n",
    "Does not work for multiclass classifications"
   ]
  },
  {
   "cell_type": "code",
   "execution_count": null,
   "metadata": {},
   "outputs": [],
   "source": [
    "from imblearn.under_sampling import RandomUnderSampler\n",
    "undersample = RandomUnderSampler(sampling_strategy=tf) #number of examples in the minority class divided by the number of examples in the majority class ==> 1/0.01=100"
   ]
  },
  {
   "cell_type": "code",
   "execution_count": null,
   "metadata": {},
   "outputs": [],
   "source": [
    "tf = dict(Counter(atlas['tissue_name']))\n",
    "tf = sorted(tf.items(), key=operator.itemgetter(1), reverse=True)\n",
    "tf = dict(tf)"
   ]
  },
  {
   "cell_type": "code",
   "execution_count": null,
   "metadata": {},
   "outputs": [],
   "source": [
    "tf['Blood'] = 150"
   ]
  },
  {
   "cell_type": "code",
   "execution_count": null,
   "metadata": {},
   "outputs": [],
   "source": [
    "atlas_c = atlas.copy(deep=True)\n",
    "y = atlas_c.pop('tissue_name')\n",
    "X = atlas_c"
   ]
  },
  {
   "cell_type": "code",
   "execution_count": null,
   "metadata": {},
   "outputs": [],
   "source": [
    "X_under, y_under = undersample.fit_resample(X, y)"
   ]
  },
  {
   "cell_type": "code",
   "execution_count": null,
   "metadata": {},
   "outputs": [],
   "source": [
    "atlas_under = X_under\n",
    "atlas_under['tissue_name'] = y_under\n",
    "atlas_under.head()"
   ]
  },
  {
   "cell_type": "code",
   "execution_count": null,
   "metadata": {},
   "outputs": [],
   "source": [
    "train_df = pd.DataFrame()\n",
    "test_df = pd.DataFrame()\n",
    "\n",
    "tissues = atlas_under['tissue_name'].unique()\n",
    "DataFrameDict = {elem : pd.DataFrame for elem in tissues}\n",
    "for key in DataFrameDict.keys():\n",
    "    DataFrameDict[key] = atlas_under[:][atlas_under['tissue_name'] == key]\n",
    "\n",
    "for key in DataFrameDict.keys():\n",
    "    train = sampleData(DataFrameDict[key], 0.85)\n",
    "    train_df = train_df.append(train)\n",
    "\n",
    "    test = DataFrameDict[key].drop(train.index)\n",
    "    test_df = test_df.append(test)\n",
    "\n",
    "y_train_under = train_df.pop('tissue_name').values\n",
    "X_train_under = train_df.values\n",
    "y_test_under = test_df.pop('tissue_name').values\n",
    "X_test_under = test_df.values"
   ]
  },
  {
   "cell_type": "code",
   "execution_count": null,
   "metadata": {},
   "outputs": [],
   "source": [
    "import csv\n",
    "with open('protein_names.csv', 'w') as f:\n",
    "    write = csv.writer(f)\n",
    "    write.writerow(list(atlas_under.columns[:-1]))"
   ]
  },
  {
   "cell_type": "code",
   "execution_count": null,
   "metadata": {},
   "outputs": [],
   "source": [
    "forest_random_undersampled = RandomForestClassifier(random_state=0, oob_score=True)\n",
    "forest_random_undersampled.fit(X_train_under, y_train_under)\n",
    "baseline_predictions =  forest_random_undersampled.predict(X_test_under)\n",
    "print(f1_score(y_test_under, baseline_predictions, average=\"weighted\"))\n",
    "print(accuracy_score(y_test_under, baseline_predictions))\n",
    "print(forest_random_undersampled.oob_score_)"
   ]
  },
  {
   "cell_type": "code",
   "execution_count": null,
   "metadata": {},
   "outputs": [],
   "source": [
    "from sklearn.naive_bayes import GaussianNB\n",
    "gnb = GaussianNB()\n",
    "y_pred_under = gnb.fit(X_train_under, y_train_under).predict(X_test_under)\n",
    "print(f1_score(y_test_under, y_pred_under, average=\"weighted\"))\n",
    "print(accuracy_score(y_test_under, y_pred_under))"
   ]
  },
  {
   "cell_type": "code",
   "execution_count": null,
   "metadata": {},
   "outputs": [],
   "source": [
    "import xgboost as xgb\n",
    "from xgboost import XGBClassifier\n",
    "clf = XGBClassifier()\n",
    "y_pred_under = clf.fit(X_train_under, y_train_under).predict(X_test_under)\n",
    "print(f1_score(y_test_under, y_pred_under, average=\"weighted\"))\n",
    "print(accuracy_score(y_test_under, y_pred_under))"
   ]
  },
  {
   "cell_type": "code",
   "execution_count": null,
   "metadata": {},
   "outputs": [],
   "source": [
    "import pickle\n",
    "file_name = 'rf_undersampled_baseline.pkl'\n",
    "\n",
    "# save\n",
    "pickle.dump(forest_random_undersampled, open(file_name, \"wb\"))"
   ]
  },
  {
   "cell_type": "markdown",
   "metadata": {},
   "source": [
    "## Imblearn AllKNN strategy\n",
    "Uses nearest neighbour apporach. Removes inputs from the majority class that look like a minority class to make the classes more separatable"
   ]
  },
  {
   "cell_type": "code",
   "execution_count": null,
   "metadata": {},
   "outputs": [],
   "source": [
    "from imblearn.under_sampling import AllKNN\n",
    "allknn = AllKNN(sampling_strategy='majority') #majority: only resample the majority class\n",
    "X_alknn, y_allknn = allknn.fit_resample(X,y)"
   ]
  },
  {
   "cell_type": "code",
   "execution_count": null,
   "metadata": {},
   "outputs": [],
   "source": [
    "y_allknn.value_counts().iloc[0] # so this removed only79 blood samples..."
   ]
  },
  {
   "cell_type": "code",
   "execution_count": null,
   "metadata": {},
   "outputs": [],
   "source": [
    "for i in range(1,21):\n",
    "    allknn = AllKNN(sampling_strategy='majority', n_neighbors=i)\n",
    "    X_alknn, y_allknn = allknn.fit_resample(X,y)\n",
    "    blood_count = int(y_allknn.value_counts().iloc[0])\n",
    "    removal = 1067 - blood_count\n",
    "    print('nearest neighbours: {}, blood samples: {}, removed samples: {}'.format(i, blood_count, removal))"
   ]
  },
  {
   "cell_type": "code",
   "execution_count": null,
   "metadata": {},
   "outputs": [],
   "source": []
  },
  {
   "cell_type": "markdown",
   "metadata": {},
   "source": [
    "## Near Miss Undersampling\n",
    "Select examples based on the distance of the majority class to the minority class\n",
    "\n",
    "NearMiss-1: majority examples with the smallest average distance to the 3 closest minority examples <br>\n",
    "NearMiss-2: majority examples with the smallest average distance to the 3 furthest minority examples<br>\n",
    "NearMiss-3: select majority example for each minority example that are the closest\n",
    "\n",
    "Distance measured in euclidean distance"
   ]
  },
  {
   "cell_type": "code",
   "execution_count": null,
   "metadata": {},
   "outputs": [],
   "source": [
    "from imblearn.under_sampling import NearMiss"
   ]
  },
  {
   "cell_type": "markdown",
   "metadata": {},
   "source": [
    "### NearMiss-1"
   ]
  },
  {
   "cell_type": "code",
   "execution_count": null,
   "metadata": {},
   "outputs": [],
   "source": [
    "for i in range(1,3): # numer of neighbors must be smaller or equal to the number of samples in the minority class which is 2 in our case\n",
    "    misslearn1 = NearMiss(sampling_strategy='majority',version=1, n_neighbors=i)\n",
    "    X_ml1, y_ml1 = misslearn1.fit_resample(X,y)\n",
    "    blood_count = int(y_ml1.value_counts().iloc[0])\n",
    "    removal = 1067 - blood_count\n",
    "    print('nearest neighbours: {}, blood samples: {}, removed samples: {}'.format(i, blood_count, removal))"
   ]
  },
  {
   "cell_type": "markdown",
   "metadata": {},
   "source": [
    "This approach brings it immediatly down to the minority class number\n",
    "\n",
    "\n",
    "\n",
    "### NearMiss-2"
   ]
  },
  {
   "cell_type": "code",
   "execution_count": null,
   "metadata": {},
   "outputs": [],
   "source": [
    "for i in range(1,3): # numer of neighbors must be smaller or equal to the number of samples in the minority class which is 2 in our case\n",
    "    misslearn1 = NearMiss(sampling_strategy='majority',version=2, n_neighbors=i)\n",
    "    X_ml1, y_ml1 = misslearn1.fit_resample(X,y)\n",
    "    blood_count = int(y_ml1.value_counts().iloc[0])\n",
    "    removal = 1067 - blood_count\n",
    "    print('nearest neighbours: {}, blood samples: {}, removed samples: {}'.format(i, blood_count, removal))"
   ]
  },
  {
   "cell_type": "markdown",
   "metadata": {},
   "source": [
    "Same as previously\n",
    "\n",
    "### NearMiss-3\n",
    "\n",
    "Doesn't even work"
   ]
  },
  {
   "cell_type": "code",
   "execution_count": null,
   "metadata": {},
   "outputs": [],
   "source": [
    "misslearn1 = NearMiss(sampling_strategy='majority',version=3, n_neighbors=1)\n",
    "X_ml1, y_ml1 = misslearn1.fit_resample(X,y)\n",
    "blood_count = int(y_ml1.value_counts().iloc[0])\n",
    "removal = 1067 - blood_count\n",
    "print('nearest neighbours: {}, blood samples: {}, removed samples: {}'.format(i, blood_count, removal))"
   ]
  },
  {
   "cell_type": "markdown",
   "metadata": {},
   "source": [
    "The NearMiss approaches are not suitable for our goal\n",
    "<br>\n",
    "<br>\n",
    "<br>\n",
    "## Condensed Nearest Neighbor Rule undersampling\n",
    "\n",
    "This uses the KNN algorithm"
   ]
  },
  {
   "cell_type": "code",
   "execution_count": null,
   "metadata": {},
   "outputs": [],
   "source": [
    "from imblearn.under_sampling import CondensedNearestNeighbour\n",
    "for i in range(1,11):\n",
    "    cnn = CondensedNearestNeighbour(sampling_strategy='majority',n_neighbors=i)\n",
    "    X_cnn, y_cnn = cnn.fit_resample(X, y)\n",
    "    blood_count = int(y_cnn.value_counts().iloc[0])\n",
    "    removal = 1067 - blood_count\n",
    "    print('nearest neighbours: {}, blood samples: {}, removed samples: {}'.format(i, blood_count, removal))"
   ]
  },
  {
   "cell_type": "markdown",
   "metadata": {},
   "source": [
    "## Tomek links\n",
    "The procedure for finding Tomek Links can be used to locate all cross-class nearest neighbors. If the examples in the minority class are held constant, the procedure can be used to find all of those examples in the majority class that are closest to the minority class, then removed. These would be the ambiguous examples."
   ]
  },
  {
   "cell_type": "code",
   "execution_count": null,
   "metadata": {},
   "outputs": [],
   "source": [
    "from imblearn.under_sampling import TomekLinks\n",
    "tomek = TomekLinks(sampling_strategy='majority')\n",
    "X_tomek, y_tomek = tomek.fit_resample(X, y)\n",
    "blood_count = int(y_tomek.value_counts().iloc[0])\n",
    "removal = 1067 - blood_count\n",
    "print('blood samples: {}, removed samples: {}'.format(blood_count, removal))"
   ]
  },
  {
   "cell_type": "markdown",
   "metadata": {},
   "source": [
    "## Edited Nearest Neighbors\n"
   ]
  },
  {
   "cell_type": "code",
   "execution_count": null,
   "metadata": {},
   "outputs": [],
   "source": [
    "from imblearn.under_sampling import EditedNearestNeighbours\n",
    "for i in range(1,21):\n",
    "    enn = EditedNearestNeighbours(sampling_strategy='majority',n_neighbors=i)\n",
    "    X_enn, y_enn = enn.fit_resample(X, y)\n",
    "    blood_count = int(y_enn.value_counts().iloc[0])\n",
    "    removal = 1067 - blood_count\n",
    "    print('nearest neighbours: {}, blood samples: {}, removed samples: {}'.format(i, blood_count, removal))"
   ]
  },
  {
   "cell_type": "markdown",
   "metadata": {},
   "source": [
    "# Oversampling"
   ]
  },
  {
   "cell_type": "code",
   "execution_count": 8,
   "metadata": {},
   "outputs": [],
   "source": [
    "oversampling_atlas_sizes = pd.DataFrame(columns=['method', 'atlas_name','shape'])\n",
    "oversampling_atlas_sizes.loc[len(oversampling_atlas_sizes)] = ['Baseline','atlas', atlas.shape]"
   ]
  },
  {
   "cell_type": "markdown",
   "metadata": {},
   "source": [
    "## SMOTE"
   ]
  },
  {
   "cell_type": "code",
   "execution_count": 9,
   "metadata": {},
   "outputs": [],
   "source": [
    "atlas_copy = atlas.copy(deep=True)\n",
    "y = atlas_copy.pop('tissue_name')\n",
    "X = atlas_copy"
   ]
  },
  {
   "cell_type": "code",
   "execution_count": 10,
   "metadata": {},
   "outputs": [],
   "source": [
    "import imblearn\n",
    "from imblearn.over_sampling import SMOTE\n",
    "oversample = SMOTE(k_neighbors=1)\n",
    "X_smote, y_smote = oversample.fit_resample(X, y)"
   ]
  },
  {
   "cell_type": "code",
   "execution_count": 11,
   "metadata": {},
   "outputs": [],
   "source": [
    "atlas_smote = X_smote\n",
    "atlas_smote['tissue_name'] = y_smote\n",
    "oversampling_atlas_sizes.loc[len(oversampling_atlas_sizes)] = ['SMOTE', 'atlas_smote', atlas_smote.shape]"
   ]
  },
  {
   "cell_type": "markdown",
   "metadata": {},
   "source": [
    "## Random Oversampling"
   ]
  },
  {
   "cell_type": "code",
   "execution_count": 12,
   "metadata": {},
   "outputs": [],
   "source": [
    "from imblearn.over_sampling import RandomOverSampler\n",
    "oversample_minority = RandomOverSampler(sampling_strategy='minority', random_state=42)\n",
    "oversample_not_majority = RandomOverSampler(sampling_strategy='not majority', random_state=42)\n",
    "X_over_minority, y_over_minority = oversample_minority.fit_resample(X, y)\n",
    "X_over_not_majority, y_over_not_majority = oversample_not_majority.fit_resample(X, y)\n",
    "atlas_minority = X_over_minority\n",
    "atlas_minority['tissue_name'] = y_over_minority\n",
    "atlas_not_majority = X_over_not_majority\n",
    "atlas_not_majority['tissue_name'] = y_over_not_majority\n",
    "\n",
    "oversampling_atlas_sizes.loc[len(oversampling_atlas_sizes)] = ['Random Oversampling minority', 'atlas_minority', atlas_minority.shape]\n",
    "oversampling_atlas_sizes.loc[len(oversampling_atlas_sizes)] = ['Random Oversampling not majority', 'atlas_not_majority', atlas_not_majority.shape]"
   ]
  },
  {
   "cell_type": "markdown",
   "metadata": {},
   "source": [
    "## Drop minority classes"
   ]
  },
  {
   "cell_type": "code",
   "execution_count": 13,
   "metadata": {},
   "outputs": [],
   "source": [
    "tissue_counts = atlas['tissue_name'].value_counts().to_frame()\n",
    "low_tissues = tissue_counts.index[tissue_counts['tissue_name']<3].tolist()\n",
    "atlas_dropped = atlas[~atlas['tissue_name'].isin(low_tissues)]\n",
    "oversampling_atlas_sizes.loc[len(oversampling_atlas_sizes)] = ['Dropped low abundant samples', 'atlas_dropped', atlas_dropped.shape]"
   ]
  },
  {
   "cell_type": "code",
   "execution_count": 14,
   "metadata": {},
   "outputs": [
    {
     "data": {
      "text/html": [
       "<div>\n",
       "<style scoped>\n",
       "    .dataframe tbody tr th:only-of-type {\n",
       "        vertical-align: middle;\n",
       "    }\n",
       "\n",
       "    .dataframe tbody tr th {\n",
       "        vertical-align: top;\n",
       "    }\n",
       "\n",
       "    .dataframe thead th {\n",
       "        text-align: right;\n",
       "    }\n",
       "</style>\n",
       "<table border=\"1\" class=\"dataframe\">\n",
       "  <thead>\n",
       "    <tr style=\"text-align: right;\">\n",
       "      <th></th>\n",
       "      <th>method</th>\n",
       "      <th>atlas_name</th>\n",
       "      <th>shape</th>\n",
       "    </tr>\n",
       "  </thead>\n",
       "  <tbody>\n",
       "    <tr>\n",
       "      <th>0</th>\n",
       "      <td>Baseline</td>\n",
       "      <td>atlas</td>\n",
       "      <td>(1338, 4982)</td>\n",
       "    </tr>\n",
       "    <tr>\n",
       "      <th>1</th>\n",
       "      <td>SMOTE</td>\n",
       "      <td>atlas_smote</td>\n",
       "      <td>(6156, 4982)</td>\n",
       "    </tr>\n",
       "    <tr>\n",
       "      <th>2</th>\n",
       "      <td>Random Oversampling minority</td>\n",
       "      <td>atlas_minority</td>\n",
       "      <td>(1498, 4982)</td>\n",
       "    </tr>\n",
       "    <tr>\n",
       "      <th>3</th>\n",
       "      <td>Random Oversampling not majority</td>\n",
       "      <td>atlas_not_majority</td>\n",
       "      <td>(6156, 4982)</td>\n",
       "    </tr>\n",
       "    <tr>\n",
       "      <th>4</th>\n",
       "      <td>Dropped low abundant samples</td>\n",
       "      <td>atlas_dropped</td>\n",
       "      <td>(1328, 4982)</td>\n",
       "    </tr>\n",
       "  </tbody>\n",
       "</table>\n",
       "</div>"
      ],
      "text/plain": [
       "                             method          atlas_name         shape\n",
       "0                          Baseline               atlas  (1338, 4982)\n",
       "1                             SMOTE         atlas_smote  (6156, 4982)\n",
       "2      Random Oversampling minority      atlas_minority  (1498, 4982)\n",
       "3  Random Oversampling not majority  atlas_not_majority  (6156, 4982)\n",
       "4      Dropped low abundant samples       atlas_dropped  (1328, 4982)"
      ]
     },
     "execution_count": 14,
     "metadata": {},
     "output_type": "execute_result"
    }
   ],
   "source": [
    "oversampling_atlas_sizes"
   ]
  },
  {
   "cell_type": "markdown",
   "metadata": {},
   "source": [
    "### Compare performances in RF"
   ]
  },
  {
   "cell_type": "code",
   "execution_count": 15,
   "metadata": {},
   "outputs": [],
   "source": [
    "import random\n",
    "\n",
    "def sampleData(DataFrame, ratio):\n",
    "    df_size = len(DataFrame.index)\n",
    "    sample_size = int(round(ratio * df_size))\n",
    "    if sample_size == df_size:\n",
    "        sample_size = sample_size - 1\n",
    "        indexes = random.sample(range(df_size), sample_size)\n",
    "        sample = DataFrame.iloc[indexes, : ]\n",
    "        return sample\n",
    "\n",
    "    elif sample_size == 0:\n",
    "        sample_size = 1\n",
    "        indexes = random.sample(range(df_size), sample_size)\n",
    "        sample = DataFrame.iloc[indexes, : ]\n",
    "        return sample\n",
    "\n",
    "    else:\n",
    "        indexes = random.sample(range(df_size), sample_size)\n",
    "        sample = DataFrame.iloc[indexes, : ]\n",
    "        return sample"
   ]
  },
  {
   "cell_type": "code",
   "execution_count": 16,
   "metadata": {},
   "outputs": [],
   "source": [
    "# Define a function that compares the CV perfromance of a set of predetrmined models \n",
    "#https://towardsdatascience.com/cross-validation-and-hyperparameter-tuning-how-to-optimise-your-machine-learning-model-13f005af9d7d\n",
    "def cv_comparison(model, name, X, y, cv):\n",
    "    # Initiate a DataFrame for the averages and a list for all measures\n",
    "    cv_scores = pd.DataFrame()\n",
    "    accs = []\n",
    "    f1s = []\n",
    "    precs = []\n",
    "    recs = []\n",
    "    f1s_w = []\n",
    "    precs_w = []\n",
    "    recs_w = []\n",
    "\n",
    "    # Loop through the models, run a CV, add the average scores to the DataFrame and the scores of \n",
    "    # all CVs to the list\n",
    "    start = time.time()\n",
    "    acc = np.round(cross_val_score(model, X, y, scoring='accuracy', cv=cv), 4)\n",
    "    accs.append(acc)\n",
    "    acc_avg = round(np.mean(acc[~np.isnan(acc)]), 4)\n",
    "    f1 = np.round(cross_val_score(model, X, y, scoring='f1_macro', cv=cv), 4)\n",
    "    f1s.append(f1)\n",
    "    f1_avg = round(np.mean(f1[~np.isnan(f1)]), 4)\n",
    "    prec = np.round(cross_val_score(model, X, y, scoring='precision_macro', cv=cv), 4)\n",
    "    precs.append(prec)        \n",
    "    prec_avg = round(np.mean(prec[~np.isnan(prec)]), 4)\n",
    "    rec = np.round(cross_val_score(model, X, y, scoring='recall_macro', cv=cv), 4)\n",
    "    recs.append(rec)        \n",
    "    rec_avg = round(np.mean(rec[~np.isnan(rec)]), 4)\n",
    "\n",
    "    f1_w = np.round(cross_val_score(model, X, y, scoring='f1_weighted', cv=cv), 4)\n",
    "    f1s_w.append(f1_w)\n",
    "    f1_w_avg = round(np.mean(f1_w[~np.isnan(f1_w)]), 4)\n",
    "    prec_w = np.round(cross_val_score(model, X, y, scoring='precision_weighted', cv=cv), 4)\n",
    "    precs_w.append(prec_w)        \n",
    "    prec_w_avg = round(np.mean(prec_w[~np.isnan(prec_w)]), 4)\n",
    "    rec_w = np.round(cross_val_score(model, X, y, scoring='recall_weighted', cv=cv), 4)\n",
    "    recs_w.append(rec_w)        \n",
    "    rec_w_avg = round(np.mean(rec_w[~np.isnan(rec_w)]), 4)\n",
    "    cv_scores[str(name)] = [acc_avg, f1_avg, prec_avg, rec_avg, f1_w_avg, prec_w_avg, rec_w_avg]\n",
    "    #oob = model.oob_score_\n",
    "    print(name)\n",
    "    print(time.time() - start)\n",
    "    cv_scores.index = ['Accuracy', 'f1_macro', 'precision_macro', 'recall_macro', 'f1_weighted', 'precision_weighted', 'recall_weighted']\n",
    "    return cv_scores,accs, f1s, precs, recs, f1s_w, precs_w, recs_w,"
   ]
  },
  {
   "cell_type": "code",
   "execution_count": 17,
   "metadata": {},
   "outputs": [],
   "source": [
    "atlases_names = ['atlas', 'atlas_smote', 'atlas_minority', 'atlas_not_majority', 'atlas_dropped']\n",
    "atlases = [atlas, atlas_smote, atlas_minority, atlas_not_majority, atlas_dropped]"
   ]
  },
  {
   "cell_type": "code",
   "execution_count": 25,
   "metadata": {},
   "outputs": [
    {
     "name": "stderr",
     "output_type": "stream",
     "text": [
      "/home/compomics/miniconda3/envs/tissuespecific/lib/python3.6/site-packages/sklearn/model_selection/_split.py:668: UserWarning: The least populated class in y has only 1 members, which is less than n_splits=4.\n",
      "  % (min_groups, self.n_splits)), UserWarning)\n",
      "/home/compomics/miniconda3/envs/tissuespecific/lib/python3.6/site-packages/sklearn/model_selection/_split.py:668: UserWarning: The least populated class in y has only 1 members, which is less than n_splits=4.\n",
      "  % (min_groups, self.n_splits)), UserWarning)\n",
      "/home/compomics/miniconda3/envs/tissuespecific/lib/python3.6/site-packages/sklearn/model_selection/_split.py:668: UserWarning: The least populated class in y has only 1 members, which is less than n_splits=4.\n",
      "  % (min_groups, self.n_splits)), UserWarning)\n",
      "/home/compomics/miniconda3/envs/tissuespecific/lib/python3.6/site-packages/sklearn/metrics/_classification.py:1248: UndefinedMetricWarning: Precision is ill-defined and being set to 0.0 in labels with no predicted samples. Use `zero_division` parameter to control this behavior.\n",
      "  _warn_prf(average, modifier, msg_start, len(result))\n",
      "/home/compomics/miniconda3/envs/tissuespecific/lib/python3.6/site-packages/sklearn/metrics/_classification.py:1248: UndefinedMetricWarning: Precision is ill-defined and being set to 0.0 in labels with no predicted samples. Use `zero_division` parameter to control this behavior.\n",
      "  _warn_prf(average, modifier, msg_start, len(result))\n",
      "/home/compomics/miniconda3/envs/tissuespecific/lib/python3.6/site-packages/sklearn/metrics/_classification.py:1248: UndefinedMetricWarning: Precision is ill-defined and being set to 0.0 in labels with no predicted samples. Use `zero_division` parameter to control this behavior.\n",
      "  _warn_prf(average, modifier, msg_start, len(result))\n",
      "/home/compomics/miniconda3/envs/tissuespecific/lib/python3.6/site-packages/sklearn/metrics/_classification.py:1248: UndefinedMetricWarning: Precision is ill-defined and being set to 0.0 in labels with no predicted samples. Use `zero_division` parameter to control this behavior.\n",
      "  _warn_prf(average, modifier, msg_start, len(result))\n",
      "/home/compomics/miniconda3/envs/tissuespecific/lib/python3.6/site-packages/sklearn/model_selection/_split.py:668: UserWarning: The least populated class in y has only 1 members, which is less than n_splits=4.\n",
      "  % (min_groups, self.n_splits)), UserWarning)\n",
      "/home/compomics/miniconda3/envs/tissuespecific/lib/python3.6/site-packages/sklearn/metrics/_classification.py:1248: UndefinedMetricWarning: Recall is ill-defined and being set to 0.0 in labels with no true samples. Use `zero_division` parameter to control this behavior.\n",
      "  _warn_prf(average, modifier, msg_start, len(result))\n",
      "/home/compomics/miniconda3/envs/tissuespecific/lib/python3.6/site-packages/sklearn/model_selection/_split.py:668: UserWarning: The least populated class in y has only 1 members, which is less than n_splits=4.\n",
      "  % (min_groups, self.n_splits)), UserWarning)\n",
      "/home/compomics/miniconda3/envs/tissuespecific/lib/python3.6/site-packages/sklearn/model_selection/_split.py:668: UserWarning: The least populated class in y has only 1 members, which is less than n_splits=4.\n",
      "  % (min_groups, self.n_splits)), UserWarning)\n",
      "/home/compomics/miniconda3/envs/tissuespecific/lib/python3.6/site-packages/sklearn/metrics/_classification.py:1248: UndefinedMetricWarning: Precision is ill-defined and being set to 0.0 in labels with no predicted samples. Use `zero_division` parameter to control this behavior.\n",
      "  _warn_prf(average, modifier, msg_start, len(result))\n",
      "/home/compomics/miniconda3/envs/tissuespecific/lib/python3.6/site-packages/sklearn/metrics/_classification.py:1248: UndefinedMetricWarning: Precision is ill-defined and being set to 0.0 in labels with no predicted samples. Use `zero_division` parameter to control this behavior.\n",
      "  _warn_prf(average, modifier, msg_start, len(result))\n",
      "/home/compomics/miniconda3/envs/tissuespecific/lib/python3.6/site-packages/sklearn/metrics/_classification.py:1248: UndefinedMetricWarning: Precision is ill-defined and being set to 0.0 in labels with no predicted samples. Use `zero_division` parameter to control this behavior.\n",
      "  _warn_prf(average, modifier, msg_start, len(result))\n",
      "/home/compomics/miniconda3/envs/tissuespecific/lib/python3.6/site-packages/sklearn/metrics/_classification.py:1248: UndefinedMetricWarning: Precision is ill-defined and being set to 0.0 in labels with no predicted samples. Use `zero_division` parameter to control this behavior.\n",
      "  _warn_prf(average, modifier, msg_start, len(result))\n",
      "/home/compomics/miniconda3/envs/tissuespecific/lib/python3.6/site-packages/sklearn/model_selection/_split.py:668: UserWarning: The least populated class in y has only 1 members, which is less than n_splits=4.\n",
      "  % (min_groups, self.n_splits)), UserWarning)\n",
      "/home/compomics/miniconda3/envs/tissuespecific/lib/python3.6/site-packages/sklearn/metrics/_classification.py:1248: UndefinedMetricWarning: Recall is ill-defined and being set to 0.0 in labels with no true samples. Use `zero_division` parameter to control this behavior.\n",
      "  _warn_prf(average, modifier, msg_start, len(result))\n"
     ]
    },
    {
     "name": "stdout",
     "output_type": "stream",
     "text": [
      "48.93251085281372\n",
      "atlas [array([0.9399, 0.9717, 0.9787, 0.961 ])] [array([0.759 , 0.8875, 0.9136, 0.8337])] [array([0.7583, 0.915 , 0.9179, 0.842 ])] [array([0.7658, 0.8812, 0.9136, 0.8404])] [array([0.9252, 0.9664, 0.975 , 0.9569])] [array([0.9163, 0.9683, 0.9735, 0.9589])] [array([0.9399, 0.9717, 0.9787, 0.961 ])]\n",
      "464.6545011997223\n",
      "atlas_smote [array([0.9962, 0.9962, 0.9977, 0.9969])] [array([0.9962, 0.9962, 0.9977, 0.997 ])] [array([0.9964, 0.9965, 0.9978, 0.9972])] [array([0.9962, 0.9962, 0.9977, 0.997 ])] [array([0.9962, 0.9962, 0.9977, 0.997 ])] [array([0.9964, 0.9965, 0.9978, 0.9971])] [array([0.9962, 0.9962, 0.9977, 0.9969])]\n"
     ]
    },
    {
     "name": "stderr",
     "output_type": "stream",
     "text": [
      "/home/compomics/miniconda3/envs/tissuespecific/lib/python3.6/site-packages/sklearn/model_selection/_split.py:668: UserWarning: The least populated class in y has only 1 members, which is less than n_splits=4.\n",
      "  % (min_groups, self.n_splits)), UserWarning)\n",
      "/home/compomics/miniconda3/envs/tissuespecific/lib/python3.6/site-packages/sklearn/model_selection/_split.py:668: UserWarning: The least populated class in y has only 1 members, which is less than n_splits=4.\n",
      "  % (min_groups, self.n_splits)), UserWarning)\n",
      "/home/compomics/miniconda3/envs/tissuespecific/lib/python3.6/site-packages/sklearn/model_selection/_split.py:668: UserWarning: The least populated class in y has only 1 members, which is less than n_splits=4.\n",
      "  % (min_groups, self.n_splits)), UserWarning)\n",
      "/home/compomics/miniconda3/envs/tissuespecific/lib/python3.6/site-packages/sklearn/metrics/_classification.py:1248: UndefinedMetricWarning: Precision is ill-defined and being set to 0.0 in labels with no predicted samples. Use `zero_division` parameter to control this behavior.\n",
      "  _warn_prf(average, modifier, msg_start, len(result))\n",
      "/home/compomics/miniconda3/envs/tissuespecific/lib/python3.6/site-packages/sklearn/metrics/_classification.py:1248: UndefinedMetricWarning: Precision is ill-defined and being set to 0.0 in labels with no predicted samples. Use `zero_division` parameter to control this behavior.\n",
      "  _warn_prf(average, modifier, msg_start, len(result))\n",
      "/home/compomics/miniconda3/envs/tissuespecific/lib/python3.6/site-packages/sklearn/metrics/_classification.py:1248: UndefinedMetricWarning: Precision is ill-defined and being set to 0.0 in labels with no predicted samples. Use `zero_division` parameter to control this behavior.\n",
      "  _warn_prf(average, modifier, msg_start, len(result))\n",
      "/home/compomics/miniconda3/envs/tissuespecific/lib/python3.6/site-packages/sklearn/metrics/_classification.py:1248: UndefinedMetricWarning: Precision is ill-defined and being set to 0.0 in labels with no predicted samples. Use `zero_division` parameter to control this behavior.\n",
      "  _warn_prf(average, modifier, msg_start, len(result))\n",
      "/home/compomics/miniconda3/envs/tissuespecific/lib/python3.6/site-packages/sklearn/model_selection/_split.py:668: UserWarning: The least populated class in y has only 1 members, which is less than n_splits=4.\n",
      "  % (min_groups, self.n_splits)), UserWarning)\n",
      "/home/compomics/miniconda3/envs/tissuespecific/lib/python3.6/site-packages/sklearn/model_selection/_split.py:668: UserWarning: The least populated class in y has only 1 members, which is less than n_splits=4.\n",
      "  % (min_groups, self.n_splits)), UserWarning)\n",
      "/home/compomics/miniconda3/envs/tissuespecific/lib/python3.6/site-packages/sklearn/model_selection/_split.py:668: UserWarning: The least populated class in y has only 1 members, which is less than n_splits=4.\n",
      "  % (min_groups, self.n_splits)), UserWarning)\n",
      "/home/compomics/miniconda3/envs/tissuespecific/lib/python3.6/site-packages/sklearn/metrics/_classification.py:1248: UndefinedMetricWarning: Precision is ill-defined and being set to 0.0 in labels with no predicted samples. Use `zero_division` parameter to control this behavior.\n",
      "  _warn_prf(average, modifier, msg_start, len(result))\n",
      "/home/compomics/miniconda3/envs/tissuespecific/lib/python3.6/site-packages/sklearn/metrics/_classification.py:1248: UndefinedMetricWarning: Precision is ill-defined and being set to 0.0 in labels with no predicted samples. Use `zero_division` parameter to control this behavior.\n",
      "  _warn_prf(average, modifier, msg_start, len(result))\n",
      "/home/compomics/miniconda3/envs/tissuespecific/lib/python3.6/site-packages/sklearn/metrics/_classification.py:1248: UndefinedMetricWarning: Precision is ill-defined and being set to 0.0 in labels with no predicted samples. Use `zero_division` parameter to control this behavior.\n",
      "  _warn_prf(average, modifier, msg_start, len(result))\n",
      "/home/compomics/miniconda3/envs/tissuespecific/lib/python3.6/site-packages/sklearn/metrics/_classification.py:1248: UndefinedMetricWarning: Precision is ill-defined and being set to 0.0 in labels with no predicted samples. Use `zero_division` parameter to control this behavior.\n",
      "  _warn_prf(average, modifier, msg_start, len(result))\n",
      "/home/compomics/miniconda3/envs/tissuespecific/lib/python3.6/site-packages/sklearn/model_selection/_split.py:668: UserWarning: The least populated class in y has only 1 members, which is less than n_splits=4.\n",
      "  % (min_groups, self.n_splits)), UserWarning)\n"
     ]
    },
    {
     "name": "stdout",
     "output_type": "stream",
     "text": [
      "52.29697942733765\n",
      "atlas_minority [array([0.9685, 0.9716, 0.9653, 0.9747])] [array([0.8694, 0.8428, 0.8599, 0.8978])] [array([0.8686, 0.8448, 0.8553, 0.8984])] [array([0.878 , 0.8482, 0.8671, 0.8979])] [array([0.964 , 0.9654, 0.9585, 0.9688])] [array([0.9624, 0.9626, 0.9532, 0.9649])] [array([0.9685, 0.9716, 0.9653, 0.9747])]\n",
      "372.76062965393066\n",
      "atlas_not_majority [array([0.9992, 0.9985, 0.9977, 0.9969])] [array([0.9992, 0.9985, 0.9977, 0.997 ])] [array([0.9992, 0.9985, 0.9978, 0.9972])] [array([0.9992, 0.9985, 0.9977, 0.997 ])] [array([0.9992, 0.9985, 0.9977, 0.9969])] [array([0.9993, 0.9986, 0.9978, 0.9972])] [array([0.9992, 0.9985, 0.9977, 0.9969])]\n"
     ]
    },
    {
     "name": "stderr",
     "output_type": "stream",
     "text": [
      "/home/compomics/miniconda3/envs/tissuespecific/lib/python3.6/site-packages/sklearn/model_selection/_split.py:668: UserWarning: The least populated class in y has only 2 members, which is less than n_splits=4.\n",
      "  % (min_groups, self.n_splits)), UserWarning)\n",
      "/home/compomics/miniconda3/envs/tissuespecific/lib/python3.6/site-packages/sklearn/model_selection/_split.py:668: UserWarning: The least populated class in y has only 2 members, which is less than n_splits=4.\n",
      "  % (min_groups, self.n_splits)), UserWarning)\n",
      "/home/compomics/miniconda3/envs/tissuespecific/lib/python3.6/site-packages/sklearn/model_selection/_split.py:668: UserWarning: The least populated class in y has only 2 members, which is less than n_splits=4.\n",
      "  % (min_groups, self.n_splits)), UserWarning)\n",
      "/home/compomics/miniconda3/envs/tissuespecific/lib/python3.6/site-packages/sklearn/metrics/_classification.py:1248: UndefinedMetricWarning: Precision is ill-defined and being set to 0.0 in labels with no predicted samples. Use `zero_division` parameter to control this behavior.\n",
      "  _warn_prf(average, modifier, msg_start, len(result))\n",
      "/home/compomics/miniconda3/envs/tissuespecific/lib/python3.6/site-packages/sklearn/metrics/_classification.py:1248: UndefinedMetricWarning: Precision is ill-defined and being set to 0.0 in labels with no predicted samples. Use `zero_division` parameter to control this behavior.\n",
      "  _warn_prf(average, modifier, msg_start, len(result))\n",
      "/home/compomics/miniconda3/envs/tissuespecific/lib/python3.6/site-packages/sklearn/metrics/_classification.py:1248: UndefinedMetricWarning: Precision is ill-defined and being set to 0.0 in labels with no predicted samples. Use `zero_division` parameter to control this behavior.\n",
      "  _warn_prf(average, modifier, msg_start, len(result))\n",
      "/home/compomics/miniconda3/envs/tissuespecific/lib/python3.6/site-packages/sklearn/metrics/_classification.py:1248: UndefinedMetricWarning: Precision is ill-defined and being set to 0.0 in labels with no predicted samples. Use `zero_division` parameter to control this behavior.\n",
      "  _warn_prf(average, modifier, msg_start, len(result))\n",
      "/home/compomics/miniconda3/envs/tissuespecific/lib/python3.6/site-packages/sklearn/model_selection/_split.py:668: UserWarning: The least populated class in y has only 2 members, which is less than n_splits=4.\n",
      "  % (min_groups, self.n_splits)), UserWarning)\n",
      "/home/compomics/miniconda3/envs/tissuespecific/lib/python3.6/site-packages/sklearn/model_selection/_split.py:668: UserWarning: The least populated class in y has only 2 members, which is less than n_splits=4.\n",
      "  % (min_groups, self.n_splits)), UserWarning)\n",
      "/home/compomics/miniconda3/envs/tissuespecific/lib/python3.6/site-packages/sklearn/model_selection/_split.py:668: UserWarning: The least populated class in y has only 2 members, which is less than n_splits=4.\n",
      "  % (min_groups, self.n_splits)), UserWarning)\n",
      "/home/compomics/miniconda3/envs/tissuespecific/lib/python3.6/site-packages/sklearn/metrics/_classification.py:1248: UndefinedMetricWarning: Precision is ill-defined and being set to 0.0 in labels with no predicted samples. Use `zero_division` parameter to control this behavior.\n",
      "  _warn_prf(average, modifier, msg_start, len(result))\n",
      "/home/compomics/miniconda3/envs/tissuespecific/lib/python3.6/site-packages/sklearn/metrics/_classification.py:1248: UndefinedMetricWarning: Precision is ill-defined and being set to 0.0 in labels with no predicted samples. Use `zero_division` parameter to control this behavior.\n",
      "  _warn_prf(average, modifier, msg_start, len(result))\n",
      "/home/compomics/miniconda3/envs/tissuespecific/lib/python3.6/site-packages/sklearn/metrics/_classification.py:1248: UndefinedMetricWarning: Precision is ill-defined and being set to 0.0 in labels with no predicted samples. Use `zero_division` parameter to control this behavior.\n",
      "  _warn_prf(average, modifier, msg_start, len(result))\n",
      "/home/compomics/miniconda3/envs/tissuespecific/lib/python3.6/site-packages/sklearn/metrics/_classification.py:1248: UndefinedMetricWarning: Precision is ill-defined and being set to 0.0 in labels with no predicted samples. Use `zero_division` parameter to control this behavior.\n",
      "  _warn_prf(average, modifier, msg_start, len(result))\n",
      "/home/compomics/miniconda3/envs/tissuespecific/lib/python3.6/site-packages/sklearn/model_selection/_split.py:668: UserWarning: The least populated class in y has only 2 members, which is less than n_splits=4.\n",
      "  % (min_groups, self.n_splits)), UserWarning)\n"
     ]
    },
    {
     "name": "stdout",
     "output_type": "stream",
     "text": [
      "47.38965201377869\n",
      "atlas_dropped [array([0.9468, 0.9644, 0.9822, 0.9644])] [array([0.8344, 0.9078, 0.9406, 0.8421])] [array([0.8334, 0.9074, 0.9493, 0.8497])] [array([0.8393, 0.9097, 0.9397, 0.8439])] [array([0.937 , 0.9576, 0.9801, 0.9555])] [array([0.9299, 0.9528, 0.9805, 0.9505])] [array([0.9468, 0.9644, 0.9822, 0.9644])]\n"
     ]
    }
   ],
   "source": [
    "resultdf = pd.DataFrame()\n",
    "from sklearn.model_selection import RepeatedStratifiedKFold\n",
    "import time\n",
    "from sklearn.model_selection import cross_val_score\n",
    "\n",
    "for atlas_over, name in zip(atlases, atlases_names):\n",
    "    train_df = pd.DataFrame()\n",
    "    test_df = pd.DataFrame()\n",
    "\n",
    "    tissues = atlas_over['tissue_name'].unique()\n",
    "    DataFrameDict = {elem : pd.DataFrame for elem in tissues}\n",
    "    for key in DataFrameDict.keys():\n",
    "        DataFrameDict[key] = atlas_over[:][atlas_over['tissue_name'] == key]\n",
    "\n",
    "    for key in DataFrameDict.keys():\n",
    "        train = sampleData(DataFrameDict[key], 0.85)\n",
    "        train_df = train_df.append(train)\n",
    "\n",
    "        test = DataFrameDict[key].drop(train.index)\n",
    "        test_df = test_df.append(test)\n",
    "\n",
    "    y_train_over = train_df.pop('tissue_name').values\n",
    "    X_train_over = train_df.values\n",
    "    y_test_over = test_df.pop('tissue_name').values\n",
    "    X_test_over = test_df.values\n",
    "\n",
    "    # Build a forest and compute the feature importances\n",
    "    forest = RandomForestClassifier(random_state=0, oob_score=True)\n",
    "    cv = RepeatedStratifiedKFold(n_splits=3, n_repeats=3, random_state=42)\n",
    "    comp, accs, f1s, precs, recs, f1s_w, precs_w, recs_w = cv_comparison(forest, name, X_train_over, y_train_over, cv=4)\n",
    "    print(name,accs, f1s, precs, recs, f1s_w, precs_w, recs_w )\n",
    "    resultdf.append(comp)"
   ]
  },
  {
   "cell_type": "code",
   "execution_count": 28,
   "metadata": {},
   "outputs": [
    {
     "data": {
      "text/html": [
       "<div>\n",
       "<style scoped>\n",
       "    .dataframe tbody tr th:only-of-type {\n",
       "        vertical-align: middle;\n",
       "    }\n",
       "\n",
       "    .dataframe tbody tr th {\n",
       "        vertical-align: top;\n",
       "    }\n",
       "\n",
       "    .dataframe thead th {\n",
       "        text-align: right;\n",
       "    }\n",
       "</style>\n",
       "<table border=\"1\" class=\"dataframe\">\n",
       "  <thead>\n",
       "    <tr style=\"text-align: right;\">\n",
       "      <th></th>\n",
       "      <th>atlas_dropped</th>\n",
       "    </tr>\n",
       "  </thead>\n",
       "  <tbody>\n",
       "    <tr>\n",
       "      <th>Accuracy</th>\n",
       "      <td>0.9644</td>\n",
       "    </tr>\n",
       "    <tr>\n",
       "      <th>f1_macro</th>\n",
       "      <td>0.8812</td>\n",
       "    </tr>\n",
       "    <tr>\n",
       "      <th>precision_macro</th>\n",
       "      <td>0.8850</td>\n",
       "    </tr>\n",
       "    <tr>\n",
       "      <th>recall_macro</th>\n",
       "      <td>0.8832</td>\n",
       "    </tr>\n",
       "    <tr>\n",
       "      <th>f1_weighted</th>\n",
       "      <td>0.9575</td>\n",
       "    </tr>\n",
       "    <tr>\n",
       "      <th>precision_weighted</th>\n",
       "      <td>0.9534</td>\n",
       "    </tr>\n",
       "    <tr>\n",
       "      <th>recall_weighted</th>\n",
       "      <td>0.9644</td>\n",
       "    </tr>\n",
       "  </tbody>\n",
       "</table>\n",
       "</div>"
      ],
      "text/plain": [
       "                    atlas_dropped\n",
       "Accuracy                   0.9644\n",
       "f1_macro                   0.8812\n",
       "precision_macro            0.8850\n",
       "recall_macro               0.8832\n",
       "f1_weighted                0.9575\n",
       "precision_weighted         0.9534\n",
       "recall_weighted            0.9644"
      ]
     },
     "execution_count": 28,
     "metadata": {},
     "output_type": "execute_result"
    }
   ],
   "source": [
    "comp"
   ]
  },
  {
   "cell_type": "code",
   "execution_count": null,
   "metadata": {},
   "outputs": [],
   "source": [
    "atlas_dropped [array([0.9468, 0.9644, 0.9822, 0.9644])] [array([0.8344, 0.9078, 0.9406, 0.8421])] [array([0.8334, 0.9074, 0.9493, 0.8497])] [array([0.8393, 0.9097, 0.9397, 0.8439])] [array([0.937 , 0.9576, 0.9801, 0.9555])] [array([0.9299, 0.9528, 0.9805, 0.9505])] [array([0.9468, 0.9644, 0.9822, 0.9644])]\n",
    "atlas_minority [array([0.9685, 0.9716, 0.9653, 0.9747])] [array([0.8694, 0.8428, 0.8599, 0.8978])] [array([0.8686, 0.8448, 0.8553, 0.8984])] [array([0.878 , 0.8482, 0.8671, 0.8979])] [array([0.964 , 0.9654, 0.9585, 0.9688])] [array([0.9624, 0.9626, 0.9532, 0.9649])] [array([0.9685, 0.9716, 0.9653, 0.9747])]\n",
    "atlas_not_majority [array([0.9992, 0.9985, 0.9977, 0.9969])] [array([0.9992, 0.9985, 0.9977, 0.997 ])] [array([0.9992, 0.9985, 0.9978, 0.9972])] [array([0.9992, 0.9985, 0.9977, 0.997 ])] [array([0.9992, 0.9985, 0.9977, 0.9969])] [array([0.9993, 0.9986, 0.9978, 0.9972])] [array([0.9992, 0.9985, 0.9977, 0.9969])]\n",
    "atlas_smote [array([0.9962, 0.9962, 0.9977, 0.9969])] [array([0.9962, 0.9962, 0.9977, 0.997 ])] [array([0.9964, 0.9965, 0.9978, 0.9972])] [array([0.9962, 0.9962, 0.9977, 0.997 ])] [array([0.9962, 0.9962, 0.9977, 0.997 ])] [array([0.9964, 0.9965, 0.9978, 0.9971])] [array([0.9962, 0.9962, 0.9977, 0.9969])]\n",
    "atlas [array([0.9399, 0.9717, 0.9787, 0.961 ])] [array([0.759 , 0.8875, 0.9136, 0.8337])] [array([0.7583, 0.915 , 0.9179, 0.842 ])] [array([0.7658, 0.8812, 0.9136, 0.8404])] [array([0.9252, 0.9664, 0.975 , 0.9569])] [array([0.9163, 0.9683, 0.9735, 0.9589])] [array([0.9399, 0.9717, 0.9787, 0.961 ])]"
   ]
  }
 ],
 "metadata": {
  "interpreter": {
   "hash": "59057a64ae204f2fdb51e9e1b433726989fd2ce2c53f4ab90fe5cecdfcc3bed6"
  },
  "kernelspec": {
   "display_name": "Python 3.6.13 64-bit ('tissuespecific': conda)",
   "name": "python3"
  },
  "language_info": {
   "codemirror_mode": {
    "name": "ipython",
    "version": 3
   },
   "file_extension": ".py",
   "mimetype": "text/x-python",
   "name": "python",
   "nbconvert_exporter": "python",
   "pygments_lexer": "ipython3",
   "version": "3.6.13"
  },
  "metadata": {
   "interpreter": {
    "hash": "63fd5069d213b44bf678585dea6b12cceca9941eaf7f819626cde1f2670de90d"
   }
  },
  "orig_nbformat": 2
 },
 "nbformat": 4,
 "nbformat_minor": 2
}
