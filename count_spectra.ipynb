{
 "cells": [
  {
   "cell_type": "markdown",
   "metadata": {},
   "source": [
    "In this notebook, the identified spectra for the files used in the protein expression atlas are counted."
   ]
  },
  {
   "cell_type": "code",
   "execution_count": 1,
   "metadata": {},
   "outputs": [],
   "source": [
    "import subprocess\n",
    "import mysql.connector\n",
    "import pandas as pd\n",
    "from pathlib import Path\n",
    "import glob"
   ]
  },
  {
   "cell_type": "code",
   "execution_count": 8,
   "metadata": {},
   "outputs": [],
   "source": [
    "PXD_files = ['PXD000533',\n",
    " 'PXD004280',\n",
    " 'PXD002842',\n",
    " 'PXD008996',\n",
    " 'PXD006035',\n",
    " 'PXD008719',\n",
    " 'PXD006591',\n",
    " 'PXD003406',\n",
    " 'PXD003407',\n",
    " 'PXD001327',\n",
    " 'PXD002057',\n",
    " 'PXD004824',\n",
    " 'PXD003438',\n",
    " 'PXD001352',\n",
    " 'PXD000661',\n",
    " 'PXD008381',\n",
    " 'PXD009149',\n",
    " 'PXD005045',\n",
    " 'PXD000529',\n",
    " 'PXD000443',\n",
    " 'PXD010538',\n",
    " 'PXD009442',\n",
    " 'PXD009560',\n",
    " 'PXD003252',\n",
    " 'PXD007543',\n",
    " 'PXD008693',\n",
    " 'PXD000426',\n",
    " 'PXD007759',\n",
    " 'PXD018066',\n",
    " 'PXD017391',\n",
    " 'PXD016742']"
   ]
  },
  {
   "cell_type": "code",
   "execution_count": 9,
   "metadata": {},
   "outputs": [
    {
     "name": "stdout",
     "output_type": "stream",
     "text": [
      "connection succesfull\n"
     ]
    }
   ],
   "source": [
    "conn = mysql.connector.connect(user='root', password='password', host='127.0.0.1', port='3306',database='expression_atlas_cells')\n",
    "mycursor = conn.cursor(buffered = True)\n",
    "\n",
    "# check the connection\n",
    "if conn.is_connected():\n",
    "    print(\"connection succesfull\")\n",
    "else:\n",
    "    print(\"no connection\")"
   ]
  },
  {
   "cell_type": "code",
   "execution_count": 11,
   "metadata": {},
   "outputs": [
    {
     "data": {
      "text/plain": [
       "0      30960\n",
       "1      30961\n",
       "2      30962\n",
       "3      30963\n",
       "4      30964\n",
       "       ...  \n",
       "854    32907\n",
       "855    32908\n",
       "856    32909\n",
       "857    32910\n",
       "858    32911\n",
       "Name: assay_id, Length: 859, dtype: int64"
      ]
     },
     "execution_count": 11,
     "metadata": {},
     "output_type": "execute_result"
    }
   ],
   "source": [
    "NSAF_atlas = pd.read_csv(\"/home/compomics/Sam/git/python/master_thesis/Atlas_creation/proteome_nsaf_1.csv\")\n",
    "NSAF_atlas = NSAF_atlas.pivot(index = \"assay_id\", columns = \"uniprot_id\", values = \"NSAF\").fillna(0).reset_index()\n",
    "NSAF_atlas.assay_id"
   ]
  },
  {
   "cell_type": "code",
   "execution_count": 18,
   "metadata": {},
   "outputs": [
    {
     "data": {
      "text/html": [
       "<div>\n",
       "<style scoped>\n",
       "    .dataframe tbody tr th:only-of-type {\n",
       "        vertical-align: middle;\n",
       "    }\n",
       "\n",
       "    .dataframe tbody tr th {\n",
       "        vertical-align: top;\n",
       "    }\n",
       "\n",
       "    .dataframe thead th {\n",
       "        text-align: right;\n",
       "    }\n",
       "</style>\n",
       "<table border=\"1\" class=\"dataframe\">\n",
       "  <thead>\n",
       "    <tr style=\"text-align: right;\">\n",
       "      <th></th>\n",
       "      <th>assay_id</th>\n",
       "      <th>filename</th>\n",
       "    </tr>\n",
       "  </thead>\n",
       "  <tbody>\n",
       "    <tr>\n",
       "      <th>0</th>\n",
       "      <td>30960</td>\n",
       "      <td>3B10-1.mgf</td>\n",
       "    </tr>\n",
       "    <tr>\n",
       "      <th>1</th>\n",
       "      <td>30961</td>\n",
       "      <td>3B10-2.mgf</td>\n",
       "    </tr>\n",
       "    <tr>\n",
       "      <th>2</th>\n",
       "      <td>30962</td>\n",
       "      <td>3B1-1.mgf</td>\n",
       "    </tr>\n",
       "    <tr>\n",
       "      <th>3</th>\n",
       "      <td>30963</td>\n",
       "      <td>3B11-1.mgf</td>\n",
       "    </tr>\n",
       "    <tr>\n",
       "      <th>4</th>\n",
       "      <td>30964</td>\n",
       "      <td>3B11-2.mgf</td>\n",
       "    </tr>\n",
       "    <tr>\n",
       "      <th>...</th>\n",
       "      <td>...</td>\n",
       "      <td>...</td>\n",
       "    </tr>\n",
       "    <tr>\n",
       "      <th>854</th>\n",
       "      <td>32907</td>\n",
       "      <td>20190828_Lumos_ML_NP_EXP1_M2_48h_Rep3.mgf</td>\n",
       "    </tr>\n",
       "    <tr>\n",
       "      <th>855</th>\n",
       "      <td>32908</td>\n",
       "      <td>20190828_Lumos_ML_NP_EXP1_ND_Rep1.mgf</td>\n",
       "    </tr>\n",
       "    <tr>\n",
       "      <th>856</th>\n",
       "      <td>32909</td>\n",
       "      <td>20190828_Lumos_ML_NP_EXP1_ND_Rep2.mgf</td>\n",
       "    </tr>\n",
       "    <tr>\n",
       "      <th>857</th>\n",
       "      <td>32910</td>\n",
       "      <td>20190828_Lumos_ML_NP_EXP1_ND_Rep3.mgf</td>\n",
       "    </tr>\n",
       "    <tr>\n",
       "      <th>858</th>\n",
       "      <td>32911</td>\n",
       "      <td>Ep_cells_HT29_27000.mgf</td>\n",
       "    </tr>\n",
       "  </tbody>\n",
       "</table>\n",
       "<p>859 rows × 2 columns</p>\n",
       "</div>"
      ],
      "text/plain": [
       "     assay_id                                   filename\n",
       "0       30960                                 3B10-1.mgf\n",
       "1       30961                                 3B10-2.mgf\n",
       "2       30962                                  3B1-1.mgf\n",
       "3       30963                                 3B11-1.mgf\n",
       "4       30964                                 3B11-2.mgf\n",
       "..        ...                                        ...\n",
       "854     32907  20190828_Lumos_ML_NP_EXP1_M2_48h_Rep3.mgf\n",
       "855     32908      20190828_Lumos_ML_NP_EXP1_ND_Rep1.mgf\n",
       "856     32909      20190828_Lumos_ML_NP_EXP1_ND_Rep2.mgf\n",
       "857     32910      20190828_Lumos_ML_NP_EXP1_ND_Rep3.mgf\n",
       "858     32911                    Ep_cells_HT29_27000.mgf\n",
       "\n",
       "[859 rows x 2 columns]"
      ]
     },
     "execution_count": 18,
     "metadata": {},
     "output_type": "execute_result"
    }
   ],
   "source": [
    "df_sql = pd.read_sql(\"SELECT assay_id, filename FROM assay\", conn)\n",
    "merged_df = pd.merge(NSAF_atlas, df_sql, on = \"assay_id\")\n",
    "merged_df[\"assay_id filename\".split()]\n",
    "\n",
    "merged_df[\"filename\"] = merged_df.filename.apply(lambda x: x + '.mgf')\n",
    "merged_df = merged_df[\"assay_id filename\".split()]\n",
    "merged_df"
   ]
  },
  {
   "cell_type": "code",
   "execution_count": 14,
   "metadata": {},
   "outputs": [
    {
     "data": {
      "text/plain": [
       "['3B10-1', '3B10-2', '3B1-1', '3B11-1', '3B11-2']"
      ]
     },
     "execution_count": 14,
     "metadata": {},
     "output_type": "execute_result"
    }
   ],
   "source": [
    "filenames[:5]"
   ]
  },
  {
   "cell_type": "code",
   "execution_count": 11,
   "metadata": {},
   "outputs": [
    {
     "name": "stdout",
     "output_type": "stream",
     "text": [
      "found project PXD000533\n",
      "copied project PXD000533\n",
      "counted project PXD000533\n",
      "found project PXD004280\n",
      "copied project PXD004280\n",
      "counted project PXD004280\n",
      "found project PXD002842\n",
      "copied project PXD002842\n",
      "counted project PXD002842\n",
      "found project PXD008996\n",
      "copied project PXD008996\n",
      "counted project PXD008996\n",
      "found project PXD006035\n",
      "copied project PXD006035\n",
      "counted project PXD006035\n",
      "found project PXD008719\n",
      "copied project PXD008719\n",
      "counted project PXD008719\n",
      "found project PXD006591\n",
      "copied project PXD006591\n",
      "counted project PXD006591\n",
      "found project PXD003406\n",
      "copied project PXD003406\n",
      "counted project PXD003406\n",
      "found project PXD003407\n",
      "copied project PXD003407\n",
      "counted project PXD003407\n",
      "found project PXD001327\n",
      "copied project PXD001327\n",
      "counted project PXD001327\n",
      "found project PXD002057\n",
      "copied project PXD002057\n",
      "counted project PXD002057\n",
      "found project PXD004824\n",
      "copied project PXD004824\n",
      "counted project PXD004824\n",
      "found project PXD003438\n",
      "copied project PXD003438\n",
      "counted project PXD003438\n",
      "found project PXD001352\n",
      "copied project PXD001352\n",
      "counted project PXD001352\n",
      "found project PXD000661\n",
      "copied project PXD000661\n",
      "counted project PXD000661\n",
      "found project PXD008381\n",
      "copied project PXD008381\n",
      "counted project PXD008381\n",
      "found project PXD009149\n",
      "copied project PXD009149\n",
      "counted project PXD009149\n",
      "found project PXD005045\n",
      "copied project PXD005045\n",
      "counted project PXD005045\n",
      "found project PXD000529\n",
      "copied project PXD000529\n",
      "counted project PXD000529\n",
      "found project PXD000443\n",
      "copied project PXD000443\n",
      "counted project PXD000443\n",
      "found project PXD010538\n",
      "copied project PXD010538\n",
      "counted project PXD010538\n",
      "found project PXD009442\n",
      "copied project PXD009442\n",
      "counted project PXD009442\n",
      "found project PXD009560\n",
      "copied project PXD009560\n",
      "counted project PXD009560\n",
      "found project PXD003252\n",
      "copied project PXD003252\n",
      "counted project PXD003252\n",
      "found project PXD007543\n",
      "copied project PXD007543\n",
      "counted project PXD007543\n",
      "found project PXD008693\n",
      "copied project PXD008693\n",
      "counted project PXD008693\n",
      "found project PXD000426\n",
      "copied project PXD000426\n",
      "counted project PXD000426\n",
      "found project PXD007759\n",
      "copied project PXD007759\n",
      "counted project PXD007759\n",
      "found project PXD018066\n",
      "copied project PXD018066\n",
      "counted project PXD018066\n",
      "found project PXD017391\n",
      "copied project PXD017391\n",
      "counted project PXD017391\n",
      "found project PXD016742\n",
      "copied project PXD016742\n",
      "counted project PXD016742\n",
      "finished\n"
     ]
    },
    {
     "name": "stderr",
     "output_type": "stream",
     "text": [
      "cp: cannot stat '/home/compomics/mounts/55/PRIDE_DATA/PXD018066/MGF/*': No such file or directory\n",
      "cp: cannot stat '/home/compomics/mounts/55/PRIDE_DATA/PXD017391/MGF/*': No such file or directory\n",
      "cp: cannot stat '/home/compomics/mounts/55/PRIDE_DATA/PXD016742/MGF/*': No such file or directory\n"
     ]
    }
   ],
   "source": [
    "for f in PXD_files:\n",
    "    if os.path.isdir('/home/compomics/mounts/conode53/pride/PRIDE_DATA/' + f + '/MGF'):\n",
    "        conode = 'conode53/pride'\n",
    "    elif os.path.isdir('/home/compomics/mounts/conode53/pride2/PRIDE_DATA/' + f + '/MGF'):\n",
    "        conode = 'conode53/pride2'\n",
    "    elif os.path.isdir('/home/compomics/mounts/conode54/pride/PRIDE_DATA/' + f + '/MGF'):\n",
    "        conode = 'conode54/pride'\n",
    "    elif os.path.isdir('/home/compomics/mounts/conode54/pride2/PRIDE_DATA/' + f + '/MGF'):\n",
    "        conode = 'conode54/pride2'\n",
    "    elif os.path.isdir('/home/compomics/mounts/conode55/pride/PRIDE_DATA/' + f + '/MGF'):\n",
    "        conode = '55'\n",
    "    \n",
    "    path = '/home/compomics/mounts/'+ conode +'/PRIDE_DATA/' + f + '/MGF/*'\n",
    "    print(f'found project {f}')\n",
    "    copy_command = \"cp -a \" + path + ' /home/compomics/Sam/git/python/'\n",
    "    subprocess.call(copy_command, shell=True)\n",
    "    print(f'copied project {f}')\n",
    "    current_dir = \"/home/compomics/Sam/git/python/\"\n",
    "    count_command = 'cd ' + current_dir + \"; /home/compomics/Sam/git/python/count_spectra.sh\"\n",
    "    subprocess.call(count_command, shell=True)\n",
    "    print(f'counted project {f}')\n",
    "print('finished')"
   ]
  },
  {
   "cell_type": "code",
   "execution_count": 23,
   "metadata": {},
   "outputs": [
    {
     "data": {
      "text/plain": [
       "(1483, 2)"
      ]
     },
     "execution_count": 23,
     "metadata": {},
     "output_type": "execute_result"
    }
   ],
   "source": [
    "df = pd.read_csv(\"output.txt\", sep =\":\", header = None, names = [\"filename\", \"spectra\"])\n",
    "df.shape"
   ]
  },
  {
   "cell_type": "code",
   "execution_count": 32,
   "metadata": {},
   "outputs": [
    {
     "data": {
      "text/plain": [
       "(837, 3)"
      ]
     },
     "execution_count": 32,
     "metadata": {},
     "output_type": "execute_result"
    }
   ],
   "source": [
    "output_file_merge = pd.merge(merged_df, df, on = \"filename\", how=\"inner\")\n",
    "output_file_merge = output_file_merge.drop_duplicates()\n",
    "output_file_merge.shape"
   ]
  },
  {
   "cell_type": "code",
   "execution_count": 33,
   "metadata": {},
   "outputs": [
    {
     "data": {
      "text/plain": [
       "28024239"
      ]
     },
     "execution_count": 33,
     "metadata": {},
     "output_type": "execute_result"
    }
   ],
   "source": [
    "output_file_merge.spectra.sum()"
   ]
  },
  {
   "cell_type": "markdown",
   "metadata": {},
   "source": [
    "Bash script:\n",
    "<br>\n",
    "#! /bin/sh <br>\n",
    "gzip -dk -S .gzip -r * <br>\n",
    "grep -r --include \\*.mgf -c \"^BEGIN IONS\"  >output.txt <br>\n",
    "find . -name \"*.mgf\" -type f -delete <br>"
   ]
  }
 ],
 "metadata": {
  "interpreter": {
   "hash": "db8b8ce622d6c99bf71358dbacc49720c17f6ed359743e9dd314dcdbdb145bdd"
  },
  "kernelspec": {
   "display_name": "Python 3.7.7 ('ionbot')",
   "language": "python",
   "name": "python3"
  },
  "language_info": {
   "codemirror_mode": {
    "name": "ipython",
    "version": 3
   },
   "file_extension": ".py",
   "mimetype": "text/x-python",
   "name": "python",
   "nbconvert_exporter": "python",
   "pygments_lexer": "ipython3",
   "version": "3.7.7"
  },
  "orig_nbformat": 4
 },
 "nbformat": 4,
 "nbformat_minor": 2
}
